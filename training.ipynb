{
 "cells": [
  {
   "cell_type": "code",
   "execution_count": 1,
   "id": "c31fd865-9a7c-4974-aa13-868e213fcbce",
   "metadata": {
    "tags": []
   },
   "outputs": [],
   "source": [
    "import numpy as np\n",
    "import pandas as pd\n",
    "import os\n",
    "import matplotlib.pyplot as plt\n",
    "%matplotlib inline\n",
    "\n",
    "np.random.seed(2)\n",
    "\n",
    "from sklearn.model_selection import train_test_split\n",
    "from sklearn.metrics import confusion_matrix\n",
    "import itertools\n",
    "from tqdm import tqdm\n",
    "import pytesseract\n",
    "from tensorflow.keras.utils import to_categorical\n",
    "from tensorflow.keras.models import Sequential\n",
    "from tensorflow.keras.layers import Dense, Dropout, Flatten, Conv2D, MaxPool2D\n",
    "from tensorflow.keras.callbacks import ReduceLROnPlateau, EarlyStopping\n",
    "from tensorflow.keras.optimizers import RMSprop\n",
    "import os\n",
    "import numpy as np\n",
    "import cv2\n",
    "from keras.models import load_model\n",
    "from PIL import Image\n",
    "from PIL import ImageChops, ImageEnhance\n",
    "import numpy as np\n",
    "import pandas as pd\n",
    "import os\n",
    "import matplotlib.pyplot as plt\n",
    "from PIL import Image\n",
    "from langdetect import detect\n",
    "from datetime import datetime\n",
    "import cv2\n",
    "\n",
    "from langdetect import detect_langs  # For language detection\n",
    "# Utility functions\n",
    "import os\n"
   ]
  },
  {
   "cell_type": "markdown",
   "id": "6fafc77a-cf44-4b9a-89bd-20f3a1761e67",
   "metadata": {},
   "source": [
    "# Utility functions"
   ]
  },
  {
   "cell_type": "code",
   "execution_count": 1,
   "id": "ebbc4eda-33a6-4acd-9222-bbbedd20c302",
   "metadata": {
    "tags": []
   },
   "outputs": [],
   "source": [
    "def convert_to_ela_image(path, quality):\n",
    "    filename = path\n",
    "    resaved_filename = 'tempresaved.jpg'\n",
    "    im = Image.open(filename)\n",
    "    im.save(resaved_filename, 'JPEG', quality=quality)\n",
    "    resaved_im = Image.open(resaved_filename)\n",
    "    ela_im = ImageChops.difference(im, resaved_im)\n",
    "    extrema = ela_im.getextrema()\n",
    "    max_diff = max([ex[1] for ex in extrema])\n",
    "    if max_diff == 0:\n",
    "        max_diff = 1\n",
    "    scale = 255.0 / max_diff\n",
    "    ela_im = ImageEnhance.Brightness(ela_im).enhance(scale)\n",
    "    return ela_im\n",
    "\n",
    "def is_image(file_path):\n",
    "    image_extensions = ['.jpg', '.jpeg', '.png', '.bmp', '.gif']\n",
    "    return any(file_path.lower().endswith(ext) for ext in image_extensions)\n",
    "\n",
    "\n",
    "def build_image_list(path_to_data, label, images):\n",
    "    for file in tqdm(os.listdir(path_to_data)):\n",
    "        file_path = os.path.join(path_to_data, file)\n",
    "        if is_image(file_path):\n",
    "            images.append(file_path)\n",
    "    return images\n"
   ]
  },
  {
   "cell_type": "markdown",
   "id": "29eabe8f-4f83-42b6-aa9a-e7cd181fc261",
   "metadata": {},
   "source": [
    "# Data Preparation"
   ]
  },
  {
   "cell_type": "markdown",
   "id": "3473ff03-34e0-4a11-b9b7-48bc8f06b290",
   "metadata": {},
   "source": [
    "### Path to list of original and tampered documents specific to your needs"
   ]
  },
  {
   "cell_type": "code",
   "execution_count": 3,
   "id": "5e3c4923-2f10-4585-bbde-b630edc03e73",
   "metadata": {
    "tags": []
   },
   "outputs": [],
   "source": [
    "custom_path_original = 'images/training/original'\n",
    "custom_path_tampered = 'images/training/forged'"
   ]
  },
  {
   "cell_type": "markdown",
   "id": "7dabb5f8-f5b5-43f9-8880-b219489a0e40",
   "metadata": {},
   "source": [
    "### Training dataset name"
   ]
  },
  {
   "cell_type": "code",
   "execution_count": 4,
   "id": "effc618f-f1b0-4c8f-b927-fb9951144d9f",
   "metadata": {
    "tags": []
   },
   "outputs": [],
   "source": [
    "training_data_set = 'dataset.csv'"
   ]
  },
  {
   "cell_type": "markdown",
   "id": "fb7acbed-af23-4a6f-ae89-23654666675e",
   "metadata": {},
   "source": [
    "### Build image list for training"
   ]
  },
  {
   "cell_type": "code",
   "execution_count": 5,
   "id": "6f958a58-04c8-4041-9aab-721d33c37115",
   "metadata": {
    "tags": []
   },
   "outputs": [
    {
     "name": "stderr",
     "output_type": "stream",
     "text": [
      "100%|██████████| 212/212 [00:00<?, ?it/s]\n",
      "100%|██████████| 209/209 [00:00<?, ?it/s]\n"
     ]
    }
   ],
   "source": [
    "images = []\n",
    "images = build_image_list(custom_path_original, '0', images)\n",
    "images = build_image_list(custom_path_tampered, '1', images)"
   ]
  },
  {
   "cell_type": "markdown",
   "id": "a412b312-a123-4aba-b005-c59af539e4a6",
   "metadata": {},
   "source": [
    "### Create a CSV file with image name (full path to image) and the label"
   ]
  },
  {
   "cell_type": "code",
   "execution_count": 6,
   "id": "24d828a3-dfc9-493a-8c06-b9ffd73252a9",
   "metadata": {
    "tags": []
   },
   "outputs": [
    {
     "name": "stderr",
     "output_type": "stream",
     "text": [
      "  3%|▎         | 11/420 [00:00<00:08, 48.26it/s]"
     ]
    },
    {
     "name": "stdout",
     "output_type": "stream",
     "text": [
      "Error processing images/training/original\\1.pdf_page0.jpg: tesseract is not installed or it's not in your PATH. See README file for more information.\n",
      "Error processing images/training/original\\2.pdf_page0.jpg: tesseract is not installed or it's not in your PATH. See README file for more information.\n",
      "Error processing images/training/original\\3.jpg: tesseract is not installed or it's not in your PATH. See README file for more information.\n",
      "Error processing images/training/original\\4.pdf_page0.jpg: tesseract is not installed or it's not in your PATH. See README file for more information.\n",
      "Error processing images/training/original\\4.pdf_page1.jpg: tesseract is not installed or it's not in your PATH. See README file for more information.\n",
      "Error processing images/training/original\\4.pdf_page2.jpg: tesseract is not installed or it's not in your PATH. See README file for more information.\n",
      "Error processing images/training/original\\4.pdf_page3.jpg: tesseract is not installed or it's not in your PATH. See README file for more information.\n",
      "Error processing images/training/original\\4.pdf_page4.jpg: tesseract is not installed or it's not in your PATH. See README file for more information.\n",
      "Error processing images/training/original\\4.pdf_page5.jpg: tesseract is not installed or it's not in your PATH. See README file for more information.\n",
      "Error processing images/training/original\\5.jpg: tesseract is not installed or it's not in your PATH. See README file for more information.\n",
      "Error processing images/training/original\\BankStatement.jpg: tesseract is not installed or it's not in your PATH. See README file for more information.\n",
      "Error processing images/training/original\\BankStatement_0.jpg: tesseract is not installed or it's not in your PATH. See README file for more information.\n"
     ]
    },
    {
     "name": "stderr",
     "output_type": "stream",
     "text": [
      "  5%|▌         | 21/420 [00:00<00:09, 43.43it/s]"
     ]
    },
    {
     "name": "stdout",
     "output_type": "stream",
     "text": [
      "Error processing images/training/original\\BankStatement_1.jpg: tesseract is not installed or it's not in your PATH. See README file for more information.\n",
      "Error processing images/training/original\\BankStatement_10.jpg: tesseract is not installed or it's not in your PATH. See README file for more information.\n",
      "Error processing images/training/original\\BankStatement_11.jpg: tesseract is not installed or it's not in your PATH. See README file for more information.\n",
      "Error processing images/training/original\\BankStatement_12.jpg: tesseract is not installed or it's not in your PATH. See README file for more information.\n",
      "Error processing images/training/original\\BankStatement_13.jpg: tesseract is not installed or it's not in your PATH. See README file for more information.\n",
      "Error processing images/training/original\\BankStatement_14.jpg: tesseract is not installed or it's not in your PATH. See README file for more information.\n",
      "Error processing images/training/original\\BankStatement_15.jpg: tesseract is not installed or it's not in your PATH. See README file for more information.\n",
      "Error processing images/training/original\\BankStatement_16.jpg: tesseract is not installed or it's not in your PATH. See README file for more information.\n",
      "Error processing images/training/original\\BankStatement_17.jpg: tesseract is not installed or it's not in your PATH. See README file for more information.\n"
     ]
    },
    {
     "name": "stderr",
     "output_type": "stream",
     "text": [
      "  6%|▌         | 26/420 [00:00<00:09, 43.18it/s]"
     ]
    },
    {
     "name": "stdout",
     "output_type": "stream",
     "text": [
      "Error processing images/training/original\\BankStatement_18.jpg: tesseract is not installed or it's not in your PATH. See README file for more information.\n",
      "Error processing images/training/original\\BankStatement_19.jpg: tesseract is not installed or it's not in your PATH. See README file for more information.\n",
      "Error processing images/training/original\\BankStatement_2.jpg: tesseract is not installed or it's not in your PATH. See README file for more information.\n",
      "Error processing images/training/original\\BankStatement_20.jpg: tesseract is not installed or it's not in your PATH. See README file for more information.\n",
      "Error processing images/training/original\\BankStatement_21.jpg: tesseract is not installed or it's not in your PATH. See README file for more information.\n",
      "Error processing images/training/original\\BankStatement_22.jpg: tesseract is not installed or it's not in your PATH. See README file for more information.\n",
      "Error processing images/training/original\\BankStatement_23.jpg: tesseract is not installed or it's not in your PATH. See README file for more information.\n",
      "Error processing images/training/original\\BankStatement_24.jpg: tesseract is not installed or it's not in your PATH. See README file for more information.\n"
     ]
    },
    {
     "name": "stderr",
     "output_type": "stream",
     "text": [
      "  9%|▊         | 36/420 [00:00<00:09, 40.00it/s]"
     ]
    },
    {
     "name": "stdout",
     "output_type": "stream",
     "text": [
      "Error processing images/training/original\\BankStatement_25.jpg: tesseract is not installed or it's not in your PATH. See README file for more information.\n",
      "Error processing images/training/original\\BankStatement_26.jpg: tesseract is not installed or it's not in your PATH. See README file for more information.\n",
      "Error processing images/training/original\\BankStatement_27.jpg: tesseract is not installed or it's not in your PATH. See README file for more information.\n",
      "Error processing images/training/original\\BankStatement_28.jpg: tesseract is not installed or it's not in your PATH. See README file for more information.\n",
      "Error processing images/training/original\\BankStatement_29.jpg: tesseract is not installed or it's not in your PATH. See README file for more information.\n",
      "Error processing images/training/original\\BankStatement_3.jpg: tesseract is not installed or it's not in your PATH. See README file for more information.\n",
      "Error processing images/training/original\\BankStatement_30.jpg: tesseract is not installed or it's not in your PATH. See README file for more information.\n",
      "Error processing images/training/original\\BankStatement_31.jpg: tesseract is not installed or it's not in your PATH. See README file for more information.\n"
     ]
    },
    {
     "name": "stderr",
     "output_type": "stream",
     "text": [
      " 10%|▉         | 41/420 [00:00<00:09, 39.30it/s]"
     ]
    },
    {
     "name": "stdout",
     "output_type": "stream",
     "text": [
      "Error processing images/training/original\\BankStatement_32.jpg: tesseract is not installed or it's not in your PATH. See README file for more information.\n",
      "Error processing images/training/original\\BankStatement_33.jpg: tesseract is not installed or it's not in your PATH. See README file for more information.\n",
      "Error processing images/training/original\\BankStatement_34.jpg: tesseract is not installed or it's not in your PATH. See README file for more information.\n",
      "Error processing images/training/original\\BankStatement_35.jpg: tesseract is not installed or it's not in your PATH. See README file for more information.\n",
      "Error processing images/training/original\\BankStatement_36.jpg: tesseract is not installed or it's not in your PATH. See README file for more information.\n",
      "Error processing images/training/original\\BankStatement_37.jpg: tesseract is not installed or it's not in your PATH. See README file for more information.\n",
      "Error processing images/training/original\\BankStatement_38.jpg: tesseract is not installed or it's not in your PATH. See README file for more information.\n",
      "Error processing images/training/original\\BankStatement_39.jpg: tesseract is not installed or it's not in your PATH. See README file for more information.\n"
     ]
    },
    {
     "name": "stderr",
     "output_type": "stream",
     "text": [
      " 12%|█▏        | 49/420 [00:01<00:09, 37.59it/s]"
     ]
    },
    {
     "name": "stdout",
     "output_type": "stream",
     "text": [
      "Error processing images/training/original\\BankStatement_4.jpg: tesseract is not installed or it's not in your PATH. See README file for more information.\n",
      "Error processing images/training/original\\BankStatement_40.jpg: tesseract is not installed or it's not in your PATH. See README file for more information.\n",
      "Error processing images/training/original\\BankStatement_41.jpg: tesseract is not installed or it's not in your PATH. See README file for more information.\n",
      "Error processing images/training/original\\BankStatement_42.jpg: tesseract is not installed or it's not in your PATH. See README file for more information.\n",
      "Error processing images/training/original\\BankStatement_43.jpg: tesseract is not installed or it's not in your PATH. See README file for more information.\n",
      "Error processing images/training/original\\BankStatement_44.jpg: tesseract is not installed or it's not in your PATH. See README file for more information.\n",
      "Error processing images/training/original\\BankStatement_45.jpg: tesseract is not installed or it's not in your PATH. See README file for more information.\n"
     ]
    },
    {
     "name": "stderr",
     "output_type": "stream",
     "text": [
      " 14%|█▎        | 57/420 [00:01<00:09, 36.59it/s]"
     ]
    },
    {
     "name": "stdout",
     "output_type": "stream",
     "text": [
      "Error processing images/training/original\\BankStatement_46.jpg: tesseract is not installed or it's not in your PATH. See README file for more information.\n",
      "Error processing images/training/original\\BankStatement_47.jpg: tesseract is not installed or it's not in your PATH. See README file for more information.\n",
      "Error processing images/training/original\\BankStatement_48.jpg: tesseract is not installed or it's not in your PATH. See README file for more information.\n",
      "Error processing images/training/original\\BankStatement_49.jpg: tesseract is not installed or it's not in your PATH. See README file for more information.\n",
      "Error processing images/training/original\\BankStatement_5.jpg: tesseract is not installed or it's not in your PATH. See README file for more information.\n",
      "Error processing images/training/original\\BankStatement_50.jpg: tesseract is not installed or it's not in your PATH. See README file for more information.\n",
      "Error processing images/training/original\\BankStatement_51.jpg: tesseract is not installed or it's not in your PATH. See README file for more information.\n",
      "Error processing images/training/original\\BankStatement_52.jpg: tesseract is not installed or it's not in your PATH. See README file for more information.\n"
     ]
    },
    {
     "name": "stderr",
     "output_type": "stream",
     "text": [
      " 15%|█▌        | 65/420 [00:01<00:09, 37.32it/s]"
     ]
    },
    {
     "name": "stdout",
     "output_type": "stream",
     "text": [
      "Error processing images/training/original\\BankStatement_53.jpg: tesseract is not installed or it's not in your PATH. See README file for more information.\n",
      "Error processing images/training/original\\BankStatement_54.jpg: tesseract is not installed or it's not in your PATH. See README file for more information.\n",
      "Error processing images/training/original\\BankStatement_55.jpg: tesseract is not installed or it's not in your PATH. See README file for more information.\n",
      "Error processing images/training/original\\BankStatement_56.jpg: tesseract is not installed or it's not in your PATH. See README file for more information.\n",
      "Error processing images/training/original\\BankStatement_57.jpg: tesseract is not installed or it's not in your PATH. See README file for more information.\n",
      "Error processing images/training/original\\BankStatement_58.jpg: tesseract is not installed or it's not in your PATH. See README file for more information.\n",
      "Error processing images/training/original\\BankStatement_59.jpg: tesseract is not installed or it's not in your PATH. See README file for more information.\n",
      "Error processing images/training/original\\BankStatement_6.jpg: tesseract is not installed or it's not in your PATH. See README file for more information.\n"
     ]
    },
    {
     "name": "stderr",
     "output_type": "stream",
     "text": [
      " 17%|█▋        | 73/420 [00:01<00:09, 36.17it/s]"
     ]
    },
    {
     "name": "stdout",
     "output_type": "stream",
     "text": [
      "Error processing images/training/original\\BankStatement_60.jpg: tesseract is not installed or it's not in your PATH. See README file for more information.\n",
      "Error processing images/training/original\\BankStatement_61.jpg: tesseract is not installed or it's not in your PATH. See README file for more information.\n",
      "Error processing images/training/original\\BankStatement_62.jpg: tesseract is not installed or it's not in your PATH. See README file for more information.\n",
      "Error processing images/training/original\\BankStatement_63.jpg: tesseract is not installed or it's not in your PATH. See README file for more information.\n",
      "Error processing images/training/original\\BankStatement_64.jpg: tesseract is not installed or it's not in your PATH. See README file for more information.\n",
      "Error processing images/training/original\\BankStatement_65.jpg: tesseract is not installed or it's not in your PATH. See README file for more information.\n",
      "Error processing images/training/original\\BankStatement_66.jpg: tesseract is not installed or it's not in your PATH. See README file for more information.\n",
      "Error processing images/training/original\\BankStatement_67.jpg: tesseract is not installed or it's not in your PATH. See README file for more information.\n"
     ]
    },
    {
     "name": "stderr",
     "output_type": "stream",
     "text": [
      " 19%|█▉        | 81/420 [00:02<00:09, 36.08it/s]"
     ]
    },
    {
     "name": "stdout",
     "output_type": "stream",
     "text": [
      "Error processing images/training/original\\BankStatement_68.jpg: tesseract is not installed or it's not in your PATH. See README file for more information.\n",
      "Error processing images/training/original\\BankStatement_69.jpg: tesseract is not installed or it's not in your PATH. See README file for more information.\n",
      "Error processing images/training/original\\BankStatement_7.jpg: tesseract is not installed or it's not in your PATH. See README file for more information.\n",
      "Error processing images/training/original\\BankStatement_70.jpg: tesseract is not installed or it's not in your PATH. See README file for more information.\n",
      "Error processing images/training/original\\BankStatement_71.jpg: tesseract is not installed or it's not in your PATH. See README file for more information.\n",
      "Error processing images/training/original\\BankStatement_72.jpg: tesseract is not installed or it's not in your PATH. See README file for more information.\n",
      "Error processing images/training/original\\BankStatement_73.jpg: tesseract is not installed or it's not in your PATH. See README file for more information.\n",
      "Error processing images/training/original\\BankStatement_74.jpg: tesseract is not installed or it's not in your PATH. See README file for more information.\n"
     ]
    },
    {
     "name": "stderr",
     "output_type": "stream",
     "text": [
      " 21%|██        | 89/420 [00:02<00:09, 35.00it/s]"
     ]
    },
    {
     "name": "stdout",
     "output_type": "stream",
     "text": [
      "Error processing images/training/original\\BankStatement_75.jpg: tesseract is not installed or it's not in your PATH. See README file for more information.\n",
      "Error processing images/training/original\\BankStatement_76.jpg: tesseract is not installed or it's not in your PATH. See README file for more information.\n",
      "Error processing images/training/original\\BankStatement_77.jpg: tesseract is not installed or it's not in your PATH. See README file for more information.\n",
      "Error processing images/training/original\\BankStatement_78.jpg: tesseract is not installed or it's not in your PATH. See README file for more information.\n",
      "Error processing images/training/original\\BankStatement_79.jpg: tesseract is not installed or it's not in your PATH. See README file for more information.\n",
      "Error processing images/training/original\\BankStatement_8.jpg: tesseract is not installed or it's not in your PATH. See README file for more information.\n",
      "Error processing images/training/original\\BankStatement_80.jpg: tesseract is not installed or it's not in your PATH. See README file for more information.\n",
      "Error processing images/training/original\\BankStatement_81.jpg: tesseract is not installed or it's not in your PATH. See README file for more information.\n"
     ]
    },
    {
     "name": "stderr",
     "output_type": "stream",
     "text": [
      " 23%|██▎       | 97/420 [00:02<00:09, 34.82it/s]"
     ]
    },
    {
     "name": "stdout",
     "output_type": "stream",
     "text": [
      "Error processing images/training/original\\BankStatement_82.jpg: tesseract is not installed or it's not in your PATH. See README file for more information.\n",
      "Error processing images/training/original\\BankStatement_83.jpg: tesseract is not installed or it's not in your PATH. See README file for more information.\n",
      "Error processing images/training/original\\BankStatement_84.jpg: tesseract is not installed or it's not in your PATH. See README file for more information.\n",
      "Error processing images/training/original\\BankStatement_85.jpg: tesseract is not installed or it's not in your PATH. See README file for more information.\n",
      "Error processing images/training/original\\BankStatement_86.jpg: tesseract is not installed or it's not in your PATH. See README file for more information.\n",
      "Error processing images/training/original\\BankStatement_87.jpg: tesseract is not installed or it's not in your PATH. See README file for more information.\n",
      "Error processing images/training/original\\BankStatement_88.jpg: tesseract is not installed or it's not in your PATH. See README file for more information.\n",
      "Error processing images/training/original\\BankStatement_89.jpg: tesseract is not installed or it's not in your PATH. See README file for more information.\n"
     ]
    },
    {
     "name": "stderr",
     "output_type": "stream",
     "text": [
      " 25%|██▌       | 105/420 [00:02<00:08, 35.30it/s]"
     ]
    },
    {
     "name": "stdout",
     "output_type": "stream",
     "text": [
      "Error processing images/training/original\\BankStatement_9.jpg: tesseract is not installed or it's not in your PATH. See README file for more information.\n",
      "Error processing images/training/original\\BankStatement_90.jpg: tesseract is not installed or it's not in your PATH. See README file for more information.\n",
      "Error processing images/training/original\\BankStatement_91.jpg: tesseract is not installed or it's not in your PATH. See README file for more information.\n",
      "Error processing images/training/original\\BankStatement_92.jpg: tesseract is not installed or it's not in your PATH. See README file for more information.\n",
      "Error processing images/training/original\\BankStatement_93.jpg: tesseract is not installed or it's not in your PATH. See README file for more information.\n",
      "Error processing images/training/original\\BankStatement_94.jpg: tesseract is not installed or it's not in your PATH. See README file for more information.\n",
      "Error processing images/training/original\\BankStatement_95.jpg: tesseract is not installed or it's not in your PATH. See README file for more information.\n"
     ]
    },
    {
     "name": "stderr",
     "output_type": "stream",
     "text": [
      " 27%|██▋       | 113/420 [00:03<00:09, 33.27it/s]"
     ]
    },
    {
     "name": "stdout",
     "output_type": "stream",
     "text": [
      "Error processing images/training/original\\BankStatement_96.jpg: tesseract is not installed or it's not in your PATH. See README file for more information.\n",
      "Error processing images/training/original\\BankStatement_97.jpg: tesseract is not installed or it's not in your PATH. See README file for more information.\n",
      "Error processing images/training/original\\BankStatement_98.jpg: tesseract is not installed or it's not in your PATH. See README file for more information.\n",
      "Error processing images/training/original\\BankStatement_99.jpg: tesseract is not installed or it's not in your PATH. See README file for more information.\n",
      "Error processing images/training/original\\Paystub.jpg: tesseract is not installed or it's not in your PATH. See README file for more information.\n",
      "Error processing images/training/original\\Paystub_0.jpg: tesseract is not installed or it's not in your PATH. See README file for more information.\n"
     ]
    },
    {
     "name": "stderr",
     "output_type": "stream",
     "text": [
      " 28%|██▊       | 117/420 [00:03<00:09, 30.78it/s]"
     ]
    },
    {
     "name": "stdout",
     "output_type": "stream",
     "text": [
      "Error processing images/training/original\\Paystub_1.jpg: tesseract is not installed or it's not in your PATH. See README file for more information.\n",
      "Error processing images/training/original\\Paystub_10.jpg: tesseract is not installed or it's not in your PATH. See README file for more information.\n",
      "Error processing images/training/original\\Paystub_11.jpg: tesseract is not installed or it's not in your PATH. See README file for more information.\n",
      "Error processing images/training/original\\Paystub_12.jpg: tesseract is not installed or it's not in your PATH. See README file for more information.\n",
      "Error processing images/training/original\\Paystub_13.jpg: tesseract is not installed or it's not in your PATH. See README file for more information.\n"
     ]
    },
    {
     "name": "stderr",
     "output_type": "stream",
     "text": [
      " 30%|██▉       | 124/420 [00:03<00:10, 28.57it/s]"
     ]
    },
    {
     "name": "stdout",
     "output_type": "stream",
     "text": [
      "Error processing images/training/original\\Paystub_14.jpg: tesseract is not installed or it's not in your PATH. See README file for more information.\n",
      "Error processing images/training/original\\Paystub_15.jpg: tesseract is not installed or it's not in your PATH. See README file for more information.\n",
      "Error processing images/training/original\\Paystub_16.jpg: tesseract is not installed or it's not in your PATH. See README file for more information.\n",
      "Error processing images/training/original\\Paystub_17.jpg: tesseract is not installed or it's not in your PATH. See README file for more information.\n",
      "Error processing images/training/original\\Paystub_18.jpg: tesseract is not installed or it's not in your PATH. See README file for more information.\n",
      "Error processing images/training/original\\Paystub_19.jpg: tesseract is not installed or it's not in your PATH. See README file for more information.\n"
     ]
    },
    {
     "name": "stderr",
     "output_type": "stream",
     "text": [
      " 31%|███       | 130/420 [00:03<00:10, 27.85it/s]"
     ]
    },
    {
     "name": "stdout",
     "output_type": "stream",
     "text": [
      "Error processing images/training/original\\Paystub_2.jpg: tesseract is not installed or it's not in your PATH. See README file for more information.\n",
      "Error processing images/training/original\\Paystub_20.jpg: tesseract is not installed or it's not in your PATH. See README file for more information.\n",
      "Error processing images/training/original\\Paystub_21.jpg: tesseract is not installed or it's not in your PATH. See README file for more information.\n",
      "Error processing images/training/original\\Paystub_22.jpg: tesseract is not installed or it's not in your PATH. See README file for more information.\n",
      "Error processing images/training/original\\Paystub_23.jpg: tesseract is not installed or it's not in your PATH. See README file for more information.\n",
      "Error processing images/training/original\\Paystub_24.jpg: tesseract is not installed or it's not in your PATH. See README file for more information.\n"
     ]
    },
    {
     "name": "stderr",
     "output_type": "stream",
     "text": [
      " 32%|███▏      | 136/420 [00:03<00:10, 27.25it/s]"
     ]
    },
    {
     "name": "stdout",
     "output_type": "stream",
     "text": [
      "Error processing images/training/original\\Paystub_25.jpg: tesseract is not installed or it's not in your PATH. See README file for more information.\n",
      "Error processing images/training/original\\Paystub_26.jpg: tesseract is not installed or it's not in your PATH. See README file for more information.\n",
      "Error processing images/training/original\\Paystub_27.jpg: tesseract is not installed or it's not in your PATH. See README file for more information.\n",
      "Error processing images/training/original\\Paystub_28.jpg: tesseract is not installed or it's not in your PATH. See README file for more information.\n",
      "Error processing images/training/original\\Paystub_29.jpg: tesseract is not installed or it's not in your PATH. See README file for more information.\n",
      "Error processing images/training/original\\Paystub_3.jpg: tesseract is not installed or it's not in your PATH. See README file for more information.\n"
     ]
    },
    {
     "name": "stderr",
     "output_type": "stream",
     "text": [
      " 34%|███▍      | 142/420 [00:04<00:10, 26.73it/s]"
     ]
    },
    {
     "name": "stdout",
     "output_type": "stream",
     "text": [
      "Error processing images/training/original\\Paystub_30.jpg: tesseract is not installed or it's not in your PATH. See README file for more information.\n",
      "Error processing images/training/original\\Paystub_31.jpg: tesseract is not installed or it's not in your PATH. See README file for more information.\n",
      "Error processing images/training/original\\Paystub_32.jpg: tesseract is not installed or it's not in your PATH. See README file for more information.\n",
      "Error processing images/training/original\\Paystub_33.jpg: tesseract is not installed or it's not in your PATH. See README file for more information.\n",
      "Error processing images/training/original\\Paystub_34.jpg: tesseract is not installed or it's not in your PATH. See README file for more information.\n",
      "Error processing images/training/original\\Paystub_35.jpg: tesseract is not installed or it's not in your PATH. See README file for more information.\n"
     ]
    },
    {
     "name": "stderr",
     "output_type": "stream",
     "text": [
      " 35%|███▌      | 148/420 [00:04<00:10, 26.29it/s]"
     ]
    },
    {
     "name": "stdout",
     "output_type": "stream",
     "text": [
      "Error processing images/training/original\\Paystub_36.jpg: tesseract is not installed or it's not in your PATH. See README file for more information.\n",
      "Error processing images/training/original\\Paystub_37.jpg: tesseract is not installed or it's not in your PATH. See README file for more information.\n",
      "Error processing images/training/original\\Paystub_38.jpg: tesseract is not installed or it's not in your PATH. See README file for more information.\n",
      "Error processing images/training/original\\Paystub_39.jpg: tesseract is not installed or it's not in your PATH. See README file for more information.\n",
      "Error processing images/training/original\\Paystub_4.jpg: tesseract is not installed or it's not in your PATH. See README file for more information.\n",
      "Error processing images/training/original\\Paystub_40.jpg: tesseract is not installed or it's not in your PATH. See README file for more information.\n"
     ]
    },
    {
     "name": "stderr",
     "output_type": "stream",
     "text": [
      " 37%|███▋      | 154/420 [00:04<00:09, 26.66it/s]"
     ]
    },
    {
     "name": "stdout",
     "output_type": "stream",
     "text": [
      "Error processing images/training/original\\Paystub_41.jpg: tesseract is not installed or it's not in your PATH. See README file for more information.\n",
      "Error processing images/training/original\\Paystub_42.jpg: tesseract is not installed or it's not in your PATH. See README file for more information.\n",
      "Error processing images/training/original\\Paystub_43.jpg: tesseract is not installed or it's not in your PATH. See README file for more information.\n",
      "Error processing images/training/original\\Paystub_44.jpg: tesseract is not installed or it's not in your PATH. See README file for more information.\n",
      "Error processing images/training/original\\Paystub_45.jpg: tesseract is not installed or it's not in your PATH. See README file for more information.\n",
      "Error processing images/training/original\\Paystub_46.jpg: tesseract is not installed or it's not in your PATH. See README file for more information.\n"
     ]
    },
    {
     "name": "stderr",
     "output_type": "stream",
     "text": [
      " 38%|███▊      | 160/420 [00:04<00:09, 26.58it/s]"
     ]
    },
    {
     "name": "stdout",
     "output_type": "stream",
     "text": [
      "Error processing images/training/original\\Paystub_47.jpg: tesseract is not installed or it's not in your PATH. See README file for more information.\n",
      "Error processing images/training/original\\Paystub_48.jpg: tesseract is not installed or it's not in your PATH. See README file for more information.\n",
      "Error processing images/training/original\\Paystub_49.jpg: tesseract is not installed or it's not in your PATH. See README file for more information.\n",
      "Error processing images/training/original\\Paystub_5.jpg: tesseract is not installed or it's not in your PATH. See README file for more information.\n",
      "Error processing images/training/original\\Paystub_50.jpg: tesseract is not installed or it's not in your PATH. See README file for more information.\n",
      "Error processing images/training/original\\Paystub_51.jpg: tesseract is not installed or it's not in your PATH. See README file for more information.\n"
     ]
    },
    {
     "name": "stderr",
     "output_type": "stream",
     "text": [
      " 40%|███▉      | 166/420 [00:05<00:09, 26.54it/s]"
     ]
    },
    {
     "name": "stdout",
     "output_type": "stream",
     "text": [
      "Error processing images/training/original\\Paystub_52.jpg: tesseract is not installed or it's not in your PATH. See README file for more information.\n",
      "Error processing images/training/original\\Paystub_53.jpg: tesseract is not installed or it's not in your PATH. See README file for more information.\n",
      "Error processing images/training/original\\Paystub_54.jpg: tesseract is not installed or it's not in your PATH. See README file for more information.\n",
      "Error processing images/training/original\\Paystub_55.jpg: tesseract is not installed or it's not in your PATH. See README file for more information.\n",
      "Error processing images/training/original\\Paystub_56.jpg: tesseract is not installed or it's not in your PATH. See README file for more information.\n",
      "Error processing images/training/original\\Paystub_57.jpg: tesseract is not installed or it's not in your PATH. See README file for more information.\n"
     ]
    },
    {
     "name": "stderr",
     "output_type": "stream",
     "text": [
      " 41%|████      | 172/420 [00:05<00:09, 26.61it/s]"
     ]
    },
    {
     "name": "stdout",
     "output_type": "stream",
     "text": [
      "Error processing images/training/original\\Paystub_58.jpg: tesseract is not installed or it's not in your PATH. See README file for more information.\n",
      "Error processing images/training/original\\Paystub_59.jpg: tesseract is not installed or it's not in your PATH. See README file for more information.\n",
      "Error processing images/training/original\\Paystub_6.jpg: tesseract is not installed or it's not in your PATH. See README file for more information.\n",
      "Error processing images/training/original\\Paystub_60.jpg: tesseract is not installed or it's not in your PATH. See README file for more information.\n",
      "Error processing images/training/original\\Paystub_61.jpg: tesseract is not installed or it's not in your PATH. See README file for more information.\n",
      "Error processing images/training/original\\Paystub_62.jpg: tesseract is not installed or it's not in your PATH. See README file for more information.\n"
     ]
    },
    {
     "name": "stderr",
     "output_type": "stream",
     "text": [
      " 42%|████▏     | 178/420 [00:05<00:09, 26.80it/s]"
     ]
    },
    {
     "name": "stdout",
     "output_type": "stream",
     "text": [
      "Error processing images/training/original\\Paystub_63.jpg: tesseract is not installed or it's not in your PATH. See README file for more information.\n",
      "Error processing images/training/original\\Paystub_64.jpg: tesseract is not installed or it's not in your PATH. See README file for more information.\n",
      "Error processing images/training/original\\Paystub_65.jpg: tesseract is not installed or it's not in your PATH. See README file for more information.\n",
      "Error processing images/training/original\\Paystub_66.jpg: tesseract is not installed or it's not in your PATH. See README file for more information.\n",
      "Error processing images/training/original\\Paystub_67.jpg: tesseract is not installed or it's not in your PATH. See README file for more information.\n",
      "Error processing images/training/original\\Paystub_68.jpg: tesseract is not installed or it's not in your PATH. See README file for more information.\n"
     ]
    },
    {
     "name": "stderr",
     "output_type": "stream",
     "text": [
      " 44%|████▍     | 184/420 [00:05<00:08, 26.24it/s]"
     ]
    },
    {
     "name": "stdout",
     "output_type": "stream",
     "text": [
      "Error processing images/training/original\\Paystub_69.jpg: tesseract is not installed or it's not in your PATH. See README file for more information.\n",
      "Error processing images/training/original\\Paystub_7.jpg: tesseract is not installed or it's not in your PATH. See README file for more information.\n",
      "Error processing images/training/original\\Paystub_70.jpg: tesseract is not installed or it's not in your PATH. See README file for more information.\n",
      "Error processing images/training/original\\Paystub_71.jpg: tesseract is not installed or it's not in your PATH. See README file for more information.\n",
      "Error processing images/training/original\\Paystub_72.jpg: tesseract is not installed or it's not in your PATH. See README file for more information.\n",
      "Error processing images/training/original\\Paystub_73.jpg: tesseract is not installed or it's not in your PATH. See README file for more information.\n"
     ]
    },
    {
     "name": "stderr",
     "output_type": "stream",
     "text": [
      " 45%|████▌     | 190/420 [00:05<00:08, 26.64it/s]"
     ]
    },
    {
     "name": "stdout",
     "output_type": "stream",
     "text": [
      "Error processing images/training/original\\Paystub_74.jpg: tesseract is not installed or it's not in your PATH. See README file for more information.\n",
      "Error processing images/training/original\\Paystub_75.jpg: tesseract is not installed or it's not in your PATH. See README file for more information.\n",
      "Error processing images/training/original\\Paystub_76.jpg: tesseract is not installed or it's not in your PATH. See README file for more information.\n",
      "Error processing images/training/original\\Paystub_77.jpg: tesseract is not installed or it's not in your PATH. See README file for more information.\n",
      "Error processing images/training/original\\Paystub_78.jpg: tesseract is not installed or it's not in your PATH. See README file for more information.\n",
      "Error processing images/training/original\\Paystub_79.jpg: tesseract is not installed or it's not in your PATH. See README file for more information.\n"
     ]
    },
    {
     "name": "stderr",
     "output_type": "stream",
     "text": [
      " 47%|████▋     | 196/420 [00:06<00:08, 26.53it/s]"
     ]
    },
    {
     "name": "stdout",
     "output_type": "stream",
     "text": [
      "Error processing images/training/original\\Paystub_8.jpg: tesseract is not installed or it's not in your PATH. See README file for more information.\n",
      "Error processing images/training/original\\Paystub_80.jpg: tesseract is not installed or it's not in your PATH. See README file for more information.\n",
      "Error processing images/training/original\\Paystub_81.jpg: tesseract is not installed or it's not in your PATH. See README file for more information.\n",
      "Error processing images/training/original\\Paystub_82.jpg: tesseract is not installed or it's not in your PATH. See README file for more information.\n",
      "Error processing images/training/original\\Paystub_83.jpg: tesseract is not installed or it's not in your PATH. See README file for more information.\n",
      "Error processing images/training/original\\Paystub_84.jpg: tesseract is not installed or it's not in your PATH. See README file for more information.\n"
     ]
    },
    {
     "name": "stderr",
     "output_type": "stream",
     "text": [
      " 48%|████▊     | 202/420 [00:06<00:08, 26.79it/s]"
     ]
    },
    {
     "name": "stdout",
     "output_type": "stream",
     "text": [
      "Error processing images/training/original\\Paystub_85.jpg: tesseract is not installed or it's not in your PATH. See README file for more information.\n",
      "Error processing images/training/original\\Paystub_86.jpg: tesseract is not installed or it's not in your PATH. See README file for more information.\n",
      "Error processing images/training/original\\Paystub_87.jpg: tesseract is not installed or it's not in your PATH. See README file for more information.\n",
      "Error processing images/training/original\\Paystub_88.jpg: tesseract is not installed or it's not in your PATH. See README file for more information.\n",
      "Error processing images/training/original\\Paystub_89.jpg: tesseract is not installed or it's not in your PATH. See README file for more information.\n",
      "Error processing images/training/original\\Paystub_9.jpg: tesseract is not installed or it's not in your PATH. See README file for more information.\n"
     ]
    },
    {
     "name": "stderr",
     "output_type": "stream",
     "text": [
      " 50%|████▉     | 208/420 [00:06<00:07, 26.86it/s]"
     ]
    },
    {
     "name": "stdout",
     "output_type": "stream",
     "text": [
      "Error processing images/training/original\\Paystub_90.jpg: tesseract is not installed or it's not in your PATH. See README file for more information.\n",
      "Error processing images/training/original\\Paystub_91.jpg: tesseract is not installed or it's not in your PATH. See README file for more information.\n",
      "Error processing images/training/original\\Paystub_92.jpg: tesseract is not installed or it's not in your PATH. See README file for more information.\n",
      "Error processing images/training/original\\Paystub_93.jpg: tesseract is not installed or it's not in your PATH. See README file for more information.\n",
      "Error processing images/training/original\\Paystub_94.jpg: tesseract is not installed or it's not in your PATH. See README file for more information.\n",
      "Error processing images/training/original\\Paystub_95.jpg: tesseract is not installed or it's not in your PATH. See README file for more information.\n"
     ]
    },
    {
     "name": "stderr",
     "output_type": "stream",
     "text": [
      " 51%|█████     | 215/420 [00:06<00:06, 30.16it/s]"
     ]
    },
    {
     "name": "stdout",
     "output_type": "stream",
     "text": [
      "Error processing images/training/original\\Paystub_96.jpg: tesseract is not installed or it's not in your PATH. See README file for more information.\n",
      "Error processing images/training/original\\Paystub_97.jpg: tesseract is not installed or it's not in your PATH. See README file for more information.\n",
      "Error processing images/training/original\\Paystub_98.jpg: tesseract is not installed or it's not in your PATH. See README file for more information.\n",
      "Error processing images/training/original\\Paystub_99.jpg: tesseract is not installed or it's not in your PATH. See README file for more information.\n",
      "Error processing images/training/forged\\Tampered1.pdf_page0.jpg: tesseract is not installed or it's not in your PATH. See README file for more information.\n",
      "Error processing images/training/forged\\Tampered2.pdf_page0.jpg: tesseract is not installed or it's not in your PATH. See README file for more information.\n",
      "Error processing images/training/forged\\Tampered3.jpg: tesseract is not installed or it's not in your PATH. See README file for more information.\n"
     ]
    },
    {
     "name": "stderr",
     "output_type": "stream",
     "text": [
      " 53%|█████▎    | 223/420 [00:07<00:05, 33.52it/s]"
     ]
    },
    {
     "name": "stdout",
     "output_type": "stream",
     "text": [
      "Error processing images/training/forged\\Tampered4.pdf_page0.jpg: tesseract is not installed or it's not in your PATH. See README file for more information.\n",
      "Error processing images/training/forged\\TamperedBankStatement.jpg: tesseract is not installed or it's not in your PATH. See README file for more information.\n",
      "Error processing images/training/forged\\TamperedBankStatement_0.jpg: tesseract is not installed or it's not in your PATH. See README file for more information.\n",
      "Error processing images/training/forged\\TamperedBankStatement_1.jpg: tesseract is not installed or it's not in your PATH. See README file for more information.\n",
      "Error processing images/training/forged\\TamperedBankStatement_10.jpg: tesseract is not installed or it's not in your PATH. See README file for more information.\n",
      "Error processing images/training/forged\\TamperedBankStatement_11.jpg: tesseract is not installed or it's not in your PATH. See README file for more information.\n",
      "Error processing images/training/forged\\TamperedBankStatement_12.jpg: tesseract is not installed or it's not in your PATH. See README file for more information.\n",
      "Error processing images/training/forged\\TamperedBankStatement_13.jpg: tesseract is not installed or it's not in your PATH. See README file for more information.\n"
     ]
    },
    {
     "name": "stderr",
     "output_type": "stream",
     "text": [
      " 55%|█████▌    | 231/420 [00:07<00:05, 35.35it/s]"
     ]
    },
    {
     "name": "stdout",
     "output_type": "stream",
     "text": [
      "Error processing images/training/forged\\TamperedBankStatement_14.jpg: tesseract is not installed or it's not in your PATH. See README file for more information.\n",
      "Error processing images/training/forged\\TamperedBankStatement_15.jpg: tesseract is not installed or it's not in your PATH. See README file for more information.\n",
      "Error processing images/training/forged\\TamperedBankStatement_16.jpg: tesseract is not installed or it's not in your PATH. See README file for more information.\n",
      "Error processing images/training/forged\\TamperedBankStatement_17.jpg: tesseract is not installed or it's not in your PATH. See README file for more information.\n",
      "Error processing images/training/forged\\TamperedBankStatement_18.jpg: tesseract is not installed or it's not in your PATH. See README file for more information.\n",
      "Error processing images/training/forged\\TamperedBankStatement_19.jpg: tesseract is not installed or it's not in your PATH. See README file for more information.\n",
      "Error processing images/training/forged\\TamperedBankStatement_2.jpg: tesseract is not installed or it's not in your PATH. See README file for more information.\n",
      "Error processing images/training/forged\\TamperedBankStatement_20.jpg: tesseract is not installed or it's not in your PATH. See README file for more information.\n"
     ]
    },
    {
     "name": "stderr",
     "output_type": "stream",
     "text": [
      " 56%|█████▌    | 235/420 [00:07<00:05, 35.07it/s]"
     ]
    },
    {
     "name": "stdout",
     "output_type": "stream",
     "text": [
      "Error processing images/training/forged\\TamperedBankStatement_21.jpg: tesseract is not installed or it's not in your PATH. See README file for more information.\n",
      "Error processing images/training/forged\\TamperedBankStatement_22.jpg: tesseract is not installed or it's not in your PATH. See README file for more information.\n",
      "Error processing images/training/forged\\TamperedBankStatement_23.jpg: tesseract is not installed or it's not in your PATH. See README file for more information.\n",
      "Error processing images/training/forged\\TamperedBankStatement_24.jpg: tesseract is not installed or it's not in your PATH. See README file for more information.\n",
      "Error processing images/training/forged\\TamperedBankStatement_25.jpg: tesseract is not installed or it's not in your PATH. See README file for more information.\n",
      "Error processing images/training/forged\\TamperedBankStatement_26.jpg: tesseract is not installed or it's not in your PATH. See README file for more information.\n",
      "Error processing images/training/forged\\TamperedBankStatement_27.jpg: tesseract is not installed or it's not in your PATH. See README file for more information.\n"
     ]
    },
    {
     "name": "stderr",
     "output_type": "stream",
     "text": [
      " 58%|█████▊    | 243/420 [00:07<00:04, 35.76it/s]"
     ]
    },
    {
     "name": "stdout",
     "output_type": "stream",
     "text": [
      "Error processing images/training/forged\\TamperedBankStatement_28.jpg: tesseract is not installed or it's not in your PATH. See README file for more information.\n",
      "Error processing images/training/forged\\TamperedBankStatement_29.jpg: tesseract is not installed or it's not in your PATH. See README file for more information.\n",
      "Error processing images/training/forged\\TamperedBankStatement_3.jpg: tesseract is not installed or it's not in your PATH. See README file for more information.\n",
      "Error processing images/training/forged\\TamperedBankStatement_30.jpg: tesseract is not installed or it's not in your PATH. See README file for more information.\n",
      "Error processing images/training/forged\\TamperedBankStatement_31.jpg: tesseract is not installed or it's not in your PATH. See README file for more information.\n",
      "Error processing images/training/forged\\TamperedBankStatement_32.jpg: tesseract is not installed or it's not in your PATH. See README file for more information.\n",
      "Error processing images/training/forged\\TamperedBankStatement_33.jpg: tesseract is not installed or it's not in your PATH. See README file for more information.\n",
      "Error processing images/training/forged\\TamperedBankStatement_34.jpg: tesseract is not installed or it's not in your PATH. See README file for more information.\n"
     ]
    },
    {
     "name": "stderr",
     "output_type": "stream",
     "text": [
      " 60%|█████▉    | 251/420 [00:07<00:04, 35.67it/s]"
     ]
    },
    {
     "name": "stdout",
     "output_type": "stream",
     "text": [
      "Error processing images/training/forged\\TamperedBankStatement_35.jpg: tesseract is not installed or it's not in your PATH. See README file for more information.\n",
      "Error processing images/training/forged\\TamperedBankStatement_36.jpg: tesseract is not installed or it's not in your PATH. See README file for more information.\n",
      "Error processing images/training/forged\\TamperedBankStatement_37.jpg: tesseract is not installed or it's not in your PATH. See README file for more information.\n",
      "Error processing images/training/forged\\TamperedBankStatement_38.jpg: tesseract is not installed or it's not in your PATH. See README file for more information.\n",
      "Error processing images/training/forged\\TamperedBankStatement_39.jpg: tesseract is not installed or it's not in your PATH. See README file for more information.\n",
      "Error processing images/training/forged\\TamperedBankStatement_4.jpg: tesseract is not installed or it's not in your PATH. See README file for more information.\n",
      "Error processing images/training/forged\\TamperedBankStatement_40.jpg: tesseract is not installed or it's not in your PATH. See README file for more information.\n",
      "Error processing images/training/forged\\TamperedBankStatement_41.jpg: tesseract is not installed or it's not in your PATH. See README file for more information.\n"
     ]
    },
    {
     "name": "stderr",
     "output_type": "stream",
     "text": [
      " 62%|██████▏   | 260/420 [00:08<00:04, 37.22it/s]"
     ]
    },
    {
     "name": "stdout",
     "output_type": "stream",
     "text": [
      "Error processing images/training/forged\\TamperedBankStatement_42.jpg: tesseract is not installed or it's not in your PATH. See README file for more information.\n",
      "Error processing images/training/forged\\TamperedBankStatement_43.jpg: tesseract is not installed or it's not in your PATH. See README file for more information.\n",
      "Error processing images/training/forged\\TamperedBankStatement_44.jpg: tesseract is not installed or it's not in your PATH. See README file for more information.\n",
      "Error processing images/training/forged\\TamperedBankStatement_45.jpg: tesseract is not installed or it's not in your PATH. See README file for more information.\n",
      "Error processing images/training/forged\\TamperedBankStatement_46.jpg: tesseract is not installed or it's not in your PATH. See README file for more information.\n",
      "Error processing images/training/forged\\TamperedBankStatement_47.jpg: tesseract is not installed or it's not in your PATH. See README file for more information.\n",
      "Error processing images/training/forged\\TamperedBankStatement_48.jpg: tesseract is not installed or it's not in your PATH. See README file for more information.\n",
      "Error processing images/training/forged\\TamperedBankStatement_49.jpg: tesseract is not installed or it's not in your PATH. See README file for more information.\n"
     ]
    },
    {
     "name": "stderr",
     "output_type": "stream",
     "text": [
      " 64%|██████▍   | 268/420 [00:08<00:04, 36.89it/s]"
     ]
    },
    {
     "name": "stdout",
     "output_type": "stream",
     "text": [
      "Error processing images/training/forged\\TamperedBankStatement_5.jpg: tesseract is not installed or it's not in your PATH. See README file for more information.\n",
      "Error processing images/training/forged\\TamperedBankStatement_50.jpg: tesseract is not installed or it's not in your PATH. See README file for more information.\n",
      "Error processing images/training/forged\\TamperedBankStatement_51.jpg: tesseract is not installed or it's not in your PATH. See README file for more information.\n",
      "Error processing images/training/forged\\TamperedBankStatement_52.jpg: tesseract is not installed or it's not in your PATH. See README file for more information.\n",
      "Error processing images/training/forged\\TamperedBankStatement_53.jpg: tesseract is not installed or it's not in your PATH. See README file for more information.\n",
      "Error processing images/training/forged\\TamperedBankStatement_54.jpg: tesseract is not installed or it's not in your PATH. See README file for more information.\n",
      "Error processing images/training/forged\\TamperedBankStatement_55.jpg: tesseract is not installed or it's not in your PATH. See README file for more information.\n",
      "Error processing images/training/forged\\TamperedBankStatement_56.jpg: tesseract is not installed or it's not in your PATH. See README file for more information.\n"
     ]
    },
    {
     "name": "stderr",
     "output_type": "stream",
     "text": [
      " 66%|██████▌   | 276/420 [00:08<00:03, 36.36it/s]"
     ]
    },
    {
     "name": "stdout",
     "output_type": "stream",
     "text": [
      "Error processing images/training/forged\\TamperedBankStatement_57.jpg: tesseract is not installed or it's not in your PATH. See README file for more information.\n",
      "Error processing images/training/forged\\TamperedBankStatement_58.jpg: tesseract is not installed or it's not in your PATH. See README file for more information.\n",
      "Error processing images/training/forged\\TamperedBankStatement_59.jpg: tesseract is not installed or it's not in your PATH. See README file for more information.\n",
      "Error processing images/training/forged\\TamperedBankStatement_6.jpg: tesseract is not installed or it's not in your PATH. See README file for more information.\n",
      "Error processing images/training/forged\\TamperedBankStatement_60.jpg: tesseract is not installed or it's not in your PATH. See README file for more information.\n",
      "Error processing images/training/forged\\TamperedBankStatement_61.jpg: tesseract is not installed or it's not in your PATH. See README file for more information.\n",
      "Error processing images/training/forged\\TamperedBankStatement_62.jpg: tesseract is not installed or it's not in your PATH. See README file for more information.\n",
      "Error processing images/training/forged\\TamperedBankStatement_63.jpg: tesseract is not installed or it's not in your PATH. See README file for more information.\n"
     ]
    },
    {
     "name": "stderr",
     "output_type": "stream",
     "text": [
      " 68%|██████▊   | 284/420 [00:08<00:03, 37.33it/s]"
     ]
    },
    {
     "name": "stdout",
     "output_type": "stream",
     "text": [
      "Error processing images/training/forged\\TamperedBankStatement_64.jpg: tesseract is not installed or it's not in your PATH. See README file for more information.\n",
      "Error processing images/training/forged\\TamperedBankStatement_65.jpg: tesseract is not installed or it's not in your PATH. See README file for more information.\n",
      "Error processing images/training/forged\\TamperedBankStatement_66.jpg: tesseract is not installed or it's not in your PATH. See README file for more information.\n",
      "Error processing images/training/forged\\TamperedBankStatement_67.jpg: tesseract is not installed or it's not in your PATH. See README file for more information.\n",
      "Error processing images/training/forged\\TamperedBankStatement_68.jpg: tesseract is not installed or it's not in your PATH. See README file for more information.\n",
      "Error processing images/training/forged\\TamperedBankStatement_69.jpg: tesseract is not installed or it's not in your PATH. See README file for more information.\n",
      "Error processing images/training/forged\\TamperedBankStatement_7.jpg: tesseract is not installed or it's not in your PATH. See README file for more information.\n",
      "Error processing images/training/forged\\TamperedBankStatement_70.jpg: tesseract is not installed or it's not in your PATH. See README file for more information.\n",
      "Error processing images/training/forged\\TamperedBankStatement_71.jpg: tesseract is not installed or it's not in your PATH. See README file for more information.\n"
     ]
    },
    {
     "name": "stderr",
     "output_type": "stream",
     "text": [
      " 70%|██████▉   | 292/420 [00:08<00:03, 36.26it/s]"
     ]
    },
    {
     "name": "stdout",
     "output_type": "stream",
     "text": [
      "Error processing images/training/forged\\TamperedBankStatement_72.jpg: tesseract is not installed or it's not in your PATH. See README file for more information.\n",
      "Error processing images/training/forged\\TamperedBankStatement_73.jpg: tesseract is not installed or it's not in your PATH. See README file for more information.\n",
      "Error processing images/training/forged\\TamperedBankStatement_74.jpg: tesseract is not installed or it's not in your PATH. See README file for more information.\n",
      "Error processing images/training/forged\\TamperedBankStatement_75.jpg: tesseract is not installed or it's not in your PATH. See README file for more information.\n",
      "Error processing images/training/forged\\TamperedBankStatement_76.jpg: tesseract is not installed or it's not in your PATH. See README file for more information.\n",
      "Error processing images/training/forged\\TamperedBankStatement_77.jpg: tesseract is not installed or it's not in your PATH. See README file for more information.\n",
      "Error processing images/training/forged\\TamperedBankStatement_78.jpg: tesseract is not installed or it's not in your PATH. See README file for more information.\n"
     ]
    },
    {
     "name": "stderr",
     "output_type": "stream",
     "text": [
      " 71%|███████▏  | 300/420 [00:09<00:03, 36.18it/s]"
     ]
    },
    {
     "name": "stdout",
     "output_type": "stream",
     "text": [
      "Error processing images/training/forged\\TamperedBankStatement_79.jpg: tesseract is not installed or it's not in your PATH. See README file for more information.\n",
      "Error processing images/training/forged\\TamperedBankStatement_8.jpg: tesseract is not installed or it's not in your PATH. See README file for more information.\n",
      "Error processing images/training/forged\\TamperedBankStatement_80.jpg: tesseract is not installed or it's not in your PATH. See README file for more information.\n",
      "Error processing images/training/forged\\TamperedBankStatement_81.jpg: tesseract is not installed or it's not in your PATH. See README file for more information.\n",
      "Error processing images/training/forged\\TamperedBankStatement_82.jpg: tesseract is not installed or it's not in your PATH. See README file for more information.\n",
      "Error processing images/training/forged\\TamperedBankStatement_83.jpg: tesseract is not installed or it's not in your PATH. See README file for more information.\n",
      "Error processing images/training/forged\\TamperedBankStatement_84.jpg: tesseract is not installed or it's not in your PATH. See README file for more information.\n",
      "Error processing images/training/forged\\TamperedBankStatement_85.jpg: tesseract is not installed or it's not in your PATH. See README file for more information.\n"
     ]
    },
    {
     "name": "stderr",
     "output_type": "stream",
     "text": [
      " 73%|███████▎  | 308/420 [00:09<00:03, 35.22it/s]"
     ]
    },
    {
     "name": "stdout",
     "output_type": "stream",
     "text": [
      "Error processing images/training/forged\\TamperedBankStatement_86.jpg: tesseract is not installed or it's not in your PATH. See README file for more information.\n",
      "Error processing images/training/forged\\TamperedBankStatement_87.jpg: tesseract is not installed or it's not in your PATH. See README file for more information.\n",
      "Error processing images/training/forged\\TamperedBankStatement_88.jpg: tesseract is not installed or it's not in your PATH. See README file for more information.\n",
      "Error processing images/training/forged\\TamperedBankStatement_89.jpg: tesseract is not installed or it's not in your PATH. See README file for more information.\n",
      "Error processing images/training/forged\\TamperedBankStatement_9.jpg: tesseract is not installed or it's not in your PATH. See README file for more information.\n",
      "Error processing images/training/forged\\TamperedBankStatement_90.jpg: tesseract is not installed or it's not in your PATH. See README file for more information.\n",
      "Error processing images/training/forged\\TamperedBankStatement_91.jpg: tesseract is not installed or it's not in your PATH. See README file for more information.\n",
      "Error processing images/training/forged\\TamperedBankStatement_92.jpg: tesseract is not installed or it's not in your PATH. See README file for more information.\n"
     ]
    },
    {
     "name": "stderr",
     "output_type": "stream",
     "text": [
      " 75%|███████▌  | 316/420 [00:09<00:02, 36.08it/s]"
     ]
    },
    {
     "name": "stdout",
     "output_type": "stream",
     "text": [
      "Error processing images/training/forged\\TamperedBankStatement_93.jpg: tesseract is not installed or it's not in your PATH. See README file for more information.\n",
      "Error processing images/training/forged\\TamperedBankStatement_94.jpg: tesseract is not installed or it's not in your PATH. See README file for more information.\n",
      "Error processing images/training/forged\\TamperedBankStatement_95.jpg: tesseract is not installed or it's not in your PATH. See README file for more information.\n",
      "Error processing images/training/forged\\TamperedBankStatement_96.jpg: tesseract is not installed or it's not in your PATH. See README file for more information.\n",
      "Error processing images/training/forged\\TamperedBankStatement_97.jpg: tesseract is not installed or it's not in your PATH. See README file for more information.\n",
      "Error processing images/training/forged\\TamperedBankStatement_98.jpg: tesseract is not installed or it's not in your PATH. See README file for more information.\n",
      "Error processing images/training/forged\\TamperedBankStatement_99.jpg: tesseract is not installed or it's not in your PATH. See README file for more information.\n",
      "Error processing images/training/forged\\TamperedPaystub copy.jpg: tesseract is not installed or it's not in your PATH. See README file for more information.\n"
     ]
    },
    {
     "name": "stderr",
     "output_type": "stream",
     "text": [
      " 77%|███████▋  | 324/420 [00:09<00:03, 31.42it/s]"
     ]
    },
    {
     "name": "stdout",
     "output_type": "stream",
     "text": [
      "Error processing images/training/forged\\TamperedPaystub.jpg: tesseract is not installed or it's not in your PATH. See README file for more information.\n",
      "Error processing images/training/forged\\TamperedPaystubv1.jpg: tesseract is not installed or it's not in your PATH. See README file for more information.\n",
      "Error processing images/training/forged\\TamperedPaystub_0.jpg: tesseract is not installed or it's not in your PATH. See README file for more information.\n",
      "Error processing images/training/forged\\TamperedPaystub_1.jpg: tesseract is not installed or it's not in your PATH. See README file for more information.\n",
      "Error processing images/training/forged\\TamperedPaystub_10.jpg: tesseract is not installed or it's not in your PATH. See README file for more information.\n",
      "Error processing images/training/forged\\TamperedPaystub_11.jpg: tesseract is not installed or it's not in your PATH. See README file for more information.\n"
     ]
    },
    {
     "name": "stderr",
     "output_type": "stream",
     "text": [
      " 78%|███████▊  | 328/420 [00:10<00:03, 30.43it/s]"
     ]
    },
    {
     "name": "stdout",
     "output_type": "stream",
     "text": [
      "Error processing images/training/forged\\TamperedPaystub_12.jpg: tesseract is not installed or it's not in your PATH. See README file for more information.\n",
      "Error processing images/training/forged\\TamperedPaystub_13.jpg: tesseract is not installed or it's not in your PATH. See README file for more information.\n",
      "Error processing images/training/forged\\TamperedPaystub_14.jpg: tesseract is not installed or it's not in your PATH. See README file for more information.\n",
      "Error processing images/training/forged\\TamperedPaystub_15.jpg: tesseract is not installed or it's not in your PATH. See README file for more information.\n",
      "Error processing images/training/forged\\TamperedPaystub_16.jpg: tesseract is not installed or it's not in your PATH. See README file for more information.\n",
      "Error processing images/training/forged\\TamperedPaystub_17.jpg: tesseract is not installed or it's not in your PATH. See README file for more information.\n",
      "Error processing images/training/forged\\TamperedPaystub_18.jpg: tesseract is not installed or it's not in your PATH. See README file for more information.\n"
     ]
    },
    {
     "name": "stderr",
     "output_type": "stream",
     "text": [
      " 80%|███████▉  | 335/420 [00:10<00:02, 29.23it/s]"
     ]
    },
    {
     "name": "stdout",
     "output_type": "stream",
     "text": [
      "Error processing images/training/forged\\TamperedPaystub_19.jpg: tesseract is not installed or it's not in your PATH. See README file for more information.\n",
      "Error processing images/training/forged\\TamperedPaystub_2.jpg: tesseract is not installed or it's not in your PATH. See README file for more information.\n",
      "Error processing images/training/forged\\TamperedPaystub_20.jpg: tesseract is not installed or it's not in your PATH. See README file for more information.\n",
      "Error processing images/training/forged\\TamperedPaystub_21.jpg: tesseract is not installed or it's not in your PATH. See README file for more information.\n",
      "Error processing images/training/forged\\TamperedPaystub_22.jpg: tesseract is not installed or it's not in your PATH. See README file for more information.\n",
      "Error processing images/training/forged\\TamperedPaystub_23.jpg: tesseract is not installed or it's not in your PATH. See README file for more information.\n"
     ]
    },
    {
     "name": "stderr",
     "output_type": "stream",
     "text": [
      " 81%|████████  | 341/420 [00:10<00:02, 28.77it/s]"
     ]
    },
    {
     "name": "stdout",
     "output_type": "stream",
     "text": [
      "Error processing images/training/forged\\TamperedPaystub_24.jpg: tesseract is not installed or it's not in your PATH. See README file for more information.\n",
      "Error processing images/training/forged\\TamperedPaystub_25.jpg: tesseract is not installed or it's not in your PATH. See README file for more information.\n",
      "Error processing images/training/forged\\TamperedPaystub_26.jpg: tesseract is not installed or it's not in your PATH. See README file for more information.\n",
      "Error processing images/training/forged\\TamperedPaystub_27.jpg: tesseract is not installed or it's not in your PATH. See README file for more information.\n",
      "Error processing images/training/forged\\TamperedPaystub_28.jpg: tesseract is not installed or it's not in your PATH. See README file for more information.\n",
      "Error processing images/training/forged\\TamperedPaystub_29.jpg: tesseract is not installed or it's not in your PATH. See README file for more information.\n"
     ]
    },
    {
     "name": "stderr",
     "output_type": "stream",
     "text": [
      " 83%|████████▎ | 347/420 [00:10<00:02, 28.09it/s]"
     ]
    },
    {
     "name": "stdout",
     "output_type": "stream",
     "text": [
      "Error processing images/training/forged\\TamperedPaystub_3.jpg: tesseract is not installed or it's not in your PATH. See README file for more information.\n",
      "Error processing images/training/forged\\TamperedPaystub_30.jpg: tesseract is not installed or it's not in your PATH. See README file for more information.\n",
      "Error processing images/training/forged\\TamperedPaystub_31.jpg: tesseract is not installed or it's not in your PATH. See README file for more information.\n",
      "Error processing images/training/forged\\TamperedPaystub_32.jpg: tesseract is not installed or it's not in your PATH. See README file for more information.\n",
      "Error processing images/training/forged\\TamperedPaystub_33.jpg: tesseract is not installed or it's not in your PATH. See README file for more information.\n",
      "Error processing images/training/forged\\TamperedPaystub_34.jpg: tesseract is not installed or it's not in your PATH. See README file for more information.\n"
     ]
    },
    {
     "name": "stderr",
     "output_type": "stream",
     "text": [
      " 84%|████████▍ | 353/420 [00:10<00:02, 27.32it/s]"
     ]
    },
    {
     "name": "stdout",
     "output_type": "stream",
     "text": [
      "Error processing images/training/forged\\TamperedPaystub_35.jpg: tesseract is not installed or it's not in your PATH. See README file for more information.\n",
      "Error processing images/training/forged\\TamperedPaystub_36.jpg: tesseract is not installed or it's not in your PATH. See README file for more information.\n",
      "Error processing images/training/forged\\TamperedPaystub_37.jpg: tesseract is not installed or it's not in your PATH. See README file for more information.\n",
      "Error processing images/training/forged\\TamperedPaystub_38.jpg: tesseract is not installed or it's not in your PATH. See README file for more information.\n",
      "Error processing images/training/forged\\TamperedPaystub_39.jpg: tesseract is not installed or it's not in your PATH. See README file for more information.\n",
      "Error processing images/training/forged\\TamperedPaystub_4.jpg: tesseract is not installed or it's not in your PATH. See README file for more information.\n"
     ]
    },
    {
     "name": "stderr",
     "output_type": "stream",
     "text": [
      " 85%|████████▌ | 359/420 [00:11<00:02, 27.50it/s]"
     ]
    },
    {
     "name": "stdout",
     "output_type": "stream",
     "text": [
      "Error processing images/training/forged\\TamperedPaystub_40.jpg: tesseract is not installed or it's not in your PATH. See README file for more information.\n",
      "Error processing images/training/forged\\TamperedPaystub_41.jpg: tesseract is not installed or it's not in your PATH. See README file for more information.\n",
      "Error processing images/training/forged\\TamperedPaystub_42.jpg: tesseract is not installed or it's not in your PATH. See README file for more information.\n",
      "Error processing images/training/forged\\TamperedPaystub_43.jpg: tesseract is not installed or it's not in your PATH. See README file for more information.\n",
      "Error processing images/training/forged\\TamperedPaystub_44.jpg: tesseract is not installed or it's not in your PATH. See README file for more information.\n",
      "Error processing images/training/forged\\TamperedPaystub_45.jpg: tesseract is not installed or it's not in your PATH. See README file for more information.\n"
     ]
    },
    {
     "name": "stderr",
     "output_type": "stream",
     "text": [
      " 87%|████████▋ | 365/420 [00:11<00:02, 26.92it/s]"
     ]
    },
    {
     "name": "stdout",
     "output_type": "stream",
     "text": [
      "Error processing images/training/forged\\TamperedPaystub_46.jpg: tesseract is not installed or it's not in your PATH. See README file for more information.\n",
      "Error processing images/training/forged\\TamperedPaystub_47.jpg: tesseract is not installed or it's not in your PATH. See README file for more information.\n",
      "Error processing images/training/forged\\TamperedPaystub_48.jpg: tesseract is not installed or it's not in your PATH. See README file for more information.\n",
      "Error processing images/training/forged\\TamperedPaystub_49.jpg: tesseract is not installed or it's not in your PATH. See README file for more information.\n",
      "Error processing images/training/forged\\TamperedPaystub_5.jpg: tesseract is not installed or it's not in your PATH. See README file for more information.\n",
      "Error processing images/training/forged\\TamperedPaystub_50.jpg: tesseract is not installed or it's not in your PATH. See README file for more information.\n"
     ]
    },
    {
     "name": "stderr",
     "output_type": "stream",
     "text": [
      " 89%|████████▉ | 374/420 [00:11<00:01, 27.60it/s]"
     ]
    },
    {
     "name": "stdout",
     "output_type": "stream",
     "text": [
      "Error processing images/training/forged\\TamperedPaystub_51.jpg: tesseract is not installed or it's not in your PATH. See README file for more information.\n",
      "Error processing images/training/forged\\TamperedPaystub_52.jpg: tesseract is not installed or it's not in your PATH. See README file for more information.\n",
      "Error processing images/training/forged\\TamperedPaystub_53.jpg: tesseract is not installed or it's not in your PATH. See README file for more information.\n",
      "Error processing images/training/forged\\TamperedPaystub_54.jpg: tesseract is not installed or it's not in your PATH. See README file for more information.\n",
      "Error processing images/training/forged\\TamperedPaystub_55.jpg: tesseract is not installed or it's not in your PATH. See README file for more information.\n",
      "Error processing images/training/forged\\TamperedPaystub_56.jpg: tesseract is not installed or it's not in your PATH. See README file for more information.\n",
      "Error processing images/training/forged\\TamperedPaystub_57.jpg: tesseract is not installed or it's not in your PATH. See README file for more information.\n"
     ]
    },
    {
     "name": "stderr",
     "output_type": "stream",
     "text": [
      " 90%|█████████ | 380/420 [00:11<00:01, 27.34it/s]"
     ]
    },
    {
     "name": "stdout",
     "output_type": "stream",
     "text": [
      "Error processing images/training/forged\\TamperedPaystub_58.jpg: tesseract is not installed or it's not in your PATH. See README file for more information.\n",
      "Error processing images/training/forged\\TamperedPaystub_59.jpg: tesseract is not installed or it's not in your PATH. See README file for more information.\n",
      "Error processing images/training/forged\\TamperedPaystub_6.jpg: tesseract is not installed or it's not in your PATH. See README file for more information.\n",
      "Error processing images/training/forged\\TamperedPaystub_60.jpg: tesseract is not installed or it's not in your PATH. See README file for more information.\n",
      "Error processing images/training/forged\\TamperedPaystub_61.jpg: tesseract is not installed or it's not in your PATH. See README file for more information.\n",
      "Error processing images/training/forged\\TamperedPaystub_62.jpg: tesseract is not installed or it's not in your PATH. See README file for more information.\n"
     ]
    },
    {
     "name": "stderr",
     "output_type": "stream",
     "text": [
      " 92%|█████████▏| 386/420 [00:12<00:01, 27.64it/s]"
     ]
    },
    {
     "name": "stdout",
     "output_type": "stream",
     "text": [
      "Error processing images/training/forged\\TamperedPaystub_63.jpg: tesseract is not installed or it's not in your PATH. See README file for more information.\n",
      "Error processing images/training/forged\\TamperedPaystub_64.jpg: tesseract is not installed or it's not in your PATH. See README file for more information.\n",
      "Error processing images/training/forged\\TamperedPaystub_65.jpg: tesseract is not installed or it's not in your PATH. See README file for more information.\n",
      "Error processing images/training/forged\\TamperedPaystub_66.jpg: tesseract is not installed or it's not in your PATH. See README file for more information.\n",
      "Error processing images/training/forged\\TamperedPaystub_67.jpg: tesseract is not installed or it's not in your PATH. See README file for more information.\n",
      "Error processing images/training/forged\\TamperedPaystub_68.jpg: tesseract is not installed or it's not in your PATH. See README file for more information.\n"
     ]
    },
    {
     "name": "stderr",
     "output_type": "stream",
     "text": [
      " 93%|█████████▎| 392/420 [00:12<00:01, 27.32it/s]"
     ]
    },
    {
     "name": "stdout",
     "output_type": "stream",
     "text": [
      "Error processing images/training/forged\\TamperedPaystub_69.jpg: tesseract is not installed or it's not in your PATH. See README file for more information.\n",
      "Error processing images/training/forged\\TamperedPaystub_7.jpg: tesseract is not installed or it's not in your PATH. See README file for more information.\n",
      "Error processing images/training/forged\\TamperedPaystub_70.jpg: tesseract is not installed or it's not in your PATH. See README file for more information.\n",
      "Error processing images/training/forged\\TamperedPaystub_71.jpg: tesseract is not installed or it's not in your PATH. See README file for more information.\n",
      "Error processing images/training/forged\\TamperedPaystub_72.jpg: tesseract is not installed or it's not in your PATH. See README file for more information.\n",
      "Error processing images/training/forged\\TamperedPaystub_73.jpg: tesseract is not installed or it's not in your PATH. See README file for more information.\n"
     ]
    },
    {
     "name": "stderr",
     "output_type": "stream",
     "text": [
      " 95%|█████████▍| 398/420 [00:12<00:00, 27.69it/s]"
     ]
    },
    {
     "name": "stdout",
     "output_type": "stream",
     "text": [
      "Error processing images/training/forged\\TamperedPaystub_74.jpg: tesseract is not installed or it's not in your PATH. See README file for more information.\n",
      "Error processing images/training/forged\\TamperedPaystub_75.jpg: tesseract is not installed or it's not in your PATH. See README file for more information.\n",
      "Error processing images/training/forged\\TamperedPaystub_76.jpg: tesseract is not installed or it's not in your PATH. See README file for more information.\n",
      "Error processing images/training/forged\\TamperedPaystub_77.jpg: tesseract is not installed or it's not in your PATH. See README file for more information.\n",
      "Error processing images/training/forged\\TamperedPaystub_78.jpg: tesseract is not installed or it's not in your PATH. See README file for more information.\n",
      "Error processing images/training/forged\\TamperedPaystub_79.jpg: tesseract is not installed or it's not in your PATH. See README file for more information.\n"
     ]
    },
    {
     "name": "stderr",
     "output_type": "stream",
     "text": [
      " 96%|█████████▌| 404/420 [00:12<00:00, 26.82it/s]"
     ]
    },
    {
     "name": "stdout",
     "output_type": "stream",
     "text": [
      "Error processing images/training/forged\\TamperedPaystub_8.jpg: tesseract is not installed or it's not in your PATH. See README file for more information.\n",
      "Error processing images/training/forged\\TamperedPaystub_80.jpg: tesseract is not installed or it's not in your PATH. See README file for more information.\n",
      "Error processing images/training/forged\\TamperedPaystub_81.jpg: tesseract is not installed or it's not in your PATH. See README file for more information.\n",
      "Error processing images/training/forged\\TamperedPaystub_82.jpg: tesseract is not installed or it's not in your PATH. See README file for more information.\n",
      "Error processing images/training/forged\\TamperedPaystub_83.jpg: tesseract is not installed or it's not in your PATH. See README file for more information.\n",
      "Error processing images/training/forged\\TamperedPaystub_84.jpg: tesseract is not installed or it's not in your PATH. See README file for more information.\n"
     ]
    },
    {
     "name": "stderr",
     "output_type": "stream",
     "text": [
      " 98%|█████████▊| 410/420 [00:13<00:00, 27.24it/s]"
     ]
    },
    {
     "name": "stdout",
     "output_type": "stream",
     "text": [
      "Error processing images/training/forged\\TamperedPaystub_85.jpg: tesseract is not installed or it's not in your PATH. See README file for more information.\n",
      "Error processing images/training/forged\\TamperedPaystub_86.jpg: tesseract is not installed or it's not in your PATH. See README file for more information.\n",
      "Error processing images/training/forged\\TamperedPaystub_87.jpg: tesseract is not installed or it's not in your PATH. See README file for more information.\n",
      "Error processing images/training/forged\\TamperedPaystub_88.jpg: tesseract is not installed or it's not in your PATH. See README file for more information.\n",
      "Error processing images/training/forged\\TamperedPaystub_89.jpg: tesseract is not installed or it's not in your PATH. See README file for more information.\n",
      "Error processing images/training/forged\\TamperedPaystub_9.jpg: tesseract is not installed or it's not in your PATH. See README file for more information.\n"
     ]
    },
    {
     "name": "stderr",
     "output_type": "stream",
     "text": [
      " 99%|█████████▉| 416/420 [00:13<00:00, 26.55it/s]"
     ]
    },
    {
     "name": "stdout",
     "output_type": "stream",
     "text": [
      "Error processing images/training/forged\\TamperedPaystub_90.jpg: tesseract is not installed or it's not in your PATH. See README file for more information.\n",
      "Error processing images/training/forged\\TamperedPaystub_91.jpg: tesseract is not installed or it's not in your PATH. See README file for more information.\n",
      "Error processing images/training/forged\\TamperedPaystub_92.jpg: tesseract is not installed or it's not in your PATH. See README file for more information.\n",
      "Error processing images/training/forged\\TamperedPaystub_93.jpg: tesseract is not installed or it's not in your PATH. See README file for more information.\n",
      "Error processing images/training/forged\\TamperedPaystub_94.jpg: tesseract is not installed or it's not in your PATH. See README file for more information.\n",
      "Error processing images/training/forged\\TamperedPaystub_95.jpg: tesseract is not installed or it's not in your PATH. See README file for more information.\n"
     ]
    },
    {
     "name": "stderr",
     "output_type": "stream",
     "text": [
      "100%|██████████| 420/420 [00:13<00:00, 31.30it/s]"
     ]
    },
    {
     "name": "stdout",
     "output_type": "stream",
     "text": [
      "Error processing images/training/forged\\TamperedPaystub_96.jpg: tesseract is not installed or it's not in your PATH. See README file for more information.\n",
      "Error processing images/training/forged\\TamperedPaystub_97.jpg: tesseract is not installed or it's not in your PATH. See README file for more information.\n",
      "Error processing images/training/forged\\TamperedPaystub_98.jpg: tesseract is not installed or it's not in your PATH. See README file for more information.\n",
      "Error processing images/training/forged\\TamperedPaystub_99.jpg: tesseract is not installed or it's not in your PATH. See README file for more information.\n"
     ]
    },
    {
     "name": "stderr",
     "output_type": "stream",
     "text": [
      "\n"
     ]
    }
   ],
   "source": [
    "image_name = []\n",
    "label = []\n",
    "language = []\n",
    "\n",
    "for image_path in tqdm(images):\n",
    "    image_name.append(image_path)\n",
    "    label.append(os.path.basename(os.path.dirname(image_path)))  # Assuming folder name is the label\n",
    "    try:\n",
    "        # Extract text from image using OCR\n",
    "        text = pytesseract.image_to_string(Image.open(image_path))\n",
    "        # Detect language\n",
    "        detected_lang = detect(text)\n",
    "        language.append(detected_lang)\n",
    "    except Exception as e:\n",
    "        print(f\"Error processing {image_path}: {str(e)}\")\n",
    "        language.append('unknown')\n",
    "\n",
    "dataset = pd.DataFrame({'image': image_name, 'class_label': label, 'language': language})\n",
    "dataset.to_csv(training_data_set, index=False)"
   ]
  },
  {
   "cell_type": "markdown",
   "id": "233422b7-24c6-4f56-bbe3-d0b8fd04992c",
   "metadata": {},
   "source": [
    "### Read the dataset and convert to ELA format for training"
   ]
  },
  {
   "cell_type": "code",
   "execution_count": 7,
   "id": "e95ceb07-40bf-4445-9905-c9729ad342ea",
   "metadata": {
    "tags": []
   },
   "outputs": [
    {
     "name": "stdout",
     "output_type": "stream",
     "text": [
      "Processing image: images/training/original\\1.pdf_page0.jpg\n",
      "Processing image: images/training/original\\2.pdf_page0.jpg\n",
      "Processing image: images/training/original\\3.jpg\n",
      "Processing image: images/training/original\\4.pdf_page0.jpg\n",
      "Processing image: images/training/original\\4.pdf_page1.jpg\n",
      "Processing image: images/training/original\\4.pdf_page2.jpg\n",
      "Processing image: images/training/original\\4.pdf_page3.jpg\n",
      "Processing image: images/training/original\\4.pdf_page4.jpg\n",
      "Processing image: images/training/original\\4.pdf_page5.jpg\n",
      "Processing image: images/training/original\\5.jpg\n",
      "Processing image: images/training/original\\BankStatement.jpg\n",
      "Processing image: images/training/original\\BankStatement_0.jpg\n",
      "Processing image: images/training/original\\BankStatement_1.jpg\n",
      "Processing image: images/training/original\\BankStatement_10.jpg\n",
      "Processing image: images/training/original\\BankStatement_11.jpg\n",
      "Processing image: images/training/original\\BankStatement_12.jpg\n",
      "Processing image: images/training/original\\BankStatement_13.jpg\n",
      "Processing image: images/training/original\\BankStatement_14.jpg\n",
      "Processing image: images/training/original\\BankStatement_15.jpg\n",
      "Processing image: images/training/original\\BankStatement_16.jpg\n",
      "Processing image: images/training/original\\BankStatement_17.jpg\n",
      "Processing image: images/training/original\\BankStatement_18.jpg\n",
      "Processing image: images/training/original\\BankStatement_19.jpg\n",
      "Processing image: images/training/original\\BankStatement_2.jpg\n",
      "Processing image: images/training/original\\BankStatement_20.jpg\n",
      "Processing image: images/training/original\\BankStatement_21.jpg\n",
      "Processing image: images/training/original\\BankStatement_22.jpg\n",
      "Processing image: images/training/original\\BankStatement_23.jpg\n",
      "Processing image: images/training/original\\BankStatement_24.jpg\n",
      "Processing image: images/training/original\\BankStatement_25.jpg\n",
      "Processing image: images/training/original\\BankStatement_26.jpg\n",
      "Processing image: images/training/original\\BankStatement_27.jpg\n",
      "Processing image: images/training/original\\BankStatement_28.jpg\n",
      "Processing image: images/training/original\\BankStatement_29.jpg\n",
      "Processing image: images/training/original\\BankStatement_3.jpg\n",
      "Processing image: images/training/original\\BankStatement_30.jpg\n",
      "Processing image: images/training/original\\BankStatement_31.jpg\n",
      "Processing image: images/training/original\\BankStatement_32.jpg\n",
      "Processing image: images/training/original\\BankStatement_33.jpg\n",
      "Processing image: images/training/original\\BankStatement_34.jpg\n",
      "Processing image: images/training/original\\BankStatement_35.jpg\n",
      "Processing image: images/training/original\\BankStatement_36.jpg\n",
      "Processing image: images/training/original\\BankStatement_37.jpg\n",
      "Processing image: images/training/original\\BankStatement_38.jpg\n",
      "Processing image: images/training/original\\BankStatement_39.jpg\n",
      "Processing image: images/training/original\\BankStatement_4.jpg\n",
      "Processing image: images/training/original\\BankStatement_40.jpg\n",
      "Processing image: images/training/original\\BankStatement_41.jpg\n",
      "Processing image: images/training/original\\BankStatement_42.jpg\n",
      "Processing image: images/training/original\\BankStatement_43.jpg\n",
      "Processing image: images/training/original\\BankStatement_44.jpg\n",
      "Processing image: images/training/original\\BankStatement_45.jpg\n",
      "Processing image: images/training/original\\BankStatement_46.jpg\n",
      "Processing image: images/training/original\\BankStatement_47.jpg\n",
      "Processing image: images/training/original\\BankStatement_48.jpg\n",
      "Processing image: images/training/original\\BankStatement_49.jpg\n",
      "Processing image: images/training/original\\BankStatement_5.jpg\n",
      "Processing image: images/training/original\\BankStatement_50.jpg\n",
      "Processing image: images/training/original\\BankStatement_51.jpg\n",
      "Processing image: images/training/original\\BankStatement_52.jpg\n",
      "Processing image: images/training/original\\BankStatement_53.jpg\n",
      "Processing image: images/training/original\\BankStatement_54.jpg\n",
      "Processing image: images/training/original\\BankStatement_55.jpg\n",
      "Processing image: images/training/original\\BankStatement_56.jpg\n",
      "Processing image: images/training/original\\BankStatement_57.jpg\n",
      "Processing image: images/training/original\\BankStatement_58.jpg\n",
      "Processing image: images/training/original\\BankStatement_59.jpg\n",
      "Processing image: images/training/original\\BankStatement_6.jpg\n",
      "Processing image: images/training/original\\BankStatement_60.jpg\n",
      "Processing image: images/training/original\\BankStatement_61.jpg\n",
      "Processing image: images/training/original\\BankStatement_62.jpg\n",
      "Processing image: images/training/original\\BankStatement_63.jpg\n",
      "Processing image: images/training/original\\BankStatement_64.jpg\n",
      "Processing image: images/training/original\\BankStatement_65.jpg\n",
      "Processing image: images/training/original\\BankStatement_66.jpg\n",
      "Processing image: images/training/original\\BankStatement_67.jpg\n",
      "Processing image: images/training/original\\BankStatement_68.jpg\n",
      "Processing image: images/training/original\\BankStatement_69.jpg\n",
      "Processing image: images/training/original\\BankStatement_7.jpg\n",
      "Processing image: images/training/original\\BankStatement_70.jpg\n",
      "Processing image: images/training/original\\BankStatement_71.jpg\n",
      "Processing image: images/training/original\\BankStatement_72.jpg\n",
      "Processing image: images/training/original\\BankStatement_73.jpg\n",
      "Processing image: images/training/original\\BankStatement_74.jpg\n",
      "Processing image: images/training/original\\BankStatement_75.jpg\n",
      "Processing image: images/training/original\\BankStatement_76.jpg\n",
      "Processing image: images/training/original\\BankStatement_77.jpg\n",
      "Processing image: images/training/original\\BankStatement_78.jpg\n",
      "Processing image: images/training/original\\BankStatement_79.jpg\n",
      "Processing image: images/training/original\\BankStatement_8.jpg\n",
      "Processing image: images/training/original\\BankStatement_80.jpg\n",
      "Processing image: images/training/original\\BankStatement_81.jpg\n",
      "Processing image: images/training/original\\BankStatement_82.jpg\n",
      "Processing image: images/training/original\\BankStatement_83.jpg\n",
      "Processing image: images/training/original\\BankStatement_84.jpg\n",
      "Processing image: images/training/original\\BankStatement_85.jpg\n",
      "Processing image: images/training/original\\BankStatement_86.jpg\n",
      "Processing image: images/training/original\\BankStatement_87.jpg\n",
      "Processing image: images/training/original\\BankStatement_88.jpg\n",
      "Processing image: images/training/original\\BankStatement_89.jpg\n",
      "Processing image: images/training/original\\BankStatement_9.jpg\n",
      "Processing image: images/training/original\\BankStatement_90.jpg\n",
      "Processing image: images/training/original\\BankStatement_91.jpg\n",
      "Processing image: images/training/original\\BankStatement_92.jpg\n",
      "Processing image: images/training/original\\BankStatement_93.jpg\n",
      "Processing image: images/training/original\\BankStatement_94.jpg\n",
      "Processing image: images/training/original\\BankStatement_95.jpg\n",
      "Processing image: images/training/original\\BankStatement_96.jpg\n",
      "Processing image: images/training/original\\BankStatement_97.jpg\n",
      "Processing image: images/training/original\\BankStatement_98.jpg\n",
      "Processing image: images/training/original\\BankStatement_99.jpg\n",
      "Processing image: images/training/original\\Paystub.jpg\n",
      "Processing image: images/training/original\\Paystub_0.jpg\n",
      "Processing image: images/training/original\\Paystub_1.jpg\n",
      "Processing image: images/training/original\\Paystub_10.jpg\n",
      "Processing image: images/training/original\\Paystub_11.jpg\n",
      "Processing image: images/training/original\\Paystub_12.jpg\n",
      "Processing image: images/training/original\\Paystub_13.jpg\n",
      "Processing image: images/training/original\\Paystub_14.jpg\n",
      "Processing image: images/training/original\\Paystub_15.jpg\n",
      "Processing image: images/training/original\\Paystub_16.jpg\n",
      "Processing image: images/training/original\\Paystub_17.jpg\n",
      "Processing image: images/training/original\\Paystub_18.jpg\n",
      "Processing image: images/training/original\\Paystub_19.jpg\n",
      "Processing image: images/training/original\\Paystub_2.jpg\n",
      "Processing image: images/training/original\\Paystub_20.jpg\n",
      "Processing image: images/training/original\\Paystub_21.jpg\n",
      "Processing image: images/training/original\\Paystub_22.jpg\n",
      "Processing image: images/training/original\\Paystub_23.jpg\n",
      "Processing image: images/training/original\\Paystub_24.jpg\n",
      "Processing image: images/training/original\\Paystub_25.jpg\n",
      "Processing image: images/training/original\\Paystub_26.jpg\n",
      "Processing image: images/training/original\\Paystub_27.jpg\n",
      "Processing image: images/training/original\\Paystub_28.jpg\n",
      "Processing image: images/training/original\\Paystub_29.jpg\n",
      "Processing image: images/training/original\\Paystub_3.jpg\n",
      "Processing image: images/training/original\\Paystub_30.jpg\n",
      "Processing image: images/training/original\\Paystub_31.jpg\n",
      "Processing image: images/training/original\\Paystub_32.jpg\n",
      "Processing image: images/training/original\\Paystub_33.jpg\n",
      "Processing image: images/training/original\\Paystub_34.jpg\n",
      "Processing image: images/training/original\\Paystub_35.jpg\n",
      "Processing image: images/training/original\\Paystub_36.jpg\n",
      "Processing image: images/training/original\\Paystub_37.jpg\n",
      "Processing image: images/training/original\\Paystub_38.jpg\n",
      "Processing image: images/training/original\\Paystub_39.jpg\n",
      "Processing image: images/training/original\\Paystub_4.jpg\n",
      "Processing image: images/training/original\\Paystub_40.jpg\n",
      "Processing image: images/training/original\\Paystub_41.jpg\n",
      "Processing image: images/training/original\\Paystub_42.jpg\n",
      "Processing image: images/training/original\\Paystub_43.jpg\n",
      "Processing image: images/training/original\\Paystub_44.jpg\n",
      "Processing image: images/training/original\\Paystub_45.jpg\n",
      "Processing image: images/training/original\\Paystub_46.jpg\n",
      "Processing image: images/training/original\\Paystub_47.jpg\n",
      "Processing image: images/training/original\\Paystub_48.jpg\n",
      "Processing image: images/training/original\\Paystub_49.jpg\n",
      "Processing image: images/training/original\\Paystub_5.jpg\n",
      "Processing image: images/training/original\\Paystub_50.jpg\n",
      "Processing image: images/training/original\\Paystub_51.jpg\n",
      "Processing image: images/training/original\\Paystub_52.jpg\n",
      "Processing image: images/training/original\\Paystub_53.jpg\n",
      "Processing image: images/training/original\\Paystub_54.jpg\n",
      "Processing image: images/training/original\\Paystub_55.jpg\n",
      "Processing image: images/training/original\\Paystub_56.jpg\n",
      "Processing image: images/training/original\\Paystub_57.jpg\n",
      "Processing image: images/training/original\\Paystub_58.jpg\n",
      "Processing image: images/training/original\\Paystub_59.jpg\n",
      "Processing image: images/training/original\\Paystub_6.jpg\n",
      "Processing image: images/training/original\\Paystub_60.jpg\n",
      "Processing image: images/training/original\\Paystub_61.jpg\n",
      "Processing image: images/training/original\\Paystub_62.jpg\n",
      "Processing image: images/training/original\\Paystub_63.jpg\n",
      "Processing image: images/training/original\\Paystub_64.jpg\n",
      "Processing image: images/training/original\\Paystub_65.jpg\n",
      "Processing image: images/training/original\\Paystub_66.jpg\n",
      "Processing image: images/training/original\\Paystub_67.jpg\n",
      "Processing image: images/training/original\\Paystub_68.jpg\n",
      "Processing image: images/training/original\\Paystub_69.jpg\n",
      "Processing image: images/training/original\\Paystub_7.jpg\n",
      "Processing image: images/training/original\\Paystub_70.jpg\n",
      "Processing image: images/training/original\\Paystub_71.jpg\n",
      "Processing image: images/training/original\\Paystub_72.jpg\n",
      "Processing image: images/training/original\\Paystub_73.jpg\n",
      "Processing image: images/training/original\\Paystub_74.jpg\n",
      "Processing image: images/training/original\\Paystub_75.jpg\n",
      "Processing image: images/training/original\\Paystub_76.jpg\n",
      "Processing image: images/training/original\\Paystub_77.jpg\n",
      "Processing image: images/training/original\\Paystub_78.jpg\n",
      "Processing image: images/training/original\\Paystub_79.jpg\n",
      "Processing image: images/training/original\\Paystub_8.jpg\n",
      "Processing image: images/training/original\\Paystub_80.jpg\n",
      "Processing image: images/training/original\\Paystub_81.jpg\n",
      "Processing image: images/training/original\\Paystub_82.jpg\n",
      "Processing image: images/training/original\\Paystub_83.jpg\n",
      "Processing image: images/training/original\\Paystub_84.jpg\n",
      "Processing image: images/training/original\\Paystub_85.jpg\n",
      "Processing image: images/training/original\\Paystub_86.jpg\n",
      "Processing image: images/training/original\\Paystub_87.jpg\n",
      "Processing image: images/training/original\\Paystub_88.jpg\n",
      "Processing image: images/training/original\\Paystub_89.jpg\n",
      "Processing image: images/training/original\\Paystub_9.jpg\n",
      "Processing image: images/training/original\\Paystub_90.jpg\n",
      "Processing image: images/training/original\\Paystub_91.jpg\n",
      "Processing image: images/training/original\\Paystub_92.jpg\n",
      "Processing image: images/training/original\\Paystub_93.jpg\n",
      "Processing image: images/training/original\\Paystub_94.jpg\n",
      "Processing image: images/training/original\\Paystub_95.jpg\n",
      "Processing image: images/training/original\\Paystub_96.jpg\n",
      "Processing image: images/training/original\\Paystub_97.jpg\n",
      "Processing image: images/training/original\\Paystub_98.jpg\n",
      "Processing image: images/training/original\\Paystub_99.jpg\n",
      "Processing image: images/training/forged\\Tampered1.pdf_page0.jpg\n",
      "Processing image: images/training/forged\\Tampered2.pdf_page0.jpg\n",
      "Processing image: images/training/forged\\Tampered3.jpg\n",
      "Processing image: images/training/forged\\Tampered4.pdf_page0.jpg\n",
      "Processing image: images/training/forged\\TamperedBankStatement.jpg\n",
      "Processing image: images/training/forged\\TamperedBankStatement_0.jpg\n",
      "Processing image: images/training/forged\\TamperedBankStatement_1.jpg\n",
      "Processing image: images/training/forged\\TamperedBankStatement_10.jpg\n",
      "Processing image: images/training/forged\\TamperedBankStatement_11.jpg\n",
      "Processing image: images/training/forged\\TamperedBankStatement_12.jpg\n",
      "Processing image: images/training/forged\\TamperedBankStatement_13.jpg\n",
      "Processing image: images/training/forged\\TamperedBankStatement_14.jpg\n",
      "Processing image: images/training/forged\\TamperedBankStatement_15.jpg\n",
      "Processing image: images/training/forged\\TamperedBankStatement_16.jpg\n",
      "Processing image: images/training/forged\\TamperedBankStatement_17.jpg\n",
      "Processing image: images/training/forged\\TamperedBankStatement_18.jpg\n",
      "Processing image: images/training/forged\\TamperedBankStatement_19.jpg\n",
      "Processing image: images/training/forged\\TamperedBankStatement_2.jpg\n",
      "Processing image: images/training/forged\\TamperedBankStatement_20.jpg\n",
      "Processing image: images/training/forged\\TamperedBankStatement_21.jpg\n",
      "Processing image: images/training/forged\\TamperedBankStatement_22.jpg\n",
      "Processing image: images/training/forged\\TamperedBankStatement_23.jpg\n",
      "Processing image: images/training/forged\\TamperedBankStatement_24.jpg\n",
      "Processing image: images/training/forged\\TamperedBankStatement_25.jpg\n",
      "Processing image: images/training/forged\\TamperedBankStatement_26.jpg\n",
      "Processing image: images/training/forged\\TamperedBankStatement_27.jpg\n",
      "Processing image: images/training/forged\\TamperedBankStatement_28.jpg\n",
      "Processing image: images/training/forged\\TamperedBankStatement_29.jpg\n",
      "Processing image: images/training/forged\\TamperedBankStatement_3.jpg\n",
      "Processing image: images/training/forged\\TamperedBankStatement_30.jpg\n",
      "Processing image: images/training/forged\\TamperedBankStatement_31.jpg\n",
      "Processing image: images/training/forged\\TamperedBankStatement_32.jpg\n",
      "Processing image: images/training/forged\\TamperedBankStatement_33.jpg\n",
      "Processing image: images/training/forged\\TamperedBankStatement_34.jpg\n",
      "Processing image: images/training/forged\\TamperedBankStatement_35.jpg\n",
      "Processing image: images/training/forged\\TamperedBankStatement_36.jpg\n",
      "Processing image: images/training/forged\\TamperedBankStatement_37.jpg\n",
      "Processing image: images/training/forged\\TamperedBankStatement_38.jpg\n",
      "Processing image: images/training/forged\\TamperedBankStatement_39.jpg\n",
      "Processing image: images/training/forged\\TamperedBankStatement_4.jpg\n",
      "Processing image: images/training/forged\\TamperedBankStatement_40.jpg\n",
      "Processing image: images/training/forged\\TamperedBankStatement_41.jpg\n",
      "Processing image: images/training/forged\\TamperedBankStatement_42.jpg\n",
      "Processing image: images/training/forged\\TamperedBankStatement_43.jpg\n",
      "Processing image: images/training/forged\\TamperedBankStatement_44.jpg\n",
      "Processing image: images/training/forged\\TamperedBankStatement_45.jpg\n",
      "Processing image: images/training/forged\\TamperedBankStatement_46.jpg\n",
      "Processing image: images/training/forged\\TamperedBankStatement_47.jpg\n",
      "Processing image: images/training/forged\\TamperedBankStatement_48.jpg\n",
      "Processing image: images/training/forged\\TamperedBankStatement_49.jpg\n",
      "Processing image: images/training/forged\\TamperedBankStatement_5.jpg\n",
      "Processing image: images/training/forged\\TamperedBankStatement_50.jpg\n",
      "Processing image: images/training/forged\\TamperedBankStatement_51.jpg\n",
      "Processing image: images/training/forged\\TamperedBankStatement_52.jpg\n",
      "Processing image: images/training/forged\\TamperedBankStatement_53.jpg\n",
      "Processing image: images/training/forged\\TamperedBankStatement_54.jpg\n",
      "Processing image: images/training/forged\\TamperedBankStatement_55.jpg\n",
      "Processing image: images/training/forged\\TamperedBankStatement_56.jpg\n",
      "Processing image: images/training/forged\\TamperedBankStatement_57.jpg\n",
      "Processing image: images/training/forged\\TamperedBankStatement_58.jpg\n",
      "Processing image: images/training/forged\\TamperedBankStatement_59.jpg\n",
      "Processing image: images/training/forged\\TamperedBankStatement_6.jpg\n",
      "Processing image: images/training/forged\\TamperedBankStatement_60.jpg\n",
      "Processing image: images/training/forged\\TamperedBankStatement_61.jpg\n",
      "Processing image: images/training/forged\\TamperedBankStatement_62.jpg\n",
      "Processing image: images/training/forged\\TamperedBankStatement_63.jpg\n",
      "Processing image: images/training/forged\\TamperedBankStatement_64.jpg\n",
      "Processing image: images/training/forged\\TamperedBankStatement_65.jpg\n",
      "Processing image: images/training/forged\\TamperedBankStatement_66.jpg\n",
      "Processing image: images/training/forged\\TamperedBankStatement_67.jpg\n",
      "Processing image: images/training/forged\\TamperedBankStatement_68.jpg\n",
      "Processing image: images/training/forged\\TamperedBankStatement_69.jpg\n",
      "Processing image: images/training/forged\\TamperedBankStatement_7.jpg\n",
      "Processing image: images/training/forged\\TamperedBankStatement_70.jpg\n",
      "Processing image: images/training/forged\\TamperedBankStatement_71.jpg\n",
      "Processing image: images/training/forged\\TamperedBankStatement_72.jpg\n",
      "Processing image: images/training/forged\\TamperedBankStatement_73.jpg\n",
      "Processing image: images/training/forged\\TamperedBankStatement_74.jpg\n",
      "Processing image: images/training/forged\\TamperedBankStatement_75.jpg\n",
      "Processing image: images/training/forged\\TamperedBankStatement_76.jpg\n",
      "Processing image: images/training/forged\\TamperedBankStatement_77.jpg\n",
      "Processing image: images/training/forged\\TamperedBankStatement_78.jpg\n",
      "Processing image: images/training/forged\\TamperedBankStatement_79.jpg\n",
      "Processing image: images/training/forged\\TamperedBankStatement_8.jpg\n",
      "Processing image: images/training/forged\\TamperedBankStatement_80.jpg\n",
      "Processing image: images/training/forged\\TamperedBankStatement_81.jpg\n",
      "Processing image: images/training/forged\\TamperedBankStatement_82.jpg\n",
      "Processing image: images/training/forged\\TamperedBankStatement_83.jpg\n",
      "Processing image: images/training/forged\\TamperedBankStatement_84.jpg\n",
      "Processing image: images/training/forged\\TamperedBankStatement_85.jpg\n",
      "Processing image: images/training/forged\\TamperedBankStatement_86.jpg\n",
      "Processing image: images/training/forged\\TamperedBankStatement_87.jpg\n",
      "Processing image: images/training/forged\\TamperedBankStatement_88.jpg\n",
      "Processing image: images/training/forged\\TamperedBankStatement_89.jpg\n",
      "Processing image: images/training/forged\\TamperedBankStatement_9.jpg\n",
      "Processing image: images/training/forged\\TamperedBankStatement_90.jpg\n",
      "Processing image: images/training/forged\\TamperedBankStatement_91.jpg\n",
      "Processing image: images/training/forged\\TamperedBankStatement_92.jpg\n",
      "Processing image: images/training/forged\\TamperedBankStatement_93.jpg\n",
      "Processing image: images/training/forged\\TamperedBankStatement_94.jpg\n",
      "Processing image: images/training/forged\\TamperedBankStatement_95.jpg\n",
      "Processing image: images/training/forged\\TamperedBankStatement_96.jpg\n",
      "Processing image: images/training/forged\\TamperedBankStatement_97.jpg\n",
      "Processing image: images/training/forged\\TamperedBankStatement_98.jpg\n",
      "Processing image: images/training/forged\\TamperedBankStatement_99.jpg\n",
      "Processing image: images/training/forged\\TamperedPaystub copy.jpg\n",
      "Processing image: images/training/forged\\TamperedPaystub.jpg\n",
      "Processing image: images/training/forged\\TamperedPaystubv1.jpg\n",
      "Processing image: images/training/forged\\TamperedPaystub_0.jpg\n",
      "Processing image: images/training/forged\\TamperedPaystub_1.jpg\n",
      "Processing image: images/training/forged\\TamperedPaystub_10.jpg\n",
      "Processing image: images/training/forged\\TamperedPaystub_11.jpg\n",
      "Processing image: images/training/forged\\TamperedPaystub_12.jpg\n",
      "Processing image: images/training/forged\\TamperedPaystub_13.jpg\n",
      "Processing image: images/training/forged\\TamperedPaystub_14.jpg\n",
      "Processing image: images/training/forged\\TamperedPaystub_15.jpg\n",
      "Processing image: images/training/forged\\TamperedPaystub_16.jpg\n",
      "Processing image: images/training/forged\\TamperedPaystub_17.jpg\n",
      "Processing image: images/training/forged\\TamperedPaystub_18.jpg\n",
      "Processing image: images/training/forged\\TamperedPaystub_19.jpg\n",
      "Processing image: images/training/forged\\TamperedPaystub_2.jpg\n",
      "Processing image: images/training/forged\\TamperedPaystub_20.jpg\n",
      "Processing image: images/training/forged\\TamperedPaystub_21.jpg\n",
      "Processing image: images/training/forged\\TamperedPaystub_22.jpg\n",
      "Processing image: images/training/forged\\TamperedPaystub_23.jpg\n",
      "Processing image: images/training/forged\\TamperedPaystub_24.jpg\n",
      "Processing image: images/training/forged\\TamperedPaystub_25.jpg\n",
      "Processing image: images/training/forged\\TamperedPaystub_26.jpg\n",
      "Processing image: images/training/forged\\TamperedPaystub_27.jpg\n",
      "Processing image: images/training/forged\\TamperedPaystub_28.jpg\n",
      "Processing image: images/training/forged\\TamperedPaystub_29.jpg\n",
      "Processing image: images/training/forged\\TamperedPaystub_3.jpg\n",
      "Processing image: images/training/forged\\TamperedPaystub_30.jpg\n",
      "Processing image: images/training/forged\\TamperedPaystub_31.jpg\n",
      "Processing image: images/training/forged\\TamperedPaystub_32.jpg\n",
      "Processing image: images/training/forged\\TamperedPaystub_33.jpg\n",
      "Processing image: images/training/forged\\TamperedPaystub_34.jpg\n",
      "Processing image: images/training/forged\\TamperedPaystub_35.jpg\n",
      "Processing image: images/training/forged\\TamperedPaystub_36.jpg\n",
      "Processing image: images/training/forged\\TamperedPaystub_37.jpg\n",
      "Processing image: images/training/forged\\TamperedPaystub_38.jpg\n",
      "Processing image: images/training/forged\\TamperedPaystub_39.jpg\n",
      "Processing image: images/training/forged\\TamperedPaystub_4.jpg\n",
      "Processing image: images/training/forged\\TamperedPaystub_40.jpg\n",
      "Processing image: images/training/forged\\TamperedPaystub_41.jpg\n",
      "Processing image: images/training/forged\\TamperedPaystub_42.jpg\n",
      "Processing image: images/training/forged\\TamperedPaystub_43.jpg\n",
      "Processing image: images/training/forged\\TamperedPaystub_44.jpg\n",
      "Processing image: images/training/forged\\TamperedPaystub_45.jpg\n",
      "Processing image: images/training/forged\\TamperedPaystub_46.jpg\n",
      "Processing image: images/training/forged\\TamperedPaystub_47.jpg\n",
      "Processing image: images/training/forged\\TamperedPaystub_48.jpg\n",
      "Processing image: images/training/forged\\TamperedPaystub_49.jpg\n",
      "Processing image: images/training/forged\\TamperedPaystub_5.jpg\n",
      "Processing image: images/training/forged\\TamperedPaystub_50.jpg\n",
      "Processing image: images/training/forged\\TamperedPaystub_51.jpg\n",
      "Processing image: images/training/forged\\TamperedPaystub_52.jpg\n",
      "Processing image: images/training/forged\\TamperedPaystub_53.jpg\n",
      "Processing image: images/training/forged\\TamperedPaystub_54.jpg\n",
      "Processing image: images/training/forged\\TamperedPaystub_55.jpg\n",
      "Processing image: images/training/forged\\TamperedPaystub_56.jpg\n",
      "Processing image: images/training/forged\\TamperedPaystub_57.jpg\n",
      "Processing image: images/training/forged\\TamperedPaystub_58.jpg\n",
      "Processing image: images/training/forged\\TamperedPaystub_59.jpg\n",
      "Processing image: images/training/forged\\TamperedPaystub_6.jpg\n",
      "Processing image: images/training/forged\\TamperedPaystub_60.jpg\n",
      "Processing image: images/training/forged\\TamperedPaystub_61.jpg\n",
      "Processing image: images/training/forged\\TamperedPaystub_62.jpg\n",
      "Processing image: images/training/forged\\TamperedPaystub_63.jpg\n",
      "Processing image: images/training/forged\\TamperedPaystub_64.jpg\n",
      "Processing image: images/training/forged\\TamperedPaystub_65.jpg\n",
      "Processing image: images/training/forged\\TamperedPaystub_66.jpg\n",
      "Processing image: images/training/forged\\TamperedPaystub_67.jpg\n",
      "Processing image: images/training/forged\\TamperedPaystub_68.jpg\n",
      "Processing image: images/training/forged\\TamperedPaystub_69.jpg\n",
      "Processing image: images/training/forged\\TamperedPaystub_7.jpg\n",
      "Processing image: images/training/forged\\TamperedPaystub_70.jpg\n",
      "Processing image: images/training/forged\\TamperedPaystub_71.jpg\n",
      "Processing image: images/training/forged\\TamperedPaystub_72.jpg\n",
      "Processing image: images/training/forged\\TamperedPaystub_73.jpg\n",
      "Processing image: images/training/forged\\TamperedPaystub_74.jpg\n",
      "Processing image: images/training/forged\\TamperedPaystub_75.jpg\n",
      "Processing image: images/training/forged\\TamperedPaystub_76.jpg\n",
      "Processing image: images/training/forged\\TamperedPaystub_77.jpg\n",
      "Processing image: images/training/forged\\TamperedPaystub_78.jpg\n",
      "Processing image: images/training/forged\\TamperedPaystub_79.jpg\n",
      "Processing image: images/training/forged\\TamperedPaystub_8.jpg\n",
      "Processing image: images/training/forged\\TamperedPaystub_80.jpg\n",
      "Processing image: images/training/forged\\TamperedPaystub_81.jpg\n",
      "Processing image: images/training/forged\\TamperedPaystub_82.jpg\n",
      "Processing image: images/training/forged\\TamperedPaystub_83.jpg\n",
      "Processing image: images/training/forged\\TamperedPaystub_84.jpg\n",
      "Processing image: images/training/forged\\TamperedPaystub_85.jpg\n",
      "Processing image: images/training/forged\\TamperedPaystub_86.jpg\n",
      "Processing image: images/training/forged\\TamperedPaystub_87.jpg\n",
      "Processing image: images/training/forged\\TamperedPaystub_88.jpg\n",
      "Processing image: images/training/forged\\TamperedPaystub_89.jpg\n",
      "Processing image: images/training/forged\\TamperedPaystub_9.jpg\n",
      "Processing image: images/training/forged\\TamperedPaystub_90.jpg\n",
      "Processing image: images/training/forged\\TamperedPaystub_91.jpg\n",
      "Processing image: images/training/forged\\TamperedPaystub_92.jpg\n",
      "Processing image: images/training/forged\\TamperedPaystub_93.jpg\n",
      "Processing image: images/training/forged\\TamperedPaystub_94.jpg\n",
      "Processing image: images/training/forged\\TamperedPaystub_95.jpg\n",
      "Processing image: images/training/forged\\TamperedPaystub_96.jpg\n",
      "Processing image: images/training/forged\\TamperedPaystub_97.jpg\n",
      "Processing image: images/training/forged\\TamperedPaystub_98.jpg\n",
      "Processing image: images/training/forged\\TamperedPaystub_99.jpg\n"
     ]
    }
   ],
   "source": [
    "import numpy as np\n",
    "from keras.utils import to_categorical\n",
    "import pandas as pd\n",
    "\n",
    "# Assuming convert_to_ela_image and other necessary functions are defined elsewhere\n",
    "\n",
    "dataset = pd.read_csv('dataset.csv')\n",
    "X = []\n",
    "Y = []\n",
    "for index, row in dataset.iterrows():\n",
    "    print(f\"Processing image: {row['image']}\")  # Print the image path for debugging\n",
    "    try:\n",
    "        X.append(np.array(convert_to_ela_image(row['image'], 90).resize((128, 128))).flatten() / 255.0)\n",
    "        Y.append(row['class_label'])\n",
    "    except Exception as e:\n",
    "        print(f\"Error processing {row['image']}: {str(e)}\")\n",
    "\n",
    "X = np.array(X)\n",
    "# Convert class labels to integers\n",
    "class_labels = dataset['class_label'].astype('category').cat.codes\n",
    "Y = to_categorical(class_labels, num_classes=2)\n",
    "X = X.reshape(-1, 128, 128, 3)"
   ]
  },
  {
   "cell_type": "markdown",
   "id": "829fecaa-5e27-47f6-9f65-cd0cf9721de4",
   "metadata": {},
   "source": [
    "### Train-Test split of the dataset"
   ]
  },
  {
   "cell_type": "code",
   "execution_count": 8,
   "id": "be51afca-4f91-4442-b3a6-dfb390595a03",
   "metadata": {
    "tags": []
   },
   "outputs": [],
   "source": [
    "X_train, X_val, Y_train, Y_val = train_test_split(X, Y, test_size=0.2, random_state=5)"
   ]
  },
  {
   "cell_type": "markdown",
   "id": "42522948-b4a0-433a-9d89-b90e56c8ba6c",
   "metadata": {},
   "source": [
    "# CNN Model"
   ]
  },
  {
   "cell_type": "code",
   "execution_count": 9,
   "id": "22f4f3d9-476a-4895-88fd-2a6b2b677c30",
   "metadata": {
    "tags": []
   },
   "outputs": [
    {
     "name": "stderr",
     "output_type": "stream",
     "text": [
      "d:\\document-tampering-detection-main\\venv\\Lib\\site-packages\\keras\\src\\layers\\convolutional\\base_conv.py:107: UserWarning: Do not pass an `input_shape`/`input_dim` argument to a layer. When using Sequential models, prefer using an `Input(shape)` object as the first layer in the model instead.\n",
      "  super().__init__(activity_regularizer=activity_regularizer, **kwargs)\n"
     ]
    }
   ],
   "source": [
    "model = Sequential()\n",
    "\n",
    "model.add(Conv2D(filters = 32, kernel_size = (3,3),padding = 'valid',\n",
    "                activation ='relu', input_shape = (128,128,3)))\n",
    "model.add(Conv2D(filters = 32, kernel_size = (3,3),padding = 'valid',\n",
    "                activation ='relu'))\n",
    "model.add(MaxPool2D(pool_size=(2,2)))\n",
    "model.add(Dropout(0.25))\n",
    "model.add(Flatten())\n",
    "model.add(Dense(256, activation = \"relu\"))\n",
    "model.add(Dropout(0.5))\n",
    "model.add(Dense(2, activation = \"softmax\"))"
   ]
  },
  {
   "cell_type": "code",
   "execution_count": 10,
   "id": "6b17f66a-1731-4105-97ee-f1bcc49173f2",
   "metadata": {
    "tags": []
   },
   "outputs": [
    {
     "data": {
      "text/html": [
       "<pre style=\"white-space:pre;overflow-x:auto;line-height:normal;font-family:Menlo,'DejaVu Sans Mono',consolas,'Courier New',monospace\"><span style=\"font-weight: bold\">Model: \"sequential\"</span>\n",
       "</pre>\n"
      ],
      "text/plain": [
       "\u001b[1mModel: \"sequential\"\u001b[0m\n"
      ]
     },
     "metadata": {},
     "output_type": "display_data"
    },
    {
     "data": {
      "text/html": [
       "<pre style=\"white-space:pre;overflow-x:auto;line-height:normal;font-family:Menlo,'DejaVu Sans Mono',consolas,'Courier New',monospace\">┏━━━━━━━━━━━━━━━━━━━━━━━━━━━━━━━━━┳━━━━━━━━━━━━━━━━━━━━━━━━┳━━━━━━━━━━━━━━━┓\n",
       "┃<span style=\"font-weight: bold\"> Layer (type)                    </span>┃<span style=\"font-weight: bold\"> Output Shape           </span>┃<span style=\"font-weight: bold\">       Param # </span>┃\n",
       "┡━━━━━━━━━━━━━━━━━━━━━━━━━━━━━━━━━╇━━━━━━━━━━━━━━━━━━━━━━━━╇━━━━━━━━━━━━━━━┩\n",
       "│ conv2d (<span style=\"color: #0087ff; text-decoration-color: #0087ff\">Conv2D</span>)                 │ (<span style=\"color: #00d7ff; text-decoration-color: #00d7ff\">None</span>, <span style=\"color: #00af00; text-decoration-color: #00af00\">126</span>, <span style=\"color: #00af00; text-decoration-color: #00af00\">126</span>, <span style=\"color: #00af00; text-decoration-color: #00af00\">32</span>)   │           <span style=\"color: #00af00; text-decoration-color: #00af00\">896</span> │\n",
       "├─────────────────────────────────┼────────────────────────┼───────────────┤\n",
       "│ conv2d_1 (<span style=\"color: #0087ff; text-decoration-color: #0087ff\">Conv2D</span>)               │ (<span style=\"color: #00d7ff; text-decoration-color: #00d7ff\">None</span>, <span style=\"color: #00af00; text-decoration-color: #00af00\">124</span>, <span style=\"color: #00af00; text-decoration-color: #00af00\">124</span>, <span style=\"color: #00af00; text-decoration-color: #00af00\">32</span>)   │         <span style=\"color: #00af00; text-decoration-color: #00af00\">9,248</span> │\n",
       "├─────────────────────────────────┼────────────────────────┼───────────────┤\n",
       "│ max_pooling2d (<span style=\"color: #0087ff; text-decoration-color: #0087ff\">MaxPooling2D</span>)    │ (<span style=\"color: #00d7ff; text-decoration-color: #00d7ff\">None</span>, <span style=\"color: #00af00; text-decoration-color: #00af00\">62</span>, <span style=\"color: #00af00; text-decoration-color: #00af00\">62</span>, <span style=\"color: #00af00; text-decoration-color: #00af00\">32</span>)     │             <span style=\"color: #00af00; text-decoration-color: #00af00\">0</span> │\n",
       "├─────────────────────────────────┼────────────────────────┼───────────────┤\n",
       "│ dropout (<span style=\"color: #0087ff; text-decoration-color: #0087ff\">Dropout</span>)               │ (<span style=\"color: #00d7ff; text-decoration-color: #00d7ff\">None</span>, <span style=\"color: #00af00; text-decoration-color: #00af00\">62</span>, <span style=\"color: #00af00; text-decoration-color: #00af00\">62</span>, <span style=\"color: #00af00; text-decoration-color: #00af00\">32</span>)     │             <span style=\"color: #00af00; text-decoration-color: #00af00\">0</span> │\n",
       "├─────────────────────────────────┼────────────────────────┼───────────────┤\n",
       "│ flatten (<span style=\"color: #0087ff; text-decoration-color: #0087ff\">Flatten</span>)               │ (<span style=\"color: #00d7ff; text-decoration-color: #00d7ff\">None</span>, <span style=\"color: #00af00; text-decoration-color: #00af00\">123008</span>)         │             <span style=\"color: #00af00; text-decoration-color: #00af00\">0</span> │\n",
       "├─────────────────────────────────┼────────────────────────┼───────────────┤\n",
       "│ dense (<span style=\"color: #0087ff; text-decoration-color: #0087ff\">Dense</span>)                   │ (<span style=\"color: #00d7ff; text-decoration-color: #00d7ff\">None</span>, <span style=\"color: #00af00; text-decoration-color: #00af00\">256</span>)            │    <span style=\"color: #00af00; text-decoration-color: #00af00\">31,490,304</span> │\n",
       "├─────────────────────────────────┼────────────────────────┼───────────────┤\n",
       "│ dropout_1 (<span style=\"color: #0087ff; text-decoration-color: #0087ff\">Dropout</span>)             │ (<span style=\"color: #00d7ff; text-decoration-color: #00d7ff\">None</span>, <span style=\"color: #00af00; text-decoration-color: #00af00\">256</span>)            │             <span style=\"color: #00af00; text-decoration-color: #00af00\">0</span> │\n",
       "├─────────────────────────────────┼────────────────────────┼───────────────┤\n",
       "│ dense_1 (<span style=\"color: #0087ff; text-decoration-color: #0087ff\">Dense</span>)                 │ (<span style=\"color: #00d7ff; text-decoration-color: #00d7ff\">None</span>, <span style=\"color: #00af00; text-decoration-color: #00af00\">2</span>)              │           <span style=\"color: #00af00; text-decoration-color: #00af00\">514</span> │\n",
       "└─────────────────────────────────┴────────────────────────┴───────────────┘\n",
       "</pre>\n"
      ],
      "text/plain": [
       "┏━━━━━━━━━━━━━━━━━━━━━━━━━━━━━━━━━┳━━━━━━━━━━━━━━━━━━━━━━━━┳━━━━━━━━━━━━━━━┓\n",
       "┃\u001b[1m \u001b[0m\u001b[1mLayer (type)                   \u001b[0m\u001b[1m \u001b[0m┃\u001b[1m \u001b[0m\u001b[1mOutput Shape          \u001b[0m\u001b[1m \u001b[0m┃\u001b[1m \u001b[0m\u001b[1m      Param #\u001b[0m\u001b[1m \u001b[0m┃\n",
       "┡━━━━━━━━━━━━━━━━━━━━━━━━━━━━━━━━━╇━━━━━━━━━━━━━━━━━━━━━━━━╇━━━━━━━━━━━━━━━┩\n",
       "│ conv2d (\u001b[38;5;33mConv2D\u001b[0m)                 │ (\u001b[38;5;45mNone\u001b[0m, \u001b[38;5;34m126\u001b[0m, \u001b[38;5;34m126\u001b[0m, \u001b[38;5;34m32\u001b[0m)   │           \u001b[38;5;34m896\u001b[0m │\n",
       "├─────────────────────────────────┼────────────────────────┼───────────────┤\n",
       "│ conv2d_1 (\u001b[38;5;33mConv2D\u001b[0m)               │ (\u001b[38;5;45mNone\u001b[0m, \u001b[38;5;34m124\u001b[0m, \u001b[38;5;34m124\u001b[0m, \u001b[38;5;34m32\u001b[0m)   │         \u001b[38;5;34m9,248\u001b[0m │\n",
       "├─────────────────────────────────┼────────────────────────┼───────────────┤\n",
       "│ max_pooling2d (\u001b[38;5;33mMaxPooling2D\u001b[0m)    │ (\u001b[38;5;45mNone\u001b[0m, \u001b[38;5;34m62\u001b[0m, \u001b[38;5;34m62\u001b[0m, \u001b[38;5;34m32\u001b[0m)     │             \u001b[38;5;34m0\u001b[0m │\n",
       "├─────────────────────────────────┼────────────────────────┼───────────────┤\n",
       "│ dropout (\u001b[38;5;33mDropout\u001b[0m)               │ (\u001b[38;5;45mNone\u001b[0m, \u001b[38;5;34m62\u001b[0m, \u001b[38;5;34m62\u001b[0m, \u001b[38;5;34m32\u001b[0m)     │             \u001b[38;5;34m0\u001b[0m │\n",
       "├─────────────────────────────────┼────────────────────────┼───────────────┤\n",
       "│ flatten (\u001b[38;5;33mFlatten\u001b[0m)               │ (\u001b[38;5;45mNone\u001b[0m, \u001b[38;5;34m123008\u001b[0m)         │             \u001b[38;5;34m0\u001b[0m │\n",
       "├─────────────────────────────────┼────────────────────────┼───────────────┤\n",
       "│ dense (\u001b[38;5;33mDense\u001b[0m)                   │ (\u001b[38;5;45mNone\u001b[0m, \u001b[38;5;34m256\u001b[0m)            │    \u001b[38;5;34m31,490,304\u001b[0m │\n",
       "├─────────────────────────────────┼────────────────────────┼───────────────┤\n",
       "│ dropout_1 (\u001b[38;5;33mDropout\u001b[0m)             │ (\u001b[38;5;45mNone\u001b[0m, \u001b[38;5;34m256\u001b[0m)            │             \u001b[38;5;34m0\u001b[0m │\n",
       "├─────────────────────────────────┼────────────────────────┼───────────────┤\n",
       "│ dense_1 (\u001b[38;5;33mDense\u001b[0m)                 │ (\u001b[38;5;45mNone\u001b[0m, \u001b[38;5;34m2\u001b[0m)              │           \u001b[38;5;34m514\u001b[0m │\n",
       "└─────────────────────────────────┴────────────────────────┴───────────────┘\n"
      ]
     },
     "metadata": {},
     "output_type": "display_data"
    },
    {
     "data": {
      "text/html": [
       "<pre style=\"white-space:pre;overflow-x:auto;line-height:normal;font-family:Menlo,'DejaVu Sans Mono',consolas,'Courier New',monospace\"><span style=\"font-weight: bold\"> Total params: </span><span style=\"color: #00af00; text-decoration-color: #00af00\">31,500,962</span> (120.17 MB)\n",
       "</pre>\n"
      ],
      "text/plain": [
       "\u001b[1m Total params: \u001b[0m\u001b[38;5;34m31,500,962\u001b[0m (120.17 MB)\n"
      ]
     },
     "metadata": {},
     "output_type": "display_data"
    },
    {
     "data": {
      "text/html": [
       "<pre style=\"white-space:pre;overflow-x:auto;line-height:normal;font-family:Menlo,'DejaVu Sans Mono',consolas,'Courier New',monospace\"><span style=\"font-weight: bold\"> Trainable params: </span><span style=\"color: #00af00; text-decoration-color: #00af00\">31,500,962</span> (120.17 MB)\n",
       "</pre>\n"
      ],
      "text/plain": [
       "\u001b[1m Trainable params: \u001b[0m\u001b[38;5;34m31,500,962\u001b[0m (120.17 MB)\n"
      ]
     },
     "metadata": {},
     "output_type": "display_data"
    },
    {
     "data": {
      "text/html": [
       "<pre style=\"white-space:pre;overflow-x:auto;line-height:normal;font-family:Menlo,'DejaVu Sans Mono',consolas,'Courier New',monospace\"><span style=\"font-weight: bold\"> Non-trainable params: </span><span style=\"color: #00af00; text-decoration-color: #00af00\">0</span> (0.00 B)\n",
       "</pre>\n"
      ],
      "text/plain": [
       "\u001b[1m Non-trainable params: \u001b[0m\u001b[38;5;34m0\u001b[0m (0.00 B)\n"
      ]
     },
     "metadata": {},
     "output_type": "display_data"
    }
   ],
   "source": [
    "model.summary()"
   ]
  },
  {
   "cell_type": "markdown",
   "id": "04d3e88c-6fb0-4be2-bc47-08196b1ffed7",
   "metadata": {},
   "source": [
    "# Model Training"
   ]
  },
  {
   "cell_type": "code",
   "execution_count": 11,
   "id": "94365edc-3bc2-4fcd-81f2-9f5bf6287461",
   "metadata": {
    "tags": []
   },
   "outputs": [
    {
     "name": "stdout",
     "output_type": "stream",
     "text": [
      "Epoch 1/50\n"
     ]
    },
    {
     "name": "stderr",
     "output_type": "stream",
     "text": [
      "d:\\document-tampering-detection-main\\venv\\Lib\\site-packages\\keras\\src\\optimizers\\base_optimizer.py:33: UserWarning: Argument `decay` is no longer supported and will be ignored.\n",
      "  warnings.warn(\n"
     ]
    },
    {
     "name": "stdout",
     "output_type": "stream",
     "text": [
      "7/7 - 5s - 766ms/step - accuracy: 0.5030 - loss: 0.7081 - val_accuracy: 0.5476 - val_loss: 0.6862 - learning_rate: 5.0000e-04\n",
      "Epoch 2/50\n",
      "7/7 - 4s - 620ms/step - accuracy: 0.5089 - loss: 0.6731 - val_accuracy: 0.5476 - val_loss: 0.6235 - learning_rate: 5.0000e-04\n",
      "Epoch 3/50\n",
      "7/7 - 4s - 605ms/step - accuracy: 0.5714 - loss: 0.6622 - val_accuracy: 0.4643 - val_loss: 0.6998 - learning_rate: 5.0000e-04\n",
      "Epoch 4/50\n",
      "7/7 - 4s - 604ms/step - accuracy: 0.7113 - loss: 0.6184 - val_accuracy: 0.4643 - val_loss: 0.7526 - learning_rate: 5.0000e-04\n",
      "Epoch 5/50\n",
      "7/7 - 4s - 640ms/step - accuracy: 0.6696 - loss: 0.6540 - val_accuracy: 0.7381 - val_loss: 0.5798 - learning_rate: 5.0000e-04\n",
      "Epoch 6/50\n",
      "7/7 - 4s - 643ms/step - accuracy: 0.8839 - loss: 0.4658 - val_accuracy: 0.7857 - val_loss: 0.4686 - learning_rate: 5.0000e-04\n",
      "Epoch 7/50\n",
      "7/7 - 4s - 640ms/step - accuracy: 0.7262 - loss: 0.4828 - val_accuracy: 0.9762 - val_loss: 0.3080 - learning_rate: 5.0000e-04\n",
      "Epoch 8/50\n",
      "7/7 - 4s - 624ms/step - accuracy: 0.8542 - loss: 0.3657 - val_accuracy: 0.7381 - val_loss: 0.2996 - learning_rate: 5.0000e-04\n",
      "Epoch 9/50\n",
      "7/7 - 4s - 613ms/step - accuracy: 0.8214 - loss: 0.5126 - val_accuracy: 0.7262 - val_loss: 0.3914 - learning_rate: 5.0000e-04\n",
      "Epoch 10/50\n",
      "7/7 - 4s - 622ms/step - accuracy: 0.8393 - loss: 0.3034 - val_accuracy: 0.9762 - val_loss: 0.2207 - learning_rate: 5.0000e-04\n",
      "Epoch 11/50\n",
      "7/7 - 5s - 645ms/step - accuracy: 0.8631 - loss: 0.3579 - val_accuracy: 0.9643 - val_loss: 0.2617 - learning_rate: 5.0000e-04\n",
      "Epoch 12/50\n",
      "7/7 - 5s - 648ms/step - accuracy: 0.9524 - loss: 0.2493 - val_accuracy: 0.7738 - val_loss: 0.3083 - learning_rate: 5.0000e-04\n",
      "Epoch 13/50\n",
      "7/7 - 4s - 637ms/step - accuracy: 0.8095 - loss: 0.3768 - val_accuracy: 0.7262 - val_loss: 0.3399 - learning_rate: 5.0000e-04\n",
      "Epoch 14/50\n",
      "7/7 - 4s - 621ms/step - accuracy: 0.8988 - loss: 0.2205 - val_accuracy: 0.9643 - val_loss: 0.1861 - learning_rate: 5.0000e-04\n",
      "Epoch 15/50\n",
      "7/7 - 4s - 625ms/step - accuracy: 0.8720 - loss: 0.3028 - val_accuracy: 0.9643 - val_loss: 0.2436 - learning_rate: 5.0000e-04\n",
      "Epoch 16/50\n",
      "7/7 - 4s - 632ms/step - accuracy: 0.9821 - loss: 0.1659 - val_accuracy: 0.9643 - val_loss: 0.1645 - learning_rate: 5.0000e-04\n",
      "Epoch 17/50\n",
      "7/7 - 4s - 623ms/step - accuracy: 0.8571 - loss: 0.3932 - val_accuracy: 0.7619 - val_loss: 0.2771 - learning_rate: 5.0000e-04\n",
      "Epoch 18/50\n",
      "7/7 - 4s - 630ms/step - accuracy: 0.9762 - loss: 0.1515 - val_accuracy: 0.9643 - val_loss: 0.1662 - learning_rate: 5.0000e-04\n",
      "Epoch 19/50\n",
      "7/7 - 4s - 634ms/step - accuracy: 0.9851 - loss: 0.1085 - val_accuracy: 0.9643 - val_loss: 0.1674 - learning_rate: 5.0000e-04\n",
      "Epoch 20/50\n",
      "7/7 - 4s - 625ms/step - accuracy: 0.9851 - loss: 0.0952 - val_accuracy: 0.9643 - val_loss: 0.1493 - learning_rate: 5.0000e-04\n",
      "Epoch 21/50\n",
      "7/7 - 4s - 634ms/step - accuracy: 0.9643 - loss: 0.1087 - val_accuracy: 0.7738 - val_loss: 0.5425 - learning_rate: 5.0000e-04\n",
      "Epoch 22/50\n",
      "7/7 - 4s - 624ms/step - accuracy: 0.8571 - loss: 0.4447 - val_accuracy: 0.9643 - val_loss: 0.1486 - learning_rate: 5.0000e-04\n",
      "Epoch 23/50\n",
      "7/7 - 4s - 636ms/step - accuracy: 0.9851 - loss: 0.0766 - val_accuracy: 0.9643 - val_loss: 0.1454 - learning_rate: 5.0000e-04\n",
      "Epoch 24/50\n",
      "7/7 - 4s - 620ms/step - accuracy: 0.9851 - loss: 0.0694 - val_accuracy: 0.9643 - val_loss: 0.1464 - learning_rate: 5.0000e-04\n",
      "Epoch 25/50\n",
      "7/7 - 4s - 625ms/step - accuracy: 0.9851 - loss: 0.0643 - val_accuracy: 0.9643 - val_loss: 0.1513 - learning_rate: 5.0000e-04\n",
      "Epoch 26/50\n",
      "7/7 - 4s - 629ms/step - accuracy: 0.9405 - loss: 0.1646 - val_accuracy: 0.4643 - val_loss: 1.5190 - learning_rate: 5.0000e-04\n",
      "Epoch 27/50\n",
      "7/7 - 4s - 628ms/step - accuracy: 0.8988 - loss: 0.3105 - val_accuracy: 0.9643 - val_loss: 0.1663 - learning_rate: 5.0000e-04\n",
      "Epoch 28/50\n",
      "7/7 - 4s - 626ms/step - accuracy: 0.9851 - loss: 0.0731 - val_accuracy: 0.9643 - val_loss: 0.1543 - learning_rate: 5.0000e-04\n",
      "Epoch 29/50\n",
      "7/7 - 4s - 633ms/step - accuracy: 0.9792 - loss: 0.0655 - val_accuracy: 0.9643 - val_loss: 0.1514 - learning_rate: 1.0000e-04\n",
      "Epoch 30/50\n",
      "7/7 - 4s - 623ms/step - accuracy: 0.9851 - loss: 0.0602 - val_accuracy: 0.9643 - val_loss: 0.1530 - learning_rate: 1.0000e-04\n",
      "Epoch 31/50\n",
      "7/7 - 5s - 643ms/step - accuracy: 0.9881 - loss: 0.0499 - val_accuracy: 0.9643 - val_loss: 0.1544 - learning_rate: 1.0000e-04\n",
      "Epoch 32/50\n",
      "7/7 - 4s - 643ms/step - accuracy: 0.9851 - loss: 0.0578 - val_accuracy: 0.9643 - val_loss: 0.1544 - learning_rate: 1.0000e-04\n",
      "Epoch 33/50\n",
      "7/7 - 4s - 637ms/step - accuracy: 0.9851 - loss: 0.0519 - val_accuracy: 0.9643 - val_loss: 0.1563 - learning_rate: 1.0000e-04\n",
      "Epoch 34/50\n",
      "7/7 - 4s - 636ms/step - accuracy: 0.9851 - loss: 0.0516 - val_accuracy: 0.9643 - val_loss: 0.1575 - learning_rate: 1.0000e-04\n",
      "Epoch 35/50\n",
      "7/7 - 4s - 634ms/step - accuracy: 0.9821 - loss: 0.0513 - val_accuracy: 0.9643 - val_loss: 0.1616 - learning_rate: 1.0000e-04\n",
      "Epoch 36/50\n",
      "7/7 - 4s - 634ms/step - accuracy: 0.9821 - loss: 0.0587 - val_accuracy: 0.9643 - val_loss: 0.1607 - learning_rate: 1.0000e-04\n",
      "Epoch 37/50\n",
      "7/7 - 4s - 634ms/step - accuracy: 0.9881 - loss: 0.0447 - val_accuracy: 0.9643 - val_loss: 0.1631 - learning_rate: 1.0000e-04\n",
      "Epoch 38/50\n",
      "7/7 - 4s - 635ms/step - accuracy: 0.9821 - loss: 0.0611 - val_accuracy: 0.9643 - val_loss: 0.1621 - learning_rate: 1.0000e-04\n",
      "Epoch 39/50\n",
      "7/7 - 4s - 633ms/step - accuracy: 0.9851 - loss: 0.0509 - val_accuracy: 0.9643 - val_loss: 0.1630 - learning_rate: 1.0000e-04\n",
      "Epoch 40/50\n",
      "7/7 - 4s - 620ms/step - accuracy: 0.9821 - loss: 0.0620 - val_accuracy: 0.9643 - val_loss: 0.1637 - learning_rate: 1.0000e-04\n",
      "Epoch 41/50\n",
      "7/7 - 4s - 632ms/step - accuracy: 0.9851 - loss: 0.0488 - val_accuracy: 0.9643 - val_loss: 0.1649 - learning_rate: 1.0000e-04\n",
      "Epoch 42/50\n",
      "7/7 - 4s - 628ms/step - accuracy: 0.9821 - loss: 0.0599 - val_accuracy: 0.9643 - val_loss: 0.1640 - learning_rate: 1.0000e-04\n",
      "Epoch 43/50\n",
      "7/7 - 4s - 616ms/step - accuracy: 0.9851 - loss: 0.0507 - val_accuracy: 0.9643 - val_loss: 0.1660 - learning_rate: 1.0000e-04\n",
      "Epoch 44/50\n",
      "7/7 - 4s - 638ms/step - accuracy: 0.9881 - loss: 0.0495 - val_accuracy: 0.9643 - val_loss: 0.1680 - learning_rate: 1.0000e-04\n",
      "Epoch 45/50\n",
      "7/7 - 4s - 617ms/step - accuracy: 0.9851 - loss: 0.0558 - val_accuracy: 0.9643 - val_loss: 0.1683 - learning_rate: 1.0000e-04\n",
      "Epoch 46/50\n",
      "7/7 - 4s - 626ms/step - accuracy: 0.9851 - loss: 0.0511 - val_accuracy: 0.9643 - val_loss: 0.1702 - learning_rate: 1.0000e-04\n",
      "Epoch 47/50\n",
      "7/7 - 4s - 629ms/step - accuracy: 0.9851 - loss: 0.0489 - val_accuracy: 0.9643 - val_loss: 0.1726 - learning_rate: 1.0000e-04\n",
      "Epoch 48/50\n",
      "7/7 - 4s - 618ms/step - accuracy: 0.9851 - loss: 0.0511 - val_accuracy: 0.9643 - val_loss: 0.1720 - learning_rate: 1.0000e-04\n",
      "Epoch 49/50\n",
      "7/7 - 4s - 623ms/step - accuracy: 0.9851 - loss: 0.0525 - val_accuracy: 0.9643 - val_loss: 0.1717 - learning_rate: 1.0000e-04\n",
      "Epoch 50/50\n",
      "7/7 - 4s - 625ms/step - accuracy: 0.9851 - loss: 0.0445 - val_accuracy: 0.9643 - val_loss: 0.1733 - learning_rate: 1.0000e-04\n"
     ]
    }
   ],
   "source": [
    "from tensorflow.keras.models import Sequential\n",
    "from tensorflow.keras.layers import Dense, Dropout, Flatten, Conv2D, MaxPooling2D\n",
    "from tensorflow.keras.callbacks import ReduceLROnPlateau\n",
    "\n",
    "# Define your model architecture\n",
    "model = Sequential()\n",
    "\n",
    "# Add convolutional layers\n",
    "model.add(Conv2D(filters=32, kernel_size=(3, 3), activation='relu', input_shape=(128, 128, 3)))\n",
    "model.add(Conv2D(filters=64, kernel_size=(3, 3), activation='relu'))\n",
    "model.add(MaxPooling2D(pool_size=(2, 2)))\n",
    "model.add(Dropout(0.25))\n",
    "\n",
    "model.add(Conv2D(filters=128, kernel_size=(3, 3), activation='relu'))\n",
    "model.add(MaxPooling2D(pool_size=(2, 2)))\n",
    "model.add(Dropout(0.25))\n",
    "\n",
    "# Flatten the feature maps to feed into a fully connected layer\n",
    "model.add(Flatten())\n",
    "\n",
    "# Add fully connected layers\n",
    "model.add(Dense(512, activation='relu'))\n",
    "model.add(Dropout(0.5))\n",
    "model.add(Dense(2, activation='softmax'))  # 2 classes: Real and Fake\n",
    "\n",
    "# Compile the model\n",
    "optimizer = RMSprop(learning_rate=0.0005, rho=0.9, epsilon=1e-08, decay=0.0)\n",
    "model.compile(optimizer=optimizer, loss='categorical_crossentropy', metrics=['accuracy'])\n",
    "\n",
    "# Add learning rate reduction as callback\n",
    "reduce_lr = ReduceLROnPlateau(monitor='val_loss', factor=0.2, patience=5, min_lr=0.0001)\n",
    "\n",
    "# Train the model\n",
    "epochs = 50\n",
    "batch_size = 50\n",
    "\n",
    "history = model.fit(X_train, Y_train, batch_size=batch_size, epochs=epochs, \n",
    "                    validation_data=(X_val, Y_val), callbacks=[reduce_lr], verbose=2)\n"
   ]
  },
  {
   "cell_type": "markdown",
   "id": "36a4e247-1d5f-4f29-8eb4-639360e0c123",
   "metadata": {},
   "source": [
    "# Save the model"
   ]
  },
  {
   "cell_type": "code",
   "execution_count": 12,
   "id": "5706e15d-1f61-4ea6-8a9d-bd53192f9a9f",
   "metadata": {
    "tags": []
   },
   "outputs": [],
   "source": [
    "import os\n",
    "from datetime import datetime\n",
    "\n",
    "models_dir = 'model'\n",
    "current_time = datetime.now().strftime(\"%d-%m-%Y-%H-%M-%S\")  # Removed colon from format string\n",
    "model_name = 'tampering_detection_' + current_time + '.keras'\n",
    "model.save(os.path.join(models_dir, model_name))\n",
    "\n"
   ]
  },
  {
   "cell_type": "code",
   "execution_count": 13,
   "id": "285a2504-3039-4cc9-a4a4-f41c54186e5b",
   "metadata": {
    "tags": []
   },
   "outputs": [],
   "source": [
    "models_artifact = '1.keras'  # Add the appropriate extension\n",
    "model.save(os.path.join(models_dir, models_artifact))"
   ]
  },
  {
   "cell_type": "markdown",
   "id": "97f52037-062e-4461-a16d-a696554ae84d",
   "metadata": {},
   "source": [
    "# Model Performance"
   ]
  },
  {
   "cell_type": "markdown",
   "id": "969d6a2f-e7fb-41a1-98e2-c551fe01f583",
   "metadata": {},
   "source": [
    "### Plot the loss and accuracy curves for training and validation "
   ]
  },
  {
   "cell_type": "code",
   "execution_count": 14,
   "id": "3d2e0dd8-6208-41c9-b954-6641aa4b39a6",
   "metadata": {
    "tags": []
   },
   "outputs": [
    {
     "data": {
      "image/png": "[encoded data removed]",
      "text/plain": [
       "<Figure size 640x480 with 2 Axes>"
      ]
     },
     "metadata": {},
     "output_type": "display_data"
    }
   ],
   "source": [
    "fig, ax = plt.subplots(2, 1)\n",
    "\n",
    "# Plotting training and validation loss\n",
    "ax[0].plot(history.history['loss'], color='b', label=\"Training loss\")\n",
    "ax[0].plot(history.history['val_loss'], color='r', label=\"Validation loss\")\n",
    "legend = ax[0].legend(loc='best', shadow=True)\n",
    "\n",
    "# Plotting training and validation accuracy\n",
    "ax[1].plot(history.history['accuracy'], color='b', label=\"Training accuracy\")\n",
    "ax[1].plot(history.history['val_accuracy'], color='r', label=\"Validation accuracy\")\n",
    "legend = ax[1].legend(loc='best', shadow=True)\n",
    "\n",
    "plt.show()"
   ]
  },
  {
   "cell_type": "markdown",
   "id": "4acff4a4-0f56-478b-aff9-0f4bed8e4404",
   "metadata": {},
   "source": [
    "### Plot the confusion matrix"
   ]
  },
  {
   "cell_type": "code",
   "execution_count": 15,
   "id": "6243ef30-9675-4885-b86f-afabdf0aefc5",
   "metadata": {
    "tags": []
   },
   "outputs": [
    {
     "name": "stdout",
     "output_type": "stream",
     "text": [
      "\u001b[1m3/3\u001b[0m \u001b[32m━━━━━━━━━━━━━━━━━━━━\u001b[0m\u001b[37m\u001b[0m \u001b[1m0s\u001b[0m 77ms/step\n"
     ]
    },
    {
     "data": {
      "image/png": "[encoded data removed]",
      "text/plain": [
       "<Figure size 640x480 with 2 Axes>"
      ]
     },
     "metadata": {},
     "output_type": "display_data"
    }
   ],
   "source": [
    "def plot_confusion_matrix(cm, classes,\n",
    "                          normalize=False,\n",
    "                          title='Confusion matrix',\n",
    "                          cmap=plt.cm.Blues):\n",
    "    \"\"\"\n",
    "    This function prints and plots the confusion matrix.\n",
    "    Normalization can be applied by setting `normalize=True`.\n",
    "    \"\"\"\n",
    "    plt.imshow(cm, interpolation='nearest', cmap=cmap)\n",
    "    plt.title(title)\n",
    "    plt.colorbar()\n",
    "    tick_marks = np.arange(len(classes))\n",
    "    plt.xticks(tick_marks, classes, rotation=45)\n",
    "    plt.yticks(tick_marks, classes)\n",
    "\n",
    "    if normalize:\n",
    "        cm = cm.astype('float') / cm.sum(axis=1)[:, np.newaxis]\n",
    "\n",
    "    thresh = cm.max() / 2.\n",
    "    for i, j in itertools.product(range(cm.shape[0]), range(cm.shape[1])):\n",
    "        plt.text(j, i, cm[i, j],\n",
    "                 horizontalalignment=\"center\",\n",
    "                 color=\"white\" if cm[i, j] > thresh else \"black\")\n",
    "\n",
    "    plt.tight_layout()\n",
    "    plt.ylabel('True label')\n",
    "    plt.xlabel('Predicted label')\n",
    "    \n",
    "    \n",
    "# Predict the values from the validation dataset\n",
    "Y_pred = model.predict(X_val)\n",
    "# Convert predictions classes to one hot vectors \n",
    "Y_pred_classes = np.argmax(Y_pred,axis = 1) \n",
    "# Convert validation observations to one hot vectors\n",
    "Y_true = np.argmax(Y_val,axis = 1) \n",
    "# compute the confusion matrix\n",
    "confusion_mtx = confusion_matrix(Y_true, Y_pred_classes) \n",
    "# plot the confusion matrix\n",
    "plot_confusion_matrix(confusion_mtx, classes = range(2))"
   ]
  },
  {
   "cell_type": "markdown",
   "id": "c75ba90f",
   "metadata": {},
   "source": [
    "### Evaluate"
   ]
  },
  {
   "cell_type": "code",
   "execution_count": 16,
   "id": "5d305a58",
   "metadata": {},
   "outputs": [],
   "source": [
    "import cv2\n",
    "import numpy as np\n",
    "\n",
    "def evaluate_criteria(image):\n",
    "    # Convert the image to grayscale\n",
    "    gray_image = cv2.cvtColor(image, cv2.COLOR_BGR2GRAY)\n",
    "    \n",
    "    # Calculate text density (percentage of white pixels in the image)\n",
    "    total_pixels = gray_image.shape[0] * gray_image.shape[1]\n",
    "    white_pixels = cv2.countNonZero(gray_image)\n",
    "    text_density = white_pixels / total_pixels\n",
    "    \n",
    "    # Detect font changes\n",
    "    # Placeholder logic: Check if there are multiple font types used in the document\n",
    "    font_changes_detected = detect_font_changes(gray_image)\n",
    "    \n",
    "    # Detect color/texture changes\n",
    "    # Placeholder logic: Check for significant changes in color or texture throughout the document\n",
    "    color_texture_changes_detected = detect_color_texture_changes(image)\n",
    "    \n",
    "    # Evaluate based on the criteria\n",
    "    if text_density < 0.7 or font_changes_detected or color_texture_changes_detected:\n",
    "        return \"Fake\"\n",
    "    else:\n",
    "        return \"Real\"\n",
    "\n",
    "def detect_font_changes(image):\n",
    "    # Convert the image to grayscale\n",
    "    gray_image = cv2.cvtColor(image, cv2.COLOR_BGR2GRAY)\n",
    "    \n",
    "    # Threshold the image to obtain binary image\n",
    "    _, binary_image = cv2.threshold(gray_image, 0, 255, cv2.THRESH_BINARY_INV + cv2.THRESH_OTSU)\n",
    "    \n",
    "    # Find contours in the binary image\n",
    "    contours, _ = cv2.findContours(binary_image, cv2.RETR_EXTERNAL, cv2.CHAIN_APPROX_SIMPLE)\n",
    "    \n",
    "    # Extract bounding rectangles for each contour\n",
    "    bounding_rectangles = [cv2.boundingRect(contour) for contour in contours]\n",
    "    \n",
    "    # Sort bounding rectangles by x-coordinate to get left-to-right order\n",
    "    bounding_rectangles.sort(key=lambda x: x[0])\n",
    "    \n",
    "    # Initialize a list to store the detected text areas\n",
    "    text_areas = []\n",
    "    \n",
    "    # Iterate over bounding rectangles to extract text areas\n",
    "    for x, y, w, h in bounding_rectangles:\n",
    "        if w > 5 and h > 5:  # Filter out small noise contours\n",
    "            text_areas.append(gray_image[y:y+h, x:x+w])\n",
    "    \n",
    "    # Placeholder logic to detect font changes\n",
    "    # Check for differences in text sizes, font styles, etc.\n",
    "    # For simplicity, we'll check if there are multiple text areas with varying sizes\n",
    "    if len(text_areas) > 1:\n",
    "        return True\n",
    "    else:\n",
    "        return False\n",
    "\n",
    "def detect_color_texture_changes(image):\n",
    "    # Convert the image to grayscale\n",
    "    gray_image = cv2.cvtColor(image, cv2.COLOR_BGR2GRAY)\n",
    "    \n",
    "    # Placeholder logic to detect color/texture changes\n",
    "    # Calculate the standard deviation of pixel intensities\n",
    "    std_dev = np.std(gray_image)\n",
    "    \n",
    "    # If the standard deviation is above a certain threshold, consider it a color/texture change\n",
    "    # Adjust the threshold as needed based on your requirements\n",
    "    if std_dev > 20:\n",
    "        return True\n",
    "    else:\n",
    "        return False"
   ]
  },
  {
   "cell_type": "code",
   "execution_count": 51,
   "id": "5a08cf09",
   "metadata": {},
   "outputs": [],
   "source": [
    "import numpy as np\n",
    "\n",
    "def add_noise(image, noise_level):\n",
    "    # Add Gaussian noise\n",
    "    noise = np.random.normal(loc=0, scale=noise_level, size=image.shape)\n",
    "    noisy_image = np.clip(image + noise, 0, 255).astype(np.uint8)\n",
    "    return noisy_image\n"
   ]
  },
  {
   "cell_type": "code",
   "execution_count": 38,
   "id": "68569783-88b7-4050-a532-028cff715ccf",
   "metadata": {},
   "outputs": [],
   "source": [
    "model_path = \"model/1.keras\"\n",
    "model = load_model(model_path)  "
   ]
  },
  {
   "cell_type": "code",
   "execution_count": 43,
   "id": "5c68a441",
   "metadata": {},
   "outputs": [],
   "source": [
    "import cv2\n",
    "import numpy as np\n",
    "\n",
    "def extract_features(image):\n",
    "    # Initialize features dictionary\n",
    "    features = {}\n",
    "\n",
    "    # Calculate text density (percentage of white pixels in the image)\n",
    "    total_pixels = image.shape[0] * image.shape[1]\n",
    "    white_pixels = cv2.countNonZero(image)\n",
    "    text_density = white_pixels / total_pixels\n",
    "    features['text_density'] = text_density\n",
    "\n",
    "    # Extract font information (e.g., font size, font style)\n",
    "    # Implement font extraction logic here\n",
    "\n",
    "    # Extract color/texture changes\n",
    "    # Convert image to grayscale\n",
    "    gray = cv2.cvtColor(image, cv2.COLOR_BGR2GRAY)\n",
    "    # Apply Gaussian blur to reduce noise\n",
    "    blurred = cv2.GaussianBlur(gray, (5, 5), 0)\n",
    "    # Compute Laplacian operator to detect edges\n",
    "    laplacian = cv2.Laplacian(blurred, cv2.CV_64F)\n",
    "    # Calculate variance of Laplacian to measure texture changes\n",
    "    texture_variation = np.var(laplacian)\n",
    "    features['texture_variation'] = texture_variation\n",
    "\n",
    "    # Implement additional feature extraction logic as needed\n",
    "\n",
    "    return features"
   ]
  },
  {
   "cell_type": "code",
   "execution_count": 56,
   "id": "1c94ded2",
   "metadata": {},
   "outputs": [],
   "source": [
    "def preprocess_image(image_path, apply_noise=False, noise_level=25):\n",
    "    # Load the image\n",
    "    img = cv2.imread(image_path)\n",
    "    # Convert to RGB format\n",
    "    img = cv2.cvtColor(img, cv2.COLOR_BGR2RGB)\n",
    "    # Resize the image to match the model's input shape\n",
    "    img = cv2.resize(img, (128, 128))\n",
    "    # Normalize the image\n",
    "    img = img / 255.0\n",
    "    # Add noise if specified\n",
    "    if apply_noise:\n",
    "        img = add_noise(img, noise_level)\n",
    "    return img\n"
   ]
  },
  {
   "cell_type": "code",
   "execution_count": 45,
   "id": "d7368d4e",
   "metadata": {},
   "outputs": [],
   "source": [
    "def predict_image_authenticity(image_path):\n",
    "    # Preprocess image\n",
    "    img = preprocess_image(image_path)\n",
    "    # Reshape for model input\n",
    "    img = np.expand_dims(img, axis=0)\n",
    "    # Predict\n",
    "    prediction = model.predict(img)\n",
    "    # Get predicted class\n",
    "    predicted_class = np.argmax(prediction, axis=1)[0]\n",
    "    return predicted_class"
   ]
  },
  {
   "cell_type": "code",
   "execution_count": 46,
   "id": "1180b4a6",
   "metadata": {},
   "outputs": [],
   "source": [
    "def predict_image_probabilities(image_path):\n",
    "    # Preprocess image\n",
    "    img = preprocess_image(image_path)\n",
    "    # Reshape for model input\n",
    "    img = np.expand_dims(img, axis=0)\n",
    "    # Predict\n",
    "    probabilities = model.predict(img)[0]\n",
    "    return probabilities    "
   ]
  },
  {
   "cell_type": "code",
   "execution_count": 47,
   "id": "9877bc5a",
   "metadata": {},
   "outputs": [],
   "source": [
    "images_folder = 'images/predict'\n",
    "model_path = \"model/1.keras\""
   ]
  },
  {
   "cell_type": "code",
   "execution_count": 58,
   "id": "35eeaa0f",
   "metadata": {},
   "outputs": [
    {
     "name": "stdout",
     "output_type": "stream",
     "text": [
      "\u001b[1m1/1\u001b[0m \u001b[32m━━━━━━━━━━━━━━━━━━━━\u001b[0m\u001b[37m\u001b[0m \u001b[1m0s\u001b[0m 63ms/step\n",
      "Adalynn_Bailey_Original_Paystub-checkpoint.jpg is classified incorrectly.\n",
      "\u001b[1m1/1\u001b[0m \u001b[32m━━━━━━━━━━━━━━━━━━━━\u001b[0m\u001b[37m\u001b[0m \u001b[1m0s\u001b[0m 30ms/step\n",
      "Adalynn_Bailey_Tampered_Paystub-checkpoint.jpg is classified incorrectly.\n",
      "\u001b[1m1/1\u001b[0m \u001b[32m━━━━━━━━━━━━━━━━━━━━\u001b[0m\u001b[37m\u001b[0m \u001b[1m0s\u001b[0m 23ms/step\n",
      "TamperedPaystub-checkpoint.jpg is classified incorrectly.\n",
      "\u001b[1m1/1\u001b[0m \u001b[32m━━━━━━━━━━━━━━━━━━━━\u001b[0m\u001b[37m\u001b[0m \u001b[1m0s\u001b[0m 17ms/step\n",
      "tampered_1.pdf_page0.jpg is classified incorrectly.\n",
      "\u001b[1m1/1\u001b[0m \u001b[32m━━━━━━━━━━━━━━━━━━━━\u001b[0m\u001b[37m\u001b[0m \u001b[1m0s\u001b[0m 24ms/step\n",
      "tampered_2.pdf_page0.jpg is classified incorrectly.\n",
      "\u001b[1m1/1\u001b[0m \u001b[32m━━━━━━━━━━━━━━━━━━━━\u001b[0m\u001b[37m\u001b[0m \u001b[1m0s\u001b[0m 21ms/step\n",
      "tampered_3.jpg is classified incorrectly.\n",
      "\u001b[1m1/1\u001b[0m \u001b[32m━━━━━━━━━━━━━━━━━━━━\u001b[0m\u001b[37m\u001b[0m \u001b[1m0s\u001b[0m 28ms/step\n",
      "tampered_4.pdf_page0.jpg is classified incorrectly.\n",
      "\u001b[1m1/1\u001b[0m \u001b[32m━━━━━━━━━━━━━━━━━━━━\u001b[0m\u001b[37m\u001b[0m \u001b[1m0s\u001b[0m 25ms/step\n",
      "tampered_4.pdf_page4.jpg is classified incorrectly.\n",
      "\u001b[1m1/1\u001b[0m \u001b[32m━━━━━━━━━━━━━━━━━━━━\u001b[0m\u001b[37m\u001b[0m \u001b[1m0s\u001b[0m 24ms/step\n",
      "tampered_4.pdf_page5.jpg is classified incorrectly.\n",
      "\u001b[1m1/1\u001b[0m \u001b[32m━━━━━━━━━━━━━━━━━━━━\u001b[0m\u001b[37m\u001b[0m \u001b[1m0s\u001b[0m 24ms/step\n",
      "tampered_5.jpg is classified incorrectly.\n",
      "\u001b[1m1/1\u001b[0m \u001b[32m━━━━━━━━━━━━━━━━━━━━\u001b[0m\u001b[37m\u001b[0m \u001b[1m0s\u001b[0m 22ms/step\n",
      "vineet_passport_card-checkpoint.jpg is classified incorrectly.\n",
      "\u001b[1m1/1\u001b[0m \u001b[32m━━━━━━━━━━━━━━━━━━━━\u001b[0m\u001b[37m\u001b[0m \u001b[1m0s\u001b[0m 25ms/step\n",
      "1.pdf_page0.jpg is classified as REAL with probability: 1.0\n",
      "\u001b[1m1/1\u001b[0m \u001b[32m━━━━━━━━━━━━━━━━━━━━\u001b[0m\u001b[37m\u001b[0m \u001b[1m0s\u001b[0m 22ms/step\n",
      "2.pdf_page0.jpg is classified as REAL with probability: 1.0\n",
      "\u001b[1m1/1\u001b[0m \u001b[32m━━━━━━━━━━━━━━━━━━━━\u001b[0m\u001b[37m\u001b[0m \u001b[1m0s\u001b[0m 25ms/step\n",
      "3.jpg is classified as REAL with probability: 1.0\n",
      "\u001b[1m1/1\u001b[0m \u001b[32m━━━━━━━━━━━━━━━━━━━━\u001b[0m\u001b[37m\u001b[0m \u001b[1m0s\u001b[0m 25ms/step\n",
      "4.pdf_page0.jpg is classified as REAL with probability: 1.0\n",
      "\u001b[1m1/1\u001b[0m \u001b[32m━━━━━━━━━━━━━━━━━━━━\u001b[0m\u001b[37m\u001b[0m \u001b[1m0s\u001b[0m 18ms/step\n",
      "4.pdf_page1.jpg is classified as REAL with probability: 1.0\n",
      "\u001b[1m1/1\u001b[0m \u001b[32m━━━━━━━━━━━━━━━━━━━━\u001b[0m\u001b[37m\u001b[0m \u001b[1m0s\u001b[0m 18ms/step\n",
      "4.pdf_page2.jpg is classified as REAL with probability: 1.0\n",
      "\u001b[1m1/1\u001b[0m \u001b[32m━━━━━━━━━━━━━━━━━━━━\u001b[0m\u001b[37m\u001b[0m \u001b[1m0s\u001b[0m 26ms/step\n",
      "4.pdf_page3.jpg is classified as REAL with probability: 1.0\n",
      "\u001b[1m1/1\u001b[0m \u001b[32m━━━━━━━━━━━━━━━━━━━━\u001b[0m\u001b[37m\u001b[0m \u001b[1m0s\u001b[0m 25ms/step\n",
      "4.pdf_page4.jpg is classified as REAL with probability: 1.0\n",
      "\u001b[1m1/1\u001b[0m \u001b[32m━━━━━━━━━━━━━━━━━━━━\u001b[0m\u001b[37m\u001b[0m \u001b[1m0s\u001b[0m 25ms/step\n",
      "4.pdf_page5.jpg is classified as REAL with probability: 1.0\n",
      "\u001b[1m1/1\u001b[0m \u001b[32m━━━━━━━━━━━━━━━━━━━━\u001b[0m\u001b[37m\u001b[0m \u001b[1m0s\u001b[0m 24ms/step\n",
      "5.jpg is classified as REAL with probability: 1.0\n",
      "\u001b[1m1/1\u001b[0m \u001b[32m━━━━━━━━━━━━━━━━━━━━\u001b[0m\u001b[37m\u001b[0m \u001b[1m0s\u001b[0m 25ms/step\n",
      "BankStatement.jpg is classified as REAL with probability: 1.0\n",
      "\u001b[1m1/1\u001b[0m \u001b[32m━━━━━━━━━━━━━━━━━━━━\u001b[0m\u001b[37m\u001b[0m \u001b[1m0s\u001b[0m 24ms/step\n",
      "BankStatement_0.jpg is classified as REAL with probability: 1.0\n",
      "\u001b[1m1/1\u001b[0m \u001b[32m━━━━━━━━━━━━━━━━━━━━\u001b[0m\u001b[37m\u001b[0m \u001b[1m0s\u001b[0m 26ms/step\n",
      "BankStatement_1.jpg is classified as REAL with probability: 1.0\n",
      "\u001b[1m1/1\u001b[0m \u001b[32m━━━━━━━━━━━━━━━━━━━━\u001b[0m\u001b[37m\u001b[0m \u001b[1m0s\u001b[0m 25ms/step\n",
      "BankStatement_10.jpg is classified as REAL with probability: 1.0\n",
      "\u001b[1m1/1\u001b[0m \u001b[32m━━━━━━━━━━━━━━━━━━━━\u001b[0m\u001b[37m\u001b[0m \u001b[1m0s\u001b[0m 24ms/step\n",
      "BankStatement_11.jpg is classified as REAL with probability: 1.0\n",
      "\u001b[1m1/1\u001b[0m \u001b[32m━━━━━━━━━━━━━━━━━━━━\u001b[0m\u001b[37m\u001b[0m \u001b[1m0s\u001b[0m 15ms/step\n",
      "BankStatement_12.jpg is classified as REAL with probability: 1.0\n",
      "\u001b[1m1/1\u001b[0m \u001b[32m━━━━━━━━━━━━━━━━━━━━\u001b[0m\u001b[37m\u001b[0m \u001b[1m0s\u001b[0m 27ms/step\n",
      "BankStatement_13.jpg is classified as REAL with probability: 1.0\n",
      "\u001b[1m1/1\u001b[0m \u001b[32m━━━━━━━━━━━━━━━━━━━━\u001b[0m\u001b[37m\u001b[0m \u001b[1m0s\u001b[0m 20ms/step\n",
      "BankStatement_14.jpg is classified as REAL with probability: 1.0\n",
      "\u001b[1m1/1\u001b[0m \u001b[32m━━━━━━━━━━━━━━━━━━━━\u001b[0m\u001b[37m\u001b[0m \u001b[1m0s\u001b[0m 29ms/step\n",
      "BankStatement_15.jpg is classified as REAL with probability: 1.0\n",
      "\u001b[1m1/1\u001b[0m \u001b[32m━━━━━━━━━━━━━━━━━━━━\u001b[0m\u001b[37m\u001b[0m \u001b[1m0s\u001b[0m 26ms/step\n",
      "BankStatement_16.jpg is classified as REAL with probability: 1.0\n",
      "\u001b[1m1/1\u001b[0m \u001b[32m━━━━━━━━━━━━━━━━━━━━\u001b[0m\u001b[37m\u001b[0m \u001b[1m0s\u001b[0m 23ms/step\n",
      "BankStatement_17.jpg is classified as REAL with probability: 1.0\n",
      "\u001b[1m1/1\u001b[0m \u001b[32m━━━━━━━━━━━━━━━━━━━━\u001b[0m\u001b[37m\u001b[0m \u001b[1m0s\u001b[0m 26ms/step\n",
      "BankStatement_18.jpg is classified as REAL with probability: 1.0\n",
      "\u001b[1m1/1\u001b[0m \u001b[32m━━━━━━━━━━━━━━━━━━━━\u001b[0m\u001b[37m\u001b[0m \u001b[1m0s\u001b[0m 25ms/step\n",
      "BankStatement_19.jpg is classified as REAL with probability: 1.0\n",
      "\u001b[1m1/1\u001b[0m \u001b[32m━━━━━━━━━━━━━━━━━━━━\u001b[0m\u001b[37m\u001b[0m \u001b[1m0s\u001b[0m 24ms/step\n",
      "BankStatement_2.jpg is classified as REAL with probability: 1.0\n",
      "\u001b[1m1/1\u001b[0m \u001b[32m━━━━━━━━━━━━━━━━━━━━\u001b[0m\u001b[37m\u001b[0m \u001b[1m0s\u001b[0m 22ms/step\n",
      "BankStatement_20.jpg is classified as REAL with probability: 1.0\n",
      "\u001b[1m1/1\u001b[0m \u001b[32m━━━━━━━━━━━━━━━━━━━━\u001b[0m\u001b[37m\u001b[0m \u001b[1m0s\u001b[0m 23ms/step\n",
      "BankStatement_21.jpg is classified as REAL with probability: 1.0\n",
      "\u001b[1m1/1\u001b[0m \u001b[32m━━━━━━━━━━━━━━━━━━━━\u001b[0m\u001b[37m\u001b[0m \u001b[1m0s\u001b[0m 30ms/step\n",
      "BankStatement_22.jpg is classified as REAL with probability: 1.0\n",
      "\u001b[1m1/1\u001b[0m \u001b[32m━━━━━━━━━━━━━━━━━━━━\u001b[0m\u001b[37m\u001b[0m \u001b[1m0s\u001b[0m 23ms/step\n",
      "BankStatement_23.jpg is classified as REAL with probability: 1.0\n",
      "\u001b[1m1/1\u001b[0m \u001b[32m━━━━━━━━━━━━━━━━━━━━\u001b[0m\u001b[37m\u001b[0m \u001b[1m0s\u001b[0m 24ms/step\n",
      "BankStatement_24.jpg is classified as REAL with probability: 1.0\n",
      "\u001b[1m1/1\u001b[0m \u001b[32m━━━━━━━━━━━━━━━━━━━━\u001b[0m\u001b[37m\u001b[0m \u001b[1m0s\u001b[0m 22ms/step\n",
      "BankStatement_25.jpg is classified as REAL with probability: 1.0\n",
      "\u001b[1m1/1\u001b[0m \u001b[32m━━━━━━━━━━━━━━━━━━━━\u001b[0m\u001b[37m\u001b[0m \u001b[1m0s\u001b[0m 23ms/step\n",
      "BankStatement_26.jpg is classified as REAL with probability: 1.0\n",
      "\u001b[1m1/1\u001b[0m \u001b[32m━━━━━━━━━━━━━━━━━━━━\u001b[0m\u001b[37m\u001b[0m \u001b[1m0s\u001b[0m 27ms/step\n",
      "BankStatement_27.jpg is classified as REAL with probability: 1.0\n",
      "\u001b[1m1/1\u001b[0m \u001b[32m━━━━━━━━━━━━━━━━━━━━\u001b[0m\u001b[37m\u001b[0m \u001b[1m0s\u001b[0m 22ms/step\n",
      "BankStatement_28.jpg is classified as REAL with probability: 1.0\n",
      "\u001b[1m1/1\u001b[0m \u001b[32m━━━━━━━━━━━━━━━━━━━━\u001b[0m\u001b[37m\u001b[0m \u001b[1m0s\u001b[0m 28ms/step\n",
      "BankStatement_29.jpg is classified as REAL with probability: 1.0\n",
      "\u001b[1m1/1\u001b[0m \u001b[32m━━━━━━━━━━━━━━━━━━━━\u001b[0m\u001b[37m\u001b[0m \u001b[1m0s\u001b[0m 29ms/step\n",
      "BankStatement_3.jpg is classified as REAL with probability: 1.0\n",
      "\u001b[1m1/1\u001b[0m \u001b[32m━━━━━━━━━━━━━━━━━━━━\u001b[0m\u001b[37m\u001b[0m \u001b[1m0s\u001b[0m 31ms/step\n",
      "BankStatement_30.jpg is classified as REAL with probability: 1.0\n",
      "\u001b[1m1/1\u001b[0m \u001b[32m━━━━━━━━━━━━━━━━━━━━\u001b[0m\u001b[37m\u001b[0m \u001b[1m0s\u001b[0m 26ms/step\n",
      "BankStatement_31.jpg is classified as REAL with probability: 1.0\n",
      "\u001b[1m1/1\u001b[0m \u001b[32m━━━━━━━━━━━━━━━━━━━━\u001b[0m\u001b[37m\u001b[0m \u001b[1m0s\u001b[0m 27ms/step\n",
      "BankStatement_32.jpg is classified as REAL with probability: 1.0\n",
      "\u001b[1m1/1\u001b[0m \u001b[32m━━━━━━━━━━━━━━━━━━━━\u001b[0m\u001b[37m\u001b[0m \u001b[1m0s\u001b[0m 18ms/step\n",
      "BankStatement_33.jpg is classified as REAL with probability: 1.0\n",
      "\u001b[1m1/1\u001b[0m \u001b[32m━━━━━━━━━━━━━━━━━━━━\u001b[0m\u001b[37m\u001b[0m \u001b[1m0s\u001b[0m 31ms/step\n",
      "BankStatement_34.jpg is classified as REAL with probability: 1.0\n",
      "\u001b[1m1/1\u001b[0m \u001b[32m━━━━━━━━━━━━━━━━━━━━\u001b[0m\u001b[37m\u001b[0m \u001b[1m0s\u001b[0m 26ms/step\n",
      "BankStatement_35.jpg is classified as REAL with probability: 1.0\n",
      "\u001b[1m1/1\u001b[0m \u001b[32m━━━━━━━━━━━━━━━━━━━━\u001b[0m\u001b[37m\u001b[0m \u001b[1m0s\u001b[0m 28ms/step\n",
      "BankStatement_36.jpg is classified as REAL with probability: 1.0\n",
      "\u001b[1m1/1\u001b[0m \u001b[32m━━━━━━━━━━━━━━━━━━━━\u001b[0m\u001b[37m\u001b[0m \u001b[1m0s\u001b[0m 31ms/step\n",
      "BankStatement_37.jpg is classified as REAL with probability: 1.0\n",
      "\u001b[1m1/1\u001b[0m \u001b[32m━━━━━━━━━━━━━━━━━━━━\u001b[0m\u001b[37m\u001b[0m \u001b[1m0s\u001b[0m 24ms/step\n",
      "BankStatement_38.jpg is classified as REAL with probability: 1.0\n",
      "\u001b[1m1/1\u001b[0m \u001b[32m━━━━━━━━━━━━━━━━━━━━\u001b[0m\u001b[37m\u001b[0m \u001b[1m0s\u001b[0m 24ms/step\n",
      "BankStatement_39.jpg is classified as REAL with probability: 1.0\n",
      "\u001b[1m1/1\u001b[0m \u001b[32m━━━━━━━━━━━━━━━━━━━━\u001b[0m\u001b[37m\u001b[0m \u001b[1m0s\u001b[0m 24ms/step\n",
      "BankStatement_4.jpg is classified as REAL with probability: 1.0\n",
      "\u001b[1m1/1\u001b[0m \u001b[32m━━━━━━━━━━━━━━━━━━━━\u001b[0m\u001b[37m\u001b[0m \u001b[1m0s\u001b[0m 21ms/step\n",
      "BankStatement_40.jpg is classified as REAL with probability: 1.0\n",
      "\u001b[1m1/1\u001b[0m \u001b[32m━━━━━━━━━━━━━━━━━━━━\u001b[0m\u001b[37m\u001b[0m \u001b[1m0s\u001b[0m 26ms/step\n",
      "BankStatement_41.jpg is classified as REAL with probability: 1.0\n",
      "\u001b[1m1/1\u001b[0m \u001b[32m━━━━━━━━━━━━━━━━━━━━\u001b[0m\u001b[37m\u001b[0m \u001b[1m0s\u001b[0m 20ms/step\n",
      "BankStatement_42.jpg is classified as REAL with probability: 1.0\n",
      "\u001b[1m1/1\u001b[0m \u001b[32m━━━━━━━━━━━━━━━━━━━━\u001b[0m\u001b[37m\u001b[0m \u001b[1m0s\u001b[0m 16ms/step\n",
      "BankStatement_43.jpg is classified as REAL with probability: 1.0\n",
      "\u001b[1m1/1\u001b[0m \u001b[32m━━━━━━━━━━━━━━━━━━━━\u001b[0m\u001b[37m\u001b[0m \u001b[1m0s\u001b[0m 33ms/step\n",
      "BankStatement_44.jpg is classified as REAL with probability: 1.0\n",
      "\u001b[1m1/1\u001b[0m \u001b[32m━━━━━━━━━━━━━━━━━━━━\u001b[0m\u001b[37m\u001b[0m \u001b[1m0s\u001b[0m 20ms/step\n",
      "BankStatement_45.jpg is classified as REAL with probability: 1.0\n",
      "\u001b[1m1/1\u001b[0m \u001b[32m━━━━━━━━━━━━━━━━━━━━\u001b[0m\u001b[37m\u001b[0m \u001b[1m0s\u001b[0m 29ms/step\n",
      "BankStatement_46.jpg is classified as REAL with probability: 1.0\n",
      "\u001b[1m1/1\u001b[0m \u001b[32m━━━━━━━━━━━━━━━━━━━━\u001b[0m\u001b[37m\u001b[0m \u001b[1m0s\u001b[0m 23ms/step\n",
      "BankStatement_47.jpg is classified as REAL with probability: 1.0\n",
      "\u001b[1m1/1\u001b[0m \u001b[32m━━━━━━━━━━━━━━━━━━━━\u001b[0m\u001b[37m\u001b[0m \u001b[1m0s\u001b[0m 26ms/step\n",
      "BankStatement_48.jpg is classified as REAL with probability: 1.0\n",
      "\u001b[1m1/1\u001b[0m \u001b[32m━━━━━━━━━━━━━━━━━━━━\u001b[0m\u001b[37m\u001b[0m \u001b[1m0s\u001b[0m 31ms/step\n",
      "BankStatement_49.jpg is classified as REAL with probability: 1.0\n",
      "\u001b[1m1/1\u001b[0m \u001b[32m━━━━━━━━━━━━━━━━━━━━\u001b[0m\u001b[37m\u001b[0m \u001b[1m0s\u001b[0m 25ms/step\n",
      "BankStatement_5.jpg is classified as REAL with probability: 1.0\n",
      "\u001b[1m1/1\u001b[0m \u001b[32m━━━━━━━━━━━━━━━━━━━━\u001b[0m\u001b[37m\u001b[0m \u001b[1m0s\u001b[0m 31ms/step\n",
      "BankStatement_50.jpg is classified as REAL with probability: 1.0\n",
      "\u001b[1m1/1\u001b[0m \u001b[32m━━━━━━━━━━━━━━━━━━━━\u001b[0m\u001b[37m\u001b[0m \u001b[1m0s\u001b[0m 20ms/step\n",
      "BankStatement_51.jpg is classified as REAL with probability: 1.0\n",
      "\u001b[1m1/1\u001b[0m \u001b[32m━━━━━━━━━━━━━━━━━━━━\u001b[0m\u001b[37m\u001b[0m \u001b[1m0s\u001b[0m 30ms/step\n",
      "BankStatement_52.jpg is classified as REAL with probability: 1.0\n",
      "\u001b[1m1/1\u001b[0m \u001b[32m━━━━━━━━━━━━━━━━━━━━\u001b[0m\u001b[37m\u001b[0m \u001b[1m0s\u001b[0m 23ms/step\n",
      "BankStatement_53.jpg is classified as REAL with probability: 1.0\n",
      "\u001b[1m1/1\u001b[0m \u001b[32m━━━━━━━━━━━━━━━━━━━━\u001b[0m\u001b[37m\u001b[0m \u001b[1m0s\u001b[0m 27ms/step\n",
      "BankStatement_54.jpg is classified as REAL with probability: 1.0\n",
      "\u001b[1m1/1\u001b[0m \u001b[32m━━━━━━━━━━━━━━━━━━━━\u001b[0m\u001b[37m\u001b[0m \u001b[1m0s\u001b[0m 20ms/step\n",
      "BankStatement_55.jpg is classified as REAL with probability: 1.0\n",
      "\u001b[1m1/1\u001b[0m \u001b[32m━━━━━━━━━━━━━━━━━━━━\u001b[0m\u001b[37m\u001b[0m \u001b[1m0s\u001b[0m 26ms/step\n",
      "BankStatement_56.jpg is classified as REAL with probability: 1.0\n",
      "\u001b[1m1/1\u001b[0m \u001b[32m━━━━━━━━━━━━━━━━━━━━\u001b[0m\u001b[37m\u001b[0m \u001b[1m0s\u001b[0m 28ms/step\n",
      "BankStatement_57.jpg is classified as REAL with probability: 1.0\n",
      "\u001b[1m1/1\u001b[0m \u001b[32m━━━━━━━━━━━━━━━━━━━━\u001b[0m\u001b[37m\u001b[0m \u001b[1m0s\u001b[0m 25ms/step\n",
      "BankStatement_58.jpg is classified as REAL with probability: 1.0\n",
      "\u001b[1m1/1\u001b[0m \u001b[32m━━━━━━━━━━━━━━━━━━━━\u001b[0m\u001b[37m\u001b[0m \u001b[1m0s\u001b[0m 24ms/step\n",
      "BankStatement_59.jpg is classified as REAL with probability: 1.0\n",
      "\u001b[1m1/1\u001b[0m \u001b[32m━━━━━━━━━━━━━━━━━━━━\u001b[0m\u001b[37m\u001b[0m \u001b[1m0s\u001b[0m 30ms/step\n",
      "BankStatement_6.jpg is classified as REAL with probability: 1.0\n",
      "\u001b[1m1/1\u001b[0m \u001b[32m━━━━━━━━━━━━━━━━━━━━\u001b[0m\u001b[37m\u001b[0m \u001b[1m0s\u001b[0m 24ms/step\n",
      "BankStatement_60.jpg is classified as REAL with probability: 1.0\n",
      "\u001b[1m1/1\u001b[0m \u001b[32m━━━━━━━━━━━━━━━━━━━━\u001b[0m\u001b[37m\u001b[0m \u001b[1m0s\u001b[0m 27ms/step\n",
      "BankStatement_61.jpg is classified as REAL with probability: 1.0\n",
      "\u001b[1m1/1\u001b[0m \u001b[32m━━━━━━━━━━━━━━━━━━━━\u001b[0m\u001b[37m\u001b[0m \u001b[1m0s\u001b[0m 28ms/step\n",
      "BankStatement_62.jpg is classified as REAL with probability: 1.0\n",
      "\u001b[1m1/1\u001b[0m \u001b[32m━━━━━━━━━━━━━━━━━━━━\u001b[0m\u001b[37m\u001b[0m \u001b[1m0s\u001b[0m 30ms/step\n",
      "BankStatement_63.jpg is classified as REAL with probability: 1.0\n",
      "\u001b[1m1/1\u001b[0m \u001b[32m━━━━━━━━━━━━━━━━━━━━\u001b[0m\u001b[37m\u001b[0m \u001b[1m0s\u001b[0m 18ms/step\n",
      "BankStatement_64.jpg is classified as REAL with probability: 1.0\n",
      "\u001b[1m1/1\u001b[0m \u001b[32m━━━━━━━━━━━━━━━━━━━━\u001b[0m\u001b[37m\u001b[0m \u001b[1m0s\u001b[0m 30ms/step\n",
      "BankStatement_65.jpg is classified as REAL with probability: 1.0\n",
      "\u001b[1m1/1\u001b[0m \u001b[32m━━━━━━━━━━━━━━━━━━━━\u001b[0m\u001b[37m\u001b[0m \u001b[1m0s\u001b[0m 27ms/step\n",
      "BankStatement_66.jpg is classified as REAL with probability: 1.0\n",
      "\u001b[1m1/1\u001b[0m \u001b[32m━━━━━━━━━━━━━━━━━━━━\u001b[0m\u001b[37m\u001b[0m \u001b[1m0s\u001b[0m 23ms/step\n",
      "BankStatement_67.jpg is classified as REAL with probability: 1.0\n",
      "\u001b[1m1/1\u001b[0m \u001b[32m━━━━━━━━━━━━━━━━━━━━\u001b[0m\u001b[37m\u001b[0m \u001b[1m0s\u001b[0m 22ms/step\n",
      "BankStatement_68.jpg is classified as REAL with probability: 1.0\n",
      "\u001b[1m1/1\u001b[0m \u001b[32m━━━━━━━━━━━━━━━━━━━━\u001b[0m\u001b[37m\u001b[0m \u001b[1m0s\u001b[0m 20ms/step\n",
      "BankStatement_69.jpg is classified as REAL with probability: 1.0\n",
      "\u001b[1m1/1\u001b[0m \u001b[32m━━━━━━━━━━━━━━━━━━━━\u001b[0m\u001b[37m\u001b[0m \u001b[1m0s\u001b[0m 25ms/step\n",
      "BankStatement_7.jpg is classified as REAL with probability: 1.0\n",
      "\u001b[1m1/1\u001b[0m \u001b[32m━━━━━━━━━━━━━━━━━━━━\u001b[0m\u001b[37m\u001b[0m \u001b[1m0s\u001b[0m 24ms/step\n",
      "BankStatement_70.jpg is classified as REAL with probability: 1.0\n",
      "\u001b[1m1/1\u001b[0m \u001b[32m━━━━━━━━━━━━━━━━━━━━\u001b[0m\u001b[37m\u001b[0m \u001b[1m0s\u001b[0m 30ms/step\n",
      "BankStatement_71.jpg is classified as REAL with probability: 1.0\n",
      "\u001b[1m1/1\u001b[0m \u001b[32m━━━━━━━━━━━━━━━━━━━━\u001b[0m\u001b[37m\u001b[0m \u001b[1m0s\u001b[0m 26ms/step\n",
      "BankStatement_72.jpg is classified as REAL with probability: 1.0\n",
      "\u001b[1m1/1\u001b[0m \u001b[32m━━━━━━━━━━━━━━━━━━━━\u001b[0m\u001b[37m\u001b[0m \u001b[1m0s\u001b[0m 23ms/step\n",
      "BankStatement_73.jpg is classified as REAL with probability: 1.0\n",
      "\u001b[1m1/1\u001b[0m \u001b[32m━━━━━━━━━━━━━━━━━━━━\u001b[0m\u001b[37m\u001b[0m \u001b[1m0s\u001b[0m 22ms/step\n",
      "BankStatement_74.jpg is classified as REAL with probability: 1.0\n",
      "\u001b[1m1/1\u001b[0m \u001b[32m━━━━━━━━━━━━━━━━━━━━\u001b[0m\u001b[37m\u001b[0m \u001b[1m0s\u001b[0m 22ms/step\n",
      "BankStatement_75.jpg is classified as REAL with probability: 1.0\n",
      "\u001b[1m1/1\u001b[0m \u001b[32m━━━━━━━━━━━━━━━━━━━━\u001b[0m\u001b[37m\u001b[0m \u001b[1m0s\u001b[0m 29ms/step\n",
      "BankStatement_76.jpg is classified as REAL with probability: 1.0\n",
      "\u001b[1m1/1\u001b[0m \u001b[32m━━━━━━━━━━━━━━━━━━━━\u001b[0m\u001b[37m\u001b[0m \u001b[1m0s\u001b[0m 28ms/step\n",
      "BankStatement_77.jpg is classified as REAL with probability: 1.0\n",
      "\u001b[1m1/1\u001b[0m \u001b[32m━━━━━━━━━━━━━━━━━━━━\u001b[0m\u001b[37m\u001b[0m \u001b[1m0s\u001b[0m 25ms/step\n",
      "BankStatement_78.jpg is classified as REAL with probability: 1.0\n",
      "\u001b[1m1/1\u001b[0m \u001b[32m━━━━━━━━━━━━━━━━━━━━\u001b[0m\u001b[37m\u001b[0m \u001b[1m0s\u001b[0m 30ms/step\n",
      "BankStatement_79.jpg is classified as REAL with probability: 1.0\n",
      "\u001b[1m1/1\u001b[0m \u001b[32m━━━━━━━━━━━━━━━━━━━━\u001b[0m\u001b[37m\u001b[0m \u001b[1m0s\u001b[0m 27ms/step\n",
      "BankStatement_8.jpg is classified as REAL with probability: 1.0\n",
      "\u001b[1m1/1\u001b[0m \u001b[32m━━━━━━━━━━━━━━━━━━━━\u001b[0m\u001b[37m\u001b[0m \u001b[1m0s\u001b[0m 27ms/step\n",
      "BankStatement_80.jpg is classified as REAL with probability: 1.0\n",
      "\u001b[1m1/1\u001b[0m \u001b[32m━━━━━━━━━━━━━━━━━━━━\u001b[0m\u001b[37m\u001b[0m \u001b[1m0s\u001b[0m 21ms/step\n",
      "BankStatement_81.jpg is classified as REAL with probability: 1.0\n",
      "\u001b[1m1/1\u001b[0m \u001b[32m━━━━━━━━━━━━━━━━━━━━\u001b[0m\u001b[37m\u001b[0m \u001b[1m0s\u001b[0m 21ms/step\n",
      "BankStatement_82.jpg is classified as REAL with probability: 1.0\n",
      "\u001b[1m1/1\u001b[0m \u001b[32m━━━━━━━━━━━━━━━━━━━━\u001b[0m\u001b[37m\u001b[0m \u001b[1m0s\u001b[0m 26ms/step\n",
      "BankStatement_83.jpg is classified as REAL with probability: 1.0\n",
      "\u001b[1m1/1\u001b[0m \u001b[32m━━━━━━━━━━━━━━━━━━━━\u001b[0m\u001b[37m\u001b[0m \u001b[1m0s\u001b[0m 23ms/step\n",
      "BankStatement_84.jpg is classified as REAL with probability: 1.0\n",
      "\u001b[1m1/1\u001b[0m \u001b[32m━━━━━━━━━━━━━━━━━━━━\u001b[0m\u001b[37m\u001b[0m \u001b[1m0s\u001b[0m 29ms/step\n",
      "BankStatement_85.jpg is classified as REAL with probability: 1.0\n",
      "\u001b[1m1/1\u001b[0m \u001b[32m━━━━━━━━━━━━━━━━━━━━\u001b[0m\u001b[37m\u001b[0m \u001b[1m0s\u001b[0m 22ms/step\n",
      "BankStatement_86.jpg is classified as REAL with probability: 1.0\n",
      "\u001b[1m1/1\u001b[0m \u001b[32m━━━━━━━━━━━━━━━━━━━━\u001b[0m\u001b[37m\u001b[0m \u001b[1m0s\u001b[0m 29ms/step\n",
      "BankStatement_87.jpg is classified as REAL with probability: 1.0\n",
      "\u001b[1m1/1\u001b[0m \u001b[32m━━━━━━━━━━━━━━━━━━━━\u001b[0m\u001b[37m\u001b[0m \u001b[1m0s\u001b[0m 25ms/step\n",
      "BankStatement_88.jpg is classified as REAL with probability: 1.0\n",
      "\u001b[1m1/1\u001b[0m \u001b[32m━━━━━━━━━━━━━━━━━━━━\u001b[0m\u001b[37m\u001b[0m \u001b[1m0s\u001b[0m 27ms/step\n",
      "BankStatement_89.jpg is classified as REAL with probability: 1.0\n",
      "\u001b[1m1/1\u001b[0m \u001b[32m━━━━━━━━━━━━━━━━━━━━\u001b[0m\u001b[37m\u001b[0m \u001b[1m0s\u001b[0m 24ms/step\n",
      "BankStatement_9.jpg is classified as REAL with probability: 1.0\n",
      "\u001b[1m1/1\u001b[0m \u001b[32m━━━━━━━━━━━━━━━━━━━━\u001b[0m\u001b[37m\u001b[0m \u001b[1m0s\u001b[0m 23ms/step\n",
      "BankStatement_90.jpg is classified as REAL with probability: 1.0\n",
      "\u001b[1m1/1\u001b[0m \u001b[32m━━━━━━━━━━━━━━━━━━━━\u001b[0m\u001b[37m\u001b[0m \u001b[1m0s\u001b[0m 19ms/step\n",
      "BankStatement_91.jpg is classified as REAL with probability: 1.0\n",
      "\u001b[1m1/1\u001b[0m \u001b[32m━━━━━━━━━━━━━━━━━━━━\u001b[0m\u001b[37m\u001b[0m \u001b[1m0s\u001b[0m 24ms/step\n",
      "BankStatement_92.jpg is classified as REAL with probability: 1.0\n",
      "\u001b[1m1/1\u001b[0m \u001b[32m━━━━━━━━━━━━━━━━━━━━\u001b[0m\u001b[37m\u001b[0m \u001b[1m0s\u001b[0m 31ms/step\n",
      "BankStatement_93.jpg is classified as REAL with probability: 1.0\n",
      "\u001b[1m1/1\u001b[0m \u001b[32m━━━━━━━━━━━━━━━━━━━━\u001b[0m\u001b[37m\u001b[0m \u001b[1m0s\u001b[0m 30ms/step\n",
      "BankStatement_94.jpg is classified as REAL with probability: 1.0\n",
      "\u001b[1m1/1\u001b[0m \u001b[32m━━━━━━━━━━━━━━━━━━━━\u001b[0m\u001b[37m\u001b[0m \u001b[1m0s\u001b[0m 20ms/step\n",
      "BankStatement_95.jpg is classified as REAL with probability: 1.0\n",
      "\u001b[1m1/1\u001b[0m \u001b[32m━━━━━━━━━━━━━━━━━━━━\u001b[0m\u001b[37m\u001b[0m \u001b[1m0s\u001b[0m 24ms/step\n",
      "BankStatement_96.jpg is classified as REAL with probability: 1.0\n",
      "\u001b[1m1/1\u001b[0m \u001b[32m━━━━━━━━━━━━━━━━━━━━\u001b[0m\u001b[37m\u001b[0m \u001b[1m0s\u001b[0m 17ms/step\n",
      "BankStatement_97.jpg is classified as REAL with probability: 1.0\n",
      "\u001b[1m1/1\u001b[0m \u001b[32m━━━━━━━━━━━━━━━━━━━━\u001b[0m\u001b[37m\u001b[0m \u001b[1m0s\u001b[0m 26ms/step\n",
      "BankStatement_98.jpg is classified as REAL with probability: 1.0\n",
      "\u001b[1m1/1\u001b[0m \u001b[32m━━━━━━━━━━━━━━━━━━━━\u001b[0m\u001b[37m\u001b[0m \u001b[1m0s\u001b[0m 30ms/step\n",
      "BankStatement_99.jpg is classified as REAL with probability: 1.0\n",
      "\u001b[1m1/1\u001b[0m \u001b[32m━━━━━━━━━━━━━━━━━━━━\u001b[0m\u001b[37m\u001b[0m \u001b[1m0s\u001b[0m 24ms/step\n",
      "Paystub.jpg is classified as REAL with probability: 1.0\n",
      "\u001b[1m1/1\u001b[0m \u001b[32m━━━━━━━━━━━━━━━━━━━━\u001b[0m\u001b[37m\u001b[0m \u001b[1m0s\u001b[0m 26ms/step\n",
      "Paystub_0.jpg is classified as REAL with probability: 1.0\n",
      "\u001b[1m1/1\u001b[0m \u001b[32m━━━━━━━━━━━━━━━━━━━━\u001b[0m\u001b[37m\u001b[0m \u001b[1m0s\u001b[0m 23ms/step\n",
      "Paystub_1.jpg is classified as REAL with probability: 1.0\n",
      "\u001b[1m1/1\u001b[0m \u001b[32m━━━━━━━━━━━━━━━━━━━━\u001b[0m\u001b[37m\u001b[0m \u001b[1m0s\u001b[0m 20ms/step\n",
      "Paystub_10.jpg is classified as REAL with probability: 1.0\n",
      "\u001b[1m1/1\u001b[0m \u001b[32m━━━━━━━━━━━━━━━━━━━━\u001b[0m\u001b[37m\u001b[0m \u001b[1m0s\u001b[0m 23ms/step\n",
      "Paystub_11.jpg is classified as REAL with probability: 1.0\n",
      "\u001b[1m1/1\u001b[0m \u001b[32m━━━━━━━━━━━━━━━━━━━━\u001b[0m\u001b[37m\u001b[0m \u001b[1m0s\u001b[0m 24ms/step\n",
      "Paystub_12.jpg is classified as REAL with probability: 1.0\n",
      "\u001b[1m1/1\u001b[0m \u001b[32m━━━━━━━━━━━━━━━━━━━━\u001b[0m\u001b[37m\u001b[0m \u001b[1m0s\u001b[0m 28ms/step\n",
      "Paystub_13.jpg is classified as REAL with probability: 1.0\n",
      "\u001b[1m1/1\u001b[0m \u001b[32m━━━━━━━━━━━━━━━━━━━━\u001b[0m\u001b[37m\u001b[0m \u001b[1m0s\u001b[0m 25ms/step\n",
      "Paystub_14.jpg is classified as REAL with probability: 1.0\n",
      "\u001b[1m1/1\u001b[0m \u001b[32m━━━━━━━━━━━━━━━━━━━━\u001b[0m\u001b[37m\u001b[0m \u001b[1m0s\u001b[0m 28ms/step\n",
      "Paystub_15.jpg is classified as REAL with probability: 1.0\n",
      "\u001b[1m1/1\u001b[0m \u001b[32m━━━━━━━━━━━━━━━━━━━━\u001b[0m\u001b[37m\u001b[0m \u001b[1m0s\u001b[0m 25ms/step\n",
      "Paystub_16.jpg is classified as REAL with probability: 1.0\n",
      "\u001b[1m1/1\u001b[0m \u001b[32m━━━━━━━━━━━━━━━━━━━━\u001b[0m\u001b[37m\u001b[0m \u001b[1m0s\u001b[0m 29ms/step\n",
      "Paystub_17.jpg is classified as REAL with probability: 1.0\n",
      "\u001b[1m1/1\u001b[0m \u001b[32m━━━━━━━━━━━━━━━━━━━━\u001b[0m\u001b[37m\u001b[0m \u001b[1m0s\u001b[0m 23ms/step\n",
      "Paystub_18.jpg is classified as REAL with probability: 1.0\n",
      "\u001b[1m1/1\u001b[0m \u001b[32m━━━━━━━━━━━━━━━━━━━━\u001b[0m\u001b[37m\u001b[0m \u001b[1m0s\u001b[0m 25ms/step\n",
      "Paystub_19.jpg is classified as REAL with probability: 1.0\n",
      "\u001b[1m1/1\u001b[0m \u001b[32m━━━━━━━━━━━━━━━━━━━━\u001b[0m\u001b[37m\u001b[0m \u001b[1m0s\u001b[0m 25ms/step\n",
      "Paystub_2.jpg is classified as REAL with probability: 1.0\n",
      "\u001b[1m1/1\u001b[0m \u001b[32m━━━━━━━━━━━━━━━━━━━━\u001b[0m\u001b[37m\u001b[0m \u001b[1m0s\u001b[0m 23ms/step\n",
      "Paystub_20.jpg is classified as REAL with probability: 1.0\n",
      "\u001b[1m1/1\u001b[0m \u001b[32m━━━━━━━━━━━━━━━━━━━━\u001b[0m\u001b[37m\u001b[0m \u001b[1m0s\u001b[0m 25ms/step\n",
      "Paystub_21.jpg is classified as REAL with probability: 1.0\n",
      "\u001b[1m1/1\u001b[0m \u001b[32m━━━━━━━━━━━━━━━━━━━━\u001b[0m\u001b[37m\u001b[0m \u001b[1m0s\u001b[0m 33ms/step\n",
      "Paystub_22.jpg is classified as REAL with probability: 1.0\n",
      "\u001b[1m1/1\u001b[0m \u001b[32m━━━━━━━━━━━━━━━━━━━━\u001b[0m\u001b[37m\u001b[0m \u001b[1m0s\u001b[0m 24ms/step\n",
      "Paystub_23.jpg is classified as REAL with probability: 1.0\n",
      "\u001b[1m1/1\u001b[0m \u001b[32m━━━━━━━━━━━━━━━━━━━━\u001b[0m\u001b[37m\u001b[0m \u001b[1m0s\u001b[0m 28ms/step\n",
      "Paystub_24.jpg is classified as REAL with probability: 1.0\n",
      "\u001b[1m1/1\u001b[0m \u001b[32m━━━━━━━━━━━━━━━━━━━━\u001b[0m\u001b[37m\u001b[0m \u001b[1m0s\u001b[0m 20ms/step\n",
      "Paystub_25.jpg is classified as REAL with probability: 1.0\n",
      "\u001b[1m1/1\u001b[0m \u001b[32m━━━━━━━━━━━━━━━━━━━━\u001b[0m\u001b[37m\u001b[0m \u001b[1m0s\u001b[0m 28ms/step\n",
      "Paystub_26.jpg is classified as REAL with probability: 1.0\n",
      "\u001b[1m1/1\u001b[0m \u001b[32m━━━━━━━━━━━━━━━━━━━━\u001b[0m\u001b[37m\u001b[0m \u001b[1m0s\u001b[0m 29ms/step\n",
      "Paystub_27.jpg is classified as REAL with probability: 1.0\n",
      "\u001b[1m1/1\u001b[0m \u001b[32m━━━━━━━━━━━━━━━━━━━━\u001b[0m\u001b[37m\u001b[0m \u001b[1m0s\u001b[0m 29ms/step\n",
      "Paystub_28.jpg is classified as REAL with probability: 1.0\n",
      "\u001b[1m1/1\u001b[0m \u001b[32m━━━━━━━━━━━━━━━━━━━━\u001b[0m\u001b[37m\u001b[0m \u001b[1m0s\u001b[0m 27ms/step\n",
      "Paystub_29.jpg is classified as REAL with probability: 1.0\n",
      "\u001b[1m1/1\u001b[0m \u001b[32m━━━━━━━━━━━━━━━━━━━━\u001b[0m\u001b[37m\u001b[0m \u001b[1m0s\u001b[0m 21ms/step\n",
      "Paystub_3.jpg is classified as REAL with probability: 1.0\n",
      "\u001b[1m1/1\u001b[0m \u001b[32m━━━━━━━━━━━━━━━━━━━━\u001b[0m\u001b[37m\u001b[0m \u001b[1m0s\u001b[0m 24ms/step\n",
      "Paystub_30.jpg is classified as REAL with probability: 1.0\n",
      "\u001b[1m1/1\u001b[0m \u001b[32m━━━━━━━━━━━━━━━━━━━━\u001b[0m\u001b[37m\u001b[0m \u001b[1m0s\u001b[0m 30ms/step\n",
      "Paystub_31.jpg is classified as REAL with probability: 1.0\n",
      "\u001b[1m1/1\u001b[0m \u001b[32m━━━━━━━━━━━━━━━━━━━━\u001b[0m\u001b[37m\u001b[0m \u001b[1m0s\u001b[0m 25ms/step\n",
      "Paystub_32.jpg is classified as REAL with probability: 1.0\n",
      "\u001b[1m1/1\u001b[0m \u001b[32m━━━━━━━━━━━━━━━━━━━━\u001b[0m\u001b[37m\u001b[0m \u001b[1m0s\u001b[0m 32ms/step\n",
      "Paystub_33.jpg is classified as REAL with probability: 1.0\n",
      "\u001b[1m1/1\u001b[0m \u001b[32m━━━━━━━━━━━━━━━━━━━━\u001b[0m\u001b[37m\u001b[0m \u001b[1m0s\u001b[0m 24ms/step\n",
      "Paystub_34.jpg is classified as REAL with probability: 1.0\n",
      "\u001b[1m1/1\u001b[0m \u001b[32m━━━━━━━━━━━━━━━━━━━━\u001b[0m\u001b[37m\u001b[0m \u001b[1m0s\u001b[0m 22ms/step\n",
      "Paystub_35.jpg is classified as REAL with probability: 1.0\n",
      "\u001b[1m1/1\u001b[0m \u001b[32m━━━━━━━━━━━━━━━━━━━━\u001b[0m\u001b[37m\u001b[0m \u001b[1m0s\u001b[0m 23ms/step\n",
      "Paystub_36.jpg is classified as REAL with probability: 1.0\n",
      "\u001b[1m1/1\u001b[0m \u001b[32m━━━━━━━━━━━━━━━━━━━━\u001b[0m\u001b[37m\u001b[0m \u001b[1m0s\u001b[0m 29ms/step\n",
      "Paystub_37.jpg is classified as REAL with probability: 1.0\n",
      "\u001b[1m1/1\u001b[0m \u001b[32m━━━━━━━━━━━━━━━━━━━━\u001b[0m\u001b[37m\u001b[0m \u001b[1m0s\u001b[0m 24ms/step\n",
      "Paystub_38.jpg is classified as REAL with probability: 1.0\n",
      "\u001b[1m1/1\u001b[0m \u001b[32m━━━━━━━━━━━━━━━━━━━━\u001b[0m\u001b[37m\u001b[0m \u001b[1m0s\u001b[0m 25ms/step\n",
      "Paystub_39.jpg is classified as REAL with probability: 1.0\n",
      "\u001b[1m1/1\u001b[0m \u001b[32m━━━━━━━━━━━━━━━━━━━━\u001b[0m\u001b[37m\u001b[0m \u001b[1m0s\u001b[0m 23ms/step\n",
      "Paystub_4.jpg is classified as REAL with probability: 1.0\n",
      "\u001b[1m1/1\u001b[0m \u001b[32m━━━━━━━━━━━━━━━━━━━━\u001b[0m\u001b[37m\u001b[0m \u001b[1m0s\u001b[0m 26ms/step\n",
      "Paystub_40.jpg is classified as REAL with probability: 1.0\n",
      "\u001b[1m1/1\u001b[0m \u001b[32m━━━━━━━━━━━━━━━━━━━━\u001b[0m\u001b[37m\u001b[0m \u001b[1m0s\u001b[0m 26ms/step\n",
      "Paystub_41.jpg is classified as REAL with probability: 1.0\n",
      "\u001b[1m1/1\u001b[0m \u001b[32m━━━━━━━━━━━━━━━━━━━━\u001b[0m\u001b[37m\u001b[0m \u001b[1m0s\u001b[0m 29ms/step\n",
      "Paystub_42.jpg is classified as REAL with probability: 1.0\n",
      "\u001b[1m1/1\u001b[0m \u001b[32m━━━━━━━━━━━━━━━━━━━━\u001b[0m\u001b[37m\u001b[0m \u001b[1m0s\u001b[0m 26ms/step\n",
      "Paystub_43.jpg is classified as REAL with probability: 1.0\n",
      "\u001b[1m1/1\u001b[0m \u001b[32m━━━━━━━━━━━━━━━━━━━━\u001b[0m\u001b[37m\u001b[0m \u001b[1m0s\u001b[0m 24ms/step\n",
      "Paystub_44.jpg is classified as REAL with probability: 1.0\n",
      "\u001b[1m1/1\u001b[0m \u001b[32m━━━━━━━━━━━━━━━━━━━━\u001b[0m\u001b[37m\u001b[0m \u001b[1m0s\u001b[0m 35ms/step\n",
      "Paystub_45.jpg is classified as REAL with probability: 1.0\n",
      "\u001b[1m1/1\u001b[0m \u001b[32m━━━━━━━━━━━━━━━━━━━━\u001b[0m\u001b[37m\u001b[0m \u001b[1m0s\u001b[0m 28ms/step\n",
      "Paystub_46.jpg is classified as REAL with probability: 1.0\n",
      "\u001b[1m1/1\u001b[0m \u001b[32m━━━━━━━━━━━━━━━━━━━━\u001b[0m\u001b[37m\u001b[0m \u001b[1m0s\u001b[0m 26ms/step\n",
      "Paystub_47.jpg is classified as REAL with probability: 1.0\n",
      "\u001b[1m1/1\u001b[0m \u001b[32m━━━━━━━━━━━━━━━━━━━━\u001b[0m\u001b[37m\u001b[0m \u001b[1m0s\u001b[0m 24ms/step\n",
      "Paystub_48.jpg is classified as REAL with probability: 1.0\n",
      "\u001b[1m1/1\u001b[0m \u001b[32m━━━━━━━━━━━━━━━━━━━━\u001b[0m\u001b[37m\u001b[0m \u001b[1m0s\u001b[0m 30ms/step\n",
      "Paystub_49.jpg is classified as REAL with probability: 1.0\n",
      "\u001b[1m1/1\u001b[0m \u001b[32m━━━━━━━━━━━━━━━━━━━━\u001b[0m\u001b[37m\u001b[0m \u001b[1m0s\u001b[0m 20ms/step\n",
      "Paystub_5.jpg is classified as REAL with probability: 1.0\n",
      "\u001b[1m1/1\u001b[0m \u001b[32m━━━━━━━━━━━━━━━━━━━━\u001b[0m\u001b[37m\u001b[0m \u001b[1m0s\u001b[0m 20ms/step\n",
      "Paystub_50.jpg is classified as REAL with probability: 1.0\n",
      "\u001b[1m1/1\u001b[0m \u001b[32m━━━━━━━━━━━━━━━━━━━━\u001b[0m\u001b[37m\u001b[0m \u001b[1m0s\u001b[0m 38ms/step\n",
      "Paystub_51.jpg is classified as REAL with probability: 1.0\n",
      "\u001b[1m1/1\u001b[0m \u001b[32m━━━━━━━━━━━━━━━━━━━━\u001b[0m\u001b[37m\u001b[0m \u001b[1m0s\u001b[0m 24ms/step\n",
      "Paystub_52.jpg is classified as REAL with probability: 1.0\n",
      "\u001b[1m1/1\u001b[0m \u001b[32m━━━━━━━━━━━━━━━━━━━━\u001b[0m\u001b[37m\u001b[0m \u001b[1m0s\u001b[0m 20ms/step\n",
      "Paystub_53.jpg is classified as REAL with probability: 1.0\n",
      "\u001b[1m1/1\u001b[0m \u001b[32m━━━━━━━━━━━━━━━━━━━━\u001b[0m\u001b[37m\u001b[0m \u001b[1m0s\u001b[0m 27ms/step\n",
      "Paystub_54.jpg is classified as REAL with probability: 1.0\n",
      "\u001b[1m1/1\u001b[0m \u001b[32m━━━━━━━━━━━━━━━━━━━━\u001b[0m\u001b[37m\u001b[0m \u001b[1m0s\u001b[0m 24ms/step\n",
      "Paystub_55.jpg is classified as REAL with probability: 1.0\n",
      "\u001b[1m1/1\u001b[0m \u001b[32m━━━━━━━━━━━━━━━━━━━━\u001b[0m\u001b[37m\u001b[0m \u001b[1m0s\u001b[0m 20ms/step\n",
      "Paystub_56.jpg is classified as REAL with probability: 1.0\n",
      "\u001b[1m1/1\u001b[0m \u001b[32m━━━━━━━━━━━━━━━━━━━━\u001b[0m\u001b[37m\u001b[0m \u001b[1m0s\u001b[0m 23ms/step\n",
      "Paystub_57.jpg is classified as REAL with probability: 1.0\n",
      "\u001b[1m1/1\u001b[0m \u001b[32m━━━━━━━━━━━━━━━━━━━━\u001b[0m\u001b[37m\u001b[0m \u001b[1m0s\u001b[0m 24ms/step\n",
      "Paystub_58.jpg is classified as REAL with probability: 1.0\n",
      "\u001b[1m1/1\u001b[0m \u001b[32m━━━━━━━━━━━━━━━━━━━━\u001b[0m\u001b[37m\u001b[0m \u001b[1m0s\u001b[0m 20ms/step\n",
      "Paystub_59.jpg is classified as REAL with probability: 1.0\n",
      "\u001b[1m1/1\u001b[0m \u001b[32m━━━━━━━━━━━━━━━━━━━━\u001b[0m\u001b[37m\u001b[0m \u001b[1m0s\u001b[0m 20ms/step\n",
      "Paystub_6.jpg is classified as REAL with probability: 1.0\n",
      "\u001b[1m1/1\u001b[0m \u001b[32m━━━━━━━━━━━━━━━━━━━━\u001b[0m\u001b[37m\u001b[0m \u001b[1m0s\u001b[0m 30ms/step\n",
      "Paystub_60.jpg is classified as REAL with probability: 1.0\n",
      "\u001b[1m1/1\u001b[0m \u001b[32m━━━━━━━━━━━━━━━━━━━━\u001b[0m\u001b[37m\u001b[0m \u001b[1m0s\u001b[0m 27ms/step\n",
      "Paystub_61.jpg is classified as REAL with probability: 1.0\n",
      "\u001b[1m1/1\u001b[0m \u001b[32m━━━━━━━━━━━━━━━━━━━━\u001b[0m\u001b[37m\u001b[0m \u001b[1m0s\u001b[0m 28ms/step\n",
      "Paystub_62.jpg is classified as REAL with probability: 1.0\n",
      "\u001b[1m1/1\u001b[0m \u001b[32m━━━━━━━━━━━━━━━━━━━━\u001b[0m\u001b[37m\u001b[0m \u001b[1m0s\u001b[0m 24ms/step\n",
      "Paystub_63.jpg is classified as REAL with probability: 1.0\n",
      "\u001b[1m1/1\u001b[0m \u001b[32m━━━━━━━━━━━━━━━━━━━━\u001b[0m\u001b[37m\u001b[0m \u001b[1m0s\u001b[0m 22ms/step\n",
      "Paystub_64.jpg is classified as REAL with probability: 1.0\n",
      "\u001b[1m1/1\u001b[0m \u001b[32m━━━━━━━━━━━━━━━━━━━━\u001b[0m\u001b[37m\u001b[0m \u001b[1m0s\u001b[0m 25ms/step\n",
      "Paystub_65.jpg is classified as REAL with probability: 1.0\n",
      "\u001b[1m1/1\u001b[0m \u001b[32m━━━━━━━━━━━━━━━━━━━━\u001b[0m\u001b[37m\u001b[0m \u001b[1m0s\u001b[0m 32ms/step\n",
      "Paystub_66.jpg is classified as REAL with probability: 1.0\n",
      "\u001b[1m1/1\u001b[0m \u001b[32m━━━━━━━━━━━━━━━━━━━━\u001b[0m\u001b[37m\u001b[0m \u001b[1m0s\u001b[0m 18ms/step\n",
      "Paystub_67.jpg is classified as REAL with probability: 1.0\n",
      "\u001b[1m1/1\u001b[0m \u001b[32m━━━━━━━━━━━━━━━━━━━━\u001b[0m\u001b[37m\u001b[0m \u001b[1m0s\u001b[0m 26ms/step\n",
      "Paystub_68.jpg is classified as REAL with probability: 1.0\n",
      "\u001b[1m1/1\u001b[0m \u001b[32m━━━━━━━━━━━━━━━━━━━━\u001b[0m\u001b[37m\u001b[0m \u001b[1m0s\u001b[0m 27ms/step\n",
      "Paystub_69.jpg is classified as REAL with probability: 1.0\n",
      "\u001b[1m1/1\u001b[0m \u001b[32m━━━━━━━━━━━━━━━━━━━━\u001b[0m\u001b[37m\u001b[0m \u001b[1m0s\u001b[0m 24ms/step\n",
      "Paystub_7.jpg is classified as REAL with probability: 1.0\n",
      "\u001b[1m1/1\u001b[0m \u001b[32m━━━━━━━━━━━━━━━━━━━━\u001b[0m\u001b[37m\u001b[0m \u001b[1m0s\u001b[0m 24ms/step\n",
      "Paystub_70.jpg is classified as REAL with probability: 1.0\n",
      "\u001b[1m1/1\u001b[0m \u001b[32m━━━━━━━━━━━━━━━━━━━━\u001b[0m\u001b[37m\u001b[0m \u001b[1m0s\u001b[0m 24ms/step\n",
      "Paystub_71.jpg is classified as REAL with probability: 1.0\n",
      "\u001b[1m1/1\u001b[0m \u001b[32m━━━━━━━━━━━━━━━━━━━━\u001b[0m\u001b[37m\u001b[0m \u001b[1m0s\u001b[0m 28ms/step\n",
      "Paystub_72.jpg is classified as REAL with probability: 1.0\n",
      "\u001b[1m1/1\u001b[0m \u001b[32m━━━━━━━━━━━━━━━━━━━━\u001b[0m\u001b[37m\u001b[0m \u001b[1m0s\u001b[0m 25ms/step\n",
      "Paystub_73.jpg is classified as REAL with probability: 1.0\n",
      "\u001b[1m1/1\u001b[0m \u001b[32m━━━━━━━━━━━━━━━━━━━━\u001b[0m\u001b[37m\u001b[0m \u001b[1m0s\u001b[0m 29ms/step\n",
      "Paystub_74.jpg is classified as REAL with probability: 1.0\n",
      "\u001b[1m1/1\u001b[0m \u001b[32m━━━━━━━━━━━━━━━━━━━━\u001b[0m\u001b[37m\u001b[0m \u001b[1m0s\u001b[0m 24ms/step\n",
      "Paystub_75.jpg is classified as REAL with probability: 1.0\n",
      "\u001b[1m1/1\u001b[0m \u001b[32m━━━━━━━━━━━━━━━━━━━━\u001b[0m\u001b[37m\u001b[0m \u001b[1m0s\u001b[0m 27ms/step\n",
      "Paystub_76.jpg is classified as REAL with probability: 1.0\n",
      "\u001b[1m1/1\u001b[0m \u001b[32m━━━━━━━━━━━━━━━━━━━━\u001b[0m\u001b[37m\u001b[0m \u001b[1m0s\u001b[0m 31ms/step\n",
      "Paystub_77.jpg is classified as REAL with probability: 1.0\n",
      "\u001b[1m1/1\u001b[0m \u001b[32m━━━━━━━━━━━━━━━━━━━━\u001b[0m\u001b[37m\u001b[0m \u001b[1m0s\u001b[0m 22ms/step\n",
      "Paystub_78.jpg is classified as REAL with probability: 1.0\n",
      "\u001b[1m1/1\u001b[0m \u001b[32m━━━━━━━━━━━━━━━━━━━━\u001b[0m\u001b[37m\u001b[0m \u001b[1m0s\u001b[0m 24ms/step\n",
      "Paystub_79.jpg is classified as REAL with probability: 1.0\n",
      "\u001b[1m1/1\u001b[0m \u001b[32m━━━━━━━━━━━━━━━━━━━━\u001b[0m\u001b[37m\u001b[0m \u001b[1m0s\u001b[0m 20ms/step\n",
      "Paystub_8.jpg is classified as REAL with probability: 1.0\n",
      "\u001b[1m1/1\u001b[0m \u001b[32m━━━━━━━━━━━━━━━━━━━━\u001b[0m\u001b[37m\u001b[0m \u001b[1m0s\u001b[0m 30ms/step\n",
      "Paystub_80.jpg is classified as REAL with probability: 1.0\n",
      "\u001b[1m1/1\u001b[0m \u001b[32m━━━━━━━━━━━━━━━━━━━━\u001b[0m\u001b[37m\u001b[0m \u001b[1m0s\u001b[0m 25ms/step\n",
      "Paystub_81.jpg is classified as REAL with probability: 1.0\n",
      "\u001b[1m1/1\u001b[0m \u001b[32m━━━━━━━━━━━━━━━━━━━━\u001b[0m\u001b[37m\u001b[0m \u001b[1m0s\u001b[0m 33ms/step\n",
      "Paystub_82.jpg is classified as REAL with probability: 1.0\n",
      "\u001b[1m1/1\u001b[0m \u001b[32m━━━━━━━━━━━━━━━━━━━━\u001b[0m\u001b[37m\u001b[0m \u001b[1m0s\u001b[0m 27ms/step\n",
      "Paystub_83.jpg is classified as REAL with probability: 1.0\n",
      "\u001b[1m1/1\u001b[0m \u001b[32m━━━━━━━━━━━━━━━━━━━━\u001b[0m\u001b[37m\u001b[0m \u001b[1m0s\u001b[0m 20ms/step\n",
      "Paystub_84.jpg is classified as REAL with probability: 1.0\n",
      "\u001b[1m1/1\u001b[0m \u001b[32m━━━━━━━━━━━━━━━━━━━━\u001b[0m\u001b[37m\u001b[0m \u001b[1m0s\u001b[0m 23ms/step\n",
      "Paystub_85.jpg is classified as REAL with probability: 1.0\n",
      "\u001b[1m1/1\u001b[0m \u001b[32m━━━━━━━━━━━━━━━━━━━━\u001b[0m\u001b[37m\u001b[0m \u001b[1m0s\u001b[0m 23ms/step\n",
      "Paystub_86.jpg is classified as REAL with probability: 1.0\n",
      "\u001b[1m1/1\u001b[0m \u001b[32m━━━━━━━━━━━━━━━━━━━━\u001b[0m\u001b[37m\u001b[0m \u001b[1m0s\u001b[0m 16ms/step\n",
      "Paystub_87.jpg is classified as REAL with probability: 1.0\n",
      "\u001b[1m1/1\u001b[0m \u001b[32m━━━━━━━━━━━━━━━━━━━━\u001b[0m\u001b[37m\u001b[0m \u001b[1m0s\u001b[0m 32ms/step\n",
      "Paystub_88.jpg is classified as REAL with probability: 1.0\n",
      "\u001b[1m1/1\u001b[0m \u001b[32m━━━━━━━━━━━━━━━━━━━━\u001b[0m\u001b[37m\u001b[0m \u001b[1m0s\u001b[0m 23ms/step\n",
      "Paystub_89.jpg is classified as REAL with probability: 1.0\n",
      "\u001b[1m1/1\u001b[0m \u001b[32m━━━━━━━━━━━━━━━━━━━━\u001b[0m\u001b[37m\u001b[0m \u001b[1m0s\u001b[0m 24ms/step\n",
      "Paystub_9.jpg is classified as REAL with probability: 1.0\n",
      "\u001b[1m1/1\u001b[0m \u001b[32m━━━━━━━━━━━━━━━━━━━━\u001b[0m\u001b[37m\u001b[0m \u001b[1m0s\u001b[0m 29ms/step\n",
      "Paystub_90.jpg is classified as REAL with probability: 1.0\n",
      "\u001b[1m1/1\u001b[0m \u001b[32m━━━━━━━━━━━━━━━━━━━━\u001b[0m\u001b[37m\u001b[0m \u001b[1m0s\u001b[0m 20ms/step\n",
      "Paystub_91.jpg is classified as REAL with probability: 1.0\n",
      "\u001b[1m1/1\u001b[0m \u001b[32m━━━━━━━━━━━━━━━━━━━━\u001b[0m\u001b[37m\u001b[0m \u001b[1m0s\u001b[0m 24ms/step\n",
      "Paystub_92.jpg is classified as REAL with probability: 1.0\n",
      "\u001b[1m1/1\u001b[0m \u001b[32m━━━━━━━━━━━━━━━━━━━━\u001b[0m\u001b[37m\u001b[0m \u001b[1m0s\u001b[0m 30ms/step\n",
      "Paystub_93.jpg is classified as REAL with probability: 1.0\n",
      "\u001b[1m1/1\u001b[0m \u001b[32m━━━━━━━━━━━━━━━━━━━━\u001b[0m\u001b[37m\u001b[0m \u001b[1m0s\u001b[0m 20ms/step\n",
      "Paystub_94.jpg is classified as REAL with probability: 1.0\n",
      "\u001b[1m1/1\u001b[0m \u001b[32m━━━━━━━━━━━━━━━━━━━━\u001b[0m\u001b[37m\u001b[0m \u001b[1m0s\u001b[0m 23ms/step\n",
      "Paystub_95.jpg is classified as REAL with probability: 1.0\n",
      "\u001b[1m1/1\u001b[0m \u001b[32m━━━━━━━━━━━━━━━━━━━━\u001b[0m\u001b[37m\u001b[0m \u001b[1m0s\u001b[0m 24ms/step\n",
      "Paystub_96.jpg is classified as REAL with probability: 1.0\n",
      "\u001b[1m1/1\u001b[0m \u001b[32m━━━━━━━━━━━━━━━━━━━━\u001b[0m\u001b[37m\u001b[0m \u001b[1m0s\u001b[0m 32ms/step\n",
      "Paystub_97.jpg is classified as REAL with probability: 1.0\n",
      "\u001b[1m1/1\u001b[0m \u001b[32m━━━━━━━━━━━━━━━━━━━━\u001b[0m\u001b[37m\u001b[0m \u001b[1m0s\u001b[0m 20ms/step\n",
      "Paystub_98.jpg is classified as REAL with probability: 1.0\n",
      "\u001b[1m1/1\u001b[0m \u001b[32m━━━━━━━━━━━━━━━━━━━━\u001b[0m\u001b[37m\u001b[0m \u001b[1m0s\u001b[0m 31ms/step\n",
      "Paystub_99.jpg is classified as REAL with probability: 1.0\n"
     ]
    }
   ],
   "source": [
    "model_path = \"model/1.keras\"\n",
    "try:\n",
    "    model = load_model(model_path)\n",
    "except Exception as e:\n",
    "    print(\"Error loading the model:\", str(e))\n",
    "    exit()\n",
    "\n",
    "# Iterate through images and classify\n",
    "for category in os.listdir(images_folder):\n",
    "    category_path = os.path.join(images_folder, category)\n",
    "    if os.path.isdir(category_path):\n",
    "        for image_file in os.listdir(category_path):\n",
    "            if image_file.lower().endswith(('.png', '.jpg', '.jpeg')):\n",
    "                image_path = os.path.join(category_path, image_file)\n",
    "                try:\n",
    "                    img = preprocess_image(image_path, apply_noise=True, noise_level=25)\n",
    "\n",
    "                    # Reshape for model input\n",
    "                    img = np.expand_dims(img, axis=0)\n",
    "                    # Predict\n",
    "                    probabilities = model.predict(img)[0]\n",
    "                    authenticity = np.argmax(probabilities)\n",
    "                    if category == \"original\" and authenticity == 0:\n",
    "                        print(f\"{image_file} is classified as REAL with probability: {probabilities[authenticity]}\")\n",
    "                    elif category == \"tampered\" and authenticity == 1:\n",
    "                        print(f\"{image_file} is classified as FAKE with probability: {probabilities[authenticity]}\")\n",
    "                    else:\n",
    "                        print(f\"{image_file} is classified incorrectly.\")\n",
    "                except Exception as e:\n",
    "                    print(f\"Error processing {image_file}: {str(e)}\")"
   ]
  }
 ],
 "metadata": {
  "availableInstances": [
   {
    "_defaultOrder": 0,
    "_isFastLaunch": true,
    "category": "General purpose",
    "gpuNum": 0,
    "hideHardwareSpecs": false,
    "memoryGiB": 4,
    "name": "ml.t3.medium",
    "vcpuNum": 2
   },
   {
    "_defaultOrder": 1,
    "_isFastLaunch": false,
    "category": "General purpose",
    "gpuNum": 0,
    "hideHardwareSpecs": false,
    "memoryGiB": 8,
    "name": "ml.t3.large",
    "vcpuNum": 2
   },
   {
    "_defaultOrder": 2,
    "_isFastLaunch": false,
    "category": "General purpose",
    "gpuNum": 0,
    "hideHardwareSpecs": false,
    "memoryGiB": 16,
    "name": "ml.t3.xlarge",
    "vcpuNum": 4
   },
   {
    "_defaultOrder": 3,
    "_isFastLaunch": false,
    "category": "General purpose",
    "gpuNum": 0,
    "hideHardwareSpecs": false,
    "memoryGiB": 32,
    "name": "ml.t3.2xlarge",
    "vcpuNum": 8
   },
   {
    "_defaultOrder": 4,
    "_isFastLaunch": true,
    "category": "General purpose",
    "gpuNum": 0,
    "hideHardwareSpecs": false,
    "memoryGiB": 8,
    "name": "ml.m5.large",
    "vcpuNum": 2
   },
   {
    "_defaultOrder": 5,
    "_isFastLaunch": false,
    "category": "General purpose",
    "gpuNum": 0,
    "hideHardwareSpecs": false,
    "memoryGiB": 16,
    "name": "ml.m5.xlarge",
    "vcpuNum": 4
   },
   {
    "_defaultOrder": 6,
    "_isFastLaunch": false,
    "category": "General purpose",
    "gpuNum": 0,
    "hideHardwareSpecs": false,
    "memoryGiB": 32,
    "name": "ml.m5.2xlarge",
    "vcpuNum": 8
   },
   {
    "_defaultOrder": 7,
    "_isFastLaunch": false,
    "category": "General purpose",
    "gpuNum": 0,
    "hideHardwareSpecs": false,
    "memoryGiB": 64,
    "name": "ml.m5.4xlarge",
    "vcpuNum": 16
   },
   {
    "_defaultOrder": 8,
    "_isFastLaunch": false,
    "category": "General purpose",
    "gpuNum": 0,
    "hideHardwareSpecs": false,
    "memoryGiB": 128,
    "name": "ml.m5.8xlarge",
    "vcpuNum": 32
   },
   {
    "_defaultOrder": 9,
    "_isFastLaunch": false,
    "category": "General purpose",
    "gpuNum": 0,
    "hideHardwareSpecs": false,
    "memoryGiB": 192,
    "name": "ml.m5.12xlarge",
    "vcpuNum": 48
   },
   {
    "_defaultOrder": 10,
    "_isFastLaunch": false,
    "category": "General purpose",
    "gpuNum": 0,
    "hideHardwareSpecs": false,
    "memoryGiB": 256,
    "name": "ml.m5.16xlarge",
    "vcpuNum": 64
   },
   {
    "_defaultOrder": 11,
    "_isFastLaunch": false,
    "category": "General purpose",
    "gpuNum": 0,
    "hideHardwareSpecs": false,
    "memoryGiB": 384,
    "name": "ml.m5.24xlarge",
    "vcpuNum": 96
   },
   {
    "_defaultOrder": 12,
    "_isFastLaunch": false,
    "category": "General purpose",
    "gpuNum": 0,
    "hideHardwareSpecs": false,
    "memoryGiB": 8,
    "name": "ml.m5d.large",
    "vcpuNum": 2
   },
   {
    "_defaultOrder": 13,
    "_isFastLaunch": false,
    "category": "General purpose",
    "gpuNum": 0,
    "hideHardwareSpecs": false,
    "memoryGiB": 16,
    "name": "ml.m5d.xlarge",
    "vcpuNum": 4
   },
   {
    "_defaultOrder": 14,
    "_isFastLaunch": false,
    "category": "General purpose",
    "gpuNum": 0,
    "hideHardwareSpecs": false,
    "memoryGiB": 32,
    "name": "ml.m5d.2xlarge",
    "vcpuNum": 8
   },
   {
    "_defaultOrder": 15,
    "_isFastLaunch": false,
    "category": "General purpose",
    "gpuNum": 0,
    "hideHardwareSpecs": false,
    "memoryGiB": 64,
    "name": "ml.m5d.4xlarge",
    "vcpuNum": 16
   },
   {
    "_defaultOrder": 16,
    "_isFastLaunch": false,
    "category": "General purpose",
    "gpuNum": 0,
    "hideHardwareSpecs": false,
    "memoryGiB": 128,
    "name": "ml.m5d.8xlarge",
    "vcpuNum": 32
   },
   {
    "_defaultOrder": 17,
    "_isFastLaunch": false,
    "category": "General purpose",
    "gpuNum": 0,
    "hideHardwareSpecs": false,
    "memoryGiB": 192,
    "name": "ml.m5d.12xlarge",
    "vcpuNum": 48
   },
   {
    "_defaultOrder": 18,
    "_isFastLaunch": false,
    "category": "General purpose",
    "gpuNum": 0,
    "hideHardwareSpecs": false,
    "memoryGiB": 256,
    "name": "ml.m5d.16xlarge",
    "vcpuNum": 64
   },
   {
    "_defaultOrder": 19,
    "_isFastLaunch": false,
    "category": "General purpose",
    "gpuNum": 0,
    "hideHardwareSpecs": false,
    "memoryGiB": 384,
    "name": "ml.m5d.24xlarge",
    "vcpuNum": 96
   },
   {
    "_defaultOrder": 20,
    "_isFastLaunch": false,
    "category": "General purpose",
    "gpuNum": 0,
    "hideHardwareSpecs": true,
    "memoryGiB": 0,
    "name": "ml.geospatial.interactive",
    "supportedImageNames": [
     "sagemaker-geospatial-v1-0"
    ],
    "vcpuNum": 0
   },
   {
    "_defaultOrder": 21,
    "_isFastLaunch": true,
    "category": "Compute optimized",
    "gpuNum": 0,
    "hideHardwareSpecs": false,
    "memoryGiB": 4,
    "name": "ml.c5.large",
    "vcpuNum": 2
   },
   {
    "_defaultOrder": 22,
    "_isFastLaunch": false,
    "category": "Compute optimized",
    "gpuNum": 0,
    "hideHardwareSpecs": false,
    "memoryGiB": 8,
    "name": "ml.c5.xlarge",
    "vcpuNum": 4
   },
   {
    "_defaultOrder": 23,
    "_isFastLaunch": false,
    "category": "Compute optimized",
    "gpuNum": 0,
    "hideHardwareSpecs": false,
    "memoryGiB": 16,
    "name": "ml.c5.2xlarge",
    "vcpuNum": 8
   },
   {
    "_defaultOrder": 24,
    "_isFastLaunch": false,
    "category": "Compute optimized",
    "gpuNum": 0,
    "hideHardwareSpecs": false,
    "memoryGiB": 32,
    "name": "ml.c5.4xlarge",
    "vcpuNum": 16
   },
   {
    "_defaultOrder": 25,
    "_isFastLaunch": false,
    "category": "Compute optimized",
    "gpuNum": 0,
    "hideHardwareSpecs": false,
    "memoryGiB": 72,
    "name": "ml.c5.9xlarge",
    "vcpuNum": 36
   },
   {
    "_defaultOrder": 26,
    "_isFastLaunch": false,
    "category": "Compute optimized",
    "gpuNum": 0,
    "hideHardwareSpecs": false,
    "memoryGiB": 96,
    "name": "ml.c5.12xlarge",
    "vcpuNum": 48
   },
   {
    "_defaultOrder": 27,
    "_isFastLaunch": false,
    "category": "Compute optimized",
    "gpuNum": 0,
    "hideHardwareSpecs": false,
    "memoryGiB": 144,
    "name": "ml.c5.18xlarge",
    "vcpuNum": 72
   },
   {
    "_defaultOrder": 28,
    "_isFastLaunch": false,
    "category": "Compute optimized",
    "gpuNum": 0,
    "hideHardwareSpecs": false,
    "memoryGiB": 192,
    "name": "ml.c5.24xlarge",
    "vcpuNum": 96
   },
   {
    "_defaultOrder": 29,
    "_isFastLaunch": true,
    "category": "Accelerated computing",
    "gpuNum": 1,
    "hideHardwareSpecs": false,
    "memoryGiB": 16,
    "name": "ml.g4dn.xlarge",
    "vcpuNum": 4
   },
   {
    "_defaultOrder": 30,
    "_isFastLaunch": false,
    "category": "Accelerated computing",
    "gpuNum": 1,
    "hideHardwareSpecs": false,
    "memoryGiB": 32,
    "name": "ml.g4dn.2xlarge",
    "vcpuNum": 8
   },
   {
    "_defaultOrder": 31,
    "_isFastLaunch": false,
    "category": "Accelerated computing",
    "gpuNum": 1,
    "hideHardwareSpecs": false,
    "memoryGiB": 64,
    "name": "ml.g4dn.4xlarge",
    "vcpuNum": 16
   },
   {
    "_defaultOrder": 32,
    "_isFastLaunch": false,
    "category": "Accelerated computing",
    "gpuNum": 1,
    "hideHardwareSpecs": false,
    "memoryGiB": 128,
    "name": "ml.g4dn.8xlarge",
    "vcpuNum": 32
   },
   {
    "_defaultOrder": 33,
    "_isFastLaunch": false,
    "category": "Accelerated computing",
    "gpuNum": 4,
    "hideHardwareSpecs": false,
    "memoryGiB": 192,
    "name": "ml.g4dn.12xlarge",
    "vcpuNum": 48
   },
   {
    "_defaultOrder": 34,
    "_isFastLaunch": false,
    "category": "Accelerated computing",
    "gpuNum": 1,
    "hideHardwareSpecs": false,
    "memoryGiB": 256,
    "name": "ml.g4dn.16xlarge",
    "vcpuNum": 64
   },
   {
    "_defaultOrder": 35,
    "_isFastLaunch": false,
    "category": "Accelerated computing",
    "gpuNum": 1,
    "hideHardwareSpecs": false,
    "memoryGiB": 61,
    "name": "ml.p3.2xlarge",
    "vcpuNum": 8
   },
   {
    "_defaultOrder": 36,
    "_isFastLaunch": false,
    "category": "Accelerated computing",
    "gpuNum": 4,
    "hideHardwareSpecs": false,
    "memoryGiB": 244,
    "name": "ml.p3.8xlarge",
    "vcpuNum": 32
   },
   {
    "_defaultOrder": 37,
    "_isFastLaunch": false,
    "category": "Accelerated computing",
    "gpuNum": 8,
    "hideHardwareSpecs": false,
    "memoryGiB": 488,
    "name": "ml.p3.16xlarge",
    "vcpuNum": 64
   },
   {
    "_defaultOrder": 38,
    "_isFastLaunch": false,
    "category": "Accelerated computing",
    "gpuNum": 8,
    "hideHardwareSpecs": false,
    "memoryGiB": 768,
    "name": "ml.p3dn.24xlarge",
    "vcpuNum": 96
   },
   {
    "_defaultOrder": 39,
    "_isFastLaunch": false,
    "category": "Memory Optimized",
    "gpuNum": 0,
    "hideHardwareSpecs": false,
    "memoryGiB": 16,
    "name": "ml.r5.large",
    "vcpuNum": 2
   },
   {
    "_defaultOrder": 40,
    "_isFastLaunch": false,
    "category": "Memory Optimized",
    "gpuNum": 0,
    "hideHardwareSpecs": false,
    "memoryGiB": 32,
    "name": "ml.r5.xlarge",
    "vcpuNum": 4
   },
   {
    "_defaultOrder": 41,
    "_isFastLaunch": false,
    "category": "Memory Optimized",
    "gpuNum": 0,
    "hideHardwareSpecs": false,
    "memoryGiB": 64,
    "name": "ml.r5.2xlarge",
    "vcpuNum": 8
   },
   {
    "_defaultOrder": 42,
    "_isFastLaunch": false,
    "category": "Memory Optimized",
    "gpuNum": 0,
    "hideHardwareSpecs": false,
    "memoryGiB": 128,
    "name": "ml.r5.4xlarge",
    "vcpuNum": 16
   },
   {
    "_defaultOrder": 43,
    "_isFastLaunch": false,
    "category": "Memory Optimized",
    "gpuNum": 0,
    "hideHardwareSpecs": false,
    "memoryGiB": 256,
    "name": "ml.r5.8xlarge",
    "vcpuNum": 32
   },
   {
    "_defaultOrder": 44,
    "_isFastLaunch": false,
    "category": "Memory Optimized",
    "gpuNum": 0,
    "hideHardwareSpecs": false,
    "memoryGiB": 384,
    "name": "ml.r5.12xlarge",
    "vcpuNum": 48
   },
   {
    "_defaultOrder": 45,
    "_isFastLaunch": false,
    "category": "Memory Optimized",
    "gpuNum": 0,
    "hideHardwareSpecs": false,
    "memoryGiB": 512,
    "name": "ml.r5.16xlarge",
    "vcpuNum": 64
   },
   {
    "_defaultOrder": 46,
    "_isFastLaunch": false,
    "category": "Memory Optimized",
    "gpuNum": 0,
    "hideHardwareSpecs": false,
    "memoryGiB": 768,
    "name": "ml.r5.24xlarge",
    "vcpuNum": 96
   },
   {
    "_defaultOrder": 47,
    "_isFastLaunch": false,
    "category": "Accelerated computing",
    "gpuNum": 1,
    "hideHardwareSpecs": false,
    "memoryGiB": 16,
    "name": "ml.g5.xlarge",
    "vcpuNum": 4
   },
   {
    "_defaultOrder": 48,
    "_isFastLaunch": false,
    "category": "Accelerated computing",
    "gpuNum": 1,
    "hideHardwareSpecs": false,
    "memoryGiB": 32,
    "name": "ml.g5.2xlarge",
    "vcpuNum": 8
   },
   {
    "_defaultOrder": 49,
    "_isFastLaunch": false,
    "category": "Accelerated computing",
    "gpuNum": 1,
    "hideHardwareSpecs": false,
    "memoryGiB": 64,
    "name": "ml.g5.4xlarge",
    "vcpuNum": 16
   },
   {
    "_defaultOrder": 50,
    "_isFastLaunch": false,
    "category": "Accelerated computing",
    "gpuNum": 1,
    "hideHardwareSpecs": false,
    "memoryGiB": 128,
    "name": "ml.g5.8xlarge",
    "vcpuNum": 32
   },
   {
    "_defaultOrder": 51,
    "_isFastLaunch": false,
    "category": "Accelerated computing",
    "gpuNum": 1,
    "hideHardwareSpecs": false,
    "memoryGiB": 256,
    "name": "ml.g5.16xlarge",
    "vcpuNum": 64
   },
   {
    "_defaultOrder": 52,
    "_isFastLaunch": false,
    "category": "Accelerated computing",
    "gpuNum": 4,
    "hideHardwareSpecs": false,
    "memoryGiB": 192,
    "name": "ml.g5.12xlarge",
    "vcpuNum": 48
   },
   {
    "_defaultOrder": 53,
    "_isFastLaunch": false,
    "category": "Accelerated computing",
    "gpuNum": 4,
    "hideHardwareSpecs": false,
    "memoryGiB": 384,
    "name": "ml.g5.24xlarge",
    "vcpuNum": 96
   },
   {
    "_defaultOrder": 54,
    "_isFastLaunch": false,
    "category": "Accelerated computing",
    "gpuNum": 8,
    "hideHardwareSpecs": false,
    "memoryGiB": 768,
    "name": "ml.g5.48xlarge",
    "vcpuNum": 192
   },
   {
    "_defaultOrder": 55,
    "_isFastLaunch": false,
    "category": "Accelerated computing",
    "gpuNum": 8,
    "hideHardwareSpecs": false,
    "memoryGiB": 1152,
    "name": "ml.p4d.24xlarge",
    "vcpuNum": 96
   },
   {
    "_defaultOrder": 56,
    "_isFastLaunch": false,
    "category": "Accelerated computing",
    "gpuNum": 8,
    "hideHardwareSpecs": false,
    "memoryGiB": 1152,
    "name": "ml.p4de.24xlarge",
    "vcpuNum": 96
   },
   {
    "_defaultOrder": 57,
    "_isFastLaunch": false,
    "category": "Accelerated computing",
    "gpuNum": 0,
    "hideHardwareSpecs": false,
    "memoryGiB": 32,
    "name": "ml.trn1.2xlarge",
    "vcpuNum": 8
   },
   {
    "_defaultOrder": 58,
    "_isFastLaunch": false,
    "category": "Accelerated computing",
    "gpuNum": 0,
    "hideHardwareSpecs": false,
    "memoryGiB": 512,
    "name": "ml.trn1.32xlarge",
    "vcpuNum": 128
   },
   {
    "_defaultOrder": 59,
    "_isFastLaunch": false,
    "category": "Accelerated computing",
    "gpuNum": 0,
    "hideHardwareSpecs": false,
    "memoryGiB": 512,
    "name": "ml.trn1n.32xlarge",
    "vcpuNum": 128
   }
  ],
  "instance_type": "ml.m5d.24xlarge",
  "kernelspec": {
   "display_name": "venv",
   "language": "python",
   "name": "python3"
  },
  "language_info": {
   "codemirror_mode": {
    "name": "ipython",
    "version": 3
   },
   "file_extension": ".py",
   "mimetype": "text/x-python",
   "name": "python",
   "nbconvert_exporter": "python",
   "pygments_lexer": "ipython3",
   "version": "3.11.6"
  }
 },
 "nbformat": 4,
 "nbformat_minor": 5
}
