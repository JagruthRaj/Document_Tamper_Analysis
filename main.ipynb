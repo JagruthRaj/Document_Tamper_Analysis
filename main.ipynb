{
 "cells": [
  {
   "cell_type": "code",
   "execution_count": 6,
   "metadata": {},
   "outputs": [],
   "source": [
    "import os\n",
    "import cv2\n",
    "import numpy as np\n",
    "import pytesseract\n",
    "from PIL import Image, ImageChops, ImageEnhance\n",
    "from tqdm import tqdm\n",
    "from langdetect import detect\n",
    "import matplotlib.pyplot as plt\n",
    "from sklearn.model_selection import train_test_split\n",
    "from tensorflow.keras.utils import to_categorical\n",
    "from tensorflow.keras.models import Sequential\n",
    "from tensorflow.keras.layers import Dense, Dropout, Flatten, Conv2D, MaxPooling2D, BatchNormalization\n",
    "from tensorflow.keras.callbacks import ReduceLROnPlateau, EarlyStopping\n",
    "from tensorflow.keras.preprocessing.image import ImageDataGenerator\n",
    "import pandas as pd\n",
    "from spellchecker import SpellChecker\n",
    "from collections import defaultdict\n",
    "from pdf2image import convert_from_path\n",
    "import tempfile\n",
    "from sklearn.preprocessing import LabelEncoder\n",
    "from tensorflow.keras.applications import VGG16\n",
    "from tensorflow.keras.models import Model\n",
    "\n",
    "# Set seed for reproducibility\n",
    "np.random.seed(2)\n",
    "\n",
    "# Define the path to Tesseract\n",
    "pytesseract.pytesseract.tesseract_cmd = r'C:\\Program Files\\Tesseract-OCR\\tesseract.exe'\n"
   ]
  },
  {
   "cell_type": "code",
   "execution_count": 7,
   "metadata": {},
   "outputs": [],
   "source": [
    "img_size = 128\n",
    "spell = SpellChecker()\n",
    "\n",
    "# Error Level Analysis (ELA) Conversion\n",
    "def convert_to_ela_image(path, quality=90):\n",
    "    try:\n",
    "        original_image = Image.open(path).convert('RGB')\n",
    "        resaved_path = 'resaved.jpg'\n",
    "        original_image.save(resaved_path, 'JPEG', quality=quality)\n",
    "        resaved_image = Image.open(resaved_path)\n",
    "        ela_image = ImageChops.difference(original_image, resaved_image)\n",
    "        extrema = ela_image.getextrema()\n",
    "        max_diff = max([ex[1] for ex in extrema])\n",
    "        if max_diff == 0:\n",
    "            max_diff = 1\n",
    "        scale = 255.0 / max_diff\n",
    "        ela_image = ImageEnhance.Brightness(ela_image).enhance(scale)\n",
    "        return ela_image\n",
    "    except Exception as e:\n",
    "        print(f\"Error in convert_to_ela_image for {path}: {str(e)}\")\n",
    "        raise\n"
   ]
  },
  {
   "cell_type": "code",
   "execution_count": 4,
   "metadata": {},
   "outputs": [],
   "source": [
    "def is_image(file_path):\n",
    "    return any(file_path.lower().endswith(ext) for ext in ['.jpg', '.jpeg', '.png', '.bmp', '.gif'])\n",
    "\n",
    "\n",
    "# Function to build image list from a given directory\n",
    "def build_image_list(folder):\n",
    "    images = []\n",
    "    for entry in os.listdir(folder):\n",
    "        image_path = os.path.join(folder, entry)\n",
    "        if is_image(image_path):\n",
    "            images.append(image_path)\n",
    "    return images\n",
    "\n",
    "\n",
    "def detect_language(text):\n",
    "    try:\n",
    "        return detect(text)\n",
    "    except:\n",
    "        return 'unknown'"
   ]
  },
  {
   "cell_type": "code",
   "execution_count": 8,
   "metadata": {},
   "outputs": [],
   "source": [
    "custom_path_original = 'images/training/original'\n",
    "custom_path_tampered = 'images/training/forged'\n",
    "\n",
    "image_list = build_image_list(custom_path_original) + build_image_list(custom_path_tampered)\n"
   ]
  },
  {
   "cell_type": "code",
   "execution_count": 9,
   "metadata": {},
   "outputs": [],
   "source": [
    "def check_image_quality(image_path):\n",
    "    img = cv2.imread(image_path, cv2.IMREAD_GRAYSCALE)\n",
    "    blur = cv2.Laplacian(img, cv2.CV_64F).var()\n",
    "    return blur >= 100\n",
    "\n",
    "# Extract text from image and detect the language\n",
    "def extract_text_and_detect_language(image_path):\n",
    "    try:\n",
    "        if not check_image_quality(image_path):\n",
    "            raise ValueError(\"Image is too blurry.\")\n",
    "        \n",
    "        text = pytesseract.image_to_string(Image.open(image_path))\n",
    "        if not text.strip():\n",
    "            raise ValueError(\"No text found in image.\")\n",
    "        return text, detect(text)\n",
    "    except Exception as e:\n",
    "        print(f\"Error processing {image_path}: {str(e)}\")\n",
    "        return None, 'unknown'"
   ]
  },
  {
   "cell_type": "code",
   "execution_count": 14,
   "metadata": {},
   "outputs": [
    {
     "name": "stderr",
     "output_type": "stream",
     "text": [
      "  1%|          | 34/4818 [00:15<27:49,  2.87it/s] "
     ]
    },
    {
     "name": "stdout",
     "output_type": "stream",
     "text": [
      "Error processing images/training/original\\0000106745.jpg: No features in text.\n"
     ]
    },
    {
     "name": "stderr",
     "output_type": "stream",
     "text": [
      "  1%|          | 39/4818 [00:17<17:31,  4.54it/s]"
     ]
    },
    {
     "name": "stdout",
     "output_type": "stream",
     "text": [
      "Error processing images/training/original\\0000116109.jpg: No text found in image.\n",
      "Error processing images/training/original\\0000126151.jpg: No text found in image.\n"
     ]
    },
    {
     "name": "stderr",
     "output_type": "stream",
     "text": [
      "  2%|▏         | 83/4818 [00:37<29:13,  2.70it/s]"
     ]
    },
    {
     "name": "stdout",
     "output_type": "stream",
     "text": [
      "Error processing images/training/original\\0000261012.jpg: No text found in image.\n"
     ]
    },
    {
     "name": "stderr",
     "output_type": "stream",
     "text": [
      "  2%|▏         | 101/4818 [00:44<22:07,  3.55it/s]"
     ]
    },
    {
     "name": "stdout",
     "output_type": "stream",
     "text": [
      "Error processing images/training/original\\0000386133.jpg: No text found in image.\n"
     ]
    },
    {
     "name": "stderr",
     "output_type": "stream",
     "text": [
      "  2%|▏         | 103/4818 [00:44<17:32,  4.48it/s]"
     ]
    },
    {
     "name": "stdout",
     "output_type": "stream",
     "text": [
      "Error processing images/training/original\\0000400100.jpg: No text found in image.\n"
     ]
    },
    {
     "name": "stderr",
     "output_type": "stream",
     "text": [
      "  2%|▏         | 105/4818 [00:45<22:21,  3.51it/s]"
     ]
    },
    {
     "name": "stdout",
     "output_type": "stream",
     "text": [
      "Error processing images/training/original\\0000417173.jpg: No text found in image.\n"
     ]
    },
    {
     "name": "stderr",
     "output_type": "stream",
     "text": [
      "  2%|▏         | 108/4818 [00:46<16:59,  4.62it/s]"
     ]
    },
    {
     "name": "stdout",
     "output_type": "stream",
     "text": [
      "Error processing images/training/original\\0000426350.jpg: No text found in image.\n",
      "Error processing images/training/original\\0000429949.jpg: No text found in image.\n"
     ]
    },
    {
     "name": "stderr",
     "output_type": "stream",
     "text": [
      "  2%|▏         | 110/4818 [00:46<16:10,  4.85it/s]"
     ]
    },
    {
     "name": "stdout",
     "output_type": "stream",
     "text": [
      "Error processing images/training/original\\0000437618.jpg: No text found in image.\n"
     ]
    },
    {
     "name": "stderr",
     "output_type": "stream",
     "text": [
      "  2%|▏         | 119/4818 [00:48<19:02,  4.11it/s]"
     ]
    },
    {
     "name": "stdout",
     "output_type": "stream",
     "text": [
      "Error processing images/training/original\\0000472587.jpg: No text found in image.\n"
     ]
    },
    {
     "name": "stderr",
     "output_type": "stream",
     "text": [
      "  3%|▎         | 127/4818 [00:51<23:30,  3.33it/s]"
     ]
    },
    {
     "name": "stdout",
     "output_type": "stream",
     "text": [
      "Error processing images/training/original\\0000565309.jpg: No text found in image.\n"
     ]
    },
    {
     "name": "stderr",
     "output_type": "stream",
     "text": [
      "  3%|▎         | 133/4818 [00:55<40:26,  1.93it/s]"
     ]
    },
    {
     "name": "stdout",
     "output_type": "stream",
     "text": [
      "Error processing images/training/original\\0000722304.jpg: No text found in image.\n"
     ]
    },
    {
     "name": "stderr",
     "output_type": "stream",
     "text": [
      "  3%|▎         | 162/4818 [01:06<21:27,  3.62it/s]"
     ]
    },
    {
     "name": "stdout",
     "output_type": "stream",
     "text": [
      "Error processing images/training/original\\0001152495.jpg: No text found in image.\n"
     ]
    },
    {
     "name": "stderr",
     "output_type": "stream",
     "text": [
      "  4%|▎         | 176/4818 [01:10<21:25,  3.61it/s]"
     ]
    },
    {
     "name": "stdout",
     "output_type": "stream",
     "text": [
      "Error processing images/training/original\\0001224604.jpg: No features in text.\n"
     ]
    },
    {
     "name": "stderr",
     "output_type": "stream",
     "text": [
      "  4%|▍         | 183/4818 [01:13<22:58,  3.36it/s]"
     ]
    },
    {
     "name": "stdout",
     "output_type": "stream",
     "text": [
      "Error processing images/training/original\\0001235477.jpg: No text found in image.\n",
      "Error processing images/training/original\\0001238247.jpg: No text found in image.\n"
     ]
    },
    {
     "name": "stderr",
     "output_type": "stream",
     "text": [
      "  6%|▌         | 280/4818 [01:52<24:55,  3.03it/s]"
     ]
    },
    {
     "name": "stdout",
     "output_type": "stream",
     "text": [
      "Error processing images/training/original\\0012944949.jpg: No text found in image.\n",
      "Error processing images/training/original\\0012947617.jpg: No text found in image.\n"
     ]
    },
    {
     "name": "stderr",
     "output_type": "stream",
     "text": [
      "  6%|▌         | 296/4818 [01:58<23:06,  3.26it/s]"
     ]
    },
    {
     "name": "stdout",
     "output_type": "stream",
     "text": [
      "Error processing images/training/original\\0030049534.jpg: No text found in image.\n"
     ]
    },
    {
     "name": "stderr",
     "output_type": "stream",
     "text": [
      "  6%|▋         | 310/4818 [02:05<31:40,  2.37it/s]"
     ]
    },
    {
     "name": "stdout",
     "output_type": "stream",
     "text": [
      "Error processing images/training/original\\0060019671.jpg: No text found in image.\n"
     ]
    },
    {
     "name": "stderr",
     "output_type": "stream",
     "text": [
      "  7%|▋         | 320/4818 [02:08<24:14,  3.09it/s]"
     ]
    },
    {
     "name": "stdout",
     "output_type": "stream",
     "text": [
      "Error processing images/training/original\\0060064025.jpg: No text found in image.\n"
     ]
    },
    {
     "name": "stderr",
     "output_type": "stream",
     "text": [
      "  7%|▋         | 329/4818 [02:11<27:11,  2.75it/s]"
     ]
    },
    {
     "name": "stdout",
     "output_type": "stream",
     "text": [
      "Error processing images/training/original\\0060081682.jpg: No features in text.\n"
     ]
    },
    {
     "name": "stderr",
     "output_type": "stream",
     "text": [
      "  7%|▋         | 341/4818 [02:15<21:52,  3.41it/s]"
     ]
    },
    {
     "name": "stdout",
     "output_type": "stream",
     "text": [
      "Error processing images/training/original\\0060095700.jpg: No features in text.\n",
      "Error processing images/training/original\\0060096268.jpg: No text found in image.\n"
     ]
    },
    {
     "name": "stderr",
     "output_type": "stream",
     "text": [
      "  7%|▋         | 349/4818 [02:17<19:40,  3.79it/s]"
     ]
    },
    {
     "name": "stdout",
     "output_type": "stream",
     "text": [
      "Error processing images/training/original\\0060116928.jpg: No text found in image.\n"
     ]
    },
    {
     "name": "stderr",
     "output_type": "stream",
     "text": [
      "  8%|▊         | 364/4818 [02:22<24:48,  2.99it/s]"
     ]
    },
    {
     "name": "stdout",
     "output_type": "stream",
     "text": [
      "Error processing images/training/original\\0060141655.jpg: No text found in image.\n"
     ]
    },
    {
     "name": "stderr",
     "output_type": "stream",
     "text": [
      "  8%|▊         | 367/4818 [02:24<25:30,  2.91it/s]"
     ]
    },
    {
     "name": "stdout",
     "output_type": "stream",
     "text": [
      "Error processing images/training/original\\0060143042.jpg: No features in text.\n"
     ]
    },
    {
     "name": "stderr",
     "output_type": "stream",
     "text": [
      "  8%|▊         | 376/4818 [02:26<18:33,  3.99it/s]"
     ]
    },
    {
     "name": "stdout",
     "output_type": "stream",
     "text": [
      "Error processing images/training/original\\0060164184.jpg: No text found in image.\n"
     ]
    },
    {
     "name": "stderr",
     "output_type": "stream",
     "text": [
      "  8%|▊         | 378/4818 [02:27<15:03,  4.92it/s]"
     ]
    },
    {
     "name": "stdout",
     "output_type": "stream",
     "text": [
      "Error processing images/training/original\\0060182423.jpg: No text found in image.\n"
     ]
    },
    {
     "name": "stderr",
     "output_type": "stream",
     "text": [
      "  8%|▊         | 383/4818 [02:28<21:12,  3.48it/s]"
     ]
    },
    {
     "name": "stdout",
     "output_type": "stream",
     "text": [
      "Error processing images/training/original\\0060197883.jpg: No text found in image.\n",
      "Error processing images/training/original\\0060198652.jpg: No text found in image.\n"
     ]
    },
    {
     "name": "stderr",
     "output_type": "stream",
     "text": [
      "  8%|▊         | 386/4818 [02:29<16:10,  4.57it/s]"
     ]
    },
    {
     "name": "stdout",
     "output_type": "stream",
     "text": [
      "Error processing images/training/original\\0060200236.jpg: No text found in image.\n",
      "Error processing images/training/original\\0060200656.jpg: No text found in image.\n"
     ]
    },
    {
     "name": "stderr",
     "output_type": "stream",
     "text": [
      "  8%|▊         | 388/4818 [02:29<15:58,  4.62it/s]"
     ]
    },
    {
     "name": "stdout",
     "output_type": "stream",
     "text": [
      "Error processing images/training/original\\0060204871.jpg: No text found in image.\n"
     ]
    },
    {
     "name": "stderr",
     "output_type": "stream",
     "text": [
      "  8%|▊         | 400/4818 [02:33<27:09,  2.71it/s]"
     ]
    },
    {
     "name": "stdout",
     "output_type": "stream",
     "text": [
      "Error processing images/training/original\\0060267018.jpg: No text found in image.\n"
     ]
    },
    {
     "name": "stderr",
     "output_type": "stream",
     "text": [
      "  8%|▊         | 402/4818 [02:34<24:33,  3.00it/s]"
     ]
    },
    {
     "name": "stdout",
     "output_type": "stream",
     "text": [
      "Error processing images/training/original\\0060268167.jpg: No text found in image.\n"
     ]
    },
    {
     "name": "stderr",
     "output_type": "stream",
     "text": [
      "  9%|▉         | 422/4818 [02:41<20:06,  3.64it/s]"
     ]
    },
    {
     "name": "stdout",
     "output_type": "stream",
     "text": [
      "Error processing images/training/original\\0071000474.jpg: No text found in image.\n"
     ]
    },
    {
     "name": "stderr",
     "output_type": "stream",
     "text": [
      " 10%|█         | 497/4818 [03:19<27:18,  2.64it/s]  "
     ]
    },
    {
     "name": "stdout",
     "output_type": "stream",
     "text": [
      "Error processing images/training/original\\03638969.jpg: No text found in image.\n"
     ]
    },
    {
     "name": "stderr",
     "output_type": "stream",
     "text": [
      " 11%|█         | 507/4818 [03:23<23:08,  3.11it/s]"
     ]
    },
    {
     "name": "stdout",
     "output_type": "stream",
     "text": [
      "Error processing images/training/original\\03758562.jpg: No text found in image.\n"
     ]
    },
    {
     "name": "stderr",
     "output_type": "stream",
     "text": [
      " 11%|█▏        | 544/4818 [03:41<32:47,  2.17it/s]"
     ]
    },
    {
     "name": "stdout",
     "output_type": "stream",
     "text": [
      "Error processing images/training/original\\1000330653_1000330660.jpg: No text found in image.\n"
     ]
    },
    {
     "name": "stderr",
     "output_type": "stream",
     "text": [
      " 11%|█▏        | 545/4818 [03:41<28:27,  2.50it/s]"
     ]
    },
    {
     "name": "stdout",
     "output_type": "stream",
     "text": [
      "Error processing images/training/original\\1000331397_1000331417.jpg: No text found in image.\n"
     ]
    },
    {
     "name": "stderr",
     "output_type": "stream",
     "text": [
      " 11%|█▏        | 549/4818 [03:42<17:43,  4.02it/s]"
     ]
    },
    {
     "name": "stdout",
     "output_type": "stream",
     "text": [
      "Error processing images/training/original\\1000407731_1000407763.jpg: No features in text.\n"
     ]
    },
    {
     "name": "stderr",
     "output_type": "stream",
     "text": [
      " 12%|█▏        | 562/4818 [03:46<21:59,  3.23it/s]"
     ]
    },
    {
     "name": "stdout",
     "output_type": "stream",
     "text": [
      "Error processing images/training/original\\10018176_10018205.jpg: No text found in image.\n"
     ]
    },
    {
     "name": "stderr",
     "output_type": "stream",
     "text": [
      " 14%|█▍        | 685/4818 [05:01<19:23,  3.55it/s]  "
     ]
    },
    {
     "name": "stdout",
     "output_type": "stream",
     "text": [
      "Error processing images/training/original\\10400665.jpg: No text found in image.\n"
     ]
    },
    {
     "name": "stderr",
     "output_type": "stream",
     "text": [
      " 15%|█▍        | 699/4818 [05:11<37:47,  1.82it/s]"
     ]
    },
    {
     "name": "stdout",
     "output_type": "stream",
     "text": [
      "Error processing images/training/original\\10421388.jpg: No text found in image.\n"
     ]
    },
    {
     "name": "stderr",
     "output_type": "stream",
     "text": [
      " 15%|█▌        | 724/4818 [05:23<27:25,  2.49it/s]"
     ]
    },
    {
     "name": "stdout",
     "output_type": "stream",
     "text": [
      "Error processing images/training/original\\11290068.jpg: No text found in image.\n"
     ]
    },
    {
     "name": "stderr",
     "output_type": "stream",
     "text": [
      " 15%|█▌        | 725/4818 [05:23<25:35,  2.67it/s]"
     ]
    },
    {
     "name": "stdout",
     "output_type": "stream",
     "text": [
      "Error processing images/training/original\\11293116.jpg: No text found in image.\n"
     ]
    },
    {
     "name": "stderr",
     "output_type": "stream",
     "text": [
      " 16%|█▌        | 768/4818 [05:44<28:55,  2.33it/s]"
     ]
    },
    {
     "name": "stdout",
     "output_type": "stream",
     "text": [
      "Error processing images/training/original\\2015051885.jpg: No text found in image.\n"
     ]
    },
    {
     "name": "stderr",
     "output_type": "stream",
     "text": [
      " 17%|█▋        | 820/4818 [06:08<24:40,  2.70it/s]"
     ]
    },
    {
     "name": "stdout",
     "output_type": "stream",
     "text": [
      "Error processing images/training/original\\2022880810.jpg: No text found in image.\n"
     ]
    },
    {
     "name": "stderr",
     "output_type": "stream",
     "text": [
      " 17%|█▋        | 823/4818 [06:09<25:40,  2.59it/s]"
     ]
    },
    {
     "name": "stdout",
     "output_type": "stream",
     "text": [
      "Error processing images/training/original\\2022915037.jpg: No text found in image.\n"
     ]
    },
    {
     "name": "stderr",
     "output_type": "stream",
     "text": [
      " 17%|█▋        | 840/4818 [06:16<25:21,  2.61it/s]"
     ]
    },
    {
     "name": "stdout",
     "output_type": "stream",
     "text": [
      "Error processing images/training/original\\2023592247.jpg: No features in text.\n"
     ]
    },
    {
     "name": "stderr",
     "output_type": "stream",
     "text": [
      " 18%|█▊        | 852/4818 [06:21<17:38,  3.75it/s]"
     ]
    },
    {
     "name": "stdout",
     "output_type": "stream",
     "text": [
      "Error processing images/training/original\\2024260223.jpg: No text found in image.\n"
     ]
    },
    {
     "name": "stderr",
     "output_type": "stream",
     "text": [
      " 18%|█▊        | 857/4818 [06:23<21:41,  3.04it/s]"
     ]
    },
    {
     "name": "stdout",
     "output_type": "stream",
     "text": [
      "Error processing images/training/original\\2024273635.jpg: No text found in image.\n"
     ]
    },
    {
     "name": "stderr",
     "output_type": "stream",
     "text": [
      " 18%|█▊        | 862/4818 [06:25<21:07,  3.12it/s]"
     ]
    },
    {
     "name": "stdout",
     "output_type": "stream",
     "text": [
      "Error processing images/training/original\\2024407513.jpg: No features in text.\n"
     ]
    },
    {
     "name": "stderr",
     "output_type": "stream",
     "text": [
      " 18%|█▊        | 880/4818 [06:32<24:24,  2.69it/s]"
     ]
    },
    {
     "name": "stdout",
     "output_type": "stream",
     "text": [
      "Error processing images/training/original\\2024948748.jpg: No features in text.\n"
     ]
    },
    {
     "name": "stderr",
     "output_type": "stream",
     "text": [
      " 18%|█▊        | 885/4818 [06:34<26:23,  2.48it/s]"
     ]
    },
    {
     "name": "stdout",
     "output_type": "stream",
     "text": [
      "Error processing images/training/original\\2025027963.jpg: No features in text.\n"
     ]
    },
    {
     "name": "stderr",
     "output_type": "stream",
     "text": [
      " 18%|█▊        | 890/4818 [06:37<32:34,  2.01it/s]"
     ]
    },
    {
     "name": "stdout",
     "output_type": "stream",
     "text": [
      "Error processing images/training/original\\2025330544.jpg: No features in text.\n"
     ]
    },
    {
     "name": "stderr",
     "output_type": "stream",
     "text": [
      " 19%|█▉        | 904/4818 [06:44<26:03,  2.50it/s]"
     ]
    },
    {
     "name": "stdout",
     "output_type": "stream",
     "text": [
      "Error processing images/training/original\\2025822605.jpg: No features in text.\n"
     ]
    },
    {
     "name": "stderr",
     "output_type": "stream",
     "text": [
      " 19%|█▉        | 916/4818 [06:48<27:24,  2.37it/s]"
     ]
    },
    {
     "name": "stdout",
     "output_type": "stream",
     "text": [
      "Error processing images/training/original\\2026351533.jpg: No text found in image.\n"
     ]
    },
    {
     "name": "stderr",
     "output_type": "stream",
     "text": [
      " 19%|█▉        | 925/4818 [06:51<18:48,  3.45it/s]"
     ]
    },
    {
     "name": "stdout",
     "output_type": "stream",
     "text": [
      "Error processing images/training/original\\2028368978.jpg: No features in text.\n"
     ]
    },
    {
     "name": "stderr",
     "output_type": "stream",
     "text": [
      " 20%|██        | 967/4818 [07:08<17:51,  3.59it/s]"
     ]
    },
    {
     "name": "stdout",
     "output_type": "stream",
     "text": [
      "Error processing images/training/original\\2028989426.jpg: No features in text.\n"
     ]
    },
    {
     "name": "stderr",
     "output_type": "stream",
     "text": [
      " 20%|██        | 968/4818 [07:08<16:54,  3.80it/s]"
     ]
    },
    {
     "name": "stdout",
     "output_type": "stream",
     "text": [
      "Error processing images/training/original\\2029019868.jpg: No features in text.\n"
     ]
    },
    {
     "name": "stderr",
     "output_type": "stream",
     "text": [
      " 20%|██        | 978/4818 [07:12<17:20,  3.69it/s]"
     ]
    },
    {
     "name": "stdout",
     "output_type": "stream",
     "text": [
      "Error processing images/training/original\\2029164121.jpg: No features in text.\n"
     ]
    },
    {
     "name": "stderr",
     "output_type": "stream",
     "text": [
      " 20%|██        | 984/4818 [07:14<16:37,  3.84it/s]"
     ]
    },
    {
     "name": "stdout",
     "output_type": "stream",
     "text": [
      "Error processing images/training/original\\2029249971.jpg: No text found in image.\n"
     ]
    },
    {
     "name": "stderr",
     "output_type": "stream",
     "text": [
      " 21%|██        | 988/4818 [07:15<16:24,  3.89it/s]"
     ]
    },
    {
     "name": "stdout",
     "output_type": "stream",
     "text": [
      "Error processing images/training/original\\2030089269.jpg: No features in text.\n"
     ]
    },
    {
     "name": "stderr",
     "output_type": "stream",
     "text": [
      " 21%|██        | 995/4818 [07:17<16:27,  3.87it/s]"
     ]
    },
    {
     "name": "stdout",
     "output_type": "stream",
     "text": [
      "Error processing images/training/original\\2030616637.jpg: No features in text.\n"
     ]
    },
    {
     "name": "stderr",
     "output_type": "stream",
     "text": [
      " 21%|██        | 999/4818 [07:18<13:42,  4.64it/s]"
     ]
    },
    {
     "name": "stdout",
     "output_type": "stream",
     "text": [
      "Error processing images/training/original\\2030716542.jpg: No text found in image.\n"
     ]
    },
    {
     "name": "stderr",
     "output_type": "stream",
     "text": [
      " 21%|██        | 1003/4818 [07:18<11:41,  5.44it/s]"
     ]
    },
    {
     "name": "stdout",
     "output_type": "stream",
     "text": [
      "Error processing images/training/original\\2030981001.jpg: No text found in image.\n",
      "Error processing images/training/original\\2030981057.jpg: No text found in image.\n"
     ]
    },
    {
     "name": "stderr",
     "output_type": "stream",
     "text": [
      " 22%|██▏       | 1037/4818 [07:32<13:37,  4.62it/s]"
     ]
    },
    {
     "name": "stdout",
     "output_type": "stream",
     "text": [
      "Error processing images/training/original\\2040455777.jpg: No text found in image.\n"
     ]
    },
    {
     "name": "stderr",
     "output_type": "stream",
     "text": [
      " 22%|██▏       | 1041/4818 [07:33<11:57,  5.27it/s]"
     ]
    },
    {
     "name": "stdout",
     "output_type": "stream",
     "text": [
      "Error processing images/training/original\\2040722387.jpg: Image is too blurry.\n"
     ]
    },
    {
     "name": "stderr",
     "output_type": "stream",
     "text": [
      " 22%|██▏       | 1062/4818 [07:42<22:24,  2.79it/s]"
     ]
    },
    {
     "name": "stdout",
     "output_type": "stream",
     "text": [
      "Error processing images/training/original\\2040812082.jpg: No features in text.\n"
     ]
    },
    {
     "name": "stderr",
     "output_type": "stream",
     "text": [
      " 22%|██▏       | 1064/4818 [07:43<19:06,  3.27it/s]"
     ]
    },
    {
     "name": "stdout",
     "output_type": "stream",
     "text": [
      "Error processing images/training/original\\2040925853-b.jpg: No features in text.\n"
     ]
    },
    {
     "name": "stderr",
     "output_type": "stream",
     "text": [
      " 22%|██▏       | 1079/4818 [07:50<26:20,  2.37it/s]"
     ]
    },
    {
     "name": "stdout",
     "output_type": "stream",
     "text": [
      "Error processing images/training/original\\2041237000.jpg: No text found in image.\n"
     ]
    },
    {
     "name": "stderr",
     "output_type": "stream",
     "text": [
      " 23%|██▎       | 1089/4818 [07:53<22:51,  2.72it/s]"
     ]
    },
    {
     "name": "stdout",
     "output_type": "stream",
     "text": [
      "Error processing images/training/original\\2041583596.jpg: No features in text.\n"
     ]
    },
    {
     "name": "stderr",
     "output_type": "stream",
     "text": [
      " 23%|██▎       | 1104/4818 [07:58<13:05,  4.73it/s]"
     ]
    },
    {
     "name": "stdout",
     "output_type": "stream",
     "text": [
      "Error processing images/training/original\\2041867833.jpg: No features in text.\n",
      "Error processing images/training/original\\2041950459.jpg: No text found in image.\n"
     ]
    },
    {
     "name": "stderr",
     "output_type": "stream",
     "text": [
      " 23%|██▎       | 1108/4818 [07:59<18:28,  3.35it/s]"
     ]
    },
    {
     "name": "stdout",
     "output_type": "stream",
     "text": [
      "Error processing images/training/original\\2042015214.jpg: No features in text.\n"
     ]
    },
    {
     "name": "stderr",
     "output_type": "stream",
     "text": [
      " 23%|██▎       | 1112/4818 [08:00<16:18,  3.79it/s]"
     ]
    },
    {
     "name": "stdout",
     "output_type": "stream",
     "text": [
      "Error processing images/training/original\\2043123487.jpg: No text found in image.\n",
      "Error processing images/training/original\\2043214503.jpg: No features in text.\n"
     ]
    },
    {
     "name": "stderr",
     "output_type": "stream",
     "text": [
      " 23%|██▎       | 1121/4818 [08:03<14:03,  4.38it/s]"
     ]
    },
    {
     "name": "stdout",
     "output_type": "stream",
     "text": [
      "Error processing images/training/original\\2044115217.jpg: Image is too blurry.\n",
      "Error processing images/training/original\\2044123682.jpg: No text found in image.\n"
     ]
    },
    {
     "name": "stderr",
     "output_type": "stream",
     "text": [
      " 25%|██▍       | 1192/4818 [08:35<21:30,  2.81it/s]"
     ]
    },
    {
     "name": "stdout",
     "output_type": "stream",
     "text": [
      "Error processing images/training/original\\2063118582.jpg: No text found in image.\n"
     ]
    },
    {
     "name": "stderr",
     "output_type": "stream",
     "text": [
      " 25%|██▌       | 1223/4818 [08:48<17:50,  3.36it/s]"
     ]
    },
    {
     "name": "stdout",
     "output_type": "stream",
     "text": [
      "Error processing images/training/original\\2064763047.jpg: No features in text.\n"
     ]
    },
    {
     "name": "stderr",
     "output_type": "stream",
     "text": [
      " 26%|██▌       | 1230/4818 [08:50<17:42,  3.38it/s]"
     ]
    },
    {
     "name": "stdout",
     "output_type": "stream",
     "text": [
      "Error processing images/training/original\\2065463528_3614.jpg: No features in text.\n"
     ]
    },
    {
     "name": "stderr",
     "output_type": "stream",
     "text": [
      " 26%|██▋       | 1274/4818 [09:05<13:31,  4.37it/s]"
     ]
    },
    {
     "name": "stdout",
     "output_type": "stream",
     "text": [
      "Error processing images/training/original\\2072916935_6953.jpg: No features in text.\n"
     ]
    },
    {
     "name": "stderr",
     "output_type": "stream",
     "text": [
      " 29%|██▉       | 1406/4818 [10:08<24:31,  2.32it/s]"
     ]
    },
    {
     "name": "stdout",
     "output_type": "stream",
     "text": [
      "Error processing images/training/original\\500463755.jpg: No features in text.\n"
     ]
    },
    {
     "name": "stderr",
     "output_type": "stream",
     "text": [
      " 29%|██▉       | 1412/4818 [10:11<20:11,  2.81it/s]"
     ]
    },
    {
     "name": "stdout",
     "output_type": "stream",
     "text": [
      "Error processing images/training/original\\500596653+-6655.jpg: No text found in image.\n"
     ]
    },
    {
     "name": "stderr",
     "output_type": "stream",
     "text": [
      " 29%|██▉       | 1416/4818 [10:12<20:37,  2.75it/s]"
     ]
    },
    {
     "name": "stdout",
     "output_type": "stream",
     "text": [
      "Error processing images/training/original\\500713414_500713415.jpg: No text found in image.\n"
     ]
    },
    {
     "name": "stderr",
     "output_type": "stream",
     "text": [
      " 30%|██▉       | 1427/4818 [10:17<24:53,  2.27it/s]"
     ]
    },
    {
     "name": "stdout",
     "output_type": "stream",
     "text": [
      "Error processing images/training/original\\500957512+-7512.jpg: No text found in image.\n"
     ]
    },
    {
     "name": "stderr",
     "output_type": "stream",
     "text": [
      " 30%|███       | 1463/4818 [10:35<26:24,  2.12it/s]"
     ]
    },
    {
     "name": "stdout",
     "output_type": "stream",
     "text": [
      "Error processing images/training/original\\50183367.jpg: No text found in image.\n"
     ]
    },
    {
     "name": "stderr",
     "output_type": "stream",
     "text": [
      " 31%|███       | 1501/4818 [10:54<23:56,  2.31it/s]"
     ]
    },
    {
     "name": "stdout",
     "output_type": "stream",
     "text": [
      "Error processing images/training/original\\502472486.jpg: No text found in image.\n"
     ]
    },
    {
     "name": "stderr",
     "output_type": "stream",
     "text": [
      " 31%|███▏      | 1508/4818 [10:56<15:05,  3.65it/s]"
     ]
    },
    {
     "name": "stdout",
     "output_type": "stream",
     "text": [
      "Error processing images/training/original\\502479736.jpg: No text found in image.\n"
     ]
    },
    {
     "name": "stderr",
     "output_type": "stream",
     "text": [
      " 31%|███▏      | 1517/4818 [11:00<17:13,  3.20it/s]"
     ]
    },
    {
     "name": "stdout",
     "output_type": "stream",
     "text": [
      "Error processing images/training/original\\502592259.jpg: No text found in image.\n"
     ]
    },
    {
     "name": "stderr",
     "output_type": "stream",
     "text": [
      " 32%|███▏      | 1520/4818 [11:01<15:02,  3.66it/s]"
     ]
    },
    {
     "name": "stdout",
     "output_type": "stream",
     "text": [
      "Error processing images/training/original\\502592990.jpg: No text found in image.\n",
      "Error processing images/training/original\\502593118_502593119.jpg: No text found in image.\n"
     ]
    },
    {
     "name": "stderr",
     "output_type": "stream",
     "text": [
      " 32%|███▏      | 1526/4818 [11:03<12:19,  4.45it/s]"
     ]
    },
    {
     "name": "stdout",
     "output_type": "stream",
     "text": [
      "Error processing images/training/original\\502594526.jpg: No text found in image.\n",
      "Error processing images/training/original\\502594636.jpg: No text found in image.\n"
     ]
    },
    {
     "name": "stderr",
     "output_type": "stream",
     "text": [
      " 32%|███▏      | 1527/4818 [11:03<12:26,  4.41it/s]"
     ]
    },
    {
     "name": "stdout",
     "output_type": "stream",
     "text": [
      "Error processing images/training/original\\502595115.jpg: No text found in image.\n"
     ]
    },
    {
     "name": "stderr",
     "output_type": "stream",
     "text": [
      " 32%|███▏      | 1537/4818 [11:06<13:54,  3.93it/s]"
     ]
    },
    {
     "name": "stdout",
     "output_type": "stream",
     "text": [
      "Error processing images/training/original\\502605437+-5437.jpg: No text found in image.\n"
     ]
    },
    {
     "name": "stderr",
     "output_type": "stream",
     "text": [
      " 32%|███▏      | 1538/4818 [11:06<13:45,  3.97it/s]"
     ]
    },
    {
     "name": "stdout",
     "output_type": "stream",
     "text": [
      "Error processing images/training/original\\502608182+-8182.jpg: No text found in image.\n"
     ]
    },
    {
     "name": "stderr",
     "output_type": "stream",
     "text": [
      " 33%|███▎      | 1589/4818 [11:38<29:24,  1.83it/s]"
     ]
    },
    {
     "name": "stdout",
     "output_type": "stream",
     "text": [
      "Error processing images/training/original\\50350424-0424.jpg: No text found in image.\n"
     ]
    },
    {
     "name": "stderr",
     "output_type": "stream",
     "text": [
      " 33%|███▎      | 1596/4818 [11:43<34:05,  1.57it/s]"
     ]
    },
    {
     "name": "stdout",
     "output_type": "stream",
     "text": [
      "Error processing images/training/original\\50374872-4872.jpg: No text found in image.\n"
     ]
    },
    {
     "name": "stderr",
     "output_type": "stream",
     "text": [
      " 34%|███▎      | 1623/4818 [11:59<22:02,  2.42it/s]"
     ]
    },
    {
     "name": "stdout",
     "output_type": "stream",
     "text": [
      "Error processing images/training/original\\504104073_504104075.jpg: No text found in image.\n"
     ]
    },
    {
     "name": "stderr",
     "output_type": "stream",
     "text": [
      " 34%|███▍      | 1638/4818 [12:09<28:34,  1.85it/s]"
     ]
    },
    {
     "name": "stdout",
     "output_type": "stream",
     "text": [
      "Error processing images/training/original\\50426456-6456.jpg: No text found in image.\n"
     ]
    },
    {
     "name": "stderr",
     "output_type": "stream",
     "text": [
      " 35%|███▌      | 1700/4818 [12:46<21:55,  2.37it/s]"
     ]
    },
    {
     "name": "stdout",
     "output_type": "stream",
     "text": [
      "Error processing images/training/original\\50494232-4232.jpg: No text found in image.\n"
     ]
    },
    {
     "name": "stderr",
     "output_type": "stream",
     "text": [
      " 36%|███▌      | 1724/4818 [13:02<14:51,  3.47it/s]"
     ]
    },
    {
     "name": "stdout",
     "output_type": "stream",
     "text": [
      "Error processing images/training/original\\50535878-5878.jpg: No text found in image.\n"
     ]
    },
    {
     "name": "stderr",
     "output_type": "stream",
     "text": [
      " 36%|███▌      | 1738/4818 [13:08<17:20,  2.96it/s]"
     ]
    },
    {
     "name": "stdout",
     "output_type": "stream",
     "text": [
      "Error processing images/training/original\\50567227-7227.jpg: No features in text.\n"
     ]
    },
    {
     "name": "stderr",
     "output_type": "stream",
     "text": [
      " 36%|███▋      | 1753/4818 [13:18<23:14,  2.20it/s]"
     ]
    },
    {
     "name": "stdout",
     "output_type": "stream",
     "text": [
      "Error processing images/training/original\\505878640.jpg: No text found in image.\n"
     ]
    },
    {
     "name": "stderr",
     "output_type": "stream",
     "text": [
      " 37%|███▋      | 1789/4818 [13:38<29:33,  1.71it/s]"
     ]
    },
    {
     "name": "stdout",
     "output_type": "stream",
     "text": [
      "Error processing images/training/original\\506255774_506255775.jpg: No text found in image.\n"
     ]
    },
    {
     "name": "stderr",
     "output_type": "stream",
     "text": [
      " 38%|███▊      | 1829/4818 [14:04<20:17,  2.45it/s]"
     ]
    },
    {
     "name": "stdout",
     "output_type": "stream",
     "text": [
      "Error processing images/training/original\\506711938.jpg: No text found in image.\n"
     ]
    },
    {
     "name": "stderr",
     "output_type": "stream",
     "text": [
      " 38%|███▊      | 1832/4818 [14:05<19:56,  2.50it/s]"
     ]
    },
    {
     "name": "stdout",
     "output_type": "stream",
     "text": [
      "Error processing images/training/original\\506789166_506789171.jpg: No text found in image.\n"
     ]
    },
    {
     "name": "stderr",
     "output_type": "stream",
     "text": [
      " 38%|███▊      | 1839/4818 [14:09<26:41,  1.86it/s]"
     ]
    },
    {
     "name": "stdout",
     "output_type": "stream",
     "text": [
      "Error processing images/training/original\\50697691-7691.jpg: No features in text.\n"
     ]
    },
    {
     "name": "stderr",
     "output_type": "stream",
     "text": [
      " 39%|███▉      | 1869/4818 [14:25<20:12,  2.43it/s]"
     ]
    },
    {
     "name": "stdout",
     "output_type": "stream",
     "text": [
      "Error processing images/training/original\\507705995.jpg: No text found in image.\n"
     ]
    },
    {
     "name": "stderr",
     "output_type": "stream",
     "text": [
      " 39%|███▉      | 1874/4818 [14:27<12:51,  3.82it/s]"
     ]
    },
    {
     "name": "stdout",
     "output_type": "stream",
     "text": [
      "Error processing images/training/original\\507844943.jpg: No text found in image.\n",
      "Error processing images/training/original\\507874231_507874235.jpg: No features in text.\n"
     ]
    },
    {
     "name": "stderr",
     "output_type": "stream",
     "text": [
      " 39%|███▉      | 1875/4818 [14:27<11:21,  4.32it/s]"
     ]
    },
    {
     "name": "stdout",
     "output_type": "stream",
     "text": [
      "Error processing images/training/original\\507949057_507949058.jpg: No text found in image.\n"
     ]
    },
    {
     "name": "stderr",
     "output_type": "stream",
     "text": [
      " 39%|███▉      | 1884/4818 [14:30<15:03,  3.25it/s]"
     ]
    },
    {
     "name": "stdout",
     "output_type": "stream",
     "text": [
      "Error processing images/training/original\\509132739+-2739.jpg: No text found in image.\n"
     ]
    },
    {
     "name": "stderr",
     "output_type": "stream",
     "text": [
      " 39%|███▉      | 1896/4818 [14:35<17:11,  2.83it/s]"
     ]
    },
    {
     "name": "stdout",
     "output_type": "stream",
     "text": [
      "Error processing images/training/original\\511023505_511023506.jpg: No text found in image.\n"
     ]
    },
    {
     "name": "stderr",
     "output_type": "stream",
     "text": [
      " 40%|███▉      | 1907/4818 [14:38<14:30,  3.34it/s]"
     ]
    },
    {
     "name": "stdout",
     "output_type": "stream",
     "text": [
      "Error processing images/training/original\\512319807_512319808.jpg: No text found in image.\n"
     ]
    },
    {
     "name": "stderr",
     "output_type": "stream",
     "text": [
      " 40%|███▉      | 1916/4818 [14:42<16:28,  2.94it/s]"
     ]
    },
    {
     "name": "stdout",
     "output_type": "stream",
     "text": [
      "Error processing images/training/original\\512779350_512779351.jpg: No features in text.\n"
     ]
    },
    {
     "name": "stderr",
     "output_type": "stream",
     "text": [
      " 40%|████      | 1934/4818 [14:49<15:27,  3.11it/s]"
     ]
    },
    {
     "name": "stdout",
     "output_type": "stream",
     "text": [
      "Error processing images/training/original\\514878256+-8259.jpg: No features in text.\n"
     ]
    },
    {
     "name": "stderr",
     "output_type": "stream",
     "text": [
      " 40%|████      | 1942/4818 [14:52<13:21,  3.59it/s]"
     ]
    },
    {
     "name": "stdout",
     "output_type": "stream",
     "text": [
      "Error processing images/training/original\\515559605+-9607.jpg: No text found in image.\n",
      "Error processing images/training/original\\515559668+-9672.jpg: No text found in image.\n"
     ]
    },
    {
     "name": "stderr",
     "output_type": "stream",
     "text": [
      " 40%|████      | 1947/4818 [14:53<14:33,  3.29it/s]"
     ]
    },
    {
     "name": "stdout",
     "output_type": "stream",
     "text": [
      "Error processing images/training/original\\515624875+-4876.jpg: No text found in image.\n",
      "Error processing images/training/original\\515626213+-6216.jpg: No text found in image.\n"
     ]
    },
    {
     "name": "stderr",
     "output_type": "stream",
     "text": [
      " 40%|████      | 1950/4818 [14:54<11:03,  4.32it/s]"
     ]
    },
    {
     "name": "stdout",
     "output_type": "stream",
     "text": [
      "Error processing images/training/original\\515627543+-7544.jpg: No text found in image.\n"
     ]
    },
    {
     "name": "stderr",
     "output_type": "stream",
     "text": [
      " 41%|████      | 1953/4818 [14:55<09:06,  5.24it/s]"
     ]
    },
    {
     "name": "stdout",
     "output_type": "stream",
     "text": [
      "Error processing images/training/original\\515628832+-8837.jpg: No features in text.\n",
      "Error processing images/training/original\\515841535.jpg: No text found in image.\n"
     ]
    },
    {
     "name": "stderr",
     "output_type": "stream",
     "text": [
      " 41%|████      | 1966/4818 [14:58<10:27,  4.54it/s]"
     ]
    },
    {
     "name": "stdout",
     "output_type": "stream",
     "text": [
      "Error processing images/training/original\\516625879+-5892.jpg: No text found in image.\n"
     ]
    },
    {
     "name": "stderr",
     "output_type": "stream",
     "text": [
      " 41%|████      | 1973/4818 [15:00<10:47,  4.39it/s]"
     ]
    },
    {
     "name": "stdout",
     "output_type": "stream",
     "text": [
      "Error processing images/training/original\\517044339+-4340.jpg: No text found in image.\n"
     ]
    },
    {
     "name": "stderr",
     "output_type": "stream",
     "text": [
      " 41%|████      | 1980/4818 [15:02<14:01,  3.37it/s]"
     ]
    },
    {
     "name": "stdout",
     "output_type": "stream",
     "text": [
      "Error processing images/training/original\\517303916+-3918.jpg: No text found in image.\n"
     ]
    },
    {
     "name": "stderr",
     "output_type": "stream",
     "text": [
      " 41%|████      | 1985/4818 [15:03<10:55,  4.32it/s]"
     ]
    },
    {
     "name": "stdout",
     "output_type": "stream",
     "text": [
      "Error processing images/training/original\\517304340+-4342.jpg: No text found in image.\n"
     ]
    },
    {
     "name": "stderr",
     "output_type": "stream",
     "text": [
      " 43%|████▎     | 2077/4818 [15:40<16:27,  2.78it/s]"
     ]
    },
    {
     "name": "stdout",
     "output_type": "stream",
     "text": [
      "Error processing images/training/original\\530975870+-5875.jpg: No text found in image.\n"
     ]
    },
    {
     "name": "stderr",
     "output_type": "stream",
     "text": [
      " 44%|████▍     | 2125/4818 [16:02<12:36,  3.56it/s]"
     ]
    },
    {
     "name": "stdout",
     "output_type": "stream",
     "text": [
      "Error processing images/training/original\\71333919.jpg: No text found in image.\n"
     ]
    },
    {
     "name": "stderr",
     "output_type": "stream",
     "text": [
      " 46%|████▌     | 2194/4818 [16:26<12:07,  3.61it/s]"
     ]
    },
    {
     "name": "stdout",
     "output_type": "stream",
     "text": [
      "Error processing images/training/original\\82843434.jpg: No text found in image.\n"
     ]
    },
    {
     "name": "stderr",
     "output_type": "stream",
     "text": [
      " 46%|████▌     | 2215/4818 [16:35<22:28,  1.93it/s]"
     ]
    },
    {
     "name": "stdout",
     "output_type": "stream",
     "text": [
      "Error processing images/training/original\\83647137.jpg: No features in text.\n"
     ]
    },
    {
     "name": "stderr",
     "output_type": "stream",
     "text": [
      " 46%|████▌     | 2219/4818 [16:37<16:02,  2.70it/s]"
     ]
    },
    {
     "name": "stdout",
     "output_type": "stream",
     "text": [
      "Error processing images/training/original\\84175248.jpg: No text found in image.\n"
     ]
    },
    {
     "name": "stderr",
     "output_type": "stream",
     "text": [
      " 46%|████▋     | 2233/4818 [16:44<13:28,  3.20it/s]"
     ]
    },
    {
     "name": "stdout",
     "output_type": "stream",
     "text": [
      "Error processing images/training/original\\85172818.jpg: No text found in image.\n"
     ]
    },
    {
     "name": "stderr",
     "output_type": "stream",
     "text": [
      " 47%|████▋     | 2284/4818 [17:00<11:34,  3.65it/s]"
     ]
    },
    {
     "name": "stdout",
     "output_type": "stream",
     "text": [
      "Error processing images/training/original\\87124381.jpg: No text found in image.\n"
     ]
    },
    {
     "name": "stderr",
     "output_type": "stream",
     "text": [
      " 47%|████▋     | 2287/4818 [17:01<12:39,  3.33it/s]"
     ]
    },
    {
     "name": "stdout",
     "output_type": "stream",
     "text": [
      "Error processing images/training/original\\87327773.jpg: No features in text.\n"
     ]
    },
    {
     "name": "stderr",
     "output_type": "stream",
     "text": [
      " 48%|████▊     | 2310/4818 [17:11<23:03,  1.81it/s]"
     ]
    },
    {
     "name": "stdout",
     "output_type": "stream",
     "text": [
      "Error processing images/training/original\\87619321.jpg: No features in text.\n"
     ]
    },
    {
     "name": "stderr",
     "output_type": "stream",
     "text": [
      " 48%|████▊     | 2318/4818 [17:13<11:52,  3.51it/s]"
     ]
    },
    {
     "name": "stdout",
     "output_type": "stream",
     "text": [
      "Error processing images/training/original\\87678722.jpg: No text found in image.\n"
     ]
    },
    {
     "name": "stderr",
     "output_type": "stream",
     "text": [
      " 48%|████▊     | 2323/4818 [17:15<08:36,  4.83it/s]"
     ]
    },
    {
     "name": "stdout",
     "output_type": "stream",
     "text": [
      "Error processing images/training/original\\87755669.jpg: No features in text.\n"
     ]
    },
    {
     "name": "stderr",
     "output_type": "stream",
     "text": [
      " 48%|████▊     | 2326/4818 [17:15<09:19,  4.46it/s]"
     ]
    },
    {
     "name": "stdout",
     "output_type": "stream",
     "text": [
      "Error processing images/training/original\\87901263.jpg: No features in text.\n"
     ]
    },
    {
     "name": "stderr",
     "output_type": "stream",
     "text": [
      " 48%|████▊     | 2327/4818 [17:15<08:54,  4.66it/s]"
     ]
    },
    {
     "name": "stdout",
     "output_type": "stream",
     "text": [
      "Error processing images/training/original\\87926239.jpg: No text found in image.\n"
     ]
    },
    {
     "name": "stderr",
     "output_type": "stream",
     "text": [
      " 49%|████▉     | 2365/4818 [17:29<14:08,  2.89it/s]"
     ]
    },
    {
     "name": "stdout",
     "output_type": "stream",
     "text": [
      "Error processing images/training/original\\89582840.jpg: No text found in image.\n"
     ]
    },
    {
     "name": "stderr",
     "output_type": "stream",
     "text": [
      " 49%|████▉     | 2368/4818 [17:30<11:42,  3.49it/s]"
     ]
    },
    {
     "name": "stdout",
     "output_type": "stream",
     "text": [
      "Error processing images/training/original\\89701297_1330.jpg: No text found in image.\n"
     ]
    },
    {
     "name": "stderr",
     "output_type": "stream",
     "text": [
      " 49%|████▉     | 2380/4818 [17:35<14:11,  2.86it/s]"
     ]
    },
    {
     "name": "stdout",
     "output_type": "stream",
     "text": [
      "Error processing images/training/original\\91394658.jpg: No features in text.\n"
     ]
    },
    {
     "name": "stderr",
     "output_type": "stream",
     "text": [
      " 50%|████▉     | 2404/4818 [17:42<08:33,  4.70it/s]"
     ]
    },
    {
     "name": "stdout",
     "output_type": "stream",
     "text": [
      "Error processing images/training/original\\91953004.jpg: No text found in image.\n"
     ]
    },
    {
     "name": "stderr",
     "output_type": "stream",
     "text": [
      " 50%|█████     | 2421/4818 [17:47<13:39,  2.93it/s]"
     ]
    },
    {
     "name": "stdout",
     "output_type": "stream",
     "text": [
      "Error processing images/training/original\\92525634.jpg: No text found in image.\n"
     ]
    },
    {
     "name": "stderr",
     "output_type": "stream",
     "text": [
      " 50%|█████     | 2432/4818 [17:51<12:08,  3.27it/s]"
     ]
    },
    {
     "name": "stdout",
     "output_type": "stream",
     "text": [
      "Error processing images/training/original\\930913.jpg: No text found in image.\n"
     ]
    },
    {
     "name": "stderr",
     "output_type": "stream",
     "text": [
      " 51%|█████     | 2458/4818 [18:00<14:48,  2.66it/s]"
     ]
    },
    {
     "name": "stdout",
     "output_type": "stream",
     "text": [
      "Error processing images/training/original\\94407861.jpg: No features in text.\n"
     ]
    },
    {
     "name": "stderr",
     "output_type": "stream",
     "text": [
      " 51%|█████▏    | 2477/4818 [18:08<10:57,  3.56it/s]"
     ]
    },
    {
     "name": "stdout",
     "output_type": "stream",
     "text": [
      "Error processing images/training/original\\96404099_4104.jpg: No text found in image.\n"
     ]
    },
    {
     "name": "stderr",
     "output_type": "stream",
     "text": [
      " 52%|█████▏    | 2519/4818 [18:29<27:40,  1.38it/s]"
     ]
    },
    {
     "name": "stdout",
     "output_type": "stream",
     "text": [
      "Error processing images/training/forged\\Blur(19).jpg: No text found in image.\n"
     ]
    },
    {
     "name": "stderr",
     "output_type": "stream",
     "text": [
      " 52%|█████▏    | 2521/4818 [18:30<22:35,  1.70it/s]"
     ]
    },
    {
     "name": "stdout",
     "output_type": "stream",
     "text": [
      "Error processing images/training/forged\\Blur(20).jpg: No text found in image.\n"
     ]
    },
    {
     "name": "stderr",
     "output_type": "stream",
     "text": [
      " 52%|█████▏    | 2523/4818 [18:31<21:11,  1.80it/s]"
     ]
    },
    {
     "name": "stdout",
     "output_type": "stream",
     "text": [
      "Error processing images/training/forged\\Blur(22).jpg: No text found in image.\n"
     ]
    },
    {
     "name": "stderr",
     "output_type": "stream",
     "text": [
      " 53%|█████▎    | 2530/4818 [18:35<24:40,  1.54it/s]"
     ]
    },
    {
     "name": "stdout",
     "output_type": "stream",
     "text": [
      "Error processing images/training/forged\\Blur(7).jpg: No text found in image.\n"
     ]
    },
    {
     "name": "stderr",
     "output_type": "stream",
     "text": [
      " 53%|█████▎    | 2531/4818 [18:36<20:34,  1.85it/s]"
     ]
    },
    {
     "name": "stdout",
     "output_type": "stream",
     "text": [
      "Error processing images/training/forged\\Blur(8).jpg: No text found in image.\n"
     ]
    },
    {
     "name": "stderr",
     "output_type": "stream",
     "text": [
      " 53%|█████▎    | 2545/4818 [18:48<29:30,  1.28it/s]"
     ]
    },
    {
     "name": "stdout",
     "output_type": "stream",
     "text": [
      "Error processing images/training/forged\\CopyPaste(19).jpg: No text found in image.\n"
     ]
    },
    {
     "name": "stderr",
     "output_type": "stream",
     "text": [
      " 53%|█████▎    | 2547/4818 [18:49<24:07,  1.57it/s]"
     ]
    },
    {
     "name": "stdout",
     "output_type": "stream",
     "text": [
      "Error processing images/training/forged\\CopyPaste(20).jpg: No text found in image.\n"
     ]
    },
    {
     "name": "stderr",
     "output_type": "stream",
     "text": [
      " 53%|█████▎    | 2549/4818 [18:50<19:23,  1.95it/s]"
     ]
    },
    {
     "name": "stdout",
     "output_type": "stream",
     "text": [
      "Error processing images/training/forged\\CopyPaste(22).jpg: No text found in image.\n"
     ]
    },
    {
     "name": "stderr",
     "output_type": "stream",
     "text": [
      " 53%|█████▎    | 2555/4818 [18:54<27:34,  1.37it/s]"
     ]
    },
    {
     "name": "stdout",
     "output_type": "stream",
     "text": [
      "Error processing images/training/forged\\CopyPaste(28).jpg: No text found in image.\n"
     ]
    },
    {
     "name": "stderr",
     "output_type": "stream",
     "text": [
      " 53%|█████▎    | 2556/4818 [18:55<22:45,  1.66it/s]"
     ]
    },
    {
     "name": "stdout",
     "output_type": "stream",
     "text": [
      "Error processing images/training/forged\\CopyPaste(29).jpg: No text found in image.\n"
     ]
    },
    {
     "name": "stderr",
     "output_type": "stream",
     "text": [
      " 53%|█████▎    | 2561/4818 [18:58<24:49,  1.52it/s]"
     ]
    },
    {
     "name": "stdout",
     "output_type": "stream",
     "text": [
      "Error processing images/training/forged\\CopyPaste(33).jpg: No text found in image.\n"
     ]
    },
    {
     "name": "stderr",
     "output_type": "stream",
     "text": [
      " 53%|█████▎    | 2568/4818 [19:04<25:17,  1.48it/s]"
     ]
    },
    {
     "name": "stdout",
     "output_type": "stream",
     "text": [
      "Error processing images/training/forged\\CopyPaste(7).jpg: No text found in image.\n"
     ]
    },
    {
     "name": "stderr",
     "output_type": "stream",
     "text": [
      " 54%|█████▎    | 2580/4818 [19:14<29:48,  1.25it/s]"
     ]
    },
    {
     "name": "stdout",
     "output_type": "stream",
     "text": [
      "Error processing images/training/forged\\CPBlur(19).jpg: No text found in image.\n"
     ]
    },
    {
     "name": "stderr",
     "output_type": "stream",
     "text": [
      " 54%|█████▎    | 2582/4818 [19:15<24:06,  1.55it/s]"
     ]
    },
    {
     "name": "stdout",
     "output_type": "stream",
     "text": [
      "Error processing images/training/forged\\CPBlur(20).jpg: No text found in image.\n"
     ]
    },
    {
     "name": "stderr",
     "output_type": "stream",
     "text": [
      " 54%|█████▎    | 2585/4818 [19:16<17:33,  2.12it/s]"
     ]
    },
    {
     "name": "stdout",
     "output_type": "stream",
     "text": [
      "Error processing images/training/forged\\CPBlur(23).jpg: No text found in image.\n"
     ]
    },
    {
     "name": "stderr",
     "output_type": "stream",
     "text": [
      " 54%|█████▎    | 2589/4818 [19:20<25:52,  1.44it/s]"
     ]
    },
    {
     "name": "stdout",
     "output_type": "stream",
     "text": [
      "Error processing images/training/forged\\CPBlur(28).jpg: No text found in image.\n"
     ]
    },
    {
     "name": "stderr",
     "output_type": "stream",
     "text": [
      " 54%|█████▍    | 2590/4818 [19:20<21:29,  1.73it/s]"
     ]
    },
    {
     "name": "stdout",
     "output_type": "stream",
     "text": [
      "Error processing images/training/forged\\CPBlur(29).jpg: No text found in image.\n"
     ]
    },
    {
     "name": "stderr",
     "output_type": "stream",
     "text": [
      " 54%|█████▍    | 2594/4818 [19:22<19:02,  1.95it/s]"
     ]
    },
    {
     "name": "stdout",
     "output_type": "stream",
     "text": [
      "Error processing images/training/forged\\CPBlur(33).jpg: No text found in image.\n"
     ]
    },
    {
     "name": "stderr",
     "output_type": "stream",
     "text": [
      " 54%|█████▍    | 2613/4818 [19:37<24:31,  1.50it/s]"
     ]
    },
    {
     "name": "stdout",
     "output_type": "stream",
     "text": [
      "Error processing images/training/forged\\CPBlur(7).jpg: No text found in image.\n"
     ]
    },
    {
     "name": "stderr",
     "output_type": "stream",
     "text": [
      " 54%|█████▍    | 2625/4818 [19:47<27:37,  1.32it/s]"
     ]
    },
    {
     "name": "stdout",
     "output_type": "stream",
     "text": [
      "Error processing images/training/forged\\CPInsertion(19).jpg: No text found in image.\n"
     ]
    },
    {
     "name": "stderr",
     "output_type": "stream",
     "text": [
      " 55%|█████▍    | 2635/4818 [19:55<26:09,  1.39it/s]"
     ]
    },
    {
     "name": "stdout",
     "output_type": "stream",
     "text": [
      "Error processing images/training/forged\\CPInsertion(28).jpg: No text found in image.\n"
     ]
    },
    {
     "name": "stderr",
     "output_type": "stream",
     "text": [
      " 55%|█████▍    | 2636/4818 [19:55<21:29,  1.69it/s]"
     ]
    },
    {
     "name": "stdout",
     "output_type": "stream",
     "text": [
      "Error processing images/training/forged\\CPInsertion(29).jpg: No text found in image.\n"
     ]
    },
    {
     "name": "stderr",
     "output_type": "stream",
     "text": [
      " 55%|█████▍    | 2641/4818 [19:59<22:35,  1.61it/s]"
     ]
    },
    {
     "name": "stdout",
     "output_type": "stream",
     "text": [
      "Error processing images/training/forged\\CPInsertion(33).jpg: No text found in image.\n"
     ]
    },
    {
     "name": "stderr",
     "output_type": "stream",
     "text": [
      " 56%|█████▌    | 2675/4818 [20:27<27:20,  1.31it/s]"
     ]
    },
    {
     "name": "stdout",
     "output_type": "stream",
     "text": [
      "Error processing images/training/forged\\CPNoise(19).jpg: No text found in image.\n"
     ]
    },
    {
     "name": "stderr",
     "output_type": "stream",
     "text": [
      " 56%|█████▌    | 2677/4818 [20:28<21:51,  1.63it/s]"
     ]
    },
    {
     "name": "stdout",
     "output_type": "stream",
     "text": [
      "Error processing images/training/forged\\CPNoise(20).jpg: No text found in image.\n"
     ]
    },
    {
     "name": "stderr",
     "output_type": "stream",
     "text": [
      " 56%|█████▌    | 2680/4818 [20:29<16:01,  2.22it/s]"
     ]
    },
    {
     "name": "stdout",
     "output_type": "stream",
     "text": [
      "Error processing images/training/forged\\CPNoise(23).jpg: No text found in image.\n"
     ]
    },
    {
     "name": "stderr",
     "output_type": "stream",
     "text": [
      " 56%|█████▌    | 2685/4818 [20:33<24:24,  1.46it/s]"
     ]
    },
    {
     "name": "stdout",
     "output_type": "stream",
     "text": [
      "Error processing images/training/forged\\CPNoise(28).jpg: No text found in image.\n"
     ]
    },
    {
     "name": "stderr",
     "output_type": "stream",
     "text": [
      " 56%|█████▌    | 2686/4818 [20:33<20:26,  1.74it/s]"
     ]
    },
    {
     "name": "stdout",
     "output_type": "stream",
     "text": [
      "Error processing images/training/forged\\CPNoise(29).jpg: No text found in image.\n"
     ]
    },
    {
     "name": "stderr",
     "output_type": "stream",
     "text": [
      " 56%|█████▌    | 2692/4818 [20:37<18:49,  1.88it/s]"
     ]
    },
    {
     "name": "stdout",
     "output_type": "stream",
     "text": [
      "Error processing images/training/forged\\CPNoise(34).jpg: No text found in image.\n"
     ]
    },
    {
     "name": "stderr",
     "output_type": "stream",
     "text": [
      " 56%|█████▋    | 2712/4818 [20:52<22:18,  1.57it/s]"
     ]
    },
    {
     "name": "stdout",
     "output_type": "stream",
     "text": [
      "Error processing images/training/forged\\CPNoise(7).jpg: No text found in image.\n"
     ]
    },
    {
     "name": "stderr",
     "output_type": "stream",
     "text": [
      " 95%|█████████▌| 4579/4818 [1:14:48<03:07,  1.28it/s]"
     ]
    },
    {
     "name": "stdout",
     "output_type": "stream",
     "text": [
      "Error processing images/training/forged\\InsBlur(19).jpg: No text found in image.\n"
     ]
    },
    {
     "name": "stderr",
     "output_type": "stream",
     "text": [
      " 95%|█████████▌| 4581/4818 [1:14:49<02:25,  1.63it/s]"
     ]
    },
    {
     "name": "stdout",
     "output_type": "stream",
     "text": [
      "Error processing images/training/forged\\InsBlur(20).jpg: No text found in image.\n"
     ]
    },
    {
     "name": "stderr",
     "output_type": "stream",
     "text": [
      " 95%|█████████▌| 4583/4818 [1:14:50<02:18,  1.69it/s]"
     ]
    },
    {
     "name": "stdout",
     "output_type": "stream",
     "text": [
      "Error processing images/training/forged\\InsBlur(22).jpg: No text found in image.\n"
     ]
    },
    {
     "name": "stderr",
     "output_type": "stream",
     "text": [
      " 95%|█████████▌| 4584/4818 [1:14:50<01:55,  2.02it/s]"
     ]
    },
    {
     "name": "stdout",
     "output_type": "stream",
     "text": [
      "Error processing images/training/forged\\InsBlur(23).jpg: No text found in image.\n"
     ]
    },
    {
     "name": "stderr",
     "output_type": "stream",
     "text": [
      " 95%|█████████▌| 4589/4818 [1:14:54<02:39,  1.43it/s]"
     ]
    },
    {
     "name": "stdout",
     "output_type": "stream",
     "text": [
      "Error processing images/training/forged\\InsBlur(28).jpg: No text found in image.\n"
     ]
    },
    {
     "name": "stderr",
     "output_type": "stream",
     "text": [
      " 95%|█████████▌| 4590/4818 [1:14:54<02:13,  1.71it/s]"
     ]
    },
    {
     "name": "stdout",
     "output_type": "stream",
     "text": [
      "Error processing images/training/forged\\InsBlur(29).jpg: No text found in image.\n"
     ]
    },
    {
     "name": "stderr",
     "output_type": "stream",
     "text": [
      " 95%|█████████▌| 4595/4818 [1:14:58<02:20,  1.59it/s]"
     ]
    },
    {
     "name": "stdout",
     "output_type": "stream",
     "text": [
      "Error processing images/training/forged\\InsBlur(33).jpg: No text found in image.\n"
     ]
    },
    {
     "name": "stderr",
     "output_type": "stream",
     "text": [
      " 96%|█████████▌| 4616/4818 [1:15:15<02:18,  1.46it/s]"
     ]
    },
    {
     "name": "stdout",
     "output_type": "stream",
     "text": [
      "Error processing images/training/forged\\InsBlur(7).jpg: No text found in image.\n"
     ]
    },
    {
     "name": "stderr",
     "output_type": "stream",
     "text": [
      " 96%|█████████▌| 4629/4818 [1:15:25<02:23,  1.32it/s]"
     ]
    },
    {
     "name": "stdout",
     "output_type": "stream",
     "text": [
      "Error processing images/training/forged\\Insertion(19).jpg: No text found in image.\n"
     ]
    },
    {
     "name": "stderr",
     "output_type": "stream",
     "text": [
      " 96%|█████████▌| 4631/4818 [1:15:26<01:54,  1.63it/s]"
     ]
    },
    {
     "name": "stdout",
     "output_type": "stream",
     "text": [
      "Error processing images/training/forged\\Insertion(20).jpg: No text found in image.\n"
     ]
    },
    {
     "name": "stderr",
     "output_type": "stream",
     "text": [
      " 96%|█████████▌| 4633/4818 [1:15:27<01:30,  2.05it/s]"
     ]
    },
    {
     "name": "stdout",
     "output_type": "stream",
     "text": [
      "Error processing images/training/forged\\Insertion(22).jpg: No text found in image.\n"
     ]
    },
    {
     "name": "stderr",
     "output_type": "stream",
     "text": [
      " 96%|█████████▌| 4634/4818 [1:15:27<01:17,  2.36it/s]"
     ]
    },
    {
     "name": "stdout",
     "output_type": "stream",
     "text": [
      "Error processing images/training/forged\\Insertion(23).jpg: No text found in image.\n"
     ]
    },
    {
     "name": "stderr",
     "output_type": "stream",
     "text": [
      " 96%|█████████▋| 4640/4818 [1:15:31<01:42,  1.73it/s]"
     ]
    },
    {
     "name": "stdout",
     "output_type": "stream",
     "text": [
      "Error processing images/training/forged\\Insertion(29).jpg: No text found in image.\n"
     ]
    },
    {
     "name": "stderr",
     "output_type": "stream",
     "text": [
      " 96%|█████████▋| 4645/4818 [1:15:35<01:46,  1.62it/s]"
     ]
    },
    {
     "name": "stdout",
     "output_type": "stream",
     "text": [
      "Error processing images/training/forged\\Insertion(33).jpg: No text found in image.\n"
     ]
    },
    {
     "name": "stderr",
     "output_type": "stream",
     "text": [
      " 97%|█████████▋| 4666/4818 [1:15:52<01:44,  1.45it/s]"
     ]
    },
    {
     "name": "stdout",
     "output_type": "stream",
     "text": [
      "Error processing images/training/forged\\Insertion(7).jpg: No text found in image.\n"
     ]
    },
    {
     "name": "stderr",
     "output_type": "stream",
     "text": [
      " 97%|█████████▋| 4679/4818 [1:16:03<01:44,  1.33it/s]"
     ]
    },
    {
     "name": "stdout",
     "output_type": "stream",
     "text": [
      "Error processing images/training/forged\\InsNoise(19).jpg: No text found in image.\n"
     ]
    },
    {
     "name": "stderr",
     "output_type": "stream",
     "text": [
      " 97%|█████████▋| 4683/4818 [1:16:05<01:16,  1.77it/s]"
     ]
    },
    {
     "name": "stdout",
     "output_type": "stream",
     "text": [
      "Error processing images/training/forged\\InsNoise(22).jpg: No text found in image.\n"
     ]
    },
    {
     "name": "stderr",
     "output_type": "stream",
     "text": [
      " 97%|█████████▋| 4684/4818 [1:16:05<01:04,  2.09it/s]"
     ]
    },
    {
     "name": "stdout",
     "output_type": "stream",
     "text": [
      "Error processing images/training/forged\\InsNoise(23).jpg: No text found in image.\n"
     ]
    },
    {
     "name": "stderr",
     "output_type": "stream",
     "text": [
      " 97%|█████████▋| 4689/4818 [1:16:09<01:25,  1.50it/s]"
     ]
    },
    {
     "name": "stdout",
     "output_type": "stream",
     "text": [
      "Error processing images/training/forged\\InsNoise(28).jpg: No text found in image.\n"
     ]
    },
    {
     "name": "stderr",
     "output_type": "stream",
     "text": [
      " 97%|█████████▋| 4690/4818 [1:16:09<01:11,  1.80it/s]"
     ]
    },
    {
     "name": "stdout",
     "output_type": "stream",
     "text": [
      "Error processing images/training/forged\\InsNoise(29).jpg: No text found in image.\n"
     ]
    },
    {
     "name": "stderr",
     "output_type": "stream",
     "text": [
      " 97%|█████████▋| 4695/4818 [1:16:12<01:14,  1.64it/s]"
     ]
    },
    {
     "name": "stdout",
     "output_type": "stream",
     "text": [
      "Error processing images/training/forged\\InsNoise(33).jpg: No text found in image.\n"
     ]
    },
    {
     "name": "stderr",
     "output_type": "stream",
     "text": [
      " 98%|█████████▊| 4716/4818 [1:16:30<01:10,  1.44it/s]"
     ]
    },
    {
     "name": "stdout",
     "output_type": "stream",
     "text": [
      "Error processing images/training/forged\\InsNoise(7).jpg: No text found in image.\n"
     ]
    },
    {
     "name": "stderr",
     "output_type": "stream",
     "text": [
      " 98%|█████████▊| 4729/4818 [1:16:41<01:09,  1.27it/s]"
     ]
    },
    {
     "name": "stdout",
     "output_type": "stream",
     "text": [
      "Error processing images/training/forged\\Noise(19).jpg: No text found in image.\n"
     ]
    },
    {
     "name": "stderr",
     "output_type": "stream",
     "text": [
      " 98%|█████████▊| 4731/4818 [1:16:42<00:55,  1.56it/s]"
     ]
    },
    {
     "name": "stdout",
     "output_type": "stream",
     "text": [
      "Error processing images/training/forged\\Noise(20).jpg: No text found in image.\n"
     ]
    },
    {
     "name": "stderr",
     "output_type": "stream",
     "text": [
      " 98%|█████████▊| 4733/4818 [1:16:43<00:46,  1.81it/s]"
     ]
    },
    {
     "name": "stdout",
     "output_type": "stream",
     "text": [
      "Error processing images/training/forged\\Noise(22).jpg: No text found in image.\n"
     ]
    },
    {
     "name": "stderr",
     "output_type": "stream",
     "text": [
      " 98%|█████████▊| 4739/4818 [1:16:46<00:51,  1.52it/s]"
     ]
    },
    {
     "name": "stdout",
     "output_type": "stream",
     "text": [
      "Error processing images/training/forged\\Noise(28).jpg: No text found in image.\n"
     ]
    },
    {
     "name": "stderr",
     "output_type": "stream",
     "text": [
      " 98%|█████████▊| 4740/4818 [1:16:47<00:43,  1.79it/s]"
     ]
    },
    {
     "name": "stdout",
     "output_type": "stream",
     "text": [
      "Error processing images/training/forged\\Noise(29).jpg: No text found in image.\n"
     ]
    },
    {
     "name": "stderr",
     "output_type": "stream",
     "text": [
      " 98%|█████████▊| 4745/4818 [1:16:50<00:46,  1.59it/s]"
     ]
    },
    {
     "name": "stdout",
     "output_type": "stream",
     "text": [
      "Error processing images/training/forged\\Noise(33).jpg: No text found in image.\n"
     ]
    },
    {
     "name": "stderr",
     "output_type": "stream",
     "text": [
      " 99%|█████████▊| 4746/4818 [1:16:51<00:38,  1.89it/s]"
     ]
    },
    {
     "name": "stdout",
     "output_type": "stream",
     "text": [
      "Error processing images/training/forged\\Noise(34).jpg: No text found in image.\n"
     ]
    },
    {
     "name": "stderr",
     "output_type": "stream",
     "text": [
      " 99%|█████████▉| 4766/4818 [1:17:06<00:32,  1.58it/s]"
     ]
    },
    {
     "name": "stdout",
     "output_type": "stream",
     "text": [
      "Error processing images/training/forged\\Noise(7).jpg: No text found in image.\n"
     ]
    },
    {
     "name": "stderr",
     "output_type": "stream",
     "text": [
      " 99%|█████████▉| 4779/4818 [1:17:16<00:29,  1.32it/s]"
     ]
    },
    {
     "name": "stdout",
     "output_type": "stream",
     "text": [
      "Error processing images/training/forged\\Normal(19).jpg: No text found in image.\n"
     ]
    },
    {
     "name": "stderr",
     "output_type": "stream",
     "text": [
      " 99%|█████████▉| 4781/4818 [1:17:17<00:22,  1.63it/s]"
     ]
    },
    {
     "name": "stdout",
     "output_type": "stream",
     "text": [
      "Error processing images/training/forged\\Normal(20).jpg: No text found in image.\n"
     ]
    },
    {
     "name": "stderr",
     "output_type": "stream",
     "text": [
      " 99%|█████████▉| 4789/4818 [1:17:22<00:18,  1.54it/s]"
     ]
    },
    {
     "name": "stdout",
     "output_type": "stream",
     "text": [
      "Error processing images/training/forged\\Normal(28).jpg: No text found in image.\n"
     ]
    },
    {
     "name": "stderr",
     "output_type": "stream",
     "text": [
      " 99%|█████████▉| 4790/4818 [1:17:22<00:15,  1.82it/s]"
     ]
    },
    {
     "name": "stdout",
     "output_type": "stream",
     "text": [
      "Error processing images/training/forged\\Normal(29).jpg: No text found in image.\n"
     ]
    },
    {
     "name": "stderr",
     "output_type": "stream",
     "text": [
      "100%|█████████▉| 4795/4818 [1:17:26<00:15,  1.47it/s]"
     ]
    },
    {
     "name": "stdout",
     "output_type": "stream",
     "text": [
      "Error processing images/training/forged\\Normal(33).jpg: No text found in image.\n"
     ]
    },
    {
     "name": "stderr",
     "output_type": "stream",
     "text": [
      "100%|█████████▉| 4809/4818 [1:17:37<00:06,  1.46it/s]"
     ]
    },
    {
     "name": "stdout",
     "output_type": "stream",
     "text": [
      "Error processing images/training/forged\\Normal(46).jpg: No text found in image.\n"
     ]
    },
    {
     "name": "stderr",
     "output_type": "stream",
     "text": [
      "100%|█████████▉| 4816/4818 [1:17:43<00:01,  1.51it/s]"
     ]
    },
    {
     "name": "stdout",
     "output_type": "stream",
     "text": [
      "Error processing images/training/forged\\Normal(7).jpg: No text found in image.\n"
     ]
    },
    {
     "name": "stderr",
     "output_type": "stream",
     "text": [
      "100%|██████████| 4818/4818 [1:17:44<00:00,  1.03it/s]\n"
     ]
    }
   ],
   "source": [
    "image_name = []\n",
    "label = []\n",
    "language = []\n",
    "for image_path in tqdm(image_list):\n",
    "    image_name.append(image_path)\n",
    "    label.append(os.path.basename(os.path.dirname(image_path)))\n",
    "    text, detected_lang = extract_text_and_detect_language(image_path)\n",
    "    language.append(detected_lang if text is not None else 'unknown')\n",
    "\n",
    "# Create a dataset DataFrame\n",
    "dataset = pd.DataFrame({'image': image_name, 'class_label': label, 'language': language})\n",
    "dataset.to_csv('dataset.csv', index=False)"
   ]
  },
  {
   "cell_type": "code",
   "execution_count": 12,
   "metadata": {},
   "outputs": [],
   "source": [
    "from sklearn.cluster import KMeans\n",
    "\n",
    "def detect_text_spacing(text_data):\n",
    "    n_boxes = len(text_data['level'])\n",
    "    suspicious_spacing = []\n",
    "\n",
    "    for i in range(1, n_boxes):\n",
    "        prev_x = text_data['left'][i-1] + text_data['width'][i-1]\n",
    "        curr_x = text_data['left'][i]\n",
    "        if curr_x - prev_x > 10:  # Adjust threshold as needed\n",
    "            suspicious_spacing.append((i, (prev_x, curr_x)))\n",
    "\n",
    "    return suspicious_spacing\n",
    "\n",
    "def detect_font_variation(text_data):\n",
    "    n_boxes = len(text_data['level'])\n",
    "    font_variation = defaultdict(list)\n",
    "\n",
    "    for i in range(n_boxes):\n",
    "        font_size = text_data['height'][i]\n",
    "        font_variation[font_size].append(i)\n",
    "\n",
    "    return font_variation\n",
    "\n",
    "def detect_color_variation(image):\n",
    "    img_hsv = cv2.cvtColor(image, cv2.COLOR_BGR2HSV)\n",
    "    pixels = img_hsv.reshape(-1, 3)\n",
    "    kmeans = KMeans(n_clusters=3, random_state=0).fit(pixels)\n",
    "    centers = kmeans.cluster_centers_\n",
    "    labels = kmeans.labels_\n",
    "    return centers, labels.reshape(image.shape[:2])\n",
    "\n",
    "def enhance_image(image):\n",
    "    # Enhance contrast and brightness\n",
    "    enhanced_image = cv2.convertScaleAbs(image, alpha=1.5, beta=20)\n",
    "    return enhanced_image\n",
    "\n",
    "def highlight_suspicious_areas(image, text_data, suspicious_spacing, font_variation, color_labels, save_path):\n",
    "    marked_image = enhance_image(image.copy())\n",
    "    suspicious_list = []\n",
    "\n",
    "    for idx, (prev_x, curr_x) in suspicious_spacing:\n",
    "        x1 = text_data['left'][idx-1] + text_data['width'][idx-1]\n",
    "        x2 = text_data['left'][idx]\n",
    "        y1 = text_data['top'][idx]\n",
    "        y2 = text_data['top'][idx] + text_data['height'][idx]\n",
    "        cv2.rectangle(marked_image, (x1, y1), (x2, y2), (0, 0, 255), 2)  # Red color\n",
    "        suspicious_list.append(f\"Suspicious spacing at index {idx}: x1={x1}, x2={x2}, y1={y1}, y2={y2}\")\n",
    "\n",
    "    for font_size, indices in font_variation.items():\n",
    "        for idx in indices:\n",
    "            x1 = text_data['left'][idx]\n",
    "            y1 = text_data['top'][idx]\n",
    "            x2 = x1 + text_data['width'][idx]\n",
    "            y2 = y1 + text_data['height'][idx]\n",
    "            cv2.rectangle(marked_image, (x1, y1), (x2, y2), (0, 165, 255), 2)  # Orange color\n",
    "            suspicious_list.append(f\"Font variation at index {idx}: x1={x1}, x2={x2}, y1={y1}, y2={y2}, font_size={font_size}\")\n",
    "\n",
    "    unique_labels = np.unique(color_labels)\n",
    "    for label in unique_labels:\n",
    "        mask = color_labels == label\n",
    "        masked_image = np.where(mask[:, :, np.newaxis], image, 255).astype(np.uint8)\n",
    "        marked_image = cv2.addWeighted(marked_image, 0.5, masked_image, 0.5, 0)\n",
    "        suspicious_list.append(f\"Color variation with label {label}\")\n",
    "\n",
    "    # Save the enhanced and marked image\n",
    "    cv2.imwrite(save_path, marked_image)\n",
    "    return marked_image, suspicious_list\n",
    "\n",
    "def detect_anomalies(image_path, save_path):\n",
    "    try:\n",
    "        img = cv2.imread(image_path)\n",
    "        gray = cv2.cvtColor(img, cv2.COLOR_BGR2GRAY)\n",
    "\n",
    "        text_data = pytesseract.image_to_data(gray, output_type=pytesseract.Output.DICT)\n",
    "\n",
    "        suspicious_spacing = detect_text_spacing(text_data)\n",
    "\n",
    "        font_variation = detect_font_variation(text_data)\n",
    "\n",
    "        centers, color_labels = detect_color_variation(img)\n",
    "\n",
    "        marked_image, suspicious_list = highlight_suspicious_areas(img, text_data, suspicious_spacing, font_variation, color_labels, save_path)\n",
    "\n",
    "        anomaly_score = len(suspicious_spacing) + len(font_variation) + len(np.unique(color_labels))\n",
    "\n",
    "        return anomaly_score, marked_image, suspicious_list\n",
    "\n",
    "    except Exception as e:\n",
    "        print(f\"Error processing {image_path}: {str(e)}\")\n",
    "        return None, None, None"
   ]
  },
  {
   "cell_type": "code",
   "execution_count": 31,
   "metadata": {},
   "outputs": [],
   "source": [
    "def create_model(input_shape):\n",
    "    base_model = VGG16(weights='imagenet', include_top=False, input_shape=input_shape)\n",
    "    x = base_model.output\n",
    "    x = Flatten()(x)\n",
    "    x = Dense(512, activation='relu')(x)\n",
    "    x = Dropout(0.5)(x)  # Regularization with Dropout\n",
    "    x = Dense(128, activation='relu')(x)\n",
    "    x = Dropout(0.5)(x)  # Regularization with Dropout\n",
    "    output = Dense(1, activation='sigmoid')(x)\n",
    "    model = Model(inputs=base_model.input, outputs=output)\n",
    "\n",
    "    # Freeze base model layers\n",
    "    for layer in base_model.layers:\n",
    "        layer.trainable = False\n",
    "\n",
    "    model.compile(optimizer='adam', loss='binary_crossentropy', metrics=['accuracy'])\n",
    "    return model"
   ]
  },
  {
   "cell_type": "code",
   "execution_count": 32,
   "metadata": {},
   "outputs": [
    {
     "name": "stdout",
     "output_type": "stream",
     "text": [
      "Image: images/training/original\\0000002206.jpg - Fake: original\n",
      "Suspicious areas detected:\n",
      "Suspicious spacing at index 5: x1=291, x2=313, y1=308, y2=327\n",
      "Suspicious spacing at index 17: x1=335, x2=349, y1=379, y2=418\n",
      "Suspicious spacing at index 23: x1=333, x2=358, y1=404, y2=433\n",
      "Suspicious spacing at index 53: x1=218, x2=236, y1=508, y2=518\n",
      "Font variation at index 0: x1=0, x2=762, y1=0, y2=1000, font_size=1000\n",
      "Font variation at index 1: x1=214, x2=442, y1=308, y2=414, font_size=106\n",
      "Font variation at index 2: x1=246, x2=317, y1=308, y2=328, font_size=20\n",
      "Font variation at index 3: x1=246, x2=317, y1=308, y2=328, font_size=20\n",
      "Font variation at index 4: x1=246, x2=291, y1=310, y2=328, font_size=18\n",
      "Font variation at index 49: x1=196, x2=323, y1=505, y2=523, font_size=18\n",
      "Font variation at index 50: x1=196, x2=323, y1=505, y2=523, font_size=18\n",
      "Font variation at index 51: x1=196, x2=323, y1=505, y2=523, font_size=18\n",
      "Font variation at index 5: x1=313, x2=317, y1=308, y2=327, font_size=19\n",
      "Font variation at index 6: x1=214, x2=442, y1=337, y2=376, font_size=39\n",
      "Font variation at index 17: x1=349, x2=359, y1=379, y2=418, font_size=39\n",
      "Font variation at index 7: x1=268, x2=400, y1=337, y2=347, font_size=10\n",
      "Font variation at index 13: x1=372, x2=442, y1=365, y2=375, font_size=10\n",
      "Font variation at index 41: x1=218, x2=265, y1=531, y2=541, font_size=10\n",
      "Font variation at index 42: x1=271, x2=312, y1=532, y2=542, font_size=10\n",
      "Font variation at index 53: x1=236, x2=296, y1=508, y2=518, font_size=10\n",
      "Font variation at index 8: x1=264, x2=311, y1=320, y2=357, font_size=37\n",
      "Font variation at index 9: x1=319, x2=400, y1=337, y2=346, font_size=9\n",
      "Font variation at index 16: x1=249, x2=335, y1=396, y2=405, font_size=9\n",
      "Font variation at index 30: x1=181, x2=203, y1=464, y2=473, font_size=9\n",
      "Font variation at index 33: x1=273, x2=346, y1=463, y2=472, font_size=9\n",
      "Font variation at index 34: x1=352, x2=406, y1=463, y2=472, font_size=9\n",
      "Font variation at index 43: x1=321, x2=343, y1=531, y2=540, font_size=9\n",
      "Font variation at index 44: x1=212, x2=368, y1=546, y2=555, font_size=9\n",
      "Font variation at index 45: x1=212, x2=232, y1=546, y2=555, font_size=9\n",
      "Font variation at index 46: x1=238, x2=272, y1=546, y2=555, font_size=9\n",
      "Font variation at index 47: x1=278, x2=326, y1=546, y2=555, font_size=9\n",
      "Font variation at index 48: x1=333, x2=368, y1=546, y2=555, font_size=9\n",
      "Font variation at index 10: x1=214, x2=442, y1=365, y2=376, font_size=11\n",
      "Font variation at index 40: x1=218, x2=343, y1=531, y2=542, font_size=11\n",
      "Font variation at index 11: x1=214, x2=237, y1=349, y2=385, font_size=36\n",
      "Font variation at index 12: x1=240, x2=363, y1=349, y2=385, font_size=36\n",
      "Font variation at index 14: x1=249, x2=412, y1=392, y2=414, font_size=22\n",
      "Font variation at index 15: x1=249, x2=412, y1=392, y2=414, font_size=22\n",
      "Font variation at index 18: x1=369, x2=412, y1=392, y2=414, font_size=22\n",
      "Font variation at index 19: x1=313, x2=420, y1=404, y2=433, font_size=29\n",
      "Font variation at index 20: x1=313, x2=420, y1=404, y2=433, font_size=29\n",
      "Font variation at index 21: x1=313, x2=420, y1=404, y2=433, font_size=29\n",
      "Font variation at index 23: x1=358, x2=420, y1=404, y2=433, font_size=29\n",
      "Font variation at index 22: x1=313, x2=333, y1=409, y2=422, font_size=13\n",
      "Font variation at index 28: x1=107, x2=152, y1=465, y2=478, font_size=13\n",
      "Font variation at index 35: x1=411, x2=491, y1=463, y2=476, font_size=13\n",
      "Font variation at index 24: x1=92, x2=495, y1=463, y2=509, font_size=46\n",
      "Font variation at index 25: x1=92, x2=495, y1=463, y2=509, font_size=46\n",
      "Font variation at index 26: x1=92, x2=491, y1=463, y2=478, font_size=15\n",
      "Font variation at index 27: x1=92, x2=102, y1=465, y2=473, font_size=8\n",
      "Font variation at index 29: x1=158, x2=174, y1=465, y2=473, font_size=8\n",
      "Font variation at index 31: x1=211, x2=251, y1=465, y2=473, font_size=8\n",
      "Font variation at index 32: x1=258, x2=265, y1=465, y2=473, font_size=8\n",
      "Font variation at index 52: x1=196, x2=218, y1=515, y2=523, font_size=8\n",
      "Font variation at index 36: x1=471, x2=495, y1=495, y2=509, font_size=14\n",
      "Font variation at index 37: x1=471, x2=495, y1=495, y2=509, font_size=14\n",
      "Font variation at index 38: x1=212, x2=368, y1=531, y2=555, font_size=24\n",
      "Font variation at index 39: x1=212, x2=368, y1=531, y2=555, font_size=24\n",
      "Font variation at index 54: x1=304, x2=323, y1=505, y2=522, font_size=17\n",
      "Font variation at index 55: x1=0, x2=654, y1=0, y2=856, font_size=856\n",
      "Font variation at index 56: x1=0, x2=654, y1=0, y2=856, font_size=856\n",
      "Font variation at index 57: x1=0, x2=654, y1=0, y2=856, font_size=856\n",
      "Font variation at index 58: x1=0, x2=654, y1=0, y2=856, font_size=856\n",
      "Color variation with label 0\n",
      "Color variation with label 1\n",
      "Color variation with label 2\n",
      "Image: images/training/original\\0000009994.jpg - Fake: original\n",
      "Suspicious areas detected:\n",
      "Suspicious spacing at index 8: x1=248, x2=259, y1=39, y2=71\n",
      "Suspicious spacing at index 10: x1=430, x2=450, y1=35, y2=78\n",
      "Suspicious spacing at index 27: x1=164, x2=289, y1=115, y2=126\n",
      "Suspicious spacing at index 31: x1=414, x2=425, y1=115, y2=126\n",
      "Suspicious spacing at index 51: x1=276, x2=459, y1=157, y2=167\n",
      "Suspicious spacing at index 54: x1=255, x2=306, y1=161, y2=191\n",
      "Suspicious spacing at index 55: x1=364, x2=421, y1=173, y2=181\n",
      "Suspicious spacing at index 56: x1=457, x2=469, y1=161, y2=191\n",
      "Suspicious spacing at index 57: x1=487, x2=498, y1=173, y2=181\n",
      "Suspicious spacing at index 60: x1=255, x2=318, y1=214, y2=226\n",
      "Suspicious spacing at index 61: x1=352, x2=423, y1=215, y2=227\n",
      "Suspicious spacing at index 62: x1=456, x2=513, y1=215, y2=227\n",
      "Suspicious spacing at index 65: x1=254, x2=332, y1=257, y2=267\n",
      "Suspicious spacing at index 66: x1=352, x2=423, y1=258, y2=269\n",
      "Suspicious spacing at index 67: x1=457, x2=528, y1=258, y2=268\n",
      "Suspicious spacing at index 70: x1=254, x2=332, y1=300, y2=309\n",
      "Suspicious spacing at index 71: x1=352, x2=422, y1=300, y2=312\n",
      "Suspicious spacing at index 72: x1=457, x2=513, y1=300, y2=312\n",
      "Suspicious spacing at index 75: x1=255, x2=333, y1=342, y2=352\n",
      "Suspicious spacing at index 76: x1=352, x2=437, y1=343, y2=352\n",
      "Suspicious spacing at index 77: x1=457, x2=527, y1=343, y2=353\n",
      "Suspicious spacing at index 80: x1=254, x2=332, y1=385, y2=394\n",
      "Suspicious spacing at index 81: x1=352, x2=437, y1=385, y2=394\n",
      "Suspicious spacing at index 82: x1=456, x2=527, y1=385, y2=394\n",
      "Suspicious spacing at index 85: x1=254, x2=339, y1=427, y2=436\n",
      "Suspicious spacing at index 86: x1=352, x2=436, y1=427, y2=437\n",
      "Suspicious spacing at index 87: x1=457, x2=527, y1=428, y2=437\n",
      "Suspicious spacing at index 90: x1=254, x2=332, y1=468, y2=482\n",
      "Suspicious spacing at index 91: x1=353, x2=436, y1=469, y2=479\n",
      "Suspicious spacing at index 92: x1=456, x2=527, y1=470, y2=479\n",
      "Suspicious spacing at index 95: x1=253, x2=311, y1=500, y2=531\n",
      "Suspicious spacing at index 96: x1=345, x2=422, y1=512, y2=523\n",
      "Suspicious spacing at index 97: x1=456, x2=513, y1=512, y2=523\n",
      "Suspicious spacing at index 101: x1=546, x2=557, y1=555, y2=566\n",
      "Suspicious spacing at index 108: x1=126, x2=142, y1=652, y2=661\n",
      "Suspicious spacing at index 126: x1=126, x2=142, y1=707, y2=718\n",
      "Suspicious spacing at index 193: x1=184, x2=505, y1=750, y2=760\n",
      "Font variation at index 0: x1=0, x2=762, y1=0, y2=1000, font_size=1000\n",
      "Font variation at index 1: x1=42, x2=505, y1=35, y2=78, font_size=43\n",
      "Font variation at index 2: x1=42, x2=505, y1=35, y2=78, font_size=43\n",
      "Font variation at index 3: x1=42, x2=505, y1=35, y2=78, font_size=43\n",
      "Font variation at index 10: x1=450, x2=505, y1=35, y2=78, font_size=43\n",
      "Font variation at index 4: x1=42, x2=72, y1=56, y2=67, font_size=11\n",
      "Font variation at index 7: x1=181, x2=248, y1=57, y2=68, font_size=11\n",
      "Font variation at index 9: x1=402, x2=430, y1=58, y2=69, font_size=11\n",
      "Font variation at index 27: x1=289, x2=551, y1=115, y2=126, font_size=11\n",
      "Font variation at index 28: x1=289, x2=551, y1=115, y2=126, font_size=11\n",
      "Font variation at index 29: x1=289, x2=551, y1=115, y2=126, font_size=11\n",
      "Font variation at index 31: x1=425, x2=443, y1=115, y2=126, font_size=11\n",
      "Font variation at index 34: x1=541, x2=551, y1=115, y2=126, font_size=11\n",
      "Font variation at index 59: x1=221, x2=255, y1=214, y2=225, font_size=11\n",
      "Font variation at index 66: x1=423, x2=457, y1=258, y2=269, font_size=11\n",
      "Font variation at index 73: x1=234, x2=547, y1=342, y2=353, font_size=11\n",
      "Font variation at index 96: x1=422, x2=456, y1=512, y2=523, font_size=11\n",
      "Font variation at index 97: x1=513, x2=547, y1=512, y2=523, font_size=11\n",
      "Font variation at index 98: x1=557, x2=572, y1=512, y2=523, font_size=11\n",
      "Font variation at index 99: x1=513, x2=572, y1=555, y2=566, font_size=11\n",
      "Font variation at index 101: x1=557, x2=572, y1=555, y2=566, font_size=11\n",
      "Font variation at index 102: x1=513, x2=547, y1=597, y2=608, font_size=11\n",
      "Font variation at index 103: x1=513, x2=547, y1=597, y2=608, font_size=11\n",
      "Font variation at index 107: x1=110, x2=126, y1=651, y2=662, font_size=11\n",
      "Font variation at index 117: x1=143, x2=196, y1=665, y2=676, font_size=11\n",
      "Font variation at index 118: x1=143, x2=196, y1=665, y2=676, font_size=11\n",
      "Font variation at index 119: x1=143, x2=196, y1=665, y2=676, font_size=11\n",
      "Font variation at index 121: x1=164, x2=196, y1=665, y2=676, font_size=11\n",
      "Font variation at index 126: x1=142, x2=198, y1=707, y2=718, font_size=11\n",
      "Font variation at index 128: x1=220, x2=288, y1=707, y2=718, font_size=11\n",
      "Font variation at index 129: x1=296, x2=323, y1=708, y2=719, font_size=11\n",
      "Font variation at index 136: x1=331, x2=540, y1=707, y2=718, font_size=11\n",
      "Font variation at index 148: x1=233, x2=275, y1=722, y2=733, font_size=11\n",
      "Font variation at index 154: x1=436, x2=484, y1=722, y2=733, font_size=11\n",
      "Font variation at index 170: x1=445, x2=460, y1=735, y2=746, font_size=11\n",
      "Font variation at index 5: x1=78, x2=140, y1=56, y2=68, font_size=12\n",
      "Font variation at index 6: x1=145, x2=175, y1=56, y2=68, font_size=12\n",
      "Font variation at index 60: x1=318, x2=352, y1=214, y2=226, font_size=12\n",
      "Font variation at index 61: x1=423, x2=456, y1=215, y2=227, font_size=12\n",
      "Font variation at index 62: x1=513, x2=547, y1=215, y2=227, font_size=12\n",
      "Font variation at index 63: x1=235, x2=546, y1=257, y2=269, font_size=12\n",
      "Font variation at index 68: x1=235, x2=546, y1=300, y2=312, font_size=12\n",
      "Font variation at index 71: x1=422, x2=457, y1=300, y2=312, font_size=12\n",
      "Font variation at index 72: x1=513, x2=546, y1=300, y2=312, font_size=12\n",
      "Font variation at index 115: x1=401, x2=449, y1=652, y2=664, font_size=12\n",
      "Font variation at index 122: x1=110, x2=323, y1=707, y2=719, font_size=12\n",
      "Font variation at index 123: x1=110, x2=323, y1=707, y2=719, font_size=12\n",
      "Font variation at index 124: x1=110, x2=323, y1=707, y2=719, font_size=12\n",
      "Font variation at index 173: x1=142, x2=483, y1=748, y2=760, font_size=12\n",
      "Font variation at index 174: x1=142, x2=483, y1=748, y2=760, font_size=12\n",
      "Font variation at index 175: x1=142, x2=483, y1=748, y2=760, font_size=12\n",
      "Font variation at index 180: x1=344, x2=386, y1=748, y2=760, font_size=12\n",
      "Font variation at index 181: x1=392, x2=407, y1=748, y2=760, font_size=12\n",
      "Font variation at index 184: x1=142, x2=231, y1=761, y2=773, font_size=12\n",
      "Font variation at index 185: x1=142, x2=231, y1=761, y2=773, font_size=12\n",
      "Font variation at index 186: x1=142, x2=231, y1=761, y2=773, font_size=12\n",
      "Font variation at index 187: x1=142, x2=185, y1=761, y2=773, font_size=12\n",
      "Font variation at index 8: x1=259, x2=396, y1=39, y2=71, font_size=32\n",
      "Font variation at index 11: x1=73, x2=172, y1=257, y2=266, font_size=9\n",
      "Font variation at index 12: x1=73, x2=172, y1=257, y2=266, font_size=9\n",
      "Font variation at index 13: x1=73, x2=172, y1=257, y2=266, font_size=9\n",
      "Font variation at index 14: x1=73, x2=172, y1=257, y2=266, font_size=9\n",
      "Font variation at index 15: x1=73, x2=136, y1=300, y2=309, font_size=9\n",
      "Font variation at index 16: x1=73, x2=136, y1=300, y2=309, font_size=9\n",
      "Font variation at index 17: x1=73, x2=136, y1=300, y2=309, font_size=9\n",
      "Font variation at index 18: x1=73, x2=136, y1=300, y2=309, font_size=9\n",
      "Font variation at index 33: x1=519, x2=532, y1=115, y2=124, font_size=9\n",
      "Font variation at index 50: x1=257, x2=276, y1=157, y2=166, font_size=9\n",
      "Font variation at index 69: x1=235, x2=254, y1=300, y2=309, font_size=9\n",
      "Font variation at index 70: x1=332, x2=352, y1=300, y2=309, font_size=9\n",
      "Font variation at index 74: x1=234, x2=255, y1=342, y2=351, font_size=9\n",
      "Font variation at index 76: x1=437, x2=457, y1=343, y2=352, font_size=9\n",
      "Font variation at index 80: x1=332, x2=352, y1=385, y2=394, font_size=9\n",
      "Font variation at index 81: x1=437, x2=456, y1=385, y2=394, font_size=9\n",
      "Font variation at index 82: x1=527, x2=547, y1=385, y2=394, font_size=9\n",
      "Font variation at index 84: x1=241, x2=254, y1=427, y2=436, font_size=9\n",
      "Font variation at index 85: x1=339, x2=352, y1=427, y2=436, font_size=9\n",
      "Font variation at index 87: x1=527, x2=546, y1=428, y2=437, font_size=9\n",
      "Font variation at index 92: x1=527, x2=547, y1=470, y2=479, font_size=9\n",
      "Font variation at index 108: x1=142, x2=192, y1=652, y2=661, font_size=9\n",
      "Font variation at index 139: x1=366, x2=392, y1=707, y2=716, font_size=9\n",
      "Font variation at index 140: x1=401, x2=427, y1=707, y2=716, font_size=9\n",
      "Font variation at index 142: x1=484, x2=519, y1=709, y2=718, font_size=9\n",
      "Font variation at index 143: x1=526, x2=540, y1=709, y2=718, font_size=9\n",
      "Font variation at index 145: x1=142, x2=171, y1=721, y2=730, font_size=9\n",
      "Font variation at index 149: x1=283, x2=303, y1=722, y2=731, font_size=9\n",
      "Font variation at index 150: x1=309, x2=345, y1=721, y2=730, font_size=9\n",
      "Font variation at index 151: x1=352, x2=386, y1=721, y2=730, font_size=9\n",
      "Font variation at index 152: x1=394, x2=407, y1=721, y2=730, font_size=9\n",
      "Font variation at index 164: x1=177, x2=198, y1=734, y2=743, font_size=9\n",
      "Font variation at index 166: x1=246, x2=268, y1=738, y2=747, font_size=9\n",
      "Font variation at index 169: x1=415, x2=435, y1=735, y2=744, font_size=9\n",
      "Font variation at index 171: x1=470, x2=491, y1=736, y2=745, font_size=9\n",
      "Font variation at index 188: x1=191, x2=231, y1=762, y2=771, font_size=9\n",
      "Font variation at index 197: x1=518, x2=539, y1=750, y2=759, font_size=9\n",
      "Font variation at index 19: x1=73, x2=157, y1=426, y2=436, font_size=10\n",
      "Font variation at index 20: x1=73, x2=157, y1=426, y2=436, font_size=10\n",
      "Font variation at index 21: x1=73, x2=157, y1=426, y2=436, font_size=10\n",
      "Font variation at index 22: x1=73, x2=157, y1=426, y2=436, font_size=10\n",
      "Font variation at index 23: x1=73, x2=164, y1=468, y2=478, font_size=10\n",
      "Font variation at index 24: x1=73, x2=164, y1=468, y2=478, font_size=10\n",
      "Font variation at index 25: x1=73, x2=164, y1=468, y2=478, font_size=10\n",
      "Font variation at index 26: x1=73, x2=164, y1=468, y2=478, font_size=10\n",
      "Font variation at index 30: x1=289, x2=414, y1=115, y2=125, font_size=10\n",
      "Font variation at index 32: x1=450, x2=512, y1=115, y2=125, font_size=10\n",
      "Font variation at index 49: x1=257, x2=477, y1=157, y2=167, font_size=10\n",
      "Font variation at index 51: x1=459, x2=477, y1=157, y2=167, font_size=10\n",
      "Font variation at index 64: x1=235, x2=254, y1=257, y2=267, font_size=10\n",
      "Font variation at index 65: x1=332, x2=352, y1=257, y2=267, font_size=10\n",
      "Font variation at index 67: x1=528, x2=546, y1=258, y2=268, font_size=10\n",
      "Font variation at index 75: x1=333, x2=352, y1=342, y2=352, font_size=10\n",
      "Font variation at index 77: x1=527, x2=547, y1=343, y2=353, font_size=10\n",
      "Font variation at index 78: x1=234, x2=547, y1=384, y2=394, font_size=10\n",
      "Font variation at index 79: x1=234, x2=254, y1=384, y2=394, font_size=10\n",
      "Font variation at index 83: x1=241, x2=546, y1=427, y2=437, font_size=10\n",
      "Font variation at index 86: x1=436, x2=457, y1=427, y2=437, font_size=10\n",
      "Font variation at index 89: x1=234, x2=254, y1=468, y2=478, font_size=10\n",
      "Font variation at index 91: x1=436, x2=456, y1=469, y2=479, font_size=10\n",
      "Font variation at index 100: x1=513, x2=546, y1=555, y2=565, font_size=10\n",
      "Font variation at index 109: x1=199, x2=240, y1=654, y2=664, font_size=10\n",
      "Font variation at index 110: x1=248, x2=268, y1=652, y2=662, font_size=10\n",
      "Font variation at index 111: x1=274, x2=310, y1=652, y2=662, font_size=10\n",
      "Font variation at index 112: x1=317, x2=352, y1=652, y2=662, font_size=10\n",
      "Font variation at index 113: x1=359, x2=372, y1=652, y2=662, font_size=10\n",
      "Font variation at index 120: x1=143, x2=157, y1=665, y2=675, font_size=10\n",
      "Font variation at index 125: x1=110, x2=126, y1=707, y2=717, font_size=10\n",
      "Font variation at index 141: x1=436, x2=477, y1=708, y2=718, font_size=10\n",
      "Font variation at index 146: x1=178, x2=198, y1=720, y2=730, font_size=10\n",
      "Font variation at index 147: x1=208, x2=223, y1=721, y2=731, font_size=10\n",
      "Font variation at index 165: x1=205, x2=240, y1=734, y2=744, font_size=10\n",
      "Font variation at index 168: x1=317, x2=405, y1=735, y2=745, font_size=10\n",
      "Font variation at index 176: x1=142, x2=198, y1=749, y2=759, font_size=10\n",
      "Font variation at index 177: x1=207, x2=233, y1=748, y2=758, font_size=10\n",
      "Font variation at index 179: x1=268, x2=337, y1=748, y2=758, font_size=10\n",
      "Font variation at index 182: x1=415, x2=434, y1=748, y2=758, font_size=10\n",
      "Font variation at index 183: x1=442, x2=483, y1=749, y2=759, font_size=10\n",
      "Font variation at index 193: x1=505, x2=539, y1=750, y2=760, font_size=10\n",
      "Font variation at index 194: x1=505, x2=539, y1=750, y2=760, font_size=10\n",
      "Font variation at index 195: x1=505, x2=539, y1=750, y2=760, font_size=10\n",
      "Font variation at index 35: x1=219, x2=575, y1=180, y2=187, font_size=7\n",
      "Font variation at index 36: x1=219, x2=575, y1=180, y2=187, font_size=7\n",
      "Font variation at index 37: x1=219, x2=575, y1=180, y2=187, font_size=7\n",
      "Font variation at index 38: x1=219, x2=575, y1=180, y2=187, font_size=7\n",
      "Font variation at index 127: x1=206, x2=212, y1=709, y2=716, font_size=7\n",
      "Font variation at index 130: x1=324, x2=330, y1=710, y2=717, font_size=7\n",
      "Font variation at index 131: x1=324, x2=330, y1=710, y2=717, font_size=7\n",
      "Font variation at index 132: x1=324, x2=330, y1=710, y2=717, font_size=7\n",
      "Font variation at index 133: x1=324, x2=330, y1=710, y2=717, font_size=7\n",
      "Font variation at index 155: x1=491, x2=525, y1=725, y2=732, font_size=7\n",
      "Font variation at index 172: x1=498, x2=519, y1=739, y2=746, font_size=7\n",
      "Font variation at index 178: x1=240, x2=260, y1=751, y2=758, font_size=7\n",
      "Font variation at index 39: x1=220, x2=542, y1=478, y2=484, font_size=6\n",
      "Font variation at index 40: x1=220, x2=542, y1=478, y2=484, font_size=6\n",
      "Font variation at index 41: x1=220, x2=542, y1=478, y2=484, font_size=6\n",
      "Font variation at index 42: x1=220, x2=542, y1=478, y2=484, font_size=6\n",
      "Font variation at index 138: x1=346, x2=358, y1=710, y2=716, font_size=6\n",
      "Font variation at index 153: x1=415, x2=428, y1=724, y2=730, font_size=6\n",
      "Font variation at index 43: x1=511, x2=547, y1=565, y2=569, font_size=4\n",
      "Font variation at index 44: x1=511, x2=547, y1=565, y2=569, font_size=4\n",
      "Font variation at index 45: x1=511, x2=547, y1=565, y2=569, font_size=4\n",
      "Font variation at index 46: x1=511, x2=547, y1=565, y2=569, font_size=4\n",
      "Font variation at index 47: x1=216, x2=574, y1=157, y2=608, font_size=451\n",
      "Font variation at index 48: x1=220, x2=574, y1=157, y2=608, font_size=451\n",
      "Font variation at index 52: x1=216, x2=574, y1=160, y2=191, font_size=31\n",
      "Font variation at index 53: x1=216, x2=255, y1=160, y2=191, font_size=31\n",
      "Font variation at index 93: x1=220, x2=572, y1=500, y2=531, font_size=31\n",
      "Font variation at index 94: x1=220, x2=253, y1=500, y2=531, font_size=31\n",
      "Font variation at index 95: x1=311, x2=345, y1=500, y2=531, font_size=31\n",
      "Font variation at index 54: x1=306, x2=364, y1=161, y2=191, font_size=30\n",
      "Font variation at index 56: x1=469, x2=487, y1=161, y2=191, font_size=30\n",
      "Font variation at index 55: x1=421, x2=457, y1=173, y2=181, font_size=8\n",
      "Font variation at index 57: x1=498, x2=574, y1=173, y2=181, font_size=8\n",
      "Font variation at index 114: x1=380, x2=394, y1=654, y2=662, font_size=8\n",
      "Font variation at index 116: x1=456, x2=526, y1=655, y2=663, font_size=8\n",
      "Font variation at index 163: x1=142, x2=170, y1=735, y2=743, font_size=8\n",
      "Font variation at index 167: x1=274, x2=310, y1=736, y2=744, font_size=8\n",
      "Font variation at index 206: x1=579, x2=646, y1=916, y2=924, font_size=8\n",
      "Font variation at index 207: x1=579, x2=646, y1=916, y2=924, font_size=8\n",
      "Font variation at index 208: x1=579, x2=646, y1=916, y2=924, font_size=8\n",
      "Font variation at index 209: x1=579, x2=646, y1=916, y2=924, font_size=8\n",
      "Font variation at index 58: x1=221, x2=547, y1=214, y2=227, font_size=13\n",
      "Font variation at index 104: x1=110, x2=526, y1=651, y2=664, font_size=13\n",
      "Font variation at index 105: x1=110, x2=526, y1=651, y2=664, font_size=13\n",
      "Font variation at index 106: x1=110, x2=526, y1=651, y2=664, font_size=13\n",
      "Font variation at index 144: x1=142, x2=525, y1=720, y2=733, font_size=13\n",
      "Font variation at index 160: x1=142, x2=519, y1=734, y2=747, font_size=13\n",
      "Font variation at index 161: x1=142, x2=519, y1=734, y2=747, font_size=13\n",
      "Font variation at index 162: x1=142, x2=519, y1=734, y2=747, font_size=13\n",
      "Font variation at index 88: x1=234, x2=547, y1=468, y2=482, font_size=14\n",
      "Font variation at index 90: x1=332, x2=353, y1=468, y2=482, font_size=14\n",
      "Font variation at index 210: x1=7, x2=714, y1=929, y2=943, font_size=14\n",
      "Font variation at index 211: x1=7, x2=714, y1=929, y2=943, font_size=14\n",
      "Font variation at index 212: x1=7, x2=714, y1=929, y2=943, font_size=14\n",
      "Font variation at index 213: x1=7, x2=714, y1=929, y2=943, font_size=14\n",
      "Font variation at index 134: x1=142, x2=540, y1=707, y2=733, font_size=26\n",
      "Font variation at index 135: x1=142, x2=540, y1=707, y2=733, font_size=26\n",
      "Font variation at index 137: x1=331, x2=337, y1=710, y2=712, font_size=2\n",
      "Font variation at index 156: x1=526, x2=532, y1=724, y2=727, font_size=3\n",
      "Font variation at index 157: x1=526, x2=532, y1=724, y2=727, font_size=3\n",
      "Font variation at index 158: x1=526, x2=532, y1=724, y2=727, font_size=3\n",
      "Font variation at index 159: x1=526, x2=532, y1=724, y2=727, font_size=3\n",
      "Font variation at index 189: x1=17, x2=184, y1=905, y2=928, font_size=23\n",
      "Font variation at index 190: x1=17, x2=184, y1=905, y2=928, font_size=23\n",
      "Font variation at index 191: x1=17, x2=184, y1=905, y2=928, font_size=23\n",
      "Font variation at index 192: x1=17, x2=184, y1=905, y2=928, font_size=23\n",
      "Font variation at index 196: x1=501, x2=511, y1=741, y2=769, font_size=28\n",
      "Font variation at index 198: x1=0, x2=718, y1=0, y2=27, font_size=27\n",
      "Font variation at index 199: x1=0, x2=718, y1=0, y2=27, font_size=27\n",
      "Font variation at index 200: x1=0, x2=718, y1=0, y2=27, font_size=27\n",
      "Font variation at index 201: x1=0, x2=718, y1=0, y2=27, font_size=27\n",
      "Font variation at index 202: x1=631, x2=650, y1=730, y2=842, font_size=112\n",
      "Font variation at index 203: x1=631, x2=650, y1=730, y2=842, font_size=112\n",
      "Font variation at index 204: x1=631, x2=650, y1=730, y2=842, font_size=112\n",
      "Font variation at index 205: x1=631, x2=650, y1=730, y2=842, font_size=112\n",
      "Color variation with label 0\n",
      "Color variation with label 1\n",
      "Color variation with label 2\n",
      "Image: images/training/original\\0000018957.jpg - Fake: original\n",
      "Suspicious areas detected:\n",
      "Suspicious spacing at index 9: x1=95, x2=226, y1=47, y2=53\n",
      "Suspicious spacing at index 14: x1=439, x2=538, y1=37, y2=63\n",
      "Suspicious spacing at index 40: x1=422, x2=547, y1=65, y2=88\n",
      "Suspicious spacing at index 43: x1=129, x2=140, y1=85, y2=94\n",
      "Suspicious spacing at index 45: x1=194, x2=240, y1=95, y2=96\n",
      "Suspicious spacing at index 48: x1=149, x2=164, y1=112, y2=121\n",
      "Suspicious spacing at index 49: x1=209, x2=226, y1=112, y2=121\n",
      "Suspicious spacing at index 50: x1=248, x2=289, y1=112, y2=121\n",
      "Suspicious spacing at index 52: x1=326, x2=337, y1=113, y2=122\n",
      "Suspicious spacing at index 56: x1=241, x2=288, y1=126, y2=135\n",
      "Suspicious spacing at index 57: x1=295, x2=313, y1=127, y2=135\n",
      "Suspicious spacing at index 61: x1=152, x2=164, y1=138, y2=148\n",
      "Suspicious spacing at index 62: x1=218, x2=288, y1=140, y2=149\n",
      "Suspicious spacing at index 64: x1=365, x2=379, y1=137, y2=150\n",
      "Suspicious spacing at index 67: x1=147, x2=163, y1=152, y2=161\n",
      "Suspicious spacing at index 68: x1=217, x2=289, y1=153, y2=162\n",
      "Suspicious spacing at index 72: x1=128, x2=139, y1=179, y2=188\n",
      "Suspicious spacing at index 74: x1=231, x2=409, y1=183, y2=192\n",
      "Suspicious spacing at index 75: x1=436, x2=454, y1=181, y2=192\n",
      "Suspicious spacing at index 98: x1=153, x2=165, y1=231, y2=243\n",
      "Suspicious spacing at index 99: x1=182, x2=193, y1=232, y2=243\n",
      "Suspicious spacing at index 103: x1=379, x2=390, y1=236, y2=243\n",
      "Suspicious spacing at index 107: x1=545, x2=557, y1=235, y2=244\n",
      "Suspicious spacing at index 130: x1=553, x2=565, y1=261, y2=271\n",
      "Suspicious spacing at index 133: x1=135, x2=146, y1=271, y2=281\n",
      "Suspicious spacing at index 134: x1=173, x2=186, y1=272, y2=281\n",
      "Suspicious spacing at index 138: x1=349, x2=360, y1=273, y2=282\n",
      "Suspicious spacing at index 141: x1=450, x2=462, y1=274, y2=283\n",
      "Suspicious spacing at index 143: x1=545, x2=564, y1=275, y2=287\n",
      "Suspicious spacing at index 185: x1=199, x2=219, y1=338, y2=340\n",
      "Suspicious spacing at index 198: x1=309, x2=322, y1=365, y2=376\n",
      "Suspicious spacing at index 199: x1=386, x2=413, y1=371, y2=373\n",
      "Suspicious spacing at index 200: x1=420, x2=445, y1=366, y2=375\n",
      "Suspicious spacing at index 207: x1=380, x2=413, y1=397, y2=399\n",
      "Suspicious spacing at index 214: x1=316, x2=413, y1=423, y2=425\n",
      "Suspicious spacing at index 215: x1=419, x2=445, y1=420, y2=430\n",
      "Suspicious spacing at index 220: x1=292, x2=413, y1=450, y2=451\n",
      "Suspicious spacing at index 221: x1=419, x2=444, y1=446, y2=456\n",
      "Suspicious spacing at index 225: x1=267, x2=413, y1=476, y2=478\n",
      "Suspicious spacing at index 226: x1=419, x2=444, y1=472, y2=481\n",
      "Suspicious spacing at index 235: x1=419, x2=444, y1=498, y2=509\n",
      "Suspicious spacing at index 236: x1=489, x2=500, y1=499, y2=508\n",
      "Suspicious spacing at index 250: x1=291, x2=308, y1=539, y2=548\n",
      "Suspicious spacing at index 268: x1=152, x2=164, y1=572, y2=608\n",
      "Suspicious spacing at index 275: x1=202, x2=580, y1=702, y2=808\n",
      "Font variation at index 0: x1=0, x2=762, y1=0, y2=1000, font_size=1000\n",
      "Font variation at index 1: x1=0, x2=670, y1=0, y2=44, font_size=44\n",
      "Font variation at index 2: x1=0, x2=670, y1=0, y2=44, font_size=44\n",
      "Font variation at index 3: x1=0, x2=670, y1=0, y2=44, font_size=44\n",
      "Font variation at index 4: x1=0, x2=670, y1=0, y2=44, font_size=44\n",
      "Font variation at index 5: x1=88, x2=627, y1=37, y2=63, font_size=26\n",
      "Font variation at index 6: x1=88, x2=627, y1=37, y2=63, font_size=26\n",
      "Font variation at index 7: x1=88, x2=627, y1=37, y2=63, font_size=26\n",
      "Font variation at index 14: x1=538, x2=627, y1=37, y2=63, font_size=26\n",
      "Font variation at index 244: x1=108, x2=566, y1=535, y2=561, font_size=26\n",
      "Font variation at index 245: x1=108, x2=566, y1=535, y2=561, font_size=26\n",
      "Font variation at index 8: x1=88, x2=95, y1=44, y2=50, font_size=6\n",
      "Font variation at index 9: x1=226, x2=326, y1=47, y2=53, font_size=6\n",
      "Font variation at index 11: x1=270, x2=324, y1=47, y2=53, font_size=6\n",
      "Font variation at index 135: x1=248, x2=263, y1=275, y2=281, font_size=6\n",
      "Font variation at index 10: x1=260, x2=266, y1=32, y2=61, font_size=29\n",
      "Font variation at index 12: x1=330, x2=370, y1=32, y2=61, font_size=29\n",
      "Font variation at index 13: x1=376, x2=439, y1=32, y2=61, font_size=29\n",
      "Font variation at index 15: x1=112, x2=157, y1=108, y2=125, font_size=17\n",
      "Font variation at index 16: x1=112, x2=157, y1=108, y2=125, font_size=17\n",
      "Font variation at index 17: x1=112, x2=157, y1=108, y2=125, font_size=17\n",
      "Font variation at index 18: x1=112, x2=157, y1=108, y2=125, font_size=17\n",
      "Font variation at index 19: x1=91, x2=629, y1=119, y2=128, font_size=9\n",
      "Font variation at index 20: x1=91, x2=629, y1=119, y2=128, font_size=9\n",
      "Font variation at index 21: x1=91, x2=629, y1=119, y2=128, font_size=9\n",
      "Font variation at index 22: x1=91, x2=629, y1=119, y2=128, font_size=9\n",
      "Font variation at index 39: x1=310, x2=422, y1=61, y2=70, font_size=9\n",
      "Font variation at index 43: x1=140, x2=153, y1=85, y2=94, font_size=9\n",
      "Font variation at index 48: x1=164, x2=209, y1=112, y2=121, font_size=9\n",
      "Font variation at index 49: x1=226, x2=248, y1=112, y2=121, font_size=9\n",
      "Font variation at index 50: x1=289, x2=302, y1=112, y2=121, font_size=9\n",
      "Font variation at index 51: x1=312, x2=326, y1=113, y2=122, font_size=9\n",
      "Font variation at index 52: x1=337, x2=375, y1=113, y2=122, font_size=9\n",
      "Font variation at index 54: x1=115, x2=153, y1=125, y2=134, font_size=9\n",
      "Font variation at index 56: x1=288, x2=295, y1=126, y2=135, font_size=9\n",
      "Font variation at index 58: x1=336, x2=382, y1=126, y2=135, font_size=9\n",
      "Font variation at index 60: x1=115, x2=152, y1=139, y2=148, font_size=9\n",
      "Font variation at index 62: x1=288, x2=326, y1=140, y2=149, font_size=9\n",
      "Font variation at index 67: x1=163, x2=217, y1=152, y2=161, font_size=9\n",
      "Font variation at index 68: x1=289, x2=325, y1=153, y2=162, font_size=9\n",
      "Font variation at index 69: x1=335, x2=382, y1=154, y2=163, font_size=9\n",
      "Font variation at index 71: x1=115, x2=128, y1=179, y2=188, font_size=9\n",
      "Font variation at index 72: x1=139, x2=152, y1=179, y2=188, font_size=9\n",
      "Font variation at index 74: x1=409, x2=436, y1=183, y2=192, font_size=9\n",
      "Font variation at index 78: x1=91, x2=630, y1=186, y2=195, font_size=9\n",
      "Font variation at index 79: x1=91, x2=630, y1=186, y2=195, font_size=9\n",
      "Font variation at index 80: x1=91, x2=630, y1=186, y2=195, font_size=9\n",
      "Font variation at index 81: x1=91, x2=630, y1=186, y2=195, font_size=9\n",
      "Font variation at index 82: x1=113, x2=304, y1=192, y2=201, font_size=9\n",
      "Font variation at index 83: x1=113, x2=304, y1=192, y2=201, font_size=9\n",
      "Font variation at index 84: x1=113, x2=304, y1=192, y2=201, font_size=9\n",
      "Font variation at index 85: x1=113, x2=170, y1=192, y2=201, font_size=9\n",
      "Font variation at index 86: x1=178, x2=224, y1=192, y2=201, font_size=9\n",
      "Font variation at index 97: x1=131, x2=153, y1=232, y2=241, font_size=9\n",
      "Font variation at index 107: x1=557, x2=572, y1=235, y2=244, font_size=9\n",
      "Font variation at index 109: x1=114, x2=185, y1=245, y2=254, font_size=9\n",
      "Font variation at index 112: x1=273, x2=311, y1=246, y2=255, font_size=9\n",
      "Font variation at index 113: x1=319, x2=335, y1=246, y2=255, font_size=9\n",
      "Font variation at index 114: x1=344, x2=382, y1=246, y2=255, font_size=9\n",
      "Font variation at index 115: x1=390, x2=445, y1=247, y2=256, font_size=9\n",
      "Font variation at index 117: x1=510, x2=555, y1=248, y2=257, font_size=9\n",
      "Font variation at index 118: x1=565, x2=601, y1=249, y2=258, font_size=9\n",
      "Font variation at index 120: x1=114, x2=137, y1=258, y2=267, font_size=9\n",
      "Font variation at index 127: x1=446, x2=468, y1=260, y2=269, font_size=9\n",
      "Font variation at index 129: x1=532, x2=553, y1=262, y2=271, font_size=9\n",
      "Font variation at index 132: x1=114, x2=135, y1=271, y2=280, font_size=9\n",
      "Font variation at index 134: x1=186, x2=238, y1=272, y2=281, font_size=9\n",
      "Font variation at index 136: x1=273, x2=295, y1=272, y2=281, font_size=9\n",
      "Font variation at index 138: x1=360, x2=397, y1=273, y2=282, font_size=9\n",
      "Font variation at index 139: x1=406, x2=420, y1=274, y2=283, font_size=9\n",
      "Font variation at index 141: x1=462, x2=468, y1=274, y2=283, font_size=9\n",
      "Font variation at index 149: x1=381, x2=437, y1=287, y2=296, font_size=9\n",
      "Font variation at index 154: x1=113, x2=153, y1=298, y2=307, font_size=9\n",
      "Font variation at index 155: x1=162, x2=183, y1=298, y2=307, font_size=9\n",
      "Font variation at index 156: x1=193, x2=215, y1=300, y2=309, font_size=9\n",
      "Font variation at index 157: x1=223, x2=263, y1=299, y2=308, font_size=9\n",
      "Font variation at index 158: x1=272, x2=302, y1=298, y2=307, font_size=9\n",
      "Font variation at index 159: x1=311, x2=372, y1=299, y2=308, font_size=9\n",
      "Font variation at index 161: x1=430, x2=491, y1=300, y2=309, font_size=9\n",
      "Font variation at index 162: x1=501, x2=531, y1=301, y2=310, font_size=9\n",
      "Font variation at index 167: x1=200, x2=224, y1=312, y2=321, font_size=9\n",
      "Font variation at index 168: x1=233, x2=294, y1=312, y2=321, font_size=9\n",
      "Font variation at index 169: x1=304, x2=318, y1=312, y2=321, font_size=9\n",
      "Font variation at index 170: x1=328, x2=349, y1=312, y2=321, font_size=9\n",
      "Font variation at index 171: x1=358, x2=395, y1=313, y2=322, font_size=9\n",
      "Font variation at index 183: x1=113, x2=136, y1=337, y2=346, font_size=9\n",
      "Font variation at index 184: x1=146, x2=199, y1=337, y2=346, font_size=9\n",
      "Font variation at index 186: x1=232, x2=262, y1=338, y2=347, font_size=9\n",
      "Font variation at index 191: x1=422, x2=444, y1=340, y2=349, font_size=9\n",
      "Font variation at index 192: x1=453, x2=492, y1=340, y2=349, font_size=9\n",
      "Font variation at index 197: x1=280, x2=309, y1=365, y2=374, font_size=9\n",
      "Font variation at index 200: x1=445, x2=483, y1=366, y2=375, font_size=9\n",
      "Font variation at index 202: x1=168, x2=198, y1=391, y2=400, font_size=9\n",
      "Font variation at index 203: x1=208, x2=230, y1=393, y2=402, font_size=9\n",
      "Font variation at index 204: x1=238, x2=285, y1=392, y2=401, font_size=9\n",
      "Font variation at index 205: x1=295, x2=317, y1=394, y2=403, font_size=9\n",
      "Font variation at index 206: x1=325, x2=380, y1=392, y2=401, font_size=9\n",
      "Font variation at index 209: x1=445, x2=467, y1=393, y2=402, font_size=9\n",
      "Font variation at index 211: x1=167, x2=206, y1=417, y2=426, font_size=9\n",
      "Font variation at index 217: x1=167, x2=205, y1=443, y2=452, font_size=9\n",
      "Font variation at index 223: x1=168, x2=221, y1=470, y2=479, font_size=9\n",
      "Font variation at index 226: x1=444, x2=474, y1=472, y2=481, font_size=9\n",
      "Font variation at index 229: x1=189, x2=229, y1=497, y2=506, font_size=9\n",
      "Font variation at index 230: x1=238, x2=259, y1=499, y2=508, font_size=9\n",
      "Font variation at index 231: x1=268, x2=323, y1=498, y2=507, font_size=9\n",
      "Font variation at index 232: x1=333, x2=355, y1=500, y2=509, font_size=9\n",
      "Font variation at index 233: x1=364, x2=403, y1=498, y2=507, font_size=9\n",
      "Font variation at index 236: x1=500, x2=529, y1=499, y2=508, font_size=9\n",
      "Font variation at index 237: x1=537, x2=546, y1=500, y2=509, font_size=9\n",
      "Font variation at index 249: x1=251, x2=291, y1=537, y2=546, font_size=9\n",
      "Font variation at index 250: x1=308, x2=331, y1=539, y2=548, font_size=9\n",
      "Font variation at index 251: x1=340, x2=394, y1=537, y2=546, font_size=9\n",
      "Font variation at index 252: x1=403, x2=426, y1=540, y2=549, font_size=9\n",
      "Font variation at index 253: x1=435, x2=473, y1=538, y2=547, font_size=9\n",
      "Font variation at index 256: x1=538, x2=566, y1=539, y2=548, font_size=9\n",
      "Font variation at index 259: x1=127, x2=149, y1=548, y2=557, font_size=9\n",
      "Font variation at index 260: x1=157, x2=179, y1=551, y2=560, font_size=9\n",
      "Font variation at index 261: x1=188, x2=243, y1=549, y2=558, font_size=9\n",
      "Font variation at index 263: x1=284, x2=313, y1=551, y2=560, font_size=9\n",
      "Font variation at index 269: x1=108, x2=202, y1=601, y2=610, font_size=9\n",
      "Font variation at index 270: x1=108, x2=202, y1=601, y2=610, font_size=9\n",
      "Font variation at index 271: x1=108, x2=202, y1=601, y2=610, font_size=9\n",
      "Font variation at index 272: x1=108, x2=123, y1=601, y2=610, font_size=9\n",
      "Font variation at index 273: x1=133, x2=146, y1=601, y2=610, font_size=9\n",
      "Font variation at index 274: x1=156, x2=202, y1=601, y2=610, font_size=9\n",
      "Font variation at index 23: x1=97, x2=629, y1=132, y2=140, font_size=8\n",
      "Font variation at index 24: x1=97, x2=629, y1=132, y2=140, font_size=8\n",
      "Font variation at index 25: x1=97, x2=629, y1=132, y2=140, font_size=8\n",
      "Font variation at index 26: x1=97, x2=629, y1=132, y2=140, font_size=8\n",
      "Font variation at index 27: x1=91, x2=630, y1=146, y2=154, font_size=8\n",
      "Font variation at index 28: x1=91, x2=630, y1=146, y2=154, font_size=8\n",
      "Font variation at index 29: x1=91, x2=630, y1=146, y2=154, font_size=8\n",
      "Font variation at index 30: x1=91, x2=630, y1=146, y2=154, font_size=8\n",
      "Font variation at index 31: x1=91, x2=630, y1=159, y2=167, font_size=8\n",
      "Font variation at index 32: x1=91, x2=630, y1=159, y2=167, font_size=8\n",
      "Font variation at index 33: x1=91, x2=630, y1=159, y2=167, font_size=8\n",
      "Font variation at index 34: x1=91, x2=630, y1=159, y2=167, font_size=8\n",
      "Font variation at index 38: x1=246, x2=306, y1=61, y2=69, font_size=8\n",
      "Font variation at index 42: x1=115, x2=129, y1=85, y2=93, font_size=8\n",
      "Font variation at index 55: x1=163, x2=241, y1=126, y2=134, font_size=8\n",
      "Font variation at index 57: x1=313, x2=326, y1=127, y2=135, font_size=8\n",
      "Font variation at index 66: x1=115, x2=147, y1=153, y2=161, font_size=8\n",
      "Font variation at index 87: x1=233, x2=255, y1=193, y2=201, font_size=8\n",
      "Font variation at index 88: x1=264, x2=304, y1=193, y2=201, font_size=8\n",
      "Font variation at index 89: x1=91, x2=630, y1=199, y2=207, font_size=8\n",
      "Font variation at index 90: x1=91, x2=630, y1=199, y2=207, font_size=8\n",
      "Font variation at index 91: x1=91, x2=630, y1=199, y2=207, font_size=8\n",
      "Font variation at index 92: x1=91, x2=630, y1=199, y2=207, font_size=8\n",
      "Font variation at index 96: x1=114, x2=121, y1=232, y2=240, font_size=8\n",
      "Font variation at index 110: x1=194, x2=216, y1=246, y2=254, font_size=8\n",
      "Font variation at index 111: x1=224, x2=263, y1=247, y2=255, font_size=8\n",
      "Font variation at index 122: x1=192, x2=215, y1=260, y2=268, font_size=8\n",
      "Font variation at index 137: x1=304, x2=349, y1=273, y2=281, font_size=8\n",
      "Font variation at index 140: x1=430, x2=450, y1=275, y2=283, font_size=8\n",
      "Font variation at index 150: x1=444, x2=476, y1=289, y2=297, font_size=8\n",
      "Font variation at index 152: x1=548, x2=562, y1=289, y2=297, font_size=8\n",
      "Font variation at index 212: x1=215, x2=245, y1=418, y2=426, font_size=8\n",
      "Font variation at index 218: x1=214, x2=245, y1=444, y2=452, font_size=8\n",
      "Font variation at index 219: x1=253, x2=292, y1=445, y2=453, font_size=8\n",
      "Font variation at index 224: x1=228, x2=267, y1=471, y2=479, font_size=8\n",
      "Font variation at index 262: x1=252, x2=275, y1=553, y2=561, font_size=8\n",
      "Font variation at index 35: x1=91, x2=610, y1=61, y2=192, font_size=131\n",
      "Font variation at index 36: x1=91, x2=610, y1=61, y2=192, font_size=131\n",
      "Font variation at index 37: x1=246, x2=610, y1=61, y2=88, font_size=27\n",
      "Font variation at index 40: x1=547, x2=610, y1=65, y2=88, font_size=23\n",
      "Font variation at index 41: x1=115, x2=261, y1=85, y2=96, font_size=11\n",
      "Font variation at index 65: x1=115, x2=382, y1=152, y2=163, font_size=11\n",
      "Font variation at index 75: x1=454, x2=532, y1=181, y2=192, font_size=11\n",
      "Font variation at index 77: x1=551, x2=564, y1=181, y2=192, font_size=11\n",
      "Font variation at index 99: x1=193, x2=216, y1=232, y2=243, font_size=11\n",
      "Font variation at index 121: x1=146, x2=184, y1=258, y2=269, font_size=11\n",
      "Font variation at index 164: x1=114, x2=395, y1=311, y2=322, font_size=11\n",
      "Font variation at index 165: x1=114, x2=160, y1=311, y2=322, font_size=11\n",
      "Font variation at index 198: x1=322, x2=386, y1=365, y2=376, font_size=11\n",
      "Font variation at index 213: x1=254, x2=316, y1=418, y2=429, font_size=11\n",
      "Font variation at index 222: x1=168, x2=474, y1=470, y2=481, font_size=11\n",
      "Font variation at index 235: x1=444, x2=489, y1=498, y2=509, font_size=11\n",
      "Font variation at index 247: x1=111, x2=180, y1=535, y2=546, font_size=11\n",
      "Font variation at index 44: x1=163, x2=194, y1=86, y2=96, font_size=10\n",
      "Font variation at index 53: x1=115, x2=382, y1=125, y2=135, font_size=10\n",
      "Font variation at index 61: x1=164, x2=218, y1=138, y2=148, font_size=10\n",
      "Font variation at index 63: x1=336, x2=365, y1=139, y2=149, font_size=10\n",
      "Font variation at index 104: x1=415, x2=453, y1=233, y2=243, font_size=10\n",
      "Font variation at index 105: x1=463, x2=500, y1=234, y2=244, font_size=10\n",
      "Font variation at index 116: x1=455, x2=500, y1=247, y2=257, font_size=10\n",
      "Font variation at index 123: x1=225, x2=294, y1=258, y2=268, font_size=10\n",
      "Font variation at index 125: x1=326, x2=381, y1=259, y2=269, font_size=10\n",
      "Font variation at index 126: x1=391, x2=437, y1=259, y2=269, font_size=10\n",
      "Font variation at index 128: x1=476, x2=523, y1=260, y2=270, font_size=10\n",
      "Font variation at index 130: x1=565, x2=587, y1=261, y2=271, font_size=10\n",
      "Font variation at index 133: x1=146, x2=173, y1=271, y2=281, font_size=10\n",
      "Font variation at index 145: x1=114, x2=176, y1=284, y2=294, font_size=10\n",
      "Font variation at index 147: x1=257, x2=286, y1=285, y2=295, font_size=10\n",
      "Font variation at index 148: x1=295, x2=373, y1=287, y2=297, font_size=10\n",
      "Font variation at index 151: x1=486, x2=538, y1=287, y2=297, font_size=10\n",
      "Font variation at index 160: x1=382, x2=420, y1=299, y2=309, font_size=10\n",
      "Font variation at index 189: x1=351, x2=389, y1=339, y2=349, font_size=10\n",
      "Font variation at index 193: x1=500, x2=545, y1=340, y2=350, font_size=10\n",
      "Font variation at index 195: x1=167, x2=207, y1=364, y2=374, font_size=10\n",
      "Font variation at index 215: x1=445, x2=498, y1=420, y2=430, font_size=10\n",
      "Font variation at index 221: x1=444, x2=490, y1=446, y2=456, font_size=10\n",
      "Font variation at index 238: x1=553, x2=578, y1=499, y2=509, font_size=10\n",
      "Font variation at index 242: x1=110, x2=165, y1=508, y2=518, font_size=10\n",
      "Font variation at index 248: x1=189, x2=243, y1=536, y2=546, font_size=10\n",
      "Font variation at index 258: x1=108, x2=118, y1=548, y2=558, font_size=10\n",
      "Font variation at index 45: x1=240, x2=261, y1=95, y2=96, font_size=1\n",
      "Font variation at index 220: x1=413, x2=419, y1=450, y2=451, font_size=1\n",
      "Font variation at index 234: x1=412, x2=419, y1=503, y2=504, font_size=1\n",
      "Font variation at index 46: x1=91, x2=375, y1=108, y2=122, font_size=14\n",
      "Font variation at index 70: x1=115, x2=564, y1=178, y2=192, font_size=14\n",
      "Font variation at index 227: x1=111, x2=578, y1=495, y2=509, font_size=14\n",
      "Font variation at index 47: x1=91, x2=149, y1=108, y2=110, font_size=2\n",
      "Font variation at index 185: x1=219, x2=223, y1=338, y2=340, font_size=2\n",
      "Font variation at index 199: x1=413, x2=420, y1=371, y2=373, font_size=2\n",
      "Font variation at index 207: x1=413, x2=420, y1=397, y2=399, font_size=2\n",
      "Font variation at index 214: x1=413, x2=419, y1=423, y2=425, font_size=2\n",
      "Font variation at index 225: x1=413, x2=419, y1=476, y2=478, font_size=2\n",
      "Font variation at index 254: x1=483, x2=490, y1=543, y2=545, font_size=2\n",
      "Font variation at index 59: x1=115, x2=389, y1=137, y2=150, font_size=13\n",
      "Font variation at index 64: x1=379, x2=389, y1=137, y2=150, font_size=13\n",
      "Font variation at index 108: x1=114, x2=601, y1=245, y2=258, font_size=13\n",
      "Font variation at index 119: x1=114, x2=587, y1=258, y2=271, font_size=13\n",
      "Font variation at index 144: x1=114, x2=562, y1=284, y2=297, font_size=13\n",
      "Font variation at index 182: x1=113, x2=545, y1=337, y2=350, font_size=13\n",
      "Font variation at index 210: x1=167, x2=498, y1=417, y2=430, font_size=13\n",
      "Font variation at index 216: x1=167, x2=490, y1=443, y2=456, font_size=13\n",
      "Font variation at index 239: x1=110, x2=258, y1=508, y2=521, font_size=13\n",
      "Font variation at index 240: x1=110, x2=258, y1=508, y2=521, font_size=13\n",
      "Font variation at index 241: x1=110, x2=258, y1=508, y2=521, font_size=13\n",
      "Font variation at index 257: x1=108, x2=313, y1=548, y2=561, font_size=13\n",
      "Font variation at index 73: x1=162, x2=231, y1=178, y2=190, font_size=12\n",
      "Font variation at index 98: x1=165, x2=182, y1=231, y2=243, font_size=12\n",
      "Font variation at index 100: x1=226, x2=263, y1=232, y2=244, font_size=12\n",
      "Font variation at index 102: x1=304, x2=379, y1=232, y2=244, font_size=12\n",
      "Font variation at index 106: x1=509, x2=545, y1=234, y2=246, font_size=12\n",
      "Font variation at index 142: x1=476, x2=545, y1=274, y2=286, font_size=12\n",
      "Font variation at index 143: x1=564, x2=593, y1=275, y2=287, font_size=12\n",
      "Font variation at index 146: x1=185, x2=247, y1=285, y2=297, font_size=12\n",
      "Font variation at index 153: x1=113, x2=571, y1=298, y2=310, font_size=12\n",
      "Font variation at index 187: x1=272, x2=309, y1=338, y2=350, font_size=12\n",
      "Font variation at index 194: x1=167, x2=483, y1=364, y2=376, font_size=12\n",
      "Font variation at index 196: x1=216, x2=270, y1=364, y2=376, font_size=12\n",
      "Font variation at index 201: x1=168, x2=467, y1=391, y2=403, font_size=12\n",
      "Font variation at index 228: x1=111, x2=181, y1=495, y2=507, font_size=12\n",
      "Font variation at index 243: x1=174, x2=258, y1=509, y2=521, font_size=12\n",
      "Font variation at index 255: x1=499, x2=528, y1=539, y2=551, font_size=12\n",
      "Font variation at index 76: x1=517, x2=541, y1=171, y2=199, font_size=28\n",
      "Font variation at index 93: x1=113, x2=601, y1=231, y2=322, font_size=91\n",
      "Font variation at index 94: x1=113, x2=601, y1=231, y2=322, font_size=91\n",
      "Font variation at index 95: x1=114, x2=572, y1=231, y2=246, font_size=15\n",
      "Font variation at index 101: x1=271, x2=295, y1=234, y2=241, font_size=7\n",
      "Font variation at index 103: x1=390, x2=405, y1=236, y2=243, font_size=7\n",
      "Font variation at index 124: x1=303, x2=318, y1=261, y2=268, font_size=7\n",
      "Font variation at index 163: x1=539, x2=571, y1=303, y2=310, font_size=7\n",
      "Font variation at index 166: x1=168, x2=191, y1=313, y2=320, font_size=7\n",
      "Font variation at index 172: x1=209, x2=231, y1=274, y2=281, font_size=7\n",
      "Font variation at index 173: x1=209, x2=231, y1=274, y2=281, font_size=7\n",
      "Font variation at index 174: x1=209, x2=231, y1=274, y2=281, font_size=7\n",
      "Font variation at index 175: x1=209, x2=231, y1=274, y2=281, font_size=7\n",
      "Font variation at index 176: x1=208, x2=215, y1=340, y2=347, font_size=7\n",
      "Font variation at index 177: x1=208, x2=215, y1=340, y2=347, font_size=7\n",
      "Font variation at index 178: x1=208, x2=215, y1=340, y2=347, font_size=7\n",
      "Font variation at index 179: x1=208, x2=215, y1=340, y2=347, font_size=7\n",
      "Font variation at index 188: x1=319, x2=342, y1=341, y2=348, font_size=7\n",
      "Font variation at index 190: x1=399, x2=412, y1=342, y2=349, font_size=7\n",
      "Font variation at index 131: x1=114, x2=593, y1=271, y2=287, font_size=16\n",
      "Font variation at index 246: x1=111, x2=566, y1=535, y2=551, font_size=16\n",
      "Font variation at index 180: x1=111, x2=578, y1=337, y2=509, font_size=172\n",
      "Font variation at index 181: x1=111, x2=578, y1=337, y2=509, font_size=172\n",
      "Font variation at index 208: x1=430, x2=436, y1=380, y2=411, font_size=31\n",
      "Font variation at index 264: x1=105, x2=209, y1=576, y2=601, font_size=25\n",
      "Font variation at index 265: x1=105, x2=209, y1=576, y2=601, font_size=25\n",
      "Font variation at index 266: x1=105, x2=209, y1=576, y2=601, font_size=25\n",
      "Font variation at index 267: x1=105, x2=152, y1=576, y2=601, font_size=25\n",
      "Font variation at index 268: x1=164, x2=212, y1=572, y2=608, font_size=36\n",
      "Font variation at index 275: x1=580, x2=595, y1=702, y2=808, font_size=106\n",
      "Font variation at index 276: x1=580, x2=595, y1=702, y2=808, font_size=106\n",
      "Font variation at index 277: x1=580, x2=595, y1=702, y2=808, font_size=106\n",
      "Font variation at index 278: x1=580, x2=595, y1=702, y2=808, font_size=106\n",
      "Color variation with label 0\n",
      "Color variation with label 1\n",
      "Color variation with label 2\n",
      "Image: images/training/original\\0000022394.jpg - Fake: original\n",
      "Suspicious areas detected:\n",
      "Suspicious spacing at index 32: x1=309, x2=327, y1=318, y2=320\n",
      "Suspicious spacing at index 33: x1=329, x2=344, y1=317, y2=320\n",
      "Suspicious spacing at index 62: x1=228, x2=240, y1=420, y2=431\n",
      "Suspicious spacing at index 70: x1=10, x2=92, y1=435, y2=444\n",
      "Suspicious spacing at index 84: x1=22, x2=93, y1=449, y2=458\n",
      "Suspicious spacing at index 96: x1=9, x2=288, y1=457, y2=469\n",
      "Suspicious spacing at index 111: x1=64, x2=92, y1=584, y2=601\n",
      "Suspicious spacing at index 116: x1=204, x2=289, y1=640, y2=650\n",
      "Suspicious spacing at index 120: x1=304, x2=318, y1=640, y2=649\n",
      "Font variation at index 0: x1=0, x2=762, y1=0, y2=1000, font_size=1000\n",
      "Font variation at index 1: x1=0, x2=683, y1=0, y2=422, font_size=422\n",
      "Font variation at index 2: x1=0, x2=683, y1=0, y2=422, font_size=422\n",
      "Font variation at index 3: x1=0, x2=683, y1=0, y2=307, font_size=307\n",
      "Font variation at index 4: x1=0, x2=683, y1=0, y2=300, font_size=300\n",
      "Font variation at index 5: x1=205, x2=683, y1=289, y2=307, font_size=18\n",
      "Font variation at index 31: x1=232, x2=309, y1=303, y2=321, font_size=18\n",
      "Font variation at index 42: x1=182, x2=250, y1=337, y2=355, font_size=18\n",
      "Font variation at index 6: x1=365, x2=683, y1=307, y2=328, font_size=21\n",
      "Font variation at index 7: x1=365, x2=683, y1=307, y2=328, font_size=21\n",
      "Font variation at index 12: x1=365, x2=683, y1=354, y2=375, font_size=21\n",
      "Font variation at index 13: x1=365, x2=683, y1=354, y2=375, font_size=21\n",
      "Font variation at index 50: x1=127, x2=146, y1=374, y2=395, font_size=21\n",
      "Font variation at index 8: x1=365, x2=683, y1=328, y2=340, font_size=12\n",
      "Font variation at index 9: x1=365, x2=683, y1=328, y2=340, font_size=12\n",
      "Font variation at index 22: x1=56, x2=111, y1=295, y2=307, font_size=12\n",
      "Font variation at index 35: x1=52, x2=163, y1=322, y2=334, font_size=12\n",
      "Font variation at index 36: x1=169, x2=184, y1=321, y2=333, font_size=12\n",
      "Font variation at index 60: x1=162, x2=197, y1=420, y2=432, font_size=12\n",
      "Font variation at index 67: x1=422, x2=472, y1=420, y2=432, font_size=12\n",
      "Font variation at index 72: x1=142, x2=161, y1=434, y2=446, font_size=12\n",
      "Font variation at index 73: x1=169, x2=219, y1=434, y2=446, font_size=12\n",
      "Font variation at index 78: x1=338, x2=373, y1=434, y2=446, font_size=12\n",
      "Font variation at index 96: x1=288, x2=593, y1=457, y2=469, font_size=12\n",
      "Font variation at index 10: x1=365, x2=683, y1=340, y2=354, font_size=14\n",
      "Font variation at index 11: x1=365, x2=683, y1=340, y2=354, font_size=14\n",
      "Font variation at index 27: x1=91, x2=347, y1=307, y2=321, font_size=14\n",
      "Font variation at index 34: x1=52, x2=303, y1=320, y2=334, font_size=14\n",
      "Font variation at index 38: x1=91, x2=302, y1=336, y2=350, font_size=14\n",
      "Font variation at index 39: x1=91, x2=302, y1=336, y2=350, font_size=14\n",
      "Font variation at index 40: x1=91, x2=302, y1=336, y2=350, font_size=14\n",
      "Font variation at index 49: x1=89, x2=120, y1=374, y2=388, font_size=14\n",
      "Font variation at index 58: x1=81, x2=472, y1=420, y2=434, font_size=14\n",
      "Font variation at index 61: x1=205, x2=228, y1=420, y2=434, font_size=14\n",
      "Font variation at index 14: x1=169, x2=683, y1=375, y2=392, font_size=17\n",
      "Font variation at index 15: x1=169, x2=683, y1=375, y2=392, font_size=17\n",
      "Font variation at index 111: x1=92, x2=170, y1=584, y2=601, font_size=17\n",
      "Font variation at index 16: x1=121, x2=683, y1=392, y2=422, font_size=30\n",
      "Font variation at index 17: x1=121, x2=683, y1=392, y2=422, font_size=30\n",
      "Font variation at index 52: x1=128, x2=250, y1=357, y2=387, font_size=30\n",
      "Font variation at index 53: x1=128, x2=250, y1=357, y2=387, font_size=30\n",
      "Font variation at index 54: x1=128, x2=250, y1=357, y2=387, font_size=30\n",
      "Font variation at index 55: x1=128, x2=250, y1=357, y2=387, font_size=30\n",
      "Font variation at index 18: x1=472, x2=683, y1=414, y2=422, font_size=8\n",
      "Font variation at index 65: x1=373, x2=387, y1=422, y2=430, font_size=8\n",
      "Font variation at index 128: x1=277, x2=290, y1=668, y2=676, font_size=8\n",
      "Font variation at index 19: x1=52, x2=347, y1=294, y2=334, font_size=40\n",
      "Font variation at index 20: x1=52, x2=347, y1=294, y2=334, font_size=40\n",
      "Font variation at index 21: x1=56, x2=235, y1=294, y2=307, font_size=13\n",
      "Font variation at index 68: x1=8, x2=493, y1=434, y2=447, font_size=13\n",
      "Font variation at index 76: x1=275, x2=310, y1=434, y2=447, font_size=13\n",
      "Font variation at index 23: x1=114, x2=136, y1=285, y2=304, font_size=19\n",
      "Font variation at index 24: x1=142, x2=154, y1=295, y2=304, font_size=9\n",
      "Font variation at index 25: x1=162, x2=174, y1=295, y2=304, font_size=9\n",
      "Font variation at index 51: x1=155, x2=169, y1=379, y2=388, font_size=9\n",
      "Font variation at index 70: x1=92, x2=114, y1=435, y2=444, font_size=9\n",
      "Font variation at index 75: x1=248, x2=267, y1=434, y2=443, font_size=9\n",
      "Font variation at index 77: x1=318, x2=331, y1=434, y2=443, font_size=9\n",
      "Font variation at index 80: x1=402, x2=423, y1=434, y2=443, font_size=9\n",
      "Font variation at index 84: x1=93, x2=107, y1=449, y2=458, font_size=9\n",
      "Font variation at index 87: x1=212, x2=233, y1=448, y2=457, font_size=9\n",
      "Font variation at index 88: x1=239, x2=303, y1=448, y2=457, font_size=9\n",
      "Font variation at index 119: x1=289, x2=304, y1=641, y2=650, font_size=9\n",
      "Font variation at index 120: x1=318, x2=345, y1=640, y2=649, font_size=9\n",
      "Font variation at index 125: x1=93, x2=149, y1=669, y2=678, font_size=9\n",
      "Font variation at index 129: x1=297, x2=360, y1=668, y2=677, font_size=9\n",
      "Font variation at index 26: x1=183, x2=205, y1=294, y2=304, font_size=10\n",
      "Font variation at index 29: x1=134, x2=148, y1=308, y2=318, font_size=10\n",
      "Font variation at index 63: x1=296, x2=310, y1=420, y2=430, font_size=10\n",
      "Font variation at index 66: x1=395, x2=416, y1=420, y2=430, font_size=10\n",
      "Font variation at index 74: x1=226, x2=244, y1=437, y2=447, font_size=10\n",
      "Font variation at index 79: x1=381, x2=394, y1=434, y2=444, font_size=10\n",
      "Font variation at index 90: x1=332, x2=352, y1=448, y2=458, font_size=10\n",
      "Font variation at index 116: x1=289, x2=389, y1=640, y2=650, font_size=10\n",
      "Font variation at index 117: x1=289, x2=389, y1=640, y2=650, font_size=10\n",
      "Font variation at index 118: x1=289, x2=389, y1=640, y2=650, font_size=10\n",
      "Font variation at index 121: x1=354, x2=389, y1=640, y2=650, font_size=10\n",
      "Font variation at index 126: x1=157, x2=190, y1=669, y2=679, font_size=10\n",
      "Font variation at index 127: x1=199, x2=270, y1=668, y2=678, font_size=10\n",
      "Font variation at index 28: x1=91, x2=125, y1=309, y2=320, font_size=11\n",
      "Font variation at index 30: x1=154, x2=225, y1=307, y2=318, font_size=11\n",
      "Font variation at index 62: x1=240, x2=288, y1=420, y2=431, font_size=11\n",
      "Font variation at index 64: x1=317, x2=367, y1=421, y2=432, font_size=11\n",
      "Font variation at index 81: x1=430, x2=493, y1=435, y2=446, font_size=11\n",
      "Font variation at index 85: x1=112, x2=183, y1=447, y2=458, font_size=11\n",
      "Font variation at index 32: x1=327, x2=329, y1=318, y2=320, font_size=2\n",
      "Font variation at index 43: x1=257, x2=258, y1=333, y2=335, font_size=2\n",
      "Font variation at index 83: x1=19, x2=22, y1=451, y2=453, font_size=2\n",
      "Font variation at index 110: x1=61, x2=64, y1=587, y2=589, font_size=2\n",
      "Font variation at index 33: x1=344, x2=347, y1=317, y2=320, font_size=3\n",
      "Font variation at index 69: x1=8, x2=10, y1=438, y2=441, font_size=3\n",
      "Font variation at index 37: x1=190, x2=304, y1=320, y2=335, font_size=15\n",
      "Font variation at index 41: x1=91, x2=175, y1=336, y2=351, font_size=15\n",
      "Font variation at index 45: x1=55, x2=169, y1=373, y2=388, font_size=15\n",
      "Font variation at index 46: x1=55, x2=169, y1=373, y2=388, font_size=15\n",
      "Font variation at index 47: x1=55, x2=169, y1=373, y2=388, font_size=15\n",
      "Font variation at index 89: x1=307, x2=324, y1=448, y2=463, font_size=15\n",
      "Font variation at index 91: x1=359, x2=393, y1=448, y2=463, font_size=15\n",
      "Font variation at index 95: x1=0, x2=9, y1=447, y2=462, font_size=15\n",
      "Font variation at index 44: x1=260, x2=302, y1=336, y2=358, font_size=22\n",
      "Font variation at index 59: x1=81, x2=156, y1=410, y2=432, font_size=22\n",
      "Font variation at index 94: x1=0, x2=593, y1=447, y2=469, font_size=22\n",
      "Font variation at index 48: x1=55, x2=82, y1=373, y2=378, font_size=5\n",
      "Font variation at index 56: x1=8, x2=493, y1=420, y2=463, font_size=43\n",
      "Font variation at index 57: x1=8, x2=493, y1=420, y2=463, font_size=43\n",
      "Font variation at index 71: x1=120, x2=134, y1=437, y2=443, font_size=6\n",
      "Font variation at index 82: x1=19, x2=393, y1=447, y2=463, font_size=16\n",
      "Font variation at index 122: x1=93, x2=412, y1=663, y2=679, font_size=16\n",
      "Font variation at index 123: x1=93, x2=412, y1=663, y2=679, font_size=16\n",
      "Font variation at index 124: x1=93, x2=412, y1=663, y2=679, font_size=16\n",
      "Font variation at index 86: x1=190, x2=204, y1=450, y2=457, font_size=7\n",
      "Font variation at index 92: x1=0, x2=685, y1=447, y2=654, font_size=207\n",
      "Font variation at index 93: x1=0, x2=685, y1=447, y2=654, font_size=207\n",
      "Font variation at index 97: x1=286, x2=685, y1=477, y2=654, font_size=177\n",
      "Font variation at index 98: x1=286, x2=685, y1=477, y2=654, font_size=177\n",
      "Font variation at index 99: x1=629, x2=661, y1=452, y2=484, font_size=32\n",
      "Font variation at index 100: x1=629, x2=661, y1=452, y2=484, font_size=32\n",
      "Font variation at index 101: x1=629, x2=661, y1=452, y2=484, font_size=32\n",
      "Font variation at index 102: x1=629, x2=661, y1=452, y2=484, font_size=32\n",
      "Font variation at index 103: x1=5, x2=201, y1=467, y2=584, font_size=117\n",
      "Font variation at index 104: x1=5, x2=201, y1=467, y2=584, font_size=117\n",
      "Font variation at index 105: x1=5, x2=201, y1=467, y2=584, font_size=117\n",
      "Font variation at index 106: x1=5, x2=201, y1=467, y2=584, font_size=117\n",
      "Font variation at index 107: x1=61, x2=194, y1=578, y2=601, font_size=23\n",
      "Font variation at index 108: x1=61, x2=194, y1=578, y2=601, font_size=23\n",
      "Font variation at index 109: x1=61, x2=194, y1=578, y2=601, font_size=23\n",
      "Font variation at index 112: x1=122, x2=204, y1=615, y2=652, font_size=37\n",
      "Font variation at index 113: x1=122, x2=204, y1=615, y2=652, font_size=37\n",
      "Font variation at index 114: x1=122, x2=204, y1=615, y2=652, font_size=37\n",
      "Font variation at index 115: x1=122, x2=204, y1=615, y2=652, font_size=37\n",
      "Font variation at index 130: x1=0, x2=693, y1=684, y2=913, font_size=229\n",
      "Font variation at index 131: x1=0, x2=693, y1=684, y2=913, font_size=229\n",
      "Font variation at index 132: x1=0, x2=693, y1=684, y2=913, font_size=229\n",
      "Font variation at index 133: x1=0, x2=693, y1=684, y2=913, font_size=229\n",
      "Color variation with label 0\n",
      "Color variation with label 1\n",
      "Color variation with label 2\n",
      "Image: images/training/original\\0000041346.jpg - Fake: original\n",
      "Suspicious areas detected:\n",
      "Suspicious spacing at index 5: x1=67, x2=289, y1=98, y2=120\n",
      "Suspicious spacing at index 6: x1=394, x2=608, y1=58, y2=155\n",
      "Suspicious spacing at index 14: x1=133, x2=218, y1=146, y2=157\n",
      "Suspicious spacing at index 21: x1=348, x2=647, y1=166, y2=168\n",
      "Suspicious spacing at index 26: x1=334, x2=655, y1=176, y2=182\n",
      "Suspicious spacing at index 31: x1=316, x2=331, y1=182, y2=210\n",
      "Suspicious spacing at index 33: x1=349, x2=640, y1=195, y2=205\n",
      "Suspicious spacing at index 40: x1=304, x2=393, y1=222, y2=225\n",
      "Suspicious spacing at index 49: x1=154, x2=219, y1=266, y2=276\n",
      "Suspicious spacing at index 54: x1=152, x2=218, y1=280, y2=293\n",
      "Suspicious spacing at index 59: x1=177, x2=217, y1=295, y2=306\n",
      "Suspicious spacing at index 92: x1=173, x2=213, y1=369, y2=379\n",
      "Suspicious spacing at index 104: x1=85, x2=110, y1=516, y2=529\n",
      "Suspicious spacing at index 109: x1=190, x2=646, y1=651, y2=674\n",
      "Suspicious spacing at index 121: x1=232, x2=492, y1=801, y2=860\n",
      "Font variation at index 0: x1=0, x2=762, y1=0, y2=1000, font_size=1000\n",
      "Font variation at index 1: x1=40, x2=394, y1=79, y2=120, font_size=41\n",
      "Font variation at index 2: x1=40, x2=394, y1=79, y2=120, font_size=41\n",
      "Font variation at index 3: x1=40, x2=394, y1=79, y2=120, font_size=41\n",
      "Font variation at index 98: x1=81, x2=415, y1=488, y2=529, font_size=41\n",
      "Font variation at index 99: x1=81, x2=415, y1=488, y2=529, font_size=41\n",
      "Font variation at index 4: x1=40, x2=67, y1=79, y2=110, font_size=31\n",
      "Font variation at index 5: x1=289, x2=394, y1=98, y2=120, font_size=22\n",
      "Font variation at index 6: x1=608, x2=663, y1=58, y2=155, font_size=97\n",
      "Font variation at index 7: x1=608, x2=663, y1=58, y2=155, font_size=97\n",
      "Font variation at index 8: x1=608, x2=663, y1=58, y2=155, font_size=97\n",
      "Font variation at index 9: x1=608, x2=663, y1=58, y2=155, font_size=97\n",
      "Font variation at index 10: x1=108, x2=660, y1=146, y2=246, font_size=100\n",
      "Font variation at index 11: x1=108, x2=660, y1=146, y2=246, font_size=100\n",
      "Font variation at index 12: x1=108, x2=299, y1=146, y2=157, font_size=11\n",
      "Font variation at index 14: x1=218, x2=233, y1=146, y2=157, font_size=11\n",
      "Font variation at index 15: x1=241, x2=257, y1=146, y2=157, font_size=11\n",
      "Font variation at index 17: x1=217, x2=649, y1=161, y2=172, font_size=11\n",
      "Font variation at index 19: x1=238, x2=253, y1=161, y2=172, font_size=11\n",
      "Font variation at index 22: x1=219, x2=658, y1=176, y2=187, font_size=11\n",
      "Font variation at index 23: x1=219, x2=233, y1=176, y2=187, font_size=11\n",
      "Font variation at index 24: x1=240, x2=253, y1=176, y2=187, font_size=11\n",
      "Font variation at index 34: x1=219, x2=332, y1=206, y2=217, font_size=11\n",
      "Font variation at index 35: x1=219, x2=256, y1=206, y2=217, font_size=11\n",
      "Font variation at index 37: x1=219, x2=394, y1=220, y2=231, font_size=11\n",
      "Font variation at index 38: x1=219, x2=253, y1=220, y2=231, font_size=11\n",
      "Font variation at index 59: x1=217, x2=245, y1=295, y2=306, font_size=11\n",
      "Font variation at index 60: x1=249, x2=328, y1=296, y2=307, font_size=11\n",
      "Font variation at index 61: x1=333, x2=378, y1=296, y2=307, font_size=11\n",
      "Font variation at index 87: x1=522, x2=583, y1=355, y2=366, font_size=11\n",
      "Font variation at index 90: x1=129, x2=158, y1=369, y2=380, font_size=11\n",
      "Font variation at index 103: x1=81, x2=85, y1=517, y2=528, font_size=11\n",
      "Font variation at index 105: x1=110, x2=190, y1=546, y2=557, font_size=11\n",
      "Font variation at index 106: x1=110, x2=190, y1=546, y2=557, font_size=11\n",
      "Font variation at index 107: x1=110, x2=190, y1=546, y2=557, font_size=11\n",
      "Font variation at index 108: x1=110, x2=190, y1=546, y2=557, font_size=11\n",
      "Font variation at index 13: x1=108, x2=133, y1=146, y2=156, font_size=10\n",
      "Font variation at index 16: x1=265, x2=299, y1=146, y2=156, font_size=10\n",
      "Font variation at index 20: x1=261, x2=348, y1=162, y2=172, font_size=10\n",
      "Font variation at index 25: x1=260, x2=334, y1=176, y2=186, font_size=10\n",
      "Font variation at index 33: x1=640, x2=660, y1=195, y2=205, font_size=10\n",
      "Font variation at index 36: x1=263, x2=332, y1=206, y2=216, font_size=10\n",
      "Font variation at index 39: x1=260, x2=304, y1=221, y2=231, font_size=10\n",
      "Font variation at index 41: x1=219, x2=319, y1=236, y2=246, font_size=10\n",
      "Font variation at index 42: x1=219, x2=233, y1=236, y2=246, font_size=10\n",
      "Font variation at index 43: x1=240, x2=255, y1=236, y2=246, font_size=10\n",
      "Font variation at index 44: x1=263, x2=319, y1=236, y2=246, font_size=10\n",
      "Font variation at index 49: x1=219, x2=233, y1=266, y2=276, font_size=10\n",
      "Font variation at index 50: x1=241, x2=255, y1=266, y2=276, font_size=10\n",
      "Font variation at index 51: x1=263, x2=324, y1=266, y2=276, font_size=10\n",
      "Font variation at index 58: x1=109, x2=177, y1=295, y2=305, font_size=10\n",
      "Font variation at index 65: x1=110, x2=165, y1=339, y2=349, font_size=10\n",
      "Font variation at index 69: x1=267, x2=311, y1=340, y2=350, font_size=10\n",
      "Font variation at index 72: x1=403, x2=429, y1=340, y2=350, font_size=10\n",
      "Font variation at index 74: x1=516, x2=578, y1=340, y2=350, font_size=10\n",
      "Font variation at index 79: x1=233, x2=246, y1=354, y2=364, font_size=10\n",
      "Font variation at index 80: x1=250, x2=316, y1=354, y2=364, font_size=10\n",
      "Font variation at index 86: x1=495, x2=516, y1=357, y2=367, font_size=10\n",
      "Font variation at index 92: x1=213, x2=237, y1=369, y2=379, font_size=10\n",
      "Font variation at index 100: x1=347, x2=415, y1=488, y2=498, font_size=10\n",
      "Font variation at index 101: x1=347, x2=415, y1=488, y2=498, font_size=10\n",
      "Font variation at index 18: x1=217, x2=230, y1=162, y2=171, font_size=9\n",
      "Font variation at index 28: x1=217, x2=230, y1=192, y2=201, font_size=9\n",
      "Font variation at index 29: x1=238, x2=253, y1=192, y2=201, font_size=9\n",
      "Font variation at index 30: x1=261, x2=316, y1=192, y2=201, font_size=9\n",
      "Font variation at index 56: x1=313, x2=341, y1=281, y2=290, font_size=9\n",
      "Font variation at index 67: x1=218, x2=242, y1=340, y2=349, font_size=9\n",
      "Font variation at index 77: x1=156, x2=175, y1=355, y2=364, font_size=9\n",
      "Font variation at index 78: x1=181, x2=227, y1=355, y2=364, font_size=9\n",
      "Font variation at index 81: x1=322, x2=343, y1=355, y2=364, font_size=9\n",
      "Font variation at index 85: x1=460, x2=488, y1=355, y2=364, font_size=9\n",
      "Font variation at index 91: x1=166, x2=173, y1=372, y2=381, font_size=9\n",
      "Font variation at index 21: x1=647, x2=649, y1=166, y2=168, font_size=2\n",
      "Font variation at index 32: x1=347, x2=349, y1=203, y2=205, font_size=2\n",
      "Font variation at index 26: x1=655, x2=658, y1=176, y2=182, font_size=6\n",
      "Font variation at index 27: x1=217, x2=660, y1=192, y2=205, font_size=13\n",
      "Font variation at index 54: x1=218, x2=279, y1=280, y2=293, font_size=13\n",
      "Font variation at index 55: x1=285, x2=304, y1=280, y2=293, font_size=13\n",
      "Font variation at index 70: x1=316, x2=371, y1=340, y2=353, font_size=13\n",
      "Font variation at index 75: x1=110, x2=583, y1=354, y2=367, font_size=13\n",
      "Font variation at index 102: x1=81, x2=180, y1=516, y2=529, font_size=13\n",
      "Font variation at index 104: x1=110, x2=180, y1=516, y2=529, font_size=13\n",
      "Font variation at index 31: x1=331, x2=337, y1=182, y2=210, font_size=28\n",
      "Font variation at index 47: x1=106, x2=324, y1=257, y2=285, font_size=28\n",
      "Font variation at index 48: x1=106, x2=154, y1=257, y2=285, font_size=28\n",
      "Font variation at index 52: x1=110, x2=341, y1=271, y2=299, font_size=28\n",
      "Font variation at index 53: x1=110, x2=152, y1=271, y2=299, font_size=28\n",
      "Font variation at index 40: x1=393, x2=394, y1=222, y2=225, font_size=3\n",
      "Font variation at index 45: x1=106, x2=378, y1=257, y2=307, font_size=50\n",
      "Font variation at index 46: x1=106, x2=378, y1=257, y2=307, font_size=50\n",
      "Font variation at index 57: x1=109, x2=378, y1=295, y2=307, font_size=12\n",
      "Font variation at index 66: x1=171, x2=212, y1=340, y2=352, font_size=12\n",
      "Font variation at index 71: x1=376, x2=398, y1=340, y2=352, font_size=12\n",
      "Font variation at index 73: x1=435, x2=511, y1=340, y2=352, font_size=12\n",
      "Font variation at index 76: x1=110, x2=151, y1=354, y2=366, font_size=12\n",
      "Font variation at index 82: x1=349, x2=405, y1=355, y2=367, font_size=12\n",
      "Font variation at index 84: x1=432, x2=454, y1=355, y2=367, font_size=12\n",
      "Font variation at index 88: x1=109, x2=267, y1=369, y2=381, font_size=12\n",
      "Font variation at index 62: x1=109, x2=583, y1=339, y2=381, font_size=42\n",
      "Font variation at index 63: x1=109, x2=583, y1=339, y2=381, font_size=42\n",
      "Font variation at index 64: x1=110, x2=578, y1=339, y2=353, font_size=14\n",
      "Font variation at index 68: x1=248, x2=262, y1=342, y2=350, font_size=8\n",
      "Font variation at index 89: x1=109, x2=124, y1=371, y2=379, font_size=8\n",
      "Font variation at index 93: x1=243, x2=267, y1=372, y2=380, font_size=8\n",
      "Font variation at index 83: x1=415, x2=429, y1=345, y2=374, font_size=29\n",
      "Font variation at index 94: x1=173, x2=211, y1=368, y2=383, font_size=15\n",
      "Font variation at index 95: x1=173, x2=211, y1=368, y2=383, font_size=15\n",
      "Font variation at index 96: x1=173, x2=211, y1=368, y2=383, font_size=15\n",
      "Font variation at index 97: x1=173, x2=211, y1=368, y2=383, font_size=15\n",
      "Font variation at index 109: x1=646, x2=670, y1=651, y2=674, font_size=23\n",
      "Font variation at index 110: x1=646, x2=670, y1=651, y2=674, font_size=23\n",
      "Font variation at index 111: x1=646, x2=670, y1=651, y2=674, font_size=23\n",
      "Font variation at index 112: x1=646, x2=670, y1=651, y2=674, font_size=23\n",
      "Font variation at index 113: x1=581, x2=595, y1=667, y2=772, font_size=105\n",
      "Font variation at index 114: x1=581, x2=595, y1=667, y2=772, font_size=105\n",
      "Font variation at index 115: x1=581, x2=595, y1=667, y2=772, font_size=105\n",
      "Font variation at index 116: x1=581, x2=595, y1=667, y2=772, font_size=105\n",
      "Font variation at index 117: x1=60, x2=660, y1=801, y2=862, font_size=61\n",
      "Font variation at index 118: x1=60, x2=660, y1=801, y2=862, font_size=61\n",
      "Font variation at index 119: x1=60, x2=660, y1=801, y2=862, font_size=61\n",
      "Font variation at index 120: x1=60, x2=232, y1=825, y2=862, font_size=37\n",
      "Font variation at index 121: x1=492, x2=660, y1=801, y2=860, font_size=59\n",
      "Color variation with label 0\n",
      "Color variation with label 1\n",
      "Color variation with label 2\n",
      "Image: images/training/original\\0000044406.jpg - Fake: original\n",
      "Suspicious areas detected:\n",
      "Suspicious spacing at index 11: x1=130, x2=192, y1=145, y2=154\n",
      "Suspicious spacing at index 12: x1=201, x2=214, y1=145, y2=154\n",
      "Suspicious spacing at index 16: x1=131, x2=191, y1=174, y2=184\n",
      "Suspicious spacing at index 23: x1=309, x2=572, y1=192, y2=195\n",
      "Suspicious spacing at index 27: x1=174, x2=192, y1=220, y2=229\n",
      "Suspicious spacing at index 29: x1=278, x2=561, y1=217, y2=220\n",
      "Suspicious spacing at index 33: x1=153, x2=192, y1=249, y2=259\n",
      "Suspicious spacing at index 34: x1=200, x2=213, y1=250, y2=260\n",
      "Suspicious spacing at index 38: x1=134, x2=192, y1=265, y2=275\n",
      "Suspicious spacing at index 43: x1=159, x2=192, y1=280, y2=290\n",
      "Suspicious spacing at index 58: x1=549, x2=569, y1=332, y2=335\n",
      "Suspicious spacing at index 136: x1=404, x2=417, y1=460, y2=469\n",
      "Suspicious spacing at index 172: x1=183, x2=588, y1=679, y2=785\n",
      "Font variation at index 0: x1=0, x2=762, y1=0, y2=1000, font_size=1000\n",
      "Font variation at index 1: x1=135, x2=145, y1=268, y2=275, font_size=7\n",
      "Font variation at index 2: x1=135, x2=145, y1=268, y2=275, font_size=7\n",
      "Font variation at index 3: x1=135, x2=145, y1=268, y2=275, font_size=7\n",
      "Font variation at index 4: x1=135, x2=145, y1=268, y2=275, font_size=7\n",
      "Font variation at index 91: x1=494, x2=514, y1=389, y2=396, font_size=7\n",
      "Font variation at index 109: x1=260, x2=281, y1=418, y2=425, font_size=7\n",
      "Font variation at index 5: x1=113, x2=575, y1=101, y2=293, font_size=192\n",
      "Font variation at index 6: x1=113, x2=308, y1=101, y2=184, font_size=83\n",
      "Font variation at index 7: x1=113, x2=200, y1=101, y2=110, font_size=9\n",
      "Font variation at index 8: x1=113, x2=200, y1=101, y2=110, font_size=9\n",
      "Font variation at index 11: x1=192, x2=201, y1=145, y2=154, font_size=9\n",
      "Font variation at index 12: x1=214, x2=227, y1=145, y2=154, font_size=9\n",
      "Font variation at index 13: x1=237, x2=288, y1=145, y2=154, font_size=9\n",
      "Font variation at index 17: x1=236, x2=308, y1=174, y2=183, font_size=9\n",
      "Font variation at index 20: x1=191, x2=205, y1=190, y2=199, font_size=9\n",
      "Font variation at index 21: x1=214, x2=227, y1=190, y2=199, font_size=9\n",
      "Font variation at index 27: x1=192, x2=227, y1=220, y2=229, font_size=9\n",
      "Font variation at index 28: x1=236, x2=278, y1=220, y2=229, font_size=9\n",
      "Font variation at index 32: x1=113, x2=153, y1=250, y2=259, font_size=9\n",
      "Font variation at index 40: x1=291, x2=318, y1=266, y2=275, font_size=9\n",
      "Font variation at index 45: x1=310, x2=392, y1=281, y2=290, font_size=9\n",
      "Font variation at index 46: x1=399, x2=463, y1=281, y2=290, font_size=9\n",
      "Font variation at index 50: x1=114, x2=137, y1=326, y2=335, font_size=9\n",
      "Font variation at index 51: x1=143, x2=196, y1=326, y2=335, font_size=9\n",
      "Font variation at index 52: x1=202, x2=281, y1=326, y2=335, font_size=9\n",
      "Font variation at index 53: x1=288, x2=347, y1=326, y2=335, font_size=9\n",
      "Font variation at index 55: x1=429, x2=448, y1=326, y2=335, font_size=9\n",
      "Font variation at index 56: x1=454, x2=481, y1=326, y2=335, font_size=9\n",
      "Font variation at index 57: x1=486, x2=549, y1=326, y2=335, font_size=9\n",
      "Font variation at index 60: x1=114, x2=125, y1=342, y2=351, font_size=9\n",
      "Font variation at index 61: x1=131, x2=217, y1=342, y2=351, font_size=9\n",
      "Font variation at index 62: x1=224, x2=236, y1=342, y2=351, font_size=9\n",
      "Font variation at index 65: x1=310, x2=377, y1=342, y2=351, font_size=9\n",
      "Font variation at index 68: x1=435, x2=460, y1=342, y2=351, font_size=9\n",
      "Font variation at index 69: x1=466, x2=478, y1=342, y2=351, font_size=9\n",
      "Font variation at index 70: x1=485, x2=561, y1=342, y2=351, font_size=9\n",
      "Font variation at index 72: x1=113, x2=124, y1=357, y2=366, font_size=9\n",
      "Font variation at index 73: x1=130, x2=152, y1=359, y2=368, font_size=9\n",
      "Font variation at index 77: x1=267, x2=301, y1=357, y2=366, font_size=9\n",
      "Font variation at index 82: x1=158, x2=191, y1=387, y2=396, font_size=9\n",
      "Font variation at index 85: x1=297, x2=316, y1=386, y2=395, font_size=9\n",
      "Font variation at index 86: x1=322, x2=352, y1=386, y2=395, font_size=9\n",
      "Font variation at index 96: x1=255, x2=274, y1=401, y2=410, font_size=9\n",
      "Font variation at index 97: x1=280, x2=310, y1=401, y2=410, font_size=9\n",
      "Font variation at index 98: x1=317, x2=328, y1=401, y2=410, font_size=9\n",
      "Font variation at index 100: x1=369, x2=400, y1=401, y2=410, font_size=9\n",
      "Font variation at index 101: x1=405, x2=443, y1=401, y2=410, font_size=9\n",
      "Font variation at index 103: x1=501, x2=522, y1=401, y2=410, font_size=9\n",
      "Font variation at index 104: x1=528, x2=566, y1=404, y2=413, font_size=9\n",
      "Font variation at index 108: x1=221, x2=254, y1=416, y2=425, font_size=9\n",
      "Font variation at index 110: x1=288, x2=347, y1=416, y2=425, font_size=9\n",
      "Font variation at index 118: x1=113, x2=137, y1=446, y2=455, font_size=9\n",
      "Font variation at index 119: x1=143, x2=171, y1=446, y2=455, font_size=9\n",
      "Font variation at index 120: x1=178, x2=255, y1=446, y2=455, font_size=9\n",
      "Font variation at index 121: x1=260, x2=286, y1=446, y2=455, font_size=9\n",
      "Font variation at index 122: x1=293, x2=303, y1=446, y2=455, font_size=9\n",
      "Font variation at index 124: x1=336, x2=354, y1=446, y2=455, font_size=9\n",
      "Font variation at index 126: x1=434, x2=497, y1=446, y2=455, font_size=9\n",
      "Font variation at index 130: x1=113, x2=176, y1=461, y2=470, font_size=9\n",
      "Font variation at index 131: x1=182, x2=203, y1=460, y2=469, font_size=9\n",
      "Font variation at index 132: x1=210, x2=238, y1=460, y2=469, font_size=9\n",
      "Font variation at index 135: x1=334, x2=404, y1=460, y2=469, font_size=9\n",
      "Font variation at index 136: x1=417, x2=431, y1=460, y2=469, font_size=9\n",
      "Font variation at index 137: x1=438, x2=460, y1=460, y2=469, font_size=9\n",
      "Font variation at index 142: x1=185, x2=195, y1=476, y2=485, font_size=9\n",
      "Font variation at index 145: x1=393, x2=411, y1=476, y2=485, font_size=9\n",
      "Font variation at index 149: x1=490, x2=524, y1=476, y2=485, font_size=9\n",
      "Font variation at index 153: x1=113, x2=122, y1=506, y2=515, font_size=9\n",
      "Font variation at index 154: x1=127, x2=149, y1=508, y2=517, font_size=9\n",
      "Font variation at index 155: x1=154, x2=183, y1=506, y2=515, font_size=9\n",
      "Font variation at index 156: x1=190, x2=210, y1=508, y2=517, font_size=9\n",
      "Font variation at index 161: x1=427, x2=444, y1=506, y2=515, font_size=9\n",
      "Font variation at index 163: x1=474, x2=509, y1=506, y2=515, font_size=9\n",
      "Font variation at index 168: x1=112, x2=183, y1=670, y2=679, font_size=9\n",
      "Font variation at index 169: x1=112, x2=183, y1=670, y2=679, font_size=9\n",
      "Font variation at index 170: x1=112, x2=183, y1=670, y2=679, font_size=9\n",
      "Font variation at index 171: x1=112, x2=183, y1=670, y2=679, font_size=9\n",
      "Font variation at index 9: x1=113, x2=288, y1=134, y2=164, font_size=30\n",
      "Font variation at index 10: x1=113, x2=130, y1=134, y2=164, font_size=30\n",
      "Font variation at index 36: x1=113, x2=318, y1=255, y2=285, font_size=30\n",
      "Font variation at index 37: x1=113, x2=134, y1=255, y2=285, font_size=30\n",
      "Font variation at index 14: x1=113, x2=308, y1=174, y2=184, font_size=10\n",
      "Font variation at index 16: x1=191, x2=227, y1=174, y2=184, font_size=10\n",
      "Font variation at index 33: x1=192, x2=200, y1=249, y2=259, font_size=10\n",
      "Font variation at index 34: x1=213, x2=227, y1=250, y2=260, font_size=10\n",
      "Font variation at index 38: x1=192, x2=257, y1=265, y2=275, font_size=10\n",
      "Font variation at index 43: x1=192, x2=230, y1=280, y2=290, font_size=10\n",
      "Font variation at index 44: x1=237, x2=304, y1=280, y2=290, font_size=10\n",
      "Font variation at index 59: x1=114, x2=561, y1=341, y2=351, font_size=10\n",
      "Font variation at index 63: x1=241, x2=259, y1=341, y2=351, font_size=10\n",
      "Font variation at index 64: x1=266, x2=304, y1=341, y2=351, font_size=10\n",
      "Font variation at index 66: x1=383, x2=404, y1=341, y2=351, font_size=10\n",
      "Font variation at index 67: x1=410, x2=429, y1=341, y2=351, font_size=10\n",
      "Font variation at index 87: x1=359, x2=370, y1=386, y2=396, font_size=10\n",
      "Font variation at index 90: x1=467, x2=487, y1=386, y2=396, font_size=10\n",
      "Font variation at index 92: x1=522, x2=584, y1=386, y2=396, font_size=10\n",
      "Font variation at index 106: x1=114, x2=142, y1=416, y2=426, font_size=10\n",
      "Font variation at index 159: x1=303, x2=372, y1=506, y2=516, font_size=10\n",
      "Font variation at index 15: x1=113, x2=131, y1=177, y2=183, font_size=6\n",
      "Font variation at index 111: x1=308, x2=321, y1=419, y2=425, font_size=6\n",
      "Font variation at index 112: x1=308, x2=321, y1=419, y2=425, font_size=6\n",
      "Font variation at index 113: x1=308, x2=321, y1=419, y2=425, font_size=6\n",
      "Font variation at index 114: x1=308, x2=321, y1=419, y2=425, font_size=6\n",
      "Font variation at index 128: x1=555, x2=569, y1=449, y2=455, font_size=6\n",
      "Font variation at index 158: x1=283, x2=296, y1=508, y2=514, font_size=6\n",
      "Font variation at index 162: x1=449, x2=468, y1=508, y2=514, font_size=6\n",
      "Font variation at index 18: x1=191, x2=575, y1=190, y2=201, font_size=11\n",
      "Font variation at index 19: x1=191, x2=575, y1=190, y2=201, font_size=11\n",
      "Font variation at index 22: x1=236, x2=309, y1=190, y2=201, font_size=11\n",
      "Font variation at index 39: x1=264, x2=281, y1=266, y2=277, font_size=11\n",
      "Font variation at index 49: x1=114, x2=571, y1=326, y2=337, font_size=11\n",
      "Font variation at index 54: x1=354, x2=424, y1=326, y2=337, font_size=11\n",
      "Font variation at index 75: x1=214, x2=244, y1=357, y2=368, font_size=11\n",
      "Font variation at index 89: x1=410, x2=460, y1=385, y2=396, font_size=11\n",
      "Font variation at index 94: x1=113, x2=193, y1=401, y2=412, font_size=11\n",
      "Font variation at index 95: x1=200, x2=249, y1=400, y2=411, font_size=11\n",
      "Font variation at index 102: x1=449, x2=495, y1=401, y2=412, font_size=11\n",
      "Font variation at index 105: x1=114, x2=347, y1=416, y2=427, font_size=11\n",
      "Font variation at index 107: x1=148, x2=216, y1=416, y2=427, font_size=11\n",
      "Font variation at index 138: x1=467, x2=502, y1=461, y2=472, font_size=11\n",
      "Font variation at index 141: x1=113, x2=178, y1=476, y2=487, font_size=11\n",
      "Font variation at index 148: x1=466, x2=485, y1=475, y2=486, font_size=11\n",
      "Font variation at index 150: x1=113, x2=509, y1=506, y2=517, font_size=11\n",
      "Font variation at index 151: x1=113, x2=509, y1=506, y2=517, font_size=11\n",
      "Font variation at index 152: x1=113, x2=509, y1=506, y2=517, font_size=11\n",
      "Font variation at index 157: x1=216, x2=276, y1=506, y2=517, font_size=11\n",
      "Font variation at index 160: x1=381, x2=421, y1=506, y2=517, font_size=11\n",
      "Font variation at index 164: x1=114, x2=139, y1=638, y2=649, font_size=11\n",
      "Font variation at index 165: x1=114, x2=139, y1=638, y2=649, font_size=11\n",
      "Font variation at index 166: x1=114, x2=139, y1=638, y2=649, font_size=11\n",
      "Font variation at index 167: x1=114, x2=139, y1=638, y2=649, font_size=11\n",
      "Font variation at index 23: x1=572, x2=575, y1=192, y2=195, font_size=3\n",
      "Font variation at index 29: x1=561, x2=562, y1=217, y2=220, font_size=3\n",
      "Font variation at index 58: x1=569, x2=571, y1=332, y2=335, font_size=3\n",
      "Font variation at index 24: x1=171, x2=562, y1=217, y2=229, font_size=12\n",
      "Font variation at index 25: x1=171, x2=562, y1=217, y2=229, font_size=12\n",
      "Font variation at index 35: x1=235, x2=293, y1=250, y2=262, font_size=12\n",
      "Font variation at index 71: x1=113, x2=301, y1=356, y2=368, font_size=12\n",
      "Font variation at index 74: x1=158, x2=208, y1=356, y2=368, font_size=12\n",
      "Font variation at index 81: x1=113, x2=151, y1=386, y2=398, font_size=12\n",
      "Font variation at index 83: x1=196, x2=230, y1=386, y2=398, font_size=12\n",
      "Font variation at index 84: x1=236, x2=292, y1=386, y2=398, font_size=12\n",
      "Font variation at index 88: x1=376, x2=404, y1=384, y2=396, font_size=12\n",
      "Font variation at index 99: x1=335, x2=361, y1=399, y2=411, font_size=12\n",
      "Font variation at index 123: x1=310, x2=330, y1=444, y2=456, font_size=12\n",
      "Font variation at index 125: x1=361, x2=429, y1=445, y2=457, font_size=12\n",
      "Font variation at index 127: x1=504, x2=549, y1=446, y2=458, font_size=12\n",
      "Font variation at index 129: x1=113, x2=530, y1=460, y2=472, font_size=12\n",
      "Font variation at index 133: x1=243, x2=311, y1=460, y2=472, font_size=12\n",
      "Font variation at index 143: x1=202, x2=286, y1=475, y2=487, font_size=12\n",
      "Font variation at index 26: x1=171, x2=174, y1=223, y2=224, font_size=1\n",
      "Font variation at index 30: x1=113, x2=463, y1=249, y2=293, font_size=44\n",
      "Font variation at index 115: x1=113, x2=569, y1=444, y2=488, font_size=44\n",
      "Font variation at index 116: x1=113, x2=569, y1=444, y2=488, font_size=44\n",
      "Font variation at index 31: x1=113, x2=293, y1=249, y2=262, font_size=13\n",
      "Font variation at index 41: x1=113, x2=463, y1=280, y2=293, font_size=13\n",
      "Font variation at index 42: x1=113, x2=159, y1=280, y2=293, font_size=13\n",
      "Font variation at index 140: x1=113, x2=524, y1=475, y2=488, font_size=13\n",
      "Font variation at index 144: x1=293, x2=387, y1=475, y2=488, font_size=13\n",
      "Font variation at index 47: x1=113, x2=571, y1=326, y2=368, font_size=42\n",
      "Font variation at index 48: x1=113, x2=571, y1=326, y2=368, font_size=42\n",
      "Font variation at index 76: x1=251, x2=262, y1=357, y2=365, font_size=8\n",
      "Font variation at index 134: x1=317, x2=328, y1=461, y2=469, font_size=8\n",
      "Font variation at index 139: x1=511, x2=530, y1=461, y2=469, font_size=8\n",
      "Font variation at index 146: x1=418, x2=444, y1=477, y2=485, font_size=8\n",
      "Font variation at index 147: x1=450, x2=460, y1=477, y2=485, font_size=8\n",
      "Font variation at index 78: x1=113, x2=584, y1=384, y2=427, font_size=43\n",
      "Font variation at index 79: x1=113, x2=584, y1=384, y2=427, font_size=43\n",
      "Font variation at index 80: x1=113, x2=584, y1=384, y2=398, font_size=14\n",
      "Font variation at index 93: x1=113, x2=566, y1=399, y2=413, font_size=14\n",
      "Font variation at index 117: x1=113, x2=569, y1=444, y2=458, font_size=14\n",
      "Font variation at index 172: x1=588, x2=605, y1=679, y2=785, font_size=106\n",
      "Font variation at index 173: x1=588, x2=605, y1=679, y2=785, font_size=106\n",
      "Font variation at index 174: x1=588, x2=605, y1=679, y2=785, font_size=106\n",
      "Font variation at index 175: x1=588, x2=605, y1=679, y2=785, font_size=106\n",
      "Font variation at index 176: x1=596, x2=662, y1=49, y2=489, font_size=440\n",
      "Font variation at index 177: x1=596, x2=662, y1=49, y2=489, font_size=440\n",
      "Font variation at index 178: x1=596, x2=662, y1=49, y2=489, font_size=440\n",
      "Font variation at index 179: x1=596, x2=662, y1=49, y2=489, font_size=440\n",
      "Font variation at index 180: x1=0, x2=674, y1=857, y2=872, font_size=15\n",
      "Font variation at index 181: x1=0, x2=674, y1=857, y2=872, font_size=15\n",
      "Font variation at index 182: x1=0, x2=674, y1=857, y2=872, font_size=15\n",
      "Font variation at index 183: x1=0, x2=674, y1=857, y2=872, font_size=15\n",
      "Font variation at index 184: x1=667, x2=673, y1=325, y2=644, font_size=319\n",
      "Font variation at index 185: x1=667, x2=673, y1=325, y2=644, font_size=319\n",
      "Font variation at index 186: x1=667, x2=673, y1=325, y2=644, font_size=319\n",
      "Font variation at index 187: x1=667, x2=673, y1=325, y2=644, font_size=319\n",
      "Color variation with label 0\n",
      "Color variation with label 1\n",
      "Color variation with label 2\n",
      "Image: images/training/original\\0000046972.jpg - Fake: original\n",
      "Suspicious areas detected:\n",
      "Suspicious spacing at index 9: x1=50, x2=314, y1=66, y2=67\n",
      "Suspicious spacing at index 49: x1=160, x2=241, y1=243, y2=247\n",
      "Suspicious spacing at index 73: x1=203, x2=242, y1=368, y2=371\n",
      "Suspicious spacing at index 179: x1=64, x2=131, y1=29, y2=32\n",
      "Suspicious spacing at index 180: x1=137, x2=208, y1=17, y2=38\n",
      "Suspicious spacing at index 181: x1=220, x2=270, y1=28, y2=45\n",
      "Suspicious spacing at index 182: x1=422, x2=445, y1=40, y2=50\n",
      "Suspicious spacing at index 197: x1=146, x2=253, y1=87, y2=98\n",
      "Suspicious spacing at index 198: x1=299, x2=458, y1=86, y2=96\n",
      "Suspicious spacing at index 205: x1=100, x2=241, y1=115, y2=126\n",
      "Suspicious spacing at index 207: x1=331, x2=452, y1=114, y2=124\n",
      "Suspicious spacing at index 211: x1=154, x2=271, y1=133, y2=137\n",
      "Suspicious spacing at index 214: x1=131, x2=271, y1=145, y2=151\n",
      "Suspicious spacing at index 218: x1=179, x2=271, y1=162, y2=166\n",
      "Suspicious spacing at index 222: x1=173, x2=272, y1=176, y2=181\n",
      "Suspicious spacing at index 230: x1=131, x2=254, y1=230, y2=241\n",
      "Suspicious spacing at index 232: x1=332, x2=459, y1=230, y2=239\n",
      "Suspicious spacing at index 236: x1=58, x2=98, y1=248, y2=260\n",
      "Suspicious spacing at index 243: x1=139, x2=242, y1=286, y2=297\n",
      "Suspicious spacing at index 244: x1=333, x2=452, y1=286, y2=297\n",
      "Suspicious spacing at index 248: x1=105, x2=255, y1=295, y2=317\n",
      "Suspicious spacing at index 249: x1=311, x2=459, y1=298, y2=309\n",
      "Suspicious spacing at index 256: x1=62, x2=99, y1=340, y2=361\n",
      "Suspicious spacing at index 257: x1=139, x2=281, y1=343, y2=354\n",
      "Suspicious spacing at index 258: x1=299, x2=486, y1=347, y2=350\n",
      "Suspicious spacing at index 261: x1=58, x2=99, y1=360, y2=373\n",
      "Suspicious spacing at index 263: x1=165, x2=257, y1=357, y2=366\n",
      "Suspicious spacing at index 264: x1=270, x2=454, y1=343, y2=367\n",
      "Suspicious spacing at index 267: x1=171, x2=257, y1=372, y2=382\n",
      "Suspicious spacing at index 268: x1=286, x2=462, y1=372, y2=382\n",
      "Suspicious spacing at index 271: x1=58, x2=99, y1=376, y2=407\n",
      "Suspicious spacing at index 273: x1=170, x2=257, y1=374, y2=404\n",
      "Suspicious spacing at index 274: x1=285, x2=462, y1=385, y2=395\n",
      "Suspicious spacing at index 277: x1=142, x2=225, y1=400, y2=413\n",
      "Suspicious spacing at index 279: x1=286, x2=311, y1=401, y2=411\n",
      "Suspicious spacing at index 280: x1=326, x2=438, y1=400, y2=413\n",
      "Suspicious spacing at index 287: x1=150, x2=257, y1=413, y2=423\n",
      "Suspicious spacing at index 288: x1=278, x2=462, y1=411, y2=423\n",
      "Suspicious spacing at index 292: x1=166, x2=252, y1=427, y2=461\n",
      "Suspicious spacing at index 293: x1=270, x2=462, y1=440, y2=450\n",
      "Suspicious spacing at index 297: x1=204, x2=257, y1=457, y2=467\n",
      "Suspicious spacing at index 298: x1=286, x2=462, y1=457, y2=469\n",
      "Suspicious spacing at index 301: x1=133, x2=272, y1=471, y2=478\n",
      "Suspicious spacing at index 302: x1=279, x2=477, y1=470, y2=478\n",
      "Suspicious spacing at index 306: x1=183, x2=256, y1=486, y2=495\n",
      "Suspicious spacing at index 307: x1=287, x2=462, y1=486, y2=495\n",
      "Suspicious spacing at index 312: x1=209, x2=257, y1=499, y2=509\n",
      "Suspicious spacing at index 313: x1=271, x2=462, y1=499, y2=509\n",
      "Suspicious spacing at index 318: x1=198, x2=257, y1=513, y2=523\n",
      "Suspicious spacing at index 319: x1=271, x2=471, y1=512, y2=522\n",
      "Suspicious spacing at index 323: x1=158, x2=257, y1=541, y2=551\n",
      "Suspicious spacing at index 326: x1=167, x2=462, y1=541, y2=551\n",
      "Suspicious spacing at index 329: x1=58, x2=99, y1=557, y2=570\n",
      "Suspicious spacing at index 330: x1=208, x2=244, y1=552, y2=564\n",
      "Suspicious spacing at index 331: x1=271, x2=471, y1=554, y2=564\n",
      "Suspicious spacing at index 335: x1=181, x2=273, y1=571, y2=581\n",
      "Suspicious spacing at index 336: x1=278, x2=470, y1=571, y2=581\n",
      "Suspicious spacing at index 339: x1=128, x2=219, y1=584, y2=597\n",
      "Suspicious spacing at index 340: x1=239, x2=257, y1=584, y2=594\n",
      "Suspicious spacing at index 341: x1=295, x2=462, y1=584, y2=594\n",
      "Suspicious spacing at index 347: x1=158, x2=257, y1=612, y2=621\n",
      "Suspicious spacing at index 348: x1=287, x2=458, y1=594, y2=627\n",
      "Suspicious spacing at index 349: x1=493, x2=631, y1=605, y2=628\n",
      "Suspicious spacing at index 353: x1=167, x2=631, y1=628, y2=640\n",
      "Suspicious spacing at index 356: x1=139, x2=631, y1=641, y2=664\n",
      "Suspicious spacing at index 359: x1=157, x2=244, y1=666, y2=669\n",
      "Suspicious spacing at index 363: x1=153, x2=630, y1=665, y2=688\n",
      "Suspicious spacing at index 366: x1=138, x2=630, y1=689, y2=711\n",
      "Suspicious spacing at index 370: x1=176, x2=258, y1=710, y2=720\n",
      "Suspicious spacing at index 372: x1=297, x2=464, y1=710, y2=719\n",
      "Suspicious spacing at index 376: x1=101, x2=114, y1=741, y2=751\n",
      "Suspicious spacing at index 377: x1=175, x2=248, y1=737, y2=748\n",
      "Suspicious spacing at index 392: x1=489, x2=500, y1=751, y2=760\n",
      "Suspicious spacing at index 400: x1=530, x2=548, y1=767, y2=777\n",
      "Suspicious spacing at index 405: x1=146, x2=163, y1=806, y2=816\n",
      "Suspicious spacing at index 406: x1=185, x2=196, y1=806, y2=815\n",
      "Suspicious spacing at index 407: x1=208, x2=219, y1=806, y2=815\n",
      "Suspicious spacing at index 408: x1=231, x2=243, y1=805, y2=814\n",
      "Suspicious spacing at index 409: x1=296, x2=432, y1=807, y2=817\n",
      "Font variation at index 0: x1=0, x2=762, y1=0, y2=1000, font_size=1000\n",
      "Font variation at index 1: x1=0, x2=4, y1=0, y2=330, font_size=330\n",
      "Font variation at index 2: x1=0, x2=4, y1=0, y2=330, font_size=330\n",
      "Font variation at index 3: x1=0, x2=4, y1=0, y2=330, font_size=330\n",
      "Font variation at index 4: x1=0, x2=4, y1=0, y2=330, font_size=330\n",
      "Font variation at index 5: x1=12, x2=50, y1=539, y2=569, font_size=30\n",
      "Font variation at index 6: x1=12, x2=50, y1=539, y2=569, font_size=30\n",
      "Font variation at index 7: x1=12, x2=50, y1=539, y2=569, font_size=30\n",
      "Font variation at index 8: x1=12, x2=50, y1=539, y2=569, font_size=30\n",
      "Font variation at index 259: x1=57, x2=514, y1=343, y2=373, font_size=30\n",
      "Font variation at index 269: x1=57, x2=491, y1=374, y2=404, font_size=30\n",
      "Font variation at index 273: x1=257, x2=285, y1=374, y2=404, font_size=30\n",
      "Font variation at index 337: x1=96, x2=500, y1=572, y2=602, font_size=30\n",
      "Font variation at index 338: x1=96, x2=128, y1=572, y2=602, font_size=30\n",
      "Font variation at index 9: x1=314, x2=319, y1=66, y2=67, font_size=1\n",
      "Font variation at index 10: x1=314, x2=319, y1=66, y2=67, font_size=1\n",
      "Font variation at index 11: x1=314, x2=319, y1=66, y2=67, font_size=1\n",
      "Font variation at index 12: x1=314, x2=319, y1=66, y2=67, font_size=1\n",
      "Font variation at index 13: x1=241, x2=619, y1=98, y2=103, font_size=5\n",
      "Font variation at index 14: x1=241, x2=619, y1=98, y2=103, font_size=5\n",
      "Font variation at index 15: x1=241, x2=619, y1=98, y2=103, font_size=5\n",
      "Font variation at index 16: x1=241, x2=619, y1=98, y2=103, font_size=5\n",
      "Font variation at index 21: x1=241, x2=618, y1=142, y2=147, font_size=5\n",
      "Font variation at index 22: x1=241, x2=618, y1=142, y2=147, font_size=5\n",
      "Font variation at index 23: x1=241, x2=618, y1=142, y2=147, font_size=5\n",
      "Font variation at index 24: x1=241, x2=618, y1=142, y2=147, font_size=5\n",
      "Font variation at index 29: x1=241, x2=619, y1=171, y2=176, font_size=5\n",
      "Font variation at index 30: x1=241, x2=619, y1=171, y2=176, font_size=5\n",
      "Font variation at index 31: x1=241, x2=619, y1=171, y2=176, font_size=5\n",
      "Font variation at index 32: x1=241, x2=619, y1=171, y2=176, font_size=5\n",
      "Font variation at index 65: x1=99, x2=620, y1=323, y2=328, font_size=5\n",
      "Font variation at index 66: x1=99, x2=620, y1=323, y2=328, font_size=5\n",
      "Font variation at index 67: x1=99, x2=620, y1=323, y2=328, font_size=5\n",
      "Font variation at index 68: x1=99, x2=620, y1=323, y2=328, font_size=5\n",
      "Font variation at index 117: x1=262, x2=621, y1=551, y2=556, font_size=5\n",
      "Font variation at index 118: x1=262, x2=621, y1=551, y2=556, font_size=5\n",
      "Font variation at index 119: x1=262, x2=621, y1=551, y2=556, font_size=5\n",
      "Font variation at index 120: x1=262, x2=621, y1=551, y2=556, font_size=5\n",
      "Font variation at index 125: x1=244, x2=621, y1=579, y2=584, font_size=5\n",
      "Font variation at index 126: x1=244, x2=621, y1=579, y2=584, font_size=5\n",
      "Font variation at index 127: x1=244, x2=621, y1=579, y2=584, font_size=5\n",
      "Font variation at index 128: x1=244, x2=621, y1=579, y2=584, font_size=5\n",
      "Font variation at index 133: x1=244, x2=622, y1=621, y2=626, font_size=5\n",
      "Font variation at index 134: x1=244, x2=622, y1=621, y2=626, font_size=5\n",
      "Font variation at index 135: x1=244, x2=622, y1=621, y2=626, font_size=5\n",
      "Font variation at index 136: x1=244, x2=622, y1=621, y2=626, font_size=5\n",
      "Font variation at index 157: x1=246, x2=624, y1=748, y2=753, font_size=5\n",
      "Font variation at index 158: x1=246, x2=624, y1=748, y2=753, font_size=5\n",
      "Font variation at index 159: x1=246, x2=624, y1=748, y2=753, font_size=5\n",
      "Font variation at index 160: x1=246, x2=624, y1=748, y2=753, font_size=5\n",
      "Font variation at index 165: x1=268, x2=629, y1=776, y2=781, font_size=5\n",
      "Font variation at index 166: x1=268, x2=629, y1=776, y2=781, font_size=5\n",
      "Font variation at index 167: x1=268, x2=629, y1=776, y2=781, font_size=5\n",
      "Font variation at index 168: x1=268, x2=629, y1=776, y2=781, font_size=5\n",
      "Font variation at index 222: x1=272, x2=277, y1=176, y2=181, font_size=5\n",
      "Font variation at index 17: x1=241, x2=618, y1=128, y2=132, font_size=4\n",
      "Font variation at index 18: x1=241, x2=618, y1=128, y2=132, font_size=4\n",
      "Font variation at index 19: x1=241, x2=618, y1=128, y2=132, font_size=4\n",
      "Font variation at index 20: x1=241, x2=618, y1=128, y2=132, font_size=4\n",
      "Font variation at index 25: x1=241, x2=619, y1=157, y2=161, font_size=4\n",
      "Font variation at index 26: x1=241, x2=619, y1=157, y2=161, font_size=4\n",
      "Font variation at index 27: x1=241, x2=619, y1=157, y2=161, font_size=4\n",
      "Font variation at index 28: x1=241, x2=619, y1=157, y2=161, font_size=4\n",
      "Font variation at index 33: x1=241, x2=619, y1=186, y2=190, font_size=4\n",
      "Font variation at index 34: x1=241, x2=619, y1=186, y2=190, font_size=4\n",
      "Font variation at index 35: x1=241, x2=619, y1=186, y2=190, font_size=4\n",
      "Font variation at index 36: x1=241, x2=619, y1=186, y2=190, font_size=4\n",
      "Font variation at index 37: x1=241, x2=619, y1=200, y2=204, font_size=4\n",
      "Font variation at index 38: x1=241, x2=619, y1=200, y2=204, font_size=4\n",
      "Font variation at index 39: x1=241, x2=619, y1=200, y2=204, font_size=4\n",
      "Font variation at index 40: x1=241, x2=619, y1=200, y2=204, font_size=4\n",
      "Font variation at index 49: x1=241, x2=619, y1=243, y2=247, font_size=4\n",
      "Font variation at index 50: x1=241, x2=619, y1=243, y2=247, font_size=4\n",
      "Font variation at index 51: x1=241, x2=619, y1=243, y2=247, font_size=4\n",
      "Font variation at index 52: x1=241, x2=619, y1=243, y2=247, font_size=4\n",
      "Font variation at index 53: x1=241, x2=619, y1=257, y2=261, font_size=4\n",
      "Font variation at index 54: x1=241, x2=619, y1=257, y2=261, font_size=4\n",
      "Font variation at index 55: x1=241, x2=619, y1=257, y2=261, font_size=4\n",
      "Font variation at index 56: x1=241, x2=619, y1=257, y2=261, font_size=4\n",
      "Font variation at index 57: x1=241, x2=619, y1=271, y2=275, font_size=4\n",
      "Font variation at index 58: x1=241, x2=619, y1=271, y2=275, font_size=4\n",
      "Font variation at index 59: x1=241, x2=619, y1=271, y2=275, font_size=4\n",
      "Font variation at index 60: x1=241, x2=619, y1=271, y2=275, font_size=4\n",
      "Font variation at index 81: x1=243, x2=620, y1=396, y2=400, font_size=4\n",
      "Font variation at index 82: x1=243, x2=620, y1=396, y2=400, font_size=4\n",
      "Font variation at index 83: x1=243, x2=620, y1=396, y2=400, font_size=4\n",
      "Font variation at index 84: x1=243, x2=620, y1=396, y2=400, font_size=4\n",
      "Font variation at index 85: x1=260, x2=620, y1=410, y2=414, font_size=4\n",
      "Font variation at index 86: x1=260, x2=620, y1=410, y2=414, font_size=4\n",
      "Font variation at index 87: x1=260, x2=620, y1=410, y2=414, font_size=4\n",
      "Font variation at index 88: x1=260, x2=620, y1=410, y2=414, font_size=4\n",
      "Font variation at index 89: x1=243, x2=620, y1=424, y2=428, font_size=4\n",
      "Font variation at index 90: x1=243, x2=620, y1=424, y2=428, font_size=4\n",
      "Font variation at index 91: x1=243, x2=620, y1=424, y2=428, font_size=4\n",
      "Font variation at index 92: x1=243, x2=620, y1=424, y2=428, font_size=4\n",
      "Font variation at index 101: x1=243, x2=621, y1=481, y2=485, font_size=4\n",
      "Font variation at index 102: x1=243, x2=621, y1=481, y2=485, font_size=4\n",
      "Font variation at index 103: x1=243, x2=621, y1=481, y2=485, font_size=4\n",
      "Font variation at index 104: x1=243, x2=621, y1=481, y2=485, font_size=4\n",
      "Font variation at index 105: x1=243, x2=621, y1=495, y2=499, font_size=4\n",
      "Font variation at index 106: x1=243, x2=621, y1=495, y2=499, font_size=4\n",
      "Font variation at index 107: x1=243, x2=621, y1=495, y2=499, font_size=4\n",
      "Font variation at index 108: x1=243, x2=621, y1=495, y2=499, font_size=4\n",
      "Font variation at index 109: x1=243, x2=621, y1=509, y2=513, font_size=4\n",
      "Font variation at index 110: x1=243, x2=621, y1=509, y2=513, font_size=4\n",
      "Font variation at index 111: x1=243, x2=621, y1=509, y2=513, font_size=4\n",
      "Font variation at index 112: x1=243, x2=621, y1=509, y2=513, font_size=4\n",
      "Font variation at index 121: x1=244, x2=621, y1=565, y2=569, font_size=4\n",
      "Font variation at index 122: x1=244, x2=621, y1=565, y2=569, font_size=4\n",
      "Font variation at index 123: x1=244, x2=621, y1=565, y2=569, font_size=4\n",
      "Font variation at index 124: x1=244, x2=621, y1=565, y2=569, font_size=4\n",
      "Font variation at index 129: x1=244, x2=621, y1=593, y2=597, font_size=4\n",
      "Font variation at index 130: x1=244, x2=621, y1=593, y2=597, font_size=4\n",
      "Font variation at index 131: x1=244, x2=621, y1=593, y2=597, font_size=4\n",
      "Font variation at index 132: x1=244, x2=621, y1=593, y2=597, font_size=4\n",
      "Font variation at index 137: x1=244, x2=622, y1=636, y2=640, font_size=4\n",
      "Font variation at index 138: x1=244, x2=622, y1=636, y2=640, font_size=4\n",
      "Font variation at index 139: x1=244, x2=622, y1=636, y2=640, font_size=4\n",
      "Font variation at index 140: x1=244, x2=622, y1=636, y2=640, font_size=4\n",
      "Font variation at index 145: x1=245, x2=622, y1=679, y2=683, font_size=4\n",
      "Font variation at index 146: x1=245, x2=622, y1=679, y2=683, font_size=4\n",
      "Font variation at index 147: x1=245, x2=622, y1=679, y2=683, font_size=4\n",
      "Font variation at index 148: x1=245, x2=622, y1=679, y2=683, font_size=4\n",
      "Font variation at index 149: x1=245, x2=622, y1=694, y2=698, font_size=4\n",
      "Font variation at index 150: x1=245, x2=622, y1=694, y2=698, font_size=4\n",
      "Font variation at index 151: x1=245, x2=622, y1=694, y2=698, font_size=4\n",
      "Font variation at index 152: x1=245, x2=622, y1=694, y2=698, font_size=4\n",
      "Font variation at index 161: x1=246, x2=623, y1=762, y2=766, font_size=4\n",
      "Font variation at index 162: x1=246, x2=623, y1=762, y2=766, font_size=4\n",
      "Font variation at index 163: x1=246, x2=623, y1=762, y2=766, font_size=4\n",
      "Font variation at index 164: x1=246, x2=623, y1=762, y2=766, font_size=4\n",
      "Font variation at index 169: x1=246, x2=629, y1=791, y2=795, font_size=4\n",
      "Font variation at index 170: x1=246, x2=629, y1=791, y2=795, font_size=4\n",
      "Font variation at index 171: x1=246, x2=629, y1=791, y2=795, font_size=4\n",
      "Font variation at index 172: x1=246, x2=629, y1=791, y2=795, font_size=4\n",
      "Font variation at index 211: x1=271, x2=276, y1=133, y2=137, font_size=4\n",
      "Font variation at index 218: x1=271, x2=276, y1=162, y2=166, font_size=4\n",
      "Font variation at index 414: x1=148, x2=629, y1=817, y2=821, font_size=4\n",
      "Font variation at index 415: x1=148, x2=629, y1=817, y2=821, font_size=4\n",
      "Font variation at index 416: x1=148, x2=629, y1=817, y2=821, font_size=4\n",
      "Font variation at index 417: x1=148, x2=629, y1=817, y2=821, font_size=4\n",
      "Font variation at index 41: x1=98, x2=619, y1=213, y2=220, font_size=7\n",
      "Font variation at index 42: x1=98, x2=619, y1=213, y2=220, font_size=7\n",
      "Font variation at index 43: x1=98, x2=619, y1=213, y2=220, font_size=7\n",
      "Font variation at index 44: x1=98, x2=619, y1=213, y2=220, font_size=7\n",
      "Font variation at index 186: x1=157, x2=177, y1=61, y2=68, font_size=7\n",
      "Font variation at index 301: x1=272, x2=279, y1=471, y2=478, font_size=7\n",
      "Font variation at index 393: x1=594, x2=626, y1=752, y2=759, font_size=7\n",
      "Font variation at index 45: x1=100, x2=160, y1=284, y2=287, font_size=3\n",
      "Font variation at index 46: x1=100, x2=160, y1=284, y2=287, font_size=3\n",
      "Font variation at index 47: x1=100, x2=160, y1=284, y2=287, font_size=3\n",
      "Font variation at index 48: x1=100, x2=160, y1=284, y2=287, font_size=3\n",
      "Font variation at index 61: x1=242, x2=620, y1=311, y2=314, font_size=3\n",
      "Font variation at index 62: x1=242, x2=620, y1=311, y2=314, font_size=3\n",
      "Font variation at index 63: x1=242, x2=620, y1=311, y2=314, font_size=3\n",
      "Font variation at index 64: x1=242, x2=620, y1=311, y2=314, font_size=3\n",
      "Font variation at index 73: x1=242, x2=620, y1=368, y2=371, font_size=3\n",
      "Font variation at index 74: x1=242, x2=620, y1=368, y2=371, font_size=3\n",
      "Font variation at index 75: x1=242, x2=620, y1=368, y2=371, font_size=3\n",
      "Font variation at index 76: x1=242, x2=620, y1=368, y2=371, font_size=3\n",
      "Font variation at index 77: x1=243, x2=620, y1=382, y2=385, font_size=3\n",
      "Font variation at index 78: x1=243, x2=620, y1=382, y2=385, font_size=3\n",
      "Font variation at index 79: x1=243, x2=620, y1=382, y2=385, font_size=3\n",
      "Font variation at index 80: x1=243, x2=620, y1=382, y2=385, font_size=3\n",
      "Font variation at index 93: x1=243, x2=620, y1=453, y2=456, font_size=3\n",
      "Font variation at index 94: x1=243, x2=620, y1=453, y2=456, font_size=3\n",
      "Font variation at index 95: x1=243, x2=620, y1=453, y2=456, font_size=3\n",
      "Font variation at index 96: x1=243, x2=620, y1=453, y2=456, font_size=3\n",
      "Font variation at index 97: x1=243, x2=621, y1=467, y2=470, font_size=3\n",
      "Font variation at index 98: x1=243, x2=621, y1=467, y2=470, font_size=3\n",
      "Font variation at index 99: x1=243, x2=621, y1=467, y2=470, font_size=3\n",
      "Font variation at index 100: x1=243, x2=621, y1=467, y2=470, font_size=3\n",
      "Font variation at index 113: x1=244, x2=621, y1=524, y2=527, font_size=3\n",
      "Font variation at index 114: x1=244, x2=621, y1=524, y2=527, font_size=3\n",
      "Font variation at index 115: x1=244, x2=621, y1=524, y2=527, font_size=3\n",
      "Font variation at index 116: x1=244, x2=621, y1=524, y2=527, font_size=3\n",
      "Font variation at index 141: x1=244, x2=622, y1=651, y2=654, font_size=3\n",
      "Font variation at index 142: x1=244, x2=622, y1=651, y2=654, font_size=3\n",
      "Font variation at index 143: x1=244, x2=622, y1=651, y2=654, font_size=3\n",
      "Font variation at index 144: x1=244, x2=622, y1=651, y2=654, font_size=3\n",
      "Font variation at index 178: x1=60, x2=64, y1=32, y2=35, font_size=3\n",
      "Font variation at index 179: x1=131, x2=137, y1=29, y2=32, font_size=3\n",
      "Font variation at index 258: x1=486, x2=506, y1=347, y2=350, font_size=3\n",
      "Font variation at index 328: x1=57, x2=58, y1=558, y2=561, font_size=3\n",
      "Font variation at index 359: x1=244, x2=305, y1=666, y2=669, font_size=3\n",
      "Font variation at index 69: x1=168, x2=203, y1=375, y2=400, font_size=25\n",
      "Font variation at index 70: x1=168, x2=203, y1=375, y2=400, font_size=25\n",
      "Font variation at index 71: x1=168, x2=203, y1=375, y2=400, font_size=25\n",
      "Font variation at index 72: x1=168, x2=203, y1=375, y2=400, font_size=25\n",
      "Font variation at index 153: x1=245, x2=622, y1=720, y2=726, font_size=6\n",
      "Font variation at index 154: x1=245, x2=622, y1=720, y2=726, font_size=6\n",
      "Font variation at index 155: x1=245, x2=622, y1=720, y2=726, font_size=6\n",
      "Font variation at index 156: x1=245, x2=622, y1=720, y2=726, font_size=6\n",
      "Font variation at index 214: x1=271, x2=273, y1=145, y2=151, font_size=6\n",
      "Font variation at index 173: x1=51, x2=646, y1=6, y2=824, font_size=818\n",
      "Font variation at index 174: x1=51, x2=646, y1=6, y2=824, font_size=818\n",
      "Font variation at index 175: x1=51, x2=60, y1=6, y2=17, font_size=11\n",
      "Font variation at index 176: x1=51, x2=60, y1=6, y2=17, font_size=11\n",
      "Font variation at index 183: x1=449, x2=504, y1=39, y2=50, font_size=11\n",
      "Font variation at index 197: x1=253, x2=299, y1=87, y2=98, font_size=11\n",
      "Font variation at index 205: x1=241, x2=309, y1=115, y2=126, font_size=11\n",
      "Font variation at index 208: x1=522, x2=536, y1=113, y2=124, font_size=11\n",
      "Font variation at index 230: x1=254, x2=310, y1=230, y2=241, font_size=11\n",
      "Font variation at index 233: x1=524, x2=538, y1=228, y2=239, font_size=11\n",
      "Font variation at index 243: x1=242, x2=333, y1=286, y2=297, font_size=11\n",
      "Font variation at index 244: x1=452, x2=514, y1=286, y2=297, font_size=11\n",
      "Font variation at index 249: x1=459, x2=540, y1=298, y2=309, font_size=11\n",
      "Font variation at index 251: x1=73, x2=125, y1=330, y2=341, font_size=11\n",
      "Font variation at index 253: x1=105, x2=125, y1=330, y2=341, font_size=11\n",
      "Font variation at index 257: x1=281, x2=299, y1=343, y2=354, font_size=11\n",
      "Font variation at index 262: x1=139, x2=165, y1=361, y2=372, font_size=11\n",
      "Font variation at index 286: x1=127, x2=150, y1=418, y2=429, font_size=11\n",
      "Font variation at index 317: x1=171, x2=198, y1=517, y2=528, font_size=11\n",
      "Font variation at index 351: x1=100, x2=128, y1=627, y2=638, font_size=11\n",
      "Font variation at index 357: x1=100, x2=305, y1=658, y2=669, font_size=11\n",
      "Font variation at index 373: x1=479, x2=510, y1=710, y2=721, font_size=11\n",
      "Font variation at index 377: x1=248, x2=269, y1=737, y2=748, font_size=11\n",
      "Font variation at index 379: x1=326, x2=356, y1=737, y2=748, font_size=11\n",
      "Font variation at index 397: x1=382, x2=419, y1=767, y2=778, font_size=11\n",
      "Font variation at index 177: x1=60, x2=504, y1=17, y2=50, font_size=33\n",
      "Font variation at index 228: x1=98, x2=538, y1=219, y2=252, font_size=33\n",
      "Font variation at index 229: x1=98, x2=131, y1=219, y2=252, font_size=33\n",
      "Font variation at index 348: x1=458, x2=493, y1=594, y2=627, font_size=33\n",
      "Font variation at index 180: x1=208, x2=220, y1=17, y2=38, font_size=21\n",
      "Font variation at index 209: x1=94, x2=276, y1=129, y2=150, font_size=21\n",
      "Font variation at index 210: x1=94, x2=154, y1=129, y2=150, font_size=21\n",
      "Font variation at index 212: x1=98, x2=273, y1=143, y2=164, font_size=21\n",
      "Font variation at index 213: x1=98, x2=131, y1=143, y2=164, font_size=21\n",
      "Font variation at index 237: x1=158, x2=164, y1=244, y2=265, font_size=21\n",
      "Font variation at index 247: x1=73, x2=105, y1=298, y2=319, font_size=21\n",
      "Font variation at index 254: x1=57, x2=506, y1=340, y2=361, font_size=21\n",
      "Font variation at index 256: x1=99, x2=139, y1=340, y2=361, font_size=21\n",
      "Font variation at index 265: x1=95, x2=490, y1=369, y2=390, font_size=21\n",
      "Font variation at index 266: x1=95, x2=171, y1=369, y2=390, font_size=21\n",
      "Font variation at index 275: x1=95, x2=540, y1=398, y2=419, font_size=21\n",
      "Font variation at index 276: x1=95, x2=142, y1=398, y2=419, font_size=21\n",
      "Font variation at index 181: x1=270, x2=422, y1=28, y2=45, font_size=17\n",
      "Font variation at index 367: x1=74, x2=510, y1=710, y2=727, font_size=17\n",
      "Font variation at index 182: x1=445, x2=448, y1=40, y2=50, font_size=10\n",
      "Font variation at index 198: x1=458, x2=504, y1=86, y2=96, font_size=10\n",
      "Font variation at index 199: x1=72, x2=167, y1=104, y2=114, font_size=10\n",
      "Font variation at index 201: x1=114, x2=137, y1=104, y2=114, font_size=10\n",
      "Font variation at index 202: x1=141, x2=167, y1=104, y2=114, font_size=10\n",
      "Font variation at index 206: x1=316, x2=331, y1=115, y2=125, font_size=10\n",
      "Font variation at index 207: x1=452, x2=514, y1=114, y2=124, font_size=10\n",
      "Font variation at index 219: x1=98, x2=277, y1=176, y2=186, font_size=10\n",
      "Font variation at index 220: x1=98, x2=136, y1=176, y2=186, font_size=10\n",
      "Font variation at index 223: x1=98, x2=158, y1=191, y2=201, font_size=10\n",
      "Font variation at index 225: x1=125, x2=158, y1=191, y2=201, font_size=10\n",
      "Font variation at index 231: x1=317, x2=332, y1=230, y2=240, font_size=10\n",
      "Font variation at index 238: x1=98, x2=155, y1=260, y2=270, font_size=10\n",
      "Font variation at index 239: x1=98, x2=155, y1=260, y2=270, font_size=10\n",
      "Font variation at index 245: x1=524, x2=538, y1=287, y2=297, font_size=10\n",
      "Font variation at index 252: x1=73, x2=101, y1=331, y2=341, font_size=10\n",
      "Font variation at index 267: x1=257, x2=286, y1=372, y2=382, font_size=10\n",
      "Font variation at index 268: x1=462, x2=490, y1=372, y2=382, font_size=10\n",
      "Font variation at index 274: x1=462, x2=491, y1=385, y2=395, font_size=10\n",
      "Font variation at index 278: x1=280, x2=286, y1=400, y2=410, font_size=10\n",
      "Font variation at index 279: x1=311, x2=326, y1=401, y2=411, font_size=10\n",
      "Font variation at index 281: x1=469, x2=485, y1=400, y2=410, font_size=10\n",
      "Font variation at index 282: x1=493, x2=514, y1=400, y2=410, font_size=10\n",
      "Font variation at index 283: x1=524, x2=540, y1=401, y2=411, font_size=10\n",
      "Font variation at index 287: x1=257, x2=278, y1=413, y2=423, font_size=10\n",
      "Font variation at index 293: x1=462, x2=476, y1=440, y2=450, font_size=10\n",
      "Font variation at index 295: x1=99, x2=172, y1=459, y2=469, font_size=10\n",
      "Font variation at index 297: x1=257, x2=286, y1=457, y2=467, font_size=10\n",
      "Font variation at index 312: x1=257, x2=271, y1=499, y2=509, font_size=10\n",
      "Font variation at index 313: x1=462, x2=476, y1=499, y2=509, font_size=10\n",
      "Font variation at index 315: x1=100, x2=128, y1=515, y2=525, font_size=10\n",
      "Font variation at index 318: x1=257, x2=271, y1=513, y2=523, font_size=10\n",
      "Font variation at index 319: x1=471, x2=476, y1=512, y2=522, font_size=10\n",
      "Font variation at index 321: x1=74, x2=116, y1=529, y2=539, font_size=10\n",
      "Font variation at index 323: x1=257, x2=271, y1=541, y2=551, font_size=10\n",
      "Font variation at index 326: x1=462, x2=476, y1=541, y2=551, font_size=10\n",
      "Font variation at index 331: x1=471, x2=476, y1=554, y2=564, font_size=10\n",
      "Font variation at index 335: x1=273, x2=278, y1=571, y2=581, font_size=10\n",
      "Font variation at index 336: x1=470, x2=484, y1=571, y2=581, font_size=10\n",
      "Font variation at index 340: x1=257, x2=295, y1=584, y2=594, font_size=10\n",
      "Font variation at index 341: x1=462, x2=500, y1=584, y2=594, font_size=10\n",
      "Font variation at index 370: x1=258, x2=265, y1=710, y2=720, font_size=10\n",
      "Font variation at index 376: x1=114, x2=175, y1=741, y2=751, font_size=10\n",
      "Font variation at index 381: x1=412, x2=444, y1=736, y2=746, font_size=10\n",
      "Font variation at index 385: x1=563, x2=602, y1=734, y2=744, font_size=10\n",
      "Font variation at index 387: x1=248, x2=302, y1=753, y2=763, font_size=10\n",
      "Font variation at index 388: x1=311, x2=325, y1=751, y2=761, font_size=10\n",
      "Font variation at index 389: x1=335, x2=404, y1=753, y2=763, font_size=10\n",
      "Font variation at index 390: x1=414, x2=457, y1=753, y2=763, font_size=10\n",
      "Font variation at index 399: x1=500, x2=530, y1=767, y2=777, font_size=10\n",
      "Font variation at index 400: x1=548, x2=570, y1=767, y2=777, font_size=10\n",
      "Font variation at index 405: x1=163, x2=185, y1=806, y2=816, font_size=10\n",
      "Font variation at index 409: x1=432, x2=470, y1=807, y2=817, font_size=10\n",
      "Font variation at index 184: x1=74, x2=622, y1=52, y2=71, font_size=19\n",
      "Font variation at index 402: x1=75, x2=470, y1=805, y2=824, font_size=19\n",
      "Font variation at index 185: x1=74, x2=151, y1=58, y2=71, font_size=13\n",
      "Font variation at index 189: x1=245, x2=351, y1=54, y2=67, font_size=13\n",
      "Font variation at index 234: x1=57, x2=160, y1=247, y2=260, font_size=13\n",
      "Font variation at index 260: x1=57, x2=58, y1=360, y2=373, font_size=13\n",
      "Font variation at index 261: x1=99, x2=134, y1=360, y2=373, font_size=13\n",
      "Font variation at index 277: x1=225, x2=271, y1=400, y2=413, font_size=13\n",
      "Font variation at index 280: x1=438, x2=462, y1=400, y2=413, font_size=13\n",
      "Font variation at index 285: x1=99, x2=119, y1=416, y2=429, font_size=13\n",
      "Font variation at index 310: x1=143, x2=177, y1=501, y2=514, font_size=13\n",
      "Font variation at index 329: x1=99, x2=208, y1=557, y2=570, font_size=13\n",
      "Font variation at index 332: x1=100, x2=484, y1=571, y2=584, font_size=13\n",
      "Font variation at index 339: x1=219, x2=239, y1=584, y2=597, font_size=13\n",
      "Font variation at index 352: x1=133, x2=167, y1=628, y2=641, font_size=13\n",
      "Font variation at index 369: x1=124, x2=176, y1=714, y2=727, font_size=13\n",
      "Font variation at index 398: x1=428, x2=490, y1=767, y2=780, font_size=13\n",
      "Font variation at index 403: x1=75, x2=144, y1=811, y2=824, font_size=13\n",
      "Font variation at index 418: x1=0, x2=674, y1=864, y2=877, font_size=13\n",
      "Font variation at index 419: x1=0, x2=674, y1=864, y2=877, font_size=13\n",
      "Font variation at index 420: x1=0, x2=674, y1=864, y2=877, font_size=13\n",
      "Font variation at index 421: x1=0, x2=674, y1=864, y2=877, font_size=13\n",
      "Font variation at index 187: x1=181, x2=216, y1=59, y2=71, font_size=12\n",
      "Font variation at index 190: x1=358, x2=414, y1=59, y2=71, font_size=12\n",
      "Font variation at index 226: x1=73, x2=105, y1=219, y2=231, font_size=12\n",
      "Font variation at index 227: x1=73, x2=105, y1=219, y2=231, font_size=12\n",
      "Font variation at index 236: x1=98, x2=160, y1=248, y2=260, font_size=12\n",
      "Font variation at index 241: x1=72, x2=93, y1=289, y2=301, font_size=12\n",
      "Font variation at index 242: x1=97, x2=139, y1=289, y2=301, font_size=12\n",
      "Font variation at index 270: x1=57, x2=58, y1=390, y2=402, font_size=12\n",
      "Font variation at index 288: x1=462, x2=499, y1=411, y2=423, font_size=12\n",
      "Font variation at index 291: x1=140, x2=166, y1=445, y2=457, font_size=12\n",
      "Font variation at index 296: x1=178, x2=204, y1=459, y2=471, font_size=12\n",
      "Font variation at index 298: x1=462, x2=493, y1=457, y2=469, font_size=12\n",
      "Font variation at index 309: x1=99, x2=139, y1=502, y2=514, font_size=12\n",
      "Font variation at index 311: x1=182, x2=209, y1=502, y2=514, font_size=12\n",
      "Font variation at index 316: x1=132, x2=166, y1=516, y2=528, font_size=12\n",
      "Font variation at index 325: x1=101, x2=167, y1=544, y2=556, font_size=12\n",
      "Font variation at index 330: x1=244, x2=271, y1=552, y2=564, font_size=12\n",
      "Font variation at index 333: x1=100, x2=138, y1=572, y2=584, font_size=12\n",
      "Font variation at index 334: x1=143, x2=181, y1=572, y2=584, font_size=12\n",
      "Font variation at index 353: x1=631, x2=645, y1=628, y2=640, font_size=12\n",
      "Font variation at index 365: x1=74, x2=138, y1=687, y2=699, font_size=12\n",
      "Font variation at index 368: x1=74, x2=119, y1=714, y2=726, font_size=12\n",
      "Font variation at index 383: x1=476, x2=531, y1=735, y2=747, font_size=12\n",
      "Font variation at index 386: x1=248, x2=626, y1=751, y2=763, font_size=12\n",
      "Font variation at index 410: x1=369, x2=403, y1=812, y2=824, font_size=12\n",
      "Font variation at index 411: x1=369, x2=403, y1=812, y2=824, font_size=12\n",
      "Font variation at index 412: x1=369, x2=403, y1=812, y2=824, font_size=12\n",
      "Font variation at index 413: x1=369, x2=403, y1=812, y2=824, font_size=12\n",
      "Font variation at index 188: x1=220, x2=236, y1=59, y2=68, font_size=9\n",
      "Font variation at index 200: x1=72, x2=110, y1=105, y2=114, font_size=9\n",
      "Font variation at index 221: x1=141, x2=173, y1=177, y2=186, font_size=9\n",
      "Font variation at index 224: x1=98, x2=121, y1=192, y2=201, font_size=9\n",
      "Font variation at index 232: x1=459, x2=515, y1=230, y2=239, font_size=9\n",
      "Font variation at index 263: x1=257, x2=270, y1=357, y2=366, font_size=9\n",
      "Font variation at index 306: x1=256, x2=287, y1=486, y2=495, font_size=9\n",
      "Font variation at index 307: x1=462, x2=493, y1=486, y2=495, font_size=9\n",
      "Font variation at index 322: x1=121, x2=158, y1=530, y2=539, font_size=9\n",
      "Font variation at index 342: x1=74, x2=103, y1=600, y2=609, font_size=9\n",
      "Font variation at index 343: x1=74, x2=103, y1=600, y2=609, font_size=9\n",
      "Font variation at index 347: x1=257, x2=287, y1=612, y2=621, font_size=9\n",
      "Font variation at index 358: x1=100, x2=157, y1=658, y2=667, font_size=9\n",
      "Font variation at index 371: x1=274, x2=297, y1=711, y2=720, font_size=9\n",
      "Font variation at index 372: x1=464, x2=470, y1=710, y2=719, font_size=9\n",
      "Font variation at index 378: x1=279, x2=316, y1=737, y2=746, font_size=9\n",
      "Font variation at index 380: x1=366, x2=404, y1=737, y2=746, font_size=9\n",
      "Font variation at index 382: x1=452, x2=467, y1=736, y2=745, font_size=9\n",
      "Font variation at index 391: x1=467, x2=489, y1=751, y2=760, font_size=9\n",
      "Font variation at index 392: x1=500, x2=587, y1=751, y2=760, font_size=9\n",
      "Font variation at index 396: x1=310, x2=372, y1=768, y2=777, font_size=9\n",
      "Font variation at index 401: x1=580, x2=601, y1=768, y2=777, font_size=9\n",
      "Font variation at index 406: x1=196, x2=208, y1=806, y2=815, font_size=9\n",
      "Font variation at index 407: x1=219, x2=231, y1=806, y2=815, font_size=9\n",
      "Font variation at index 408: x1=243, x2=296, y1=805, y2=814, font_size=9\n",
      "Font variation at index 191: x1=421, x2=446, y1=39, y2=77, font_size=38\n",
      "Font variation at index 192: x1=449, x2=511, y1=39, y2=77, font_size=38\n",
      "Font variation at index 193: x1=510, x2=622, y1=52, y2=67, font_size=15\n",
      "Font variation at index 240: x1=72, x2=538, y1=286, y2=301, font_size=15\n",
      "Font variation at index 308: x1=99, x2=476, y1=499, y2=514, font_size=15\n",
      "Font variation at index 324: x1=101, x2=476, y1=541, y2=556, font_size=15\n",
      "Font variation at index 194: x1=67, x2=504, y1=79, y2=108, font_size=29\n",
      "Font variation at index 195: x1=67, x2=116, y1=79, y2=108, font_size=29\n",
      "Font variation at index 196: x1=122, x2=146, y1=79, y2=108, font_size=29\n",
      "Font variation at index 299: x1=98, x2=485, y1=461, y2=490, font_size=29\n",
      "Font variation at index 300: x1=98, x2=133, y1=461, y2=490, font_size=29\n",
      "Font variation at index 354: x1=100, x2=646, y1=641, y2=670, font_size=29\n",
      "Font variation at index 203: x1=68, x2=536, y1=113, y2=135, font_size=22\n",
      "Font variation at index 204: x1=68, x2=100, y1=113, y2=135, font_size=22\n",
      "Font variation at index 215: x1=98, x2=276, y1=157, y2=179, font_size=22\n",
      "Font variation at index 216: x1=98, x2=142, y1=157, y2=179, font_size=22\n",
      "Font variation at index 217: x1=147, x2=179, y1=157, y2=179, font_size=22\n",
      "Font variation at index 248: x1=255, x2=311, y1=295, y2=317, font_size=22\n",
      "Font variation at index 250: x1=522, x2=543, y1=294, y2=316, font_size=22\n",
      "Font variation at index 320: x1=74, x2=271, y1=529, y2=551, font_size=22\n",
      "Font variation at index 345: x1=101, x2=128, y1=601, y2=623, font_size=22\n",
      "Font variation at index 366: x1=630, x2=645, y1=689, y2=711, font_size=22\n",
      "Font variation at index 235: x1=57, x2=58, y1=247, y2=255, font_size=8\n",
      "Font variation at index 302: x1=477, x2=485, y1=470, y2=478, font_size=8\n",
      "Font variation at index 361: x1=101, x2=124, y1=672, y2=680, font_size=8\n",
      "Font variation at index 384: x1=540, x2=554, y1=736, y2=744, font_size=8\n",
      "Font variation at index 246: x1=73, x2=540, y1=295, y2=319, font_size=24\n",
      "Font variation at index 264: x1=454, x2=514, y1=343, y2=367, font_size=24\n",
      "Font variation at index 364: x1=74, x2=645, y1=687, y2=711, font_size=24\n",
      "Font variation at index 255: x1=57, x2=62, y1=341, y2=361, font_size=20\n",
      "Font variation at index 271: x1=99, x2=140, y1=376, y2=407, font_size=31\n",
      "Font variation at index 272: x1=148, x2=170, y1=376, y2=407, font_size=31\n",
      "Font variation at index 284: x1=99, x2=499, y1=411, y2=429, font_size=18\n",
      "Font variation at index 327: x1=57, x2=476, y1=552, y2=570, font_size=18\n",
      "Font variation at index 289: x1=100, x2=476, y1=427, y2=461, font_size=34\n",
      "Font variation at index 292: x1=252, x2=270, y1=427, y2=461, font_size=34\n",
      "Font variation at index 346: x1=133, x2=158, y1=597, y2=631, font_size=34\n",
      "Font variation at index 290: x1=100, x2=134, y1=444, y2=458, font_size=14\n",
      "Font variation at index 294: x1=99, x2=493, y1=457, y2=471, font_size=14\n",
      "Font variation at index 350: x1=100, x2=645, y1=627, y2=641, font_size=14\n",
      "Font variation at index 394: x1=246, x2=601, y1=767, y2=781, font_size=14\n",
      "Font variation at index 395: x1=246, x2=301, y1=767, y2=781, font_size=14\n",
      "Font variation at index 303: x1=95, x2=493, y1=476, y2=504, font_size=28\n",
      "Font variation at index 304: x1=95, x2=139, y1=476, y2=504, font_size=28\n",
      "Font variation at index 305: x1=144, x2=183, y1=476, y2=504, font_size=28\n",
      "Font variation at index 355: x1=100, x2=139, y1=642, y2=670, font_size=28\n",
      "Font variation at index 314: x1=100, x2=476, y1=512, y2=528, font_size=16\n",
      "Font variation at index 344: x1=101, x2=645, y1=594, y2=631, font_size=37\n",
      "Font variation at index 349: x1=631, x2=645, y1=605, y2=628, font_size=23\n",
      "Font variation at index 356: x1=631, x2=646, y1=641, y2=664, font_size=23\n",
      "Font variation at index 363: x1=630, x2=645, y1=665, y2=688, font_size=23\n",
      "Font variation at index 360: x1=101, x2=645, y1=654, y2=689, font_size=35\n",
      "Font variation at index 362: x1=129, x2=153, y1=654, y2=689, font_size=35\n",
      "Font variation at index 374: x1=75, x2=602, y1=715, y2=758, font_size=43\n",
      "Font variation at index 375: x1=75, x2=101, y1=715, y2=758, font_size=43\n",
      "Font variation at index 404: x1=134, x2=146, y1=783, y2=828, font_size=45\n",
      "Color variation with label 0\n",
      "Color variation with label 1\n",
      "Color variation with label 2\n",
      "Image: images/training/original\\0000046987.jpg - Fake: original\n",
      "Suspicious areas detected:\n",
      "Suspicious spacing at index 10: x1=313, x2=339, y1=80, y2=88\n",
      "Suspicious spacing at index 14: x1=377, x2=409, y1=81, y2=88\n",
      "Suspicious spacing at index 31: x1=356, x2=374, y1=101, y2=108\n",
      "Suspicious spacing at index 34: x1=133, x2=170, y1=111, y2=126\n",
      "Suspicious spacing at index 48: x1=227, x2=329, y1=119, y2=128\n",
      "Suspicious spacing at index 53: x1=374, x2=399, y1=119, y2=128\n",
      "Suspicious spacing at index 77: x1=112, x2=141, y1=193, y2=201\n",
      "Suspicious spacing at index 81: x1=201, x2=398, y1=139, y2=199\n",
      "Suspicious spacing at index 85: x1=442, x2=469, y1=129, y2=226\n",
      "Suspicious spacing at index 175: x1=209, x2=400, y1=559, y2=561\n",
      "Suspicious spacing at index 179: x1=444, x2=472, y1=581, y2=594\n",
      "Suspicious spacing at index 191: x1=143, x2=397, y1=616, y2=624\n",
      "Suspicious spacing at index 204: x1=70, x2=127, y1=506, y2=752\n",
      "Suspicious spacing at index 213: x1=199, x2=379, y1=529, y2=536\n",
      "Suspicious spacing at index 214: x1=408, x2=426, y1=529, y2=536\n",
      "Suspicious spacing at index 215: x1=467, x2=495, y1=528, y2=536\n",
      "Suspicious spacing at index 218: x1=168, x2=186, y1=540, y2=548\n",
      "Suspicious spacing at index 219: x1=205, x2=400, y1=537, y2=546\n",
      "Suspicious spacing at index 223: x1=179, x2=379, y1=548, y2=556\n",
      "Suspicious spacing at index 227: x1=194, x2=379, y1=571, y2=579\n",
      "Suspicious spacing at index 228: x1=396, x2=430, y1=559, y2=588\n",
      "Suspicious spacing at index 229: x1=467, x2=486, y1=570, y2=578\n",
      "Suspicious spacing at index 230: x1=525, x2=541, y1=571, y2=578\n",
      "Suspicious spacing at index 234: x1=187, x2=363, y1=581, y2=591\n",
      "Suspicious spacing at index 238: x1=219, x2=402, y1=600, y2=607\n",
      "Suspicious spacing at index 241: x1=133, x2=145, y1=616, y2=624\n",
      "Suspicious spacing at index 242: x1=222, x2=380, y1=615, y2=624\n",
      "Suspicious spacing at index 245: x1=274, x2=287, y1=615, y2=646\n",
      "Suspicious spacing at index 255: x1=274, x2=287, y1=641, y2=651\n",
      "Suspicious spacing at index 259: x1=403, x2=630, y1=643, y2=650\n",
      "Suspicious spacing at index 264: x1=206, x2=219, y1=670, y2=680\n",
      "Suspicious spacing at index 265: x1=263, x2=343, y1=669, y2=678\n",
      "Suspicious spacing at index 266: x1=381, x2=400, y1=667, y2=675\n",
      "Suspicious spacing at index 267: x1=439, x2=583, y1=684, y2=695\n",
      "Suspicious spacing at index 275: x1=176, x2=583, y1=730, y2=740\n",
      "Suspicious spacing at index 278: x1=598, x2=628, y1=790, y2=796\n",
      "Font variation at index 0: x1=0, x2=762, y1=0, y2=1000, font_size=1000\n",
      "Font variation at index 1: x1=251, x2=327, y1=79, y2=87, font_size=8\n",
      "Font variation at index 2: x1=251, x2=327, y1=79, y2=87, font_size=8\n",
      "Font variation at index 3: x1=251, x2=327, y1=79, y2=87, font_size=8\n",
      "Font variation at index 4: x1=251, x2=293, y1=79, y2=87, font_size=8\n",
      "Font variation at index 5: x1=298, x2=327, y1=79, y2=87, font_size=8\n",
      "Font variation at index 10: x1=339, x2=450, y1=80, y2=88, font_size=8\n",
      "Font variation at index 11: x1=339, x2=450, y1=80, y2=88, font_size=8\n",
      "Font variation at index 12: x1=339, x2=450, y1=80, y2=88, font_size=8\n",
      "Font variation at index 15: x1=351, x2=362, y1=69, y2=77, font_size=8\n",
      "Font variation at index 16: x1=351, x2=362, y1=69, y2=77, font_size=8\n",
      "Font variation at index 17: x1=351, x2=362, y1=69, y2=77, font_size=8\n",
      "Font variation at index 18: x1=351, x2=362, y1=69, y2=77, font_size=8\n",
      "Font variation at index 29: x1=260, x2=308, y1=102, y2=110, font_size=8\n",
      "Font variation at index 39: x1=170, x2=193, y1=131, y2=139, font_size=8\n",
      "Font variation at index 75: x1=95, x2=194, y1=193, y2=201, font_size=8\n",
      "Font variation at index 76: x1=95, x2=112, y1=193, y2=201, font_size=8\n",
      "Font variation at index 77: x1=141, x2=194, y1=193, y2=201, font_size=8\n",
      "Font variation at index 89: x1=400, x2=457, y1=237, y2=245, font_size=8\n",
      "Font variation at index 90: x1=400, x2=457, y1=237, y2=245, font_size=8\n",
      "Font variation at index 91: x1=400, x2=457, y1=237, y2=245, font_size=8\n",
      "Font variation at index 93: x1=447, x2=457, y1=237, y2=245, font_size=8\n",
      "Font variation at index 113: x1=127, x2=176, y1=317, y2=325, font_size=8\n",
      "Font variation at index 115: x1=159, x2=176, y1=317, y2=325, font_size=8\n",
      "Font variation at index 119: x1=141, x2=172, y1=339, y2=347, font_size=8\n",
      "Font variation at index 120: x1=177, x2=201, y1=338, y2=346, font_size=8\n",
      "Font variation at index 121: x1=141, x2=241, y1=349, y2=357, font_size=8\n",
      "Font variation at index 123: x1=217, x2=241, y1=349, y2=357, font_size=8\n",
      "Font variation at index 127: x1=217, x2=229, y1=360, y2=368, font_size=8\n",
      "Font variation at index 135: x1=178, x2=201, y1=395, y2=403, font_size=8\n",
      "Font variation at index 140: x1=143, x2=173, y1=418, y2=426, font_size=8\n",
      "Font variation at index 144: x1=175, x2=221, y1=428, y2=436, font_size=8\n",
      "Font variation at index 146: x1=142, x2=177, y1=440, y2=448, font_size=8\n",
      "Font variation at index 152: x1=210, x2=234, y1=450, y2=458, font_size=8\n",
      "Font variation at index 159: x1=178, x2=203, y1=472, y2=480, font_size=8\n",
      "Font variation at index 165: x1=142, x2=178, y1=495, y2=503, font_size=8\n",
      "Font variation at index 187: x1=140, x2=419, y1=616, y2=624, font_size=8\n",
      "Font variation at index 188: x1=140, x2=419, y1=616, y2=624, font_size=8\n",
      "Font variation at index 189: x1=140, x2=419, y1=616, y2=624, font_size=8\n",
      "Font variation at index 191: x1=397, x2=419, y1=616, y2=624, font_size=8\n",
      "Font variation at index 206: x1=143, x2=171, y1=506, y2=514, font_size=8\n",
      "Font variation at index 207: x1=143, x2=171, y1=506, y2=514, font_size=8\n",
      "Font variation at index 208: x1=128, x2=176, y1=518, y2=526, font_size=8\n",
      "Font variation at index 209: x1=128, x2=176, y1=518, y2=526, font_size=8\n",
      "Font variation at index 215: x1=495, x2=547, y1=528, y2=536, font_size=8\n",
      "Font variation at index 218: x1=186, x2=205, y1=540, y2=548, font_size=8\n",
      "Font variation at index 223: x1=379, x2=548, y1=548, y2=556, font_size=8\n",
      "Font variation at index 227: x1=379, x2=396, y1=571, y2=579, font_size=8\n",
      "Font variation at index 229: x1=486, x2=525, y1=570, y2=578, font_size=8\n",
      "Font variation at index 241: x1=145, x2=222, y1=616, y2=624, font_size=8\n",
      "Font variation at index 266: x1=400, x2=439, y1=667, y2=675, font_size=8\n",
      "Font variation at index 6: x1=301, x2=313, y1=68, y2=78, font_size=10\n",
      "Font variation at index 7: x1=301, x2=313, y1=68, y2=78, font_size=10\n",
      "Font variation at index 8: x1=301, x2=313, y1=68, y2=78, font_size=10\n",
      "Font variation at index 9: x1=301, x2=313, y1=68, y2=78, font_size=10\n",
      "Font variation at index 28: x1=188, x2=252, y1=98, y2=108, font_size=10\n",
      "Font variation at index 124: x1=142, x2=229, y1=360, y2=370, font_size=10\n",
      "Font variation at index 157: x1=143, x2=203, y1=472, y2=482, font_size=10\n",
      "Font variation at index 160: x1=142, x2=242, y1=483, y2=493, font_size=10\n",
      "Font variation at index 221: x1=143, x2=548, y1=548, y2=558, font_size=10\n",
      "Font variation at index 231: x1=128, x2=445, y1=581, y2=591, font_size=10\n",
      "Font variation at index 234: x1=363, x2=445, y1=581, y2=591, font_size=10\n",
      "Font variation at index 244: x1=263, x2=274, y1=629, y2=639, font_size=10\n",
      "Font variation at index 253: x1=265, x2=661, y1=641, y2=651, font_size=10\n",
      "Font variation at index 254: x1=265, x2=274, y1=641, y2=651, font_size=10\n",
      "Font variation at index 255: x1=287, x2=309, y1=641, y2=651, font_size=10\n",
      "Font variation at index 256: x1=315, x2=344, y1=641, y2=651, font_size=10\n",
      "Font variation at index 264: x1=219, x2=263, y1=670, y2=680, font_size=10\n",
      "Font variation at index 275: x1=583, x2=597, y1=730, y2=740, font_size=10\n",
      "Font variation at index 276: x1=583, x2=598, y1=742, y2=752, font_size=10\n",
      "Font variation at index 277: x1=583, x2=598, y1=742, y2=752, font_size=10\n",
      "Font variation at index 282: x1=0, x2=661, y1=862, y2=872, font_size=10\n",
      "Font variation at index 283: x1=0, x2=661, y1=862, y2=872, font_size=10\n",
      "Font variation at index 284: x1=0, x2=661, y1=862, y2=872, font_size=10\n",
      "Font variation at index 285: x1=0, x2=661, y1=862, y2=872, font_size=10\n",
      "Font variation at index 13: x1=339, x2=377, y1=80, y2=87, font_size=7\n",
      "Font variation at index 14: x1=409, x2=450, y1=81, y2=88, font_size=7\n",
      "Font variation at index 19: x1=329, x2=334, y1=80, y2=87, font_size=7\n",
      "Font variation at index 20: x1=329, x2=334, y1=80, y2=87, font_size=7\n",
      "Font variation at index 21: x1=329, x2=334, y1=80, y2=87, font_size=7\n",
      "Font variation at index 22: x1=329, x2=334, y1=80, y2=87, font_size=7\n",
      "Font variation at index 27: x1=170, x2=181, y1=99, y2=106, font_size=7\n",
      "Font variation at index 31: x1=374, x2=438, y1=101, y2=108, font_size=7\n",
      "Font variation at index 33: x1=127, x2=133, y1=120, y2=127, font_size=7\n",
      "Font variation at index 40: x1=165, x2=514, y1=107, y2=114, font_size=7\n",
      "Font variation at index 41: x1=165, x2=514, y1=107, y2=114, font_size=7\n",
      "Font variation at index 42: x1=165, x2=514, y1=107, y2=114, font_size=7\n",
      "Font variation at index 43: x1=165, x2=514, y1=107, y2=114, font_size=7\n",
      "Font variation at index 52: x1=351, x2=374, y1=119, y2=126, font_size=7\n",
      "Font variation at index 54: x1=421, x2=445, y1=119, y2=126, font_size=7\n",
      "Font variation at index 72: x1=141, x2=210, y1=182, y2=189, font_size=7\n",
      "Font variation at index 74: x1=182, x2=210, y1=182, y2=189, font_size=7\n",
      "Font variation at index 78: x1=141, x2=201, y1=204, y2=211, font_size=7\n",
      "Font variation at index 79: x1=141, x2=169, y1=204, y2=211, font_size=7\n",
      "Font variation at index 80: x1=174, x2=201, y1=204, y2=211, font_size=7\n",
      "Font variation at index 92: x1=400, x2=440, y1=238, y2=245, font_size=7\n",
      "Font variation at index 103: x1=127, x2=158, y1=288, y2=295, font_size=7\n",
      "Font variation at index 104: x1=127, x2=158, y1=288, y2=295, font_size=7\n",
      "Font variation at index 105: x1=127, x2=158, y1=288, y2=295, font_size=7\n",
      "Font variation at index 106: x1=127, x2=158, y1=288, y2=295, font_size=7\n",
      "Font variation at index 114: x1=127, x2=154, y1=317, y2=324, font_size=7\n",
      "Font variation at index 116: x1=141, x2=181, y1=328, y2=335, font_size=7\n",
      "Font variation at index 117: x1=141, x2=181, y1=328, y2=335, font_size=7\n",
      "Font variation at index 125: x1=142, x2=185, y1=361, y2=368, font_size=7\n",
      "Font variation at index 128: x1=141, x2=180, y1=372, y2=379, font_size=7\n",
      "Font variation at index 129: x1=141, x2=180, y1=372, y2=379, font_size=7\n",
      "Font variation at index 136: x1=142, x2=241, y1=406, y2=413, font_size=7\n",
      "Font variation at index 138: x1=217, x2=241, y1=406, y2=413, font_size=7\n",
      "Font variation at index 148: x1=218, x2=241, y1=439, y2=446, font_size=7\n",
      "Font variation at index 150: x1=142, x2=170, y1=450, y2=457, font_size=7\n",
      "Font variation at index 154: x1=128, x2=204, y1=462, y2=469, font_size=7\n",
      "Font variation at index 155: x1=128, x2=167, y1=462, y2=469, font_size=7\n",
      "Font variation at index 156: x1=171, x2=204, y1=462, y2=469, font_size=7\n",
      "Font variation at index 161: x1=142, x2=181, y1=484, y2=491, font_size=7\n",
      "Font variation at index 213: x1=379, x2=408, y1=529, y2=536, font_size=7\n",
      "Font variation at index 214: x1=426, x2=467, y1=529, y2=536, font_size=7\n",
      "Font variation at index 222: x1=143, x2=179, y1=551, y2=558, font_size=7\n",
      "Font variation at index 230: x1=541, x2=548, y1=571, y2=578, font_size=7\n",
      "Font variation at index 232: x1=128, x2=159, y1=583, y2=590, font_size=7\n",
      "Font variation at index 233: x1=166, x2=187, y1=583, y2=590, font_size=7\n",
      "Font variation at index 238: x1=402, x2=419, y1=600, y2=607, font_size=7\n",
      "Font variation at index 240: x1=128, x2=133, y1=617, y2=624, font_size=7\n",
      "Font variation at index 246: x1=315, x2=337, y1=629, y2=636, font_size=7\n",
      "Font variation at index 251: x1=443, x2=465, y1=628, y2=635, font_size=7\n",
      "Font variation at index 259: x1=630, x2=661, y1=643, y2=650, font_size=7\n",
      "Font variation at index 263: x1=200, x2=206, y1=670, y2=677, font_size=7\n",
      "Font variation at index 23: x1=127, x2=438, y1=98, y2=127, font_size=29\n",
      "Font variation at index 24: x1=127, x2=438, y1=98, y2=127, font_size=29\n",
      "Font variation at index 70: x1=95, x2=210, y1=182, y2=211, font_size=29\n",
      "Font variation at index 71: x1=95, x2=210, y1=182, y2=211, font_size=29\n",
      "Font variation at index 224: x1=143, x2=548, y1=560, y2=589, font_size=29\n",
      "Font variation at index 226: x1=172, x2=194, y1=560, y2=589, font_size=29\n",
      "Font variation at index 228: x1=430, x2=467, y1=559, y2=588, font_size=29\n",
      "Font variation at index 25: x1=127, x2=438, y1=98, y2=110, font_size=12\n",
      "Font variation at index 26: x1=127, x2=161, y1=101, y2=110, font_size=9\n",
      "Font variation at index 30: x1=316, x2=356, y1=100, y2=109, font_size=9\n",
      "Font variation at index 44: x1=217, x2=227, y1=111, y2=120, font_size=9\n",
      "Font variation at index 45: x1=217, x2=227, y1=111, y2=120, font_size=9\n",
      "Font variation at index 46: x1=217, x2=227, y1=111, y2=120, font_size=9\n",
      "Font variation at index 47: x1=217, x2=227, y1=111, y2=120, font_size=9\n",
      "Font variation at index 48: x1=329, x2=445, y1=119, y2=128, font_size=9\n",
      "Font variation at index 49: x1=329, x2=445, y1=119, y2=128, font_size=9\n",
      "Font variation at index 50: x1=329, x2=445, y1=119, y2=128, font_size=9\n",
      "Font variation at index 51: x1=329, x2=344, y1=119, y2=128, font_size=9\n",
      "Font variation at index 53: x1=399, x2=415, y1=119, y2=128, font_size=9\n",
      "Font variation at index 101: x1=126, x2=144, y1=270, y2=279, font_size=9\n",
      "Font variation at index 118: x1=141, x2=201, y1=338, y2=347, font_size=9\n",
      "Font variation at index 126: x1=190, x2=212, y1=361, y2=370, font_size=9\n",
      "Font variation at index 131: x1=127, x2=171, y1=384, y2=393, font_size=9\n",
      "Font variation at index 132: x1=127, x2=171, y1=384, y2=393, font_size=9\n",
      "Font variation at index 133: x1=142, x2=201, y1=395, y2=404, font_size=9\n",
      "Font variation at index 134: x1=142, x2=173, y1=395, y2=404, font_size=9\n",
      "Font variation at index 139: x1=143, x2=199, y1=417, y2=426, font_size=9\n",
      "Font variation at index 141: x1=178, x2=199, y1=417, y2=426, font_size=9\n",
      "Font variation at index 142: x1=142, x2=221, y1=428, y2=437, font_size=9\n",
      "Font variation at index 143: x1=142, x2=166, y1=428, y2=437, font_size=9\n",
      "Font variation at index 145: x1=142, x2=241, y1=439, y2=448, font_size=9\n",
      "Font variation at index 147: x1=182, x2=213, y1=439, y2=448, font_size=9\n",
      "Font variation at index 149: x1=142, x2=234, y1=450, y2=459, font_size=9\n",
      "Font variation at index 151: x1=174, x2=206, y1=450, y2=459, font_size=9\n",
      "Font variation at index 158: x1=143, x2=173, y1=473, y2=482, font_size=9\n",
      "Font variation at index 162: x1=185, x2=217, y1=484, y2=493, font_size=9\n",
      "Font variation at index 163: x1=221, x2=242, y1=483, y2=492, font_size=9\n",
      "Font variation at index 164: x1=142, x2=219, y1=494, y2=503, font_size=9\n",
      "Font variation at index 166: x1=182, x2=219, y1=494, y2=503, font_size=9\n",
      "Font variation at index 219: x1=400, x2=404, y1=537, y2=546, font_size=9\n",
      "Font variation at index 220: x1=408, x2=516, y1=537, y2=546, font_size=9\n",
      "Font variation at index 237: x1=171, x2=219, y1=600, y2=609, font_size=9\n",
      "Font variation at index 239: x1=128, x2=437, y1=615, y2=624, font_size=9\n",
      "Font variation at index 242: x1=380, x2=437, y1=615, y2=624, font_size=9\n",
      "Font variation at index 257: x1=351, x2=373, y1=641, y2=650, font_size=9\n",
      "Font variation at index 258: x1=381, x2=403, y1=641, y2=650, font_size=9\n",
      "Font variation at index 261: x1=129, x2=176, y1=670, y2=679, font_size=9\n",
      "Font variation at index 262: x1=181, x2=194, y1=670, y2=679, font_size=9\n",
      "Font variation at index 265: x1=343, x2=381, y1=669, y2=678, font_size=9\n",
      "Font variation at index 32: x1=127, x2=198, y1=111, y2=127, font_size=16\n",
      "Font variation at index 235: x1=127, x2=419, y1=593, y2=609, font_size=16\n",
      "Font variation at index 236: x1=127, x2=166, y1=593, y2=609, font_size=16\n",
      "Font variation at index 34: x1=170, x2=198, y1=111, y2=126, font_size=15\n",
      "Font variation at index 225: x1=143, x2=165, y1=564, y2=579, font_size=15\n",
      "Font variation at index 35: x1=126, x2=193, y1=131, y2=145, font_size=14\n",
      "Font variation at index 36: x1=126, x2=193, y1=131, y2=145, font_size=14\n",
      "Font variation at index 37: x1=126, x2=193, y1=131, y2=145, font_size=14\n",
      "Font variation at index 38: x1=126, x2=163, y1=132, y2=145, font_size=13\n",
      "Font variation at index 55: x1=398, x2=441, y1=125, y2=138, font_size=13\n",
      "Font variation at index 56: x1=398, x2=441, y1=125, y2=138, font_size=13\n",
      "Font variation at index 57: x1=398, x2=441, y1=125, y2=138, font_size=13\n",
      "Font variation at index 179: x1=472, x2=517, y1=581, y2=594, font_size=13\n",
      "Font variation at index 180: x1=472, x2=517, y1=581, y2=594, font_size=13\n",
      "Font variation at index 181: x1=472, x2=517, y1=581, y2=594, font_size=13\n",
      "Font variation at index 182: x1=472, x2=517, y1=581, y2=594, font_size=13\n",
      "Font variation at index 260: x1=129, x2=439, y1=667, y2=680, font_size=13\n",
      "Font variation at index 58: x1=394, x2=417, y1=112, y2=142, font_size=30\n",
      "Font variation at index 59: x1=421, x2=444, y1=112, y2=142, font_size=30\n",
      "Font variation at index 60: x1=251, x2=520, y1=129, y2=624, font_size=495\n",
      "Font variation at index 61: x1=251, x2=520, y1=129, y2=624, font_size=495\n",
      "Font variation at index 62: x1=251, x2=520, y1=129, y2=523, font_size=394\n",
      "Font variation at index 63: x1=251, x2=520, y1=129, y2=523, font_size=394\n",
      "Font variation at index 64: x1=257, x2=373, y1=523, y2=624, font_size=101\n",
      "Font variation at index 65: x1=257, x2=373, y1=523, y2=624, font_size=101\n",
      "Font variation at index 66: x1=140, x2=319, y1=116, y2=180, font_size=64\n",
      "Font variation at index 67: x1=140, x2=319, y1=116, y2=180, font_size=64\n",
      "Font variation at index 68: x1=140, x2=319, y1=116, y2=180, font_size=64\n",
      "Font variation at index 69: x1=140, x2=319, y1=116, y2=180, font_size=64\n",
      "Font variation at index 73: x1=141, x2=179, y1=183, y2=189, font_size=6\n",
      "Font variation at index 122: x1=141, x2=212, y1=350, y2=356, font_size=6\n",
      "Font variation at index 137: x1=142, x2=212, y1=407, y2=413, font_size=6\n",
      "Font variation at index 171: x1=172, x2=209, y1=430, y2=436, font_size=6\n",
      "Font variation at index 172: x1=172, x2=209, y1=430, y2=436, font_size=6\n",
      "Font variation at index 173: x1=172, x2=209, y1=430, y2=436, font_size=6\n",
      "Font variation at index 174: x1=172, x2=209, y1=430, y2=436, font_size=6\n",
      "Font variation at index 196: x1=195, x2=517, y1=675, y2=681, font_size=6\n",
      "Font variation at index 197: x1=195, x2=517, y1=675, y2=681, font_size=6\n",
      "Font variation at index 198: x1=195, x2=517, y1=675, y2=681, font_size=6\n",
      "Font variation at index 199: x1=195, x2=517, y1=675, y2=681, font_size=6\n",
      "Font variation at index 217: x1=143, x2=168, y1=540, y2=546, font_size=6\n",
      "Font variation at index 248: x1=367, x2=396, y1=629, y2=635, font_size=6\n",
      "Font variation at index 249: x1=403, x2=425, y1=629, y2=635, font_size=6\n",
      "Font variation at index 278: x1=628, x2=657, y1=790, y2=796, font_size=6\n",
      "Font variation at index 279: x1=628, x2=657, y1=790, y2=796, font_size=6\n",
      "Font variation at index 280: x1=628, x2=657, y1=790, y2=796, font_size=6\n",
      "Font variation at index 281: x1=628, x2=657, y1=790, y2=796, font_size=6\n",
      "Font variation at index 81: x1=398, x2=442, y1=139, y2=199, font_size=60\n",
      "Font variation at index 82: x1=398, x2=442, y1=139, y2=199, font_size=60\n",
      "Font variation at index 83: x1=398, x2=442, y1=139, y2=199, font_size=60\n",
      "Font variation at index 84: x1=398, x2=442, y1=139, y2=199, font_size=60\n",
      "Font variation at index 85: x1=469, x2=514, y1=129, y2=226, font_size=97\n",
      "Font variation at index 86: x1=469, x2=514, y1=129, y2=226, font_size=97\n",
      "Font variation at index 87: x1=469, x2=514, y1=129, y2=226, font_size=97\n",
      "Font variation at index 88: x1=469, x2=514, y1=129, y2=226, font_size=97\n",
      "Font variation at index 94: x1=123, x2=200, y1=216, y2=260, font_size=44\n",
      "Font variation at index 95: x1=123, x2=200, y1=216, y2=260, font_size=44\n",
      "Font variation at index 96: x1=123, x2=200, y1=216, y2=260, font_size=44\n",
      "Font variation at index 97: x1=123, x2=200, y1=216, y2=260, font_size=44\n",
      "Font variation at index 98: x1=126, x2=195, y1=268, y2=279, font_size=11\n",
      "Font variation at index 99: x1=126, x2=195, y1=268, y2=279, font_size=11\n",
      "Font variation at index 100: x1=126, x2=195, y1=268, y2=279, font_size=11\n",
      "Font variation at index 102: x1=150, x2=195, y1=268, y2=279, font_size=11\n",
      "Font variation at index 107: x1=141, x2=514, y1=302, y2=313, font_size=11\n",
      "Font variation at index 108: x1=141, x2=514, y1=302, y2=313, font_size=11\n",
      "Font variation at index 109: x1=141, x2=514, y1=302, y2=313, font_size=11\n",
      "Font variation at index 110: x1=141, x2=514, y1=302, y2=313, font_size=11\n",
      "Font variation at index 216: x1=143, x2=516, y1=537, y2=548, font_size=11\n",
      "Font variation at index 243: x1=263, x2=495, y1=628, y2=639, font_size=11\n",
      "Font variation at index 252: x1=473, x2=495, y1=628, y2=639, font_size=11\n",
      "Font variation at index 267: x1=583, x2=596, y1=684, y2=695, font_size=11\n",
      "Font variation at index 268: x1=583, x2=596, y1=684, y2=695, font_size=11\n",
      "Font variation at index 270: x1=583, x2=596, y1=696, y2=707, font_size=11\n",
      "Font variation at index 273: x1=174, x2=597, y1=729, y2=740, font_size=11\n",
      "Font variation at index 111: x1=127, x2=242, y1=317, y2=503, font_size=186\n",
      "Font variation at index 112: x1=127, x2=241, y1=317, y2=379, font_size=62\n",
      "Font variation at index 130: x1=127, x2=241, y1=384, y2=459, font_size=75\n",
      "Font variation at index 153: x1=128, x2=242, y1=462, y2=503, font_size=41\n",
      "Font variation at index 167: x1=163, x2=166, y1=386, y2=391, font_size=5\n",
      "Font variation at index 168: x1=163, x2=166, y1=386, y2=391, font_size=5\n",
      "Font variation at index 169: x1=163, x2=166, y1=386, y2=391, font_size=5\n",
      "Font variation at index 170: x1=163, x2=166, y1=386, y2=391, font_size=5\n",
      "Font variation at index 190: x1=140, x2=143, y1=619, y2=624, font_size=5\n",
      "Font variation at index 175: x1=400, x2=444, y1=559, y2=561, font_size=2\n",
      "Font variation at index 176: x1=400, x2=444, y1=559, y2=561, font_size=2\n",
      "Font variation at index 177: x1=400, x2=444, y1=559, y2=561, font_size=2\n",
      "Font variation at index 178: x1=400, x2=444, y1=559, y2=561, font_size=2\n",
      "Font variation at index 183: x1=474, x2=516, y1=609, y2=611, font_size=2\n",
      "Font variation at index 184: x1=474, x2=516, y1=609, y2=611, font_size=2\n",
      "Font variation at index 185: x1=474, x2=516, y1=609, y2=611, font_size=2\n",
      "Font variation at index 186: x1=474, x2=516, y1=609, y2=611, font_size=2\n",
      "Font variation at index 192: x1=257, x2=517, y1=658, y2=661, font_size=3\n",
      "Font variation at index 193: x1=257, x2=517, y1=658, y2=661, font_size=3\n",
      "Font variation at index 194: x1=257, x2=517, y1=658, y2=661, font_size=3\n",
      "Font variation at index 195: x1=257, x2=517, y1=658, y2=661, font_size=3\n",
      "Font variation at index 200: x1=6, x2=70, y1=29, y2=729, font_size=700\n",
      "Font variation at index 201: x1=6, x2=70, y1=29, y2=729, font_size=700\n",
      "Font variation at index 202: x1=6, x2=70, y1=29, y2=729, font_size=700\n",
      "Font variation at index 203: x1=6, x2=70, y1=29, y2=729, font_size=700\n",
      "Font variation at index 204: x1=127, x2=661, y1=506, y2=752, font_size=246\n",
      "Font variation at index 205: x1=127, x2=661, y1=506, y2=752, font_size=246\n",
      "Font variation at index 210: x1=139, x2=547, y1=516, y2=547, font_size=31\n",
      "Font variation at index 211: x1=139, x2=168, y1=516, y2=547, font_size=31\n",
      "Font variation at index 212: x1=175, x2=199, y1=516, y2=547, font_size=31\n",
      "Font variation at index 245: x1=287, x2=309, y1=615, y2=646, font_size=31\n",
      "Font variation at index 247: x1=346, x2=363, y1=615, y2=646, font_size=31\n",
      "Font variation at index 250: x1=434, x2=438, y1=615, y2=646, font_size=31\n",
      "Font variation at index 269: x1=583, x2=654, y1=696, y2=713, font_size=17\n",
      "Font variation at index 271: x1=583, x2=659, y1=707, y2=729, font_size=22\n",
      "Font variation at index 272: x1=583, x2=659, y1=707, y2=729, font_size=22\n",
      "Font variation at index 274: x1=174, x2=176, y1=729, y2=733, font_size=4\n",
      "Color variation with label 0\n",
      "Color variation with label 1\n",
      "Color variation with label 2\n"
     ]
    },
    {
     "ename": "KeyboardInterrupt",
     "evalue": "",
     "output_type": "error",
     "traceback": [
      "\u001b[1;31m---------------------------------------------------------------------------\u001b[0m",
      "\u001b[1;31mKeyboardInterrupt\u001b[0m                         Traceback (most recent call last)",
      "Cell \u001b[1;32mIn[32], line 15\u001b[0m\n\u001b[0;32m     13\u001b[0m save_path \u001b[38;5;241m=\u001b[39m os\u001b[38;5;241m.\u001b[39mpath\u001b[38;5;241m.\u001b[39mjoin(highlighted_path, os\u001b[38;5;241m.\u001b[39mpath\u001b[38;5;241m.\u001b[39mbasename(image_path))\n\u001b[0;32m     14\u001b[0m \u001b[38;5;28;01mtry\u001b[39;00m:\n\u001b[1;32m---> 15\u001b[0m         anomaly_score, marked_image, suspicious_list \u001b[38;5;241m=\u001b[39m \u001b[43mdetect_anomalies\u001b[49m\u001b[43m(\u001b[49m\u001b[43mimage_path\u001b[49m\u001b[43m,\u001b[49m\u001b[43m \u001b[49m\u001b[43msave_path\u001b[49m\u001b[43m)\u001b[49m\n\u001b[0;32m     16\u001b[0m         \u001b[38;5;28;01mif\u001b[39;00m marked_image \u001b[38;5;129;01mis\u001b[39;00m \u001b[38;5;129;01mnot\u001b[39;00m \u001b[38;5;28;01mNone\u001b[39;00m:\n\u001b[0;32m     17\u001b[0m             marked_image_paths\u001b[38;5;241m.\u001b[39mappend(save_path)\n",
      "Cell \u001b[1;32mIn[30], line 75\u001b[0m, in \u001b[0;36mdetect_anomalies\u001b[1;34m(image_path, save_path)\u001b[0m\n\u001b[0;32m     72\u001b[0m img \u001b[38;5;241m=\u001b[39m cv2\u001b[38;5;241m.\u001b[39mimread(image_path)\n\u001b[0;32m     73\u001b[0m gray \u001b[38;5;241m=\u001b[39m cv2\u001b[38;5;241m.\u001b[39mcvtColor(img, cv2\u001b[38;5;241m.\u001b[39mCOLOR_BGR2GRAY)\n\u001b[1;32m---> 75\u001b[0m text_data \u001b[38;5;241m=\u001b[39m \u001b[43mpytesseract\u001b[49m\u001b[38;5;241;43m.\u001b[39;49m\u001b[43mimage_to_data\u001b[49m\u001b[43m(\u001b[49m\u001b[43mgray\u001b[49m\u001b[43m,\u001b[49m\u001b[43m \u001b[49m\u001b[43moutput_type\u001b[49m\u001b[38;5;241;43m=\u001b[39;49m\u001b[43mpytesseract\u001b[49m\u001b[38;5;241;43m.\u001b[39;49m\u001b[43mOutput\u001b[49m\u001b[38;5;241;43m.\u001b[39;49m\u001b[43mDICT\u001b[49m\u001b[43m)\u001b[49m\n\u001b[0;32m     77\u001b[0m suspicious_spacing \u001b[38;5;241m=\u001b[39m detect_text_spacing(text_data)\n\u001b[0;32m     79\u001b[0m font_variation \u001b[38;5;241m=\u001b[39m detect_font_variation(text_data)\n",
      "File \u001b[1;32md:\\document-tampering-detection-main\\venv\\Lib\\site-packages\\pytesseract\\pytesseract.py:527\u001b[0m, in \u001b[0;36mimage_to_data\u001b[1;34m(image, lang, config, nice, output_type, timeout, pandas_config)\u001b[0m\n\u001b[0;32m    524\u001b[0m config \u001b[38;5;241m=\u001b[39m \u001b[38;5;124mf\u001b[39m\u001b[38;5;124m'\u001b[39m\u001b[38;5;124m-c tessedit_create_tsv=1 \u001b[39m\u001b[38;5;132;01m{\u001b[39;00mconfig\u001b[38;5;241m.\u001b[39mstrip()\u001b[38;5;132;01m}\u001b[39;00m\u001b[38;5;124m'\u001b[39m\n\u001b[0;32m    525\u001b[0m args \u001b[38;5;241m=\u001b[39m [image, \u001b[38;5;124m'\u001b[39m\u001b[38;5;124mtsv\u001b[39m\u001b[38;5;124m'\u001b[39m, lang, config, nice, timeout]\n\u001b[1;32m--> 527\u001b[0m \u001b[38;5;28;01mreturn\u001b[39;00m \u001b[43m{\u001b[49m\n\u001b[0;32m    528\u001b[0m \u001b[43m    \u001b[49m\u001b[43mOutput\u001b[49m\u001b[38;5;241;43m.\u001b[39;49m\u001b[43mBYTES\u001b[49m\u001b[43m:\u001b[49m\u001b[43m \u001b[49m\u001b[38;5;28;43;01mlambda\u001b[39;49;00m\u001b[43m:\u001b[49m\u001b[43m \u001b[49m\u001b[43mrun_and_get_output\u001b[49m\u001b[43m(\u001b[49m\u001b[38;5;241;43m*\u001b[39;49m\u001b[43m(\u001b[49m\u001b[43margs\u001b[49m\u001b[43m \u001b[49m\u001b[38;5;241;43m+\u001b[39;49m\u001b[43m \u001b[49m\u001b[43m[\u001b[49m\u001b[38;5;28;43;01mTrue\u001b[39;49;00m\u001b[43m]\u001b[49m\u001b[43m)\u001b[49m\u001b[43m)\u001b[49m\u001b[43m,\u001b[49m\n\u001b[0;32m    529\u001b[0m \u001b[43m    \u001b[49m\u001b[43mOutput\u001b[49m\u001b[38;5;241;43m.\u001b[39;49m\u001b[43mDATAFRAME\u001b[49m\u001b[43m:\u001b[49m\u001b[43m \u001b[49m\u001b[38;5;28;43;01mlambda\u001b[39;49;00m\u001b[43m:\u001b[49m\u001b[43m \u001b[49m\u001b[43mget_pandas_output\u001b[49m\u001b[43m(\u001b[49m\n\u001b[0;32m    530\u001b[0m \u001b[43m        \u001b[49m\u001b[43margs\u001b[49m\u001b[43m \u001b[49m\u001b[38;5;241;43m+\u001b[39;49m\u001b[43m \u001b[49m\u001b[43m[\u001b[49m\u001b[38;5;28;43;01mTrue\u001b[39;49;00m\u001b[43m]\u001b[49m\u001b[43m,\u001b[49m\n\u001b[0;32m    531\u001b[0m \u001b[43m        \u001b[49m\u001b[43mpandas_config\u001b[49m\u001b[43m,\u001b[49m\n\u001b[0;32m    532\u001b[0m \u001b[43m    \u001b[49m\u001b[43m)\u001b[49m\u001b[43m,\u001b[49m\n\u001b[0;32m    533\u001b[0m \u001b[43m    \u001b[49m\u001b[43mOutput\u001b[49m\u001b[38;5;241;43m.\u001b[39;49m\u001b[43mDICT\u001b[49m\u001b[43m:\u001b[49m\u001b[43m \u001b[49m\u001b[38;5;28;43;01mlambda\u001b[39;49;00m\u001b[43m:\u001b[49m\u001b[43m \u001b[49m\u001b[43mfile_to_dict\u001b[49m\u001b[43m(\u001b[49m\u001b[43mrun_and_get_output\u001b[49m\u001b[43m(\u001b[49m\u001b[38;5;241;43m*\u001b[39;49m\u001b[43margs\u001b[49m\u001b[43m)\u001b[49m\u001b[43m,\u001b[49m\u001b[43m \u001b[49m\u001b[38;5;124;43m'\u001b[39;49m\u001b[38;5;130;43;01m\\t\u001b[39;49;00m\u001b[38;5;124;43m'\u001b[39;49m\u001b[43m,\u001b[49m\u001b[43m \u001b[49m\u001b[38;5;241;43m-\u001b[39;49m\u001b[38;5;241;43m1\u001b[39;49m\u001b[43m)\u001b[49m\u001b[43m,\u001b[49m\n\u001b[0;32m    534\u001b[0m \u001b[43m    \u001b[49m\u001b[43mOutput\u001b[49m\u001b[38;5;241;43m.\u001b[39;49m\u001b[43mSTRING\u001b[49m\u001b[43m:\u001b[49m\u001b[43m \u001b[49m\u001b[38;5;28;43;01mlambda\u001b[39;49;00m\u001b[43m:\u001b[49m\u001b[43m \u001b[49m\u001b[43mrun_and_get_output\u001b[49m\u001b[43m(\u001b[49m\u001b[38;5;241;43m*\u001b[39;49m\u001b[43margs\u001b[49m\u001b[43m)\u001b[49m\u001b[43m,\u001b[49m\n\u001b[0;32m    535\u001b[0m \u001b[43m\u001b[49m\u001b[43m}\u001b[49m\u001b[43m[\u001b[49m\u001b[43moutput_type\u001b[49m\u001b[43m]\u001b[49m\u001b[43m(\u001b[49m\u001b[43m)\u001b[49m\n",
      "File \u001b[1;32md:\\document-tampering-detection-main\\venv\\Lib\\site-packages\\pytesseract\\pytesseract.py:533\u001b[0m, in \u001b[0;36mimage_to_data.<locals>.<lambda>\u001b[1;34m()\u001b[0m\n\u001b[0;32m    524\u001b[0m config \u001b[38;5;241m=\u001b[39m \u001b[38;5;124mf\u001b[39m\u001b[38;5;124m'\u001b[39m\u001b[38;5;124m-c tessedit_create_tsv=1 \u001b[39m\u001b[38;5;132;01m{\u001b[39;00mconfig\u001b[38;5;241m.\u001b[39mstrip()\u001b[38;5;132;01m}\u001b[39;00m\u001b[38;5;124m'\u001b[39m\n\u001b[0;32m    525\u001b[0m args \u001b[38;5;241m=\u001b[39m [image, \u001b[38;5;124m'\u001b[39m\u001b[38;5;124mtsv\u001b[39m\u001b[38;5;124m'\u001b[39m, lang, config, nice, timeout]\n\u001b[0;32m    527\u001b[0m \u001b[38;5;28;01mreturn\u001b[39;00m {\n\u001b[0;32m    528\u001b[0m     Output\u001b[38;5;241m.\u001b[39mBYTES: \u001b[38;5;28;01mlambda\u001b[39;00m: run_and_get_output(\u001b[38;5;241m*\u001b[39m(args \u001b[38;5;241m+\u001b[39m [\u001b[38;5;28;01mTrue\u001b[39;00m])),\n\u001b[0;32m    529\u001b[0m     Output\u001b[38;5;241m.\u001b[39mDATAFRAME: \u001b[38;5;28;01mlambda\u001b[39;00m: get_pandas_output(\n\u001b[0;32m    530\u001b[0m         args \u001b[38;5;241m+\u001b[39m [\u001b[38;5;28;01mTrue\u001b[39;00m],\n\u001b[0;32m    531\u001b[0m         pandas_config,\n\u001b[0;32m    532\u001b[0m     ),\n\u001b[1;32m--> 533\u001b[0m     Output\u001b[38;5;241m.\u001b[39mDICT: \u001b[38;5;28;01mlambda\u001b[39;00m: file_to_dict(\u001b[43mrun_and_get_output\u001b[49m\u001b[43m(\u001b[49m\u001b[38;5;241;43m*\u001b[39;49m\u001b[43margs\u001b[49m\u001b[43m)\u001b[49m, \u001b[38;5;124m'\u001b[39m\u001b[38;5;130;01m\\t\u001b[39;00m\u001b[38;5;124m'\u001b[39m, \u001b[38;5;241m-\u001b[39m\u001b[38;5;241m1\u001b[39m),\n\u001b[0;32m    534\u001b[0m     Output\u001b[38;5;241m.\u001b[39mSTRING: \u001b[38;5;28;01mlambda\u001b[39;00m: run_and_get_output(\u001b[38;5;241m*\u001b[39margs),\n\u001b[0;32m    535\u001b[0m }[output_type]()\n",
      "File \u001b[1;32md:\\document-tampering-detection-main\\venv\\Lib\\site-packages\\pytesseract\\pytesseract.py:288\u001b[0m, in \u001b[0;36mrun_and_get_output\u001b[1;34m(image, extension, lang, config, nice, timeout, return_bytes)\u001b[0m\n\u001b[0;32m    277\u001b[0m \u001b[38;5;28;01mwith\u001b[39;00m save(image) \u001b[38;5;28;01mas\u001b[39;00m (temp_name, input_filename):\n\u001b[0;32m    278\u001b[0m     kwargs \u001b[38;5;241m=\u001b[39m {\n\u001b[0;32m    279\u001b[0m         \u001b[38;5;124m'\u001b[39m\u001b[38;5;124minput_filename\u001b[39m\u001b[38;5;124m'\u001b[39m: input_filename,\n\u001b[0;32m    280\u001b[0m         \u001b[38;5;124m'\u001b[39m\u001b[38;5;124moutput_filename_base\u001b[39m\u001b[38;5;124m'\u001b[39m: temp_name,\n\u001b[1;32m   (...)\u001b[0m\n\u001b[0;32m    285\u001b[0m         \u001b[38;5;124m'\u001b[39m\u001b[38;5;124mtimeout\u001b[39m\u001b[38;5;124m'\u001b[39m: timeout,\n\u001b[0;32m    286\u001b[0m     }\n\u001b[1;32m--> 288\u001b[0m     \u001b[43mrun_tesseract\u001b[49m\u001b[43m(\u001b[49m\u001b[38;5;241;43m*\u001b[39;49m\u001b[38;5;241;43m*\u001b[39;49m\u001b[43mkwargs\u001b[49m\u001b[43m)\u001b[49m\n\u001b[0;32m    289\u001b[0m     filename \u001b[38;5;241m=\u001b[39m \u001b[38;5;124mf\u001b[39m\u001b[38;5;124m\"\u001b[39m\u001b[38;5;132;01m{\u001b[39;00mkwargs[\u001b[38;5;124m'\u001b[39m\u001b[38;5;124moutput_filename_base\u001b[39m\u001b[38;5;124m'\u001b[39m]\u001b[38;5;132;01m}\u001b[39;00m\u001b[38;5;132;01m{\u001b[39;00mextsep\u001b[38;5;132;01m}\u001b[39;00m\u001b[38;5;132;01m{\u001b[39;00mextension\u001b[38;5;132;01m}\u001b[39;00m\u001b[38;5;124m\"\u001b[39m\n\u001b[0;32m    290\u001b[0m     \u001b[38;5;28;01mwith\u001b[39;00m \u001b[38;5;28mopen\u001b[39m(filename, \u001b[38;5;124m'\u001b[39m\u001b[38;5;124mrb\u001b[39m\u001b[38;5;124m'\u001b[39m) \u001b[38;5;28;01mas\u001b[39;00m output_file:\n",
      "File \u001b[1;32md:\\document-tampering-detection-main\\venv\\Lib\\site-packages\\pytesseract\\pytesseract.py:262\u001b[0m, in \u001b[0;36mrun_tesseract\u001b[1;34m(input_filename, output_filename_base, extension, lang, config, nice, timeout)\u001b[0m\n\u001b[0;32m    259\u001b[0m     \u001b[38;5;28;01melse\u001b[39;00m:\n\u001b[0;32m    260\u001b[0m         \u001b[38;5;28;01mraise\u001b[39;00m TesseractNotFoundError()\n\u001b[1;32m--> 262\u001b[0m \u001b[43m\u001b[49m\u001b[38;5;28;43;01mwith\u001b[39;49;00m\u001b[43m \u001b[49m\u001b[43mtimeout_manager\u001b[49m\u001b[43m(\u001b[49m\u001b[43mproc\u001b[49m\u001b[43m,\u001b[49m\u001b[43m \u001b[49m\u001b[43mtimeout\u001b[49m\u001b[43m)\u001b[49m\u001b[43m \u001b[49m\u001b[38;5;28;43;01mas\u001b[39;49;00m\u001b[43m \u001b[49m\u001b[43merror_string\u001b[49m\u001b[43m:\u001b[49m\n\u001b[0;32m    263\u001b[0m \u001b[43m    \u001b[49m\u001b[38;5;28;43;01mif\u001b[39;49;00m\u001b[43m \u001b[49m\u001b[43mproc\u001b[49m\u001b[38;5;241;43m.\u001b[39;49m\u001b[43mreturncode\u001b[49m\u001b[43m:\u001b[49m\n\u001b[0;32m    264\u001b[0m \u001b[43m        \u001b[49m\u001b[38;5;28;43;01mraise\u001b[39;49;00m\u001b[43m \u001b[49m\u001b[43mTesseractError\u001b[49m\u001b[43m(\u001b[49m\u001b[43mproc\u001b[49m\u001b[38;5;241;43m.\u001b[39;49m\u001b[43mreturncode\u001b[49m\u001b[43m,\u001b[49m\u001b[43m \u001b[49m\u001b[43mget_errors\u001b[49m\u001b[43m(\u001b[49m\u001b[43merror_string\u001b[49m\u001b[43m)\u001b[49m\u001b[43m)\u001b[49m\n",
      "File \u001b[1;32m~\\AppData\\Local\\Programs\\Python\\Python311\\Lib\\contextlib.py:137\u001b[0m, in \u001b[0;36m_GeneratorContextManager.__enter__\u001b[1;34m(self)\u001b[0m\n\u001b[0;32m    135\u001b[0m \u001b[38;5;28;01mdel\u001b[39;00m \u001b[38;5;28mself\u001b[39m\u001b[38;5;241m.\u001b[39margs, \u001b[38;5;28mself\u001b[39m\u001b[38;5;241m.\u001b[39mkwds, \u001b[38;5;28mself\u001b[39m\u001b[38;5;241m.\u001b[39mfunc\n\u001b[0;32m    136\u001b[0m \u001b[38;5;28;01mtry\u001b[39;00m:\n\u001b[1;32m--> 137\u001b[0m     \u001b[38;5;28;01mreturn\u001b[39;00m \u001b[38;5;28mnext\u001b[39m(\u001b[38;5;28mself\u001b[39m\u001b[38;5;241m.\u001b[39mgen)\n\u001b[0;32m    138\u001b[0m \u001b[38;5;28;01mexcept\u001b[39;00m \u001b[38;5;167;01mStopIteration\u001b[39;00m:\n\u001b[0;32m    139\u001b[0m     \u001b[38;5;28;01mraise\u001b[39;00m \u001b[38;5;167;01mRuntimeError\u001b[39;00m(\u001b[38;5;124m\"\u001b[39m\u001b[38;5;124mgenerator didn\u001b[39m\u001b[38;5;124m'\u001b[39m\u001b[38;5;124mt yield\u001b[39m\u001b[38;5;124m\"\u001b[39m) \u001b[38;5;28;01mfrom\u001b[39;00m \u001b[38;5;28;01mNone\u001b[39;00m\n",
      "File \u001b[1;32md:\\document-tampering-detection-main\\venv\\Lib\\site-packages\\pytesseract\\pytesseract.py:127\u001b[0m, in \u001b[0;36mtimeout_manager\u001b[1;34m(proc, seconds)\u001b[0m\n\u001b[0;32m    125\u001b[0m \u001b[38;5;28;01mtry\u001b[39;00m:\n\u001b[0;32m    126\u001b[0m     \u001b[38;5;28;01mif\u001b[39;00m \u001b[38;5;129;01mnot\u001b[39;00m seconds:\n\u001b[1;32m--> 127\u001b[0m         \u001b[38;5;28;01myield\u001b[39;00m \u001b[43mproc\u001b[49m\u001b[38;5;241;43m.\u001b[39;49m\u001b[43mcommunicate\u001b[49m\u001b[43m(\u001b[49m\u001b[43m)\u001b[49m[\u001b[38;5;241m1\u001b[39m]\n\u001b[0;32m    128\u001b[0m         \u001b[38;5;28;01mreturn\u001b[39;00m\n\u001b[0;32m    130\u001b[0m     \u001b[38;5;28;01mtry\u001b[39;00m:\n",
      "File \u001b[1;32m~\\AppData\\Local\\Programs\\Python\\Python311\\Lib\\subprocess.py:1209\u001b[0m, in \u001b[0;36mPopen.communicate\u001b[1;34m(self, input, timeout)\u001b[0m\n\u001b[0;32m   1206\u001b[0m     endtime \u001b[38;5;241m=\u001b[39m \u001b[38;5;28;01mNone\u001b[39;00m\n\u001b[0;32m   1208\u001b[0m \u001b[38;5;28;01mtry\u001b[39;00m:\n\u001b[1;32m-> 1209\u001b[0m     stdout, stderr \u001b[38;5;241m=\u001b[39m \u001b[38;5;28;43mself\u001b[39;49m\u001b[38;5;241;43m.\u001b[39;49m\u001b[43m_communicate\u001b[49m\u001b[43m(\u001b[49m\u001b[38;5;28;43minput\u001b[39;49m\u001b[43m,\u001b[49m\u001b[43m \u001b[49m\u001b[43mendtime\u001b[49m\u001b[43m,\u001b[49m\u001b[43m \u001b[49m\u001b[43mtimeout\u001b[49m\u001b[43m)\u001b[49m\n\u001b[0;32m   1210\u001b[0m \u001b[38;5;28;01mexcept\u001b[39;00m \u001b[38;5;167;01mKeyboardInterrupt\u001b[39;00m:\n\u001b[0;32m   1211\u001b[0m     \u001b[38;5;66;03m# https://bugs.python.org/issue25942\u001b[39;00m\n\u001b[0;32m   1212\u001b[0m     \u001b[38;5;66;03m# See the detailed comment in .wait().\u001b[39;00m\n\u001b[0;32m   1213\u001b[0m     \u001b[38;5;28;01mif\u001b[39;00m timeout \u001b[38;5;129;01mis\u001b[39;00m \u001b[38;5;129;01mnot\u001b[39;00m \u001b[38;5;28;01mNone\u001b[39;00m:\n",
      "File \u001b[1;32m~\\AppData\\Local\\Programs\\Python\\Python311\\Lib\\subprocess.py:1626\u001b[0m, in \u001b[0;36mPopen._communicate\u001b[1;34m(self, input, endtime, orig_timeout)\u001b[0m\n\u001b[0;32m   1622\u001b[0m \u001b[38;5;66;03m# Wait for the reader threads, or time out.  If we time out, the\u001b[39;00m\n\u001b[0;32m   1623\u001b[0m \u001b[38;5;66;03m# threads remain reading and the fds left open in case the user\u001b[39;00m\n\u001b[0;32m   1624\u001b[0m \u001b[38;5;66;03m# calls communicate again.\u001b[39;00m\n\u001b[0;32m   1625\u001b[0m \u001b[38;5;28;01mif\u001b[39;00m \u001b[38;5;28mself\u001b[39m\u001b[38;5;241m.\u001b[39mstdout \u001b[38;5;129;01mis\u001b[39;00m \u001b[38;5;129;01mnot\u001b[39;00m \u001b[38;5;28;01mNone\u001b[39;00m:\n\u001b[1;32m-> 1626\u001b[0m     \u001b[38;5;28;43mself\u001b[39;49m\u001b[38;5;241;43m.\u001b[39;49m\u001b[43mstdout_thread\u001b[49m\u001b[38;5;241;43m.\u001b[39;49m\u001b[43mjoin\u001b[49m\u001b[43m(\u001b[49m\u001b[38;5;28;43mself\u001b[39;49m\u001b[38;5;241;43m.\u001b[39;49m\u001b[43m_remaining_time\u001b[49m\u001b[43m(\u001b[49m\u001b[43mendtime\u001b[49m\u001b[43m)\u001b[49m\u001b[43m)\u001b[49m\n\u001b[0;32m   1627\u001b[0m     \u001b[38;5;28;01mif\u001b[39;00m \u001b[38;5;28mself\u001b[39m\u001b[38;5;241m.\u001b[39mstdout_thread\u001b[38;5;241m.\u001b[39mis_alive():\n\u001b[0;32m   1628\u001b[0m         \u001b[38;5;28;01mraise\u001b[39;00m TimeoutExpired(\u001b[38;5;28mself\u001b[39m\u001b[38;5;241m.\u001b[39margs, orig_timeout)\n",
      "File \u001b[1;32m~\\AppData\\Local\\Programs\\Python\\Python311\\Lib\\threading.py:1119\u001b[0m, in \u001b[0;36mThread.join\u001b[1;34m(self, timeout)\u001b[0m\n\u001b[0;32m   1116\u001b[0m     \u001b[38;5;28;01mraise\u001b[39;00m \u001b[38;5;167;01mRuntimeError\u001b[39;00m(\u001b[38;5;124m\"\u001b[39m\u001b[38;5;124mcannot join current thread\u001b[39m\u001b[38;5;124m\"\u001b[39m)\n\u001b[0;32m   1118\u001b[0m \u001b[38;5;28;01mif\u001b[39;00m timeout \u001b[38;5;129;01mis\u001b[39;00m \u001b[38;5;28;01mNone\u001b[39;00m:\n\u001b[1;32m-> 1119\u001b[0m     \u001b[38;5;28;43mself\u001b[39;49m\u001b[38;5;241;43m.\u001b[39;49m\u001b[43m_wait_for_tstate_lock\u001b[49m\u001b[43m(\u001b[49m\u001b[43m)\u001b[49m\n\u001b[0;32m   1120\u001b[0m \u001b[38;5;28;01melse\u001b[39;00m:\n\u001b[0;32m   1121\u001b[0m     \u001b[38;5;66;03m# the behavior of a negative timeout isn't documented, but\u001b[39;00m\n\u001b[0;32m   1122\u001b[0m     \u001b[38;5;66;03m# historically .join(timeout=x) for x<0 has acted as if timeout=0\u001b[39;00m\n\u001b[0;32m   1123\u001b[0m     \u001b[38;5;28mself\u001b[39m\u001b[38;5;241m.\u001b[39m_wait_for_tstate_lock(timeout\u001b[38;5;241m=\u001b[39m\u001b[38;5;28mmax\u001b[39m(timeout, \u001b[38;5;241m0\u001b[39m))\n",
      "File \u001b[1;32m~\\AppData\\Local\\Programs\\Python\\Python311\\Lib\\threading.py:1139\u001b[0m, in \u001b[0;36mThread._wait_for_tstate_lock\u001b[1;34m(self, block, timeout)\u001b[0m\n\u001b[0;32m   1136\u001b[0m     \u001b[38;5;28;01mreturn\u001b[39;00m\n\u001b[0;32m   1138\u001b[0m \u001b[38;5;28;01mtry\u001b[39;00m:\n\u001b[1;32m-> 1139\u001b[0m     \u001b[38;5;28;01mif\u001b[39;00m \u001b[43mlock\u001b[49m\u001b[38;5;241;43m.\u001b[39;49m\u001b[43macquire\u001b[49m\u001b[43m(\u001b[49m\u001b[43mblock\u001b[49m\u001b[43m,\u001b[49m\u001b[43m \u001b[49m\u001b[43mtimeout\u001b[49m\u001b[43m)\u001b[49m:\n\u001b[0;32m   1140\u001b[0m         lock\u001b[38;5;241m.\u001b[39mrelease()\n\u001b[0;32m   1141\u001b[0m         \u001b[38;5;28mself\u001b[39m\u001b[38;5;241m.\u001b[39m_stop()\n",
      "\u001b[1;31mKeyboardInterrupt\u001b[0m: "
     ]
    }
   ],
   "source": [
    "from sklearn.cluster import KMeans\n",
    "\n",
    "highlighted_path = 'highlighted'\n",
    "os.makedirs(highlighted_path, exist_ok=True)\n",
    "\n",
    "X = []\n",
    "Y = []\n",
    "marked_image_paths = []\n",
    "\n",
    "for index, row in dataset.iterrows():\n",
    "    image_path = row['image']\n",
    "    class_label = row['class_label']\n",
    "    save_path = os.path.join(highlighted_path, os.path.basename(image_path))\n",
    "    try:\n",
    "            anomaly_score, marked_image, suspicious_list = detect_anomalies(image_path, save_path)\n",
    "            if marked_image is not None:\n",
    "                marked_image_paths.append(save_path)\n",
    "\n",
    "                ela_image = convert_to_ela_image(image_path)\n",
    "                ela_image_resized = ela_image.resize((224, 224))\n",
    "                ela_image_array = np.array(ela_image_resized) / 255.0\n",
    "\n",
    "                anomaly_score_normalized = np.full((224, 224, 1), anomaly_score / 10.0)\n",
    "                combined_features = np.concatenate((ela_image_array, anomaly_score_normalized), axis=2)\n",
    "\n",
    "                X.append(combined_features)\n",
    "                Y.append(class_label)\n",
    "\n",
    "                ela_image_highlighted = convert_to_ela_image(save_path)\n",
    "                ela_image_resized_highlighted = ela_image_highlighted.resize((224, 224))\n",
    "                ela_image_array_highlighted = np.array(ela_image_resized_highlighted) / 255.0\n",
    "\n",
    "                anomaly_score_highlighted, _, _ = detect_anomalies(save_path, save_path)\n",
    "                anomaly_score_normalized_highlighted = np.full((224, 224, 1), anomaly_score_highlighted / 10.0)\n",
    "                combined_features_highlighted = np.concatenate((ela_image_array_highlighted, anomaly_score_normalized_highlighted), axis=2)\n",
    "\n",
    "                X.append(combined_features_highlighted)\n",
    "                Y.append(class_label)\n",
    "\n",
    "                print(f\"Image: {image_path} - Fake: {class_label}\")\n",
    "                print(\"Suspicious areas detected:\")\n",
    "                for item in suspicious_list:\n",
    "                    print(item)\n",
    "\n",
    "    except Exception as e:\n",
    "            print(f\"Error processing {image_path}: {str(e)}\")\n",
    "\n",
    "for path in marked_image_paths:\n",
    "    print(f\"Marked image saved at: {path}\")\n"
   ]
  },
  {
   "cell_type": "code",
   "execution_count": 36,
   "metadata": {},
   "outputs": [],
   "source": [
    "image_list = build_image_list(custom_path_original) + build_image_list(custom_path_tampered)\n",
    "labels = ['original'] * len(build_image_list(custom_path_original)) + ['forged'] * len(build_image_list(custom_path_tampered))\n",
    "combined = list(zip(image_list, labels))\n",
    "np.random.shuffle(combined)\n",
    "image_list, labels = zip(*combined)\n",
    "\n",
    "img_size = 128\n",
    "x_data = np.zeros((len(image_list), img_size, img_size, 4))\n",
    "y_data = np.array(labels)\n"
   ]
  },
  {
   "cell_type": "code",
   "execution_count": 37,
   "metadata": {},
   "outputs": [
    {
     "name": "stderr",
     "output_type": "stream",
     "text": [
      "100%|██████████| 2964/2964 [01:41<00:00, 29.06it/s]\n"
     ]
    }
   ],
   "source": [
    "for i, img_path in enumerate(tqdm(image_list)):\n",
    "    if img_path.lower().endswith('.pdf'):\n",
    "        images = convert_from_path(img_path, dpi=img_size)\n",
    "        images = [img.convert('RGBA') for img in images]\n",
    "        images = [np.array(img.resize((img_size, img_size))) for img in images]\n",
    "        x_data[i] = np.stack(images, axis=-1)\n",
    "    else:\n",
    "        image = Image.open(img_path).convert('RGBA')\n",
    "        image = image.resize((img_size, img_size))\n",
    "        x_data[i] = np.array(image)\n"
   ]
  },
  {
   "cell_type": "code",
   "execution_count": 38,
   "metadata": {},
   "outputs": [],
   "source": [
    "X = np.array(X)\n",
    "Y = np.array(Y)\n",
    "\n",
    "# Encode labels\n",
    "label_encoder = LabelEncoder()\n",
    "Y_encoded = label_encoder.fit_transform(Y)\n",
    "num_classes = len(np.unique(Y_encoded))\n",
    "Y = to_categorical(Y_encoded, num_classes=num_classes)"
   ]
  },
  {
   "cell_type": "code",
   "execution_count": null,
   "metadata": {},
   "outputs": [],
   "source": [
    "x_train, x_val, y_train, y_val = train_test_split(X, Y, test_size=0.2, stratify=Y, random_state=42)"
   ]
  },
  {
   "cell_type": "code",
   "execution_count": 43,
   "metadata": {},
   "outputs": [],
   "source": [
    "datagen_train = ImageDataGenerator(\n",
    "    rotation_range=20,\n",
    "    width_shift_range=0.2,\n",
    "    height_shift_range=0.2,\n",
    "    shear_range=0.2,\n",
    "    zoom_range=0.2,\n",
    "    horizontal_flip=True,\n",
    "    fill_mode='nearest'\n",
    ")\n",
    "\n",
    "\n",
    "datagen_val = ImageDataGenerator()"
   ]
  },
  {
   "cell_type": "code",
   "execution_count": 45,
   "metadata": {},
   "outputs": [],
   "source": [
    "model = create_model(input_shape=(img_size, img_size, 4))\n",
    "early_stop = EarlyStopping(monitor='val_loss', patience=4, restore_best_weights=True)\n",
    "reduce_lr = ReduceLROnPlateau(monitor='val_loss', factor=0.2, patience=10, min_lr=0.000001)\n",
    "\n"
   ]
  },
  {
   "cell_type": "code",
   "execution_count": 46,
   "metadata": {},
   "outputs": [],
   "source": [
    "history = model.fit(\n",
    "    datagen_train.flow(x_train, y_train, batch_size=32),\n",
    "    epochs=50,\n",
    "    validation_data=datagen_val.flow(x_val, y_val, batch_size=32),\n",
    "    callbacks=[early_stop, reduce_lr]\n",
    ")"
   ]
  },
  {
   "cell_type": "code",
   "execution_count": 50,
   "metadata": {},
   "outputs": [
    {
     "name": "stdout",
     "output_type": "stream",
     "text": [
      "Epoch 1/50\n",
      "\u001b[1m75/75\u001b[0m \u001b[32m━━━━━━━━━━━━━━━━━━━━\u001b[0m\u001b[37m\u001b[0m \u001b[1m41s\u001b[0m 542ms/step - accuracy: 0.9894 - loss: 0.0869 - val_accuracy: 0.8465 - val_loss: 182.9755 - learning_rate: 0.0010\n",
      "Epoch 2/50\n",
      "\u001b[1m75/75\u001b[0m \u001b[32m━━━━━━━━━━━━━━━━━━━━\u001b[0m\u001b[37m\u001b[0m \u001b[1m75s\u001b[0m 993ms/step - accuracy: 0.9784 - loss: 0.3231 - val_accuracy: 0.9056 - val_loss: 7.2802 - learning_rate: 0.0010\n",
      "Epoch 3/50\n",
      "\u001b[1m75/75\u001b[0m \u001b[32m━━━━━━━━━━━━━━━━━━━━\u001b[0m\u001b[37m\u001b[0m \u001b[1m114s\u001b[0m 1s/step - accuracy: 0.9941 - loss: 0.0693 - val_accuracy: 0.7825 - val_loss: 10.8494 - learning_rate: 0.0010\n",
      "Epoch 4/50\n",
      "\u001b[1m75/75\u001b[0m \u001b[32m━━━━━━━━━━━━━━━━━━━━\u001b[0m\u001b[37m\u001b[0m \u001b[1m81s\u001b[0m 1s/step - accuracy: 0.9961 - loss: 0.0341 - val_accuracy: 0.8533 - val_loss: 3.0213 - learning_rate: 0.0010\n",
      "Epoch 5/50\n",
      "\u001b[1m75/75\u001b[0m \u001b[32m━━━━━━━━━━━━━━━━━━━━\u001b[0m\u001b[37m\u001b[0m \u001b[1m80s\u001b[0m 1s/step - accuracy: 0.9974 - loss: 0.0127 - val_accuracy: 0.8465 - val_loss: 157.7569 - learning_rate: 0.0010\n",
      "Epoch 6/50\n",
      "\u001b[1m75/75\u001b[0m \u001b[32m━━━━━━━━━━━━━━━━━━━━\u001b[0m\u001b[37m\u001b[0m \u001b[1m77s\u001b[0m 1s/step - accuracy: 0.9776 - loss: 0.3013 - val_accuracy: 0.8465 - val_loss: 14.1455 - learning_rate: 0.0010\n",
      "Epoch 7/50\n",
      "\u001b[1m75/75\u001b[0m \u001b[32m━━━━━━━━━━━━━━━━━━━━\u001b[0m\u001b[37m\u001b[0m \u001b[1m94s\u001b[0m 1s/step - accuracy: 0.9922 - loss: 0.0766 - val_accuracy: 0.9595 - val_loss: 0.9032 - learning_rate: 0.0010\n",
      "Epoch 8/50\n",
      "\u001b[1m75/75\u001b[0m \u001b[32m━━━━━━━━━━━━━━━━━━━━\u001b[0m\u001b[37m\u001b[0m \u001b[1m118s\u001b[0m 1s/step - accuracy: 0.9916 - loss: 0.0612 - val_accuracy: 0.8668 - val_loss: 6.0985 - learning_rate: 0.0010\n",
      "Epoch 9/50\n",
      "\u001b[1m75/75\u001b[0m \u001b[32m━━━━━━━━━━━━━━━━━━━━\u001b[0m\u001b[37m\u001b[0m \u001b[1m117s\u001b[0m 2s/step - accuracy: 0.9855 - loss: 0.5543 - val_accuracy: 0.8465 - val_loss: 108.9569 - learning_rate: 0.0010\n",
      "Epoch 10/50\n",
      "\u001b[1m75/75\u001b[0m \u001b[32m━━━━━━━━━━━━━━━━━━━━\u001b[0m\u001b[37m\u001b[0m \u001b[1m112s\u001b[0m 1s/step - accuracy: 0.9932 - loss: 0.0506 - val_accuracy: 0.8465 - val_loss: 80.6355 - learning_rate: 0.0010\n",
      "Epoch 11/50\n",
      "\u001b[1m75/75\u001b[0m \u001b[32m━━━━━━━━━━━━━━━━━━━━\u001b[0m\u001b[37m\u001b[0m \u001b[1m112s\u001b[0m 1s/step - accuracy: 0.9813 - loss: 1.3345 - val_accuracy: 0.9359 - val_loss: 17.7179 - learning_rate: 0.0010\n"
     ]
    }
   ],
   "source": [
    "train_acc = model.evaluate(x_train, y_train, verbose=0)[1]\n",
    "test_acc = model.evaluate(x_val, y_val, verbose=0)[1]\n",
    "print(f\"Train accuracy: {train_acc * 100:.2f}%\")\n",
    "print(f\"Test accuracy: {test_acc * 100:.2f}%\")"
   ]
  },
  {
   "cell_type": "code",
   "execution_count": null,
   "metadata": {},
   "outputs": [],
   "source": [
    "model.save('anomaly_detection_model.h5')\n"
   ]
  },
  {
   "cell_type": "code",
   "execution_count": 51,
   "metadata": {},
   "outputs": [
    {
     "data": {
      "image/png": "[encoded data removed]",
      "text/plain": [
       "<Figure size 640x480 with 1 Axes>"
      ]
     },
     "metadata": {},
     "output_type": "display_data"
    },
    {
     "data": {
      "image/png": "[encoded data removed]",
      "text/plain": [
       "<Figure size 640x480 with 1 Axes>"
      ]
     },
     "metadata": {},
     "output_type": "display_data"
    }
   ],
   "source": [
    "\n",
    "plt.plot(history.history['accuracy'], label='train')\n",
    "plt.plot(history.history['val_accuracy'], label='val')\n",
    "plt.title('Model accuracy')\n",
    "plt.ylabel('Accuracy')\n",
    "plt.xlabel('Epoch')\n",
    "plt.legend(loc='upper left')\n",
    "plt.show()\n",
    "\n",
    "plt.plot(history.history['loss'], label='train')\n",
    "plt.plot(history.history['val_loss'], label='val')\n",
    "plt.title('Model loss')\n",
    "plt.ylabel('Loss')\n",
    "plt.xlabel('Epoch')\n",
    "plt.legend(loc='upper left')\n",
    "plt.show()"
   ]
  },
  {
   "cell_type": "code",
   "execution_count": 1,
   "metadata": {},
   "outputs": [],
   "source": [
    "def predict_image(image_path, model):\n",
    "    if is_image(image_path):\n",
    "        ela_image = convert_to_ela_image(image_path)\n",
    "        ela_image_resized = ela_image.resize((img_size, img_size))\n",
    "        ela_image_array = np.array(ela_image_resized) / 255.0\n",
    "\n",
    "        anomaly_score, _, _ = detect_anomalies(image_path)\n",
    "        anomaly_score_normalized = np.full((img_size, img_size, 1), anomaly_score / 10.0)\n",
    "\n",
    "        combined_features = np.concatenate((ela_image_array, anomaly_score_normalized), axis=2)\n",
    "        combined_features = np.expand_dims(combined_features, axis=0)\n",
    "\n",
    "        prediction = model.predict(combined_features)[0]\n",
    "\n",
    "        return np.argmax(prediction), np.max(prediction)\n",
    "    elif image_path.lower().endswith('.pdf'):\n",
    "        pages = convert_from_path(image_path, dpi=300)\n",
    "        predictions = []\n",
    "        for page in pages:\n",
    "            ela_image = page.convert('RGB')\n",
    "            ela_image_resized = ela_image.resize((img_size, img_size))\n",
    "            ela_image_array = np.array(ela_image_resized) / 255.0\n",
    "\n",
    "            anomaly_score, _, _ = detect_anomalies(ela_image_array)\n",
    "            anomaly_score_normalized = np.full((img_size, img_size, 1), anomaly_score / 10.0)\n",
    "\n",
    "            combined_features = np.concatenate((ela_image_array, anomaly_score_normalized), axis=2)\n",
    "            combined_features = np.expand_dims(combined_features, axis=0)\n",
    "\n",
    "            prediction = model.predict(combined_features)[0]\n",
    "            predictions.append(prediction)\n",
    "\n",
    "        avg_prediction = np.mean(predictions, axis=0)\n",
    "        return np.argmax(avg_prediction), np.max(avg_prediction)\n",
    "    else:\n",
    "        raise ValueError(\"Unsupported file format\")\n",
    "\n",
    "def predict_folder(folder_path, model):\n",
    "    predictions = []\n",
    "    for entry in os.listdir(folder_path):\n",
    "        document_path = os.path.join(folder_path, entry)\n",
    "        try:\n",
    "            predicted_class, confidence = predict_image(document_path, model)\n",
    "            predictions.append((entry, predicted_class, confidence))\n",
    "            print(f\"{entry}: Predicted class {predicted_class} with confidence {confidence:.2f}\")\n",
    "        except Exception as e:\n",
    "            print(f\"Error processing {document_path}: {str(e)}\")\n",
    "\n",
    "    return predictions\n"
   ]
  },
  {
   "cell_type": "code",
   "execution_count": null,
   "metadata": {},
   "outputs": [],
   "source": [
    "from tensorflow.keras.models import load_model\n",
    "import os\n",
    "folder_path = 'images\\predict\\.ipynb_checkpoints'\n",
    "model_path = 'anomaly_detection_model.h5'\n",
    "\n",
    "# Load the model\n",
    "model = load_model(model_path)\n",
    "\n",
    "# Predict all documents in the folder   \n",
    "predictions = predict_folder(folder_path, model)\n",
    "\n",
    "# Print predictions\n",
    "for entry, predicted_class, confidence in predictions:\n",
    "    print(f\"{entry}: Predicted class {predicted_class} with confidence {confidence:.2f}\")"
   ]
  }
 ],
 "metadata": {
  "kernelspec": {
   "display_name": "venv",
   "language": "python",
   "name": "python3"
  },
  "language_info": {
   "codemirror_mode": {
    "name": "ipython",
    "version": 3
   },
   "file_extension": ".py",
   "mimetype": "text/x-python",
   "name": "python",
   "nbconvert_exporter": "python",
   "pygments_lexer": "ipython3",
   "version": "3.11.6"
  }
 },
 "nbformat": 4,
 "nbformat_minor": 2
}
